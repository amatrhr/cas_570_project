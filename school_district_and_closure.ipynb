{
  "cells": [
    {
      "cell_type": "markdown",
      "metadata": {
        "id": "C-66kaUPR6nK"
      },
      "source": [
        "# Contents\n",
        "* [Overview](#Overview)\n",
        "* [Imports](#Library-Imports)\n",
        "* [Helper Functions](#Helper-Functions)\n",
        "* [The `SchoolDistrict` Class](#The-SchoolDistrict-Class)\n",
        "* [Example](#An-Example)"
      ]
    },
    {
      "cell_type": "markdown",
      "metadata": {
        "id": "2uS4KpSfR6nM"
      },
      "source": [
        "# Overview\n",
        "This project asks how, when faced with uncertain enrollment trends and a need to maintain a proper assignment of resources to students, a school district might set a fair resource policy by maintaining a tolerable student-to-resource ratio, for example, maintaining a certain student-to-school ratio $R$, for example 200 students in each school.\n",
        "\n",
        "I will address this question by using a two-agent simulation of school openings and closings in a single school district, played out over 50 to 100 time steps (\"school years\"). One agent represents the population of public school students, which undergoes random demographic variation across years. The other agent represents the policy-making body of the district, which attempts to maintain a tolerable student-to-school ratio in the face of these demographic changes by using historical data to predict the change in enrollment at the end of each school year and opening or closing schools in response. The district administration agent will update its prediction-making method based on whether its predictions have led to good decisions (maintaining a tolerable student-to-school ratio) or poor ones (failure to maintain the ratio).\n",
        "\n",
        "## Conceptual implementation\n",
        "I will simulate uncertain patterns of student demographic change within an individual school district; for each five-year period, the student population will (randomly) undergo either convex growth/decline, concave growth/decline, a one-time impulse of sudden inflow or outflow during the third year, or will remain flat (with uniform noise).\n",
        "\n",
        "![](https://github.com/amatrhr/cas_570_project/blob/main/logo.png?raw=1)\n",
        "\n",
        "### Agent Behavior: District Administration\n",
        "During every simulated summer, the district administration will predict the change in number of students enrolled by using an exponentially weighted moving average (EWMA) of previous year-over-year changes, then will use the prediction as a basis for action. EWMA predictions depend on a single smoothing parameter, $\\alpha;\\; 0<\\alpha\\leq1$ and larger $\\alpha$ corresponds to emphasizing recent observations when predicting; see (https://otexts.com/fpp3/expsmooth.html).\n",
        "\n",
        "The district will choose $\\alpha$ randomly from the set $A = \\left\\{0.1,\\,0.2,\\,\\dots,\\,0.9, 1\\right\\}$, using the 10-vector of selection probabilities $\\vec{p}$. At first, each $\\alpha$ in $A$ has the same probability of being selected; each element of $\\vec{p}$ is 0.1. The district will learn from its policy choice and will increase those $p_i$ that have led to predictions that led to good decisions and decrease others, a process based on the adaptive agent-specific autoregressive predictions of Arthur, 1994 (https://www.jstor.org/stable/2117868) (my model is much simpler; the reference is a multi-agent simulation in which agents compete for resources based on their predictions).\n",
        "\n",
        "The district administration has a pre-set tolerance to violations of the student-to-school ratio; for example, if the tolerance interval is $T_\\text{min}=-50\\%$ to $T_\\text{max}=25\\%$ and the desired ratio, $R$, is 200 students per school, a predicted enrollment change resulting in $\\hat{R}<100$ or $\\hat{R}>250$ students per school is out-of-tolerance.\n",
        "If the predicted number of students would lead to an out-of-tolerance student-to-school ratio, the number of schools will be adjusted up or down to be just within tolerance."
      ]
    },
    {
      "cell_type": "markdown",
      "metadata": {
        "id": "3TSf3FjkR6nN"
      },
      "source": [
        "# Library Imports"
      ]
    },
    {
      "cell_type": "code",
      "execution_count": 115,
      "metadata": {
        "id": "7lXsWH69R6nO"
      },
      "outputs": [],
      "source": [
        "# modeling tools\n",
        "import numpy as np\n",
        "import matplotlib.pyplot as plt\n",
        "import pandas as pd\n",
        "import statsmodels.api as sm\n",
        "from copy import deepcopy\n",
        "from random import randint, choice\n",
        "from statsmodels.tsa.api import  SimpleExpSmoothing\n",
        "from statsmodels.formula.api import ols\n",
        "from statsmodels.stats.api import anova_lm\n",
        "\n",
        "# programming and optimization tools\n",
        "# import ipdb\n",
        "from collections import Counter\n",
        "from dataclasses import dataclass, field\n",
        "from functools import partial\n",
        "from itertools import product\n",
        "from scipy.optimize import minimize_scalar\n",
        "from scipy.stats import linregress\n",
        "\n",
        "\n",
        "# parameters for the notebook itself\n",
        "%matplotlib inline"
      ]
    },
    {
      "cell_type": "markdown",
      "metadata": {
        "id": "yt_DxV_NR6nO"
      },
      "source": [
        "# Helper Functions"
      ]
    },
    {
      "cell_type": "code",
      "execution_count": 116,
      "metadata": {
        "id": "4AOSKLacR6nP"
      },
      "outputs": [],
      "source": [
        "def minmax_scale(data:np.array)->np.array:\n",
        "    # function to scale a variable between 1 and 0, where 1 corresponds to its max value\n",
        "    data = np.nan_to_num(data,0)\n",
        "    vs_min = data - np.min(data)\n",
        "    mmrange = np.max(data) - np.min(data) if np.max(data) != np.min(data) else 1\n",
        "    scaled = vs_min / mmrange\n",
        "    return scaled"
      ]
    },
    {
      "cell_type": "code",
      "execution_count": 117,
      "metadata": {
        "id": "zNuMy2MRR6nP"
      },
      "outputs": [],
      "source": [
        "def dbl_SEWMA(data:pd.Series, alpha:float)->dict:\n",
        "    # fits a simple exponential smoothing model with fixed alpha to a dataset\n",
        "    # used by simulated school (districts) to predict enrollment\n",
        "    ## Arguments\n",
        "    # data: univariate time series\n",
        "    # alpha: exponential smoothing parameter, between 0 and 1\n",
        "    ## Returns\n",
        "    # dictionary containing the sum of squared errors and statsmodels time series model\n",
        "    #TODO: fix initialization to use as few years as possible--this can only be done with \"known\" initial trend and level\n",
        "    mod1 = SimpleExpSmoothing(data, initialization_method=\"heuristic\").fit(smoothing_level=alpha, optimized=False)\n",
        "    return {'sse':mod1.sse, 'mod':mod1}\n"
      ]
    },
    {
      "cell_type": "code",
      "execution_count": 118,
      "metadata": {
        "id": "ZEG-Hhw_R6nP"
      },
      "outputs": [],
      "source": [
        "def flat_with_noise(start_value:float=10.0, n_years:int=5, chgrat:float=0.20, const_change:float=None)->np.array:\n",
        "    # generates a set of simulated enrollments that vary due to having noise\n",
        "    ## Arguments\n",
        "    ##\n",
        "    ## Returns\n",
        "    # np array of e\n",
        "    output = np.zeros(n_years) + start_value\n",
        "    chgsize = chgrat*start_value if const_change is None else const_change\n",
        "    dmin = int(-1*chgsize)\n",
        "    dmax = int(chgsize)\n",
        "    output += np.array([randint(dmin, dmax) for x in range(n_years)],dtype=np.float64)\n",
        "    return(output)"
      ]
    },
    {
      "cell_type": "code",
      "execution_count": 119,
      "metadata": {
        "id": "Ih43moqmR6nP"
      },
      "outputs": [],
      "source": [
        "def impulse(start_value:float=10., n_years:int=5, impyr:int=2, chgrat:float=.670, impsign:int=1):\n",
        "    # function to produce an impulsive change\n",
        "    chgsize = chgrat*start_value\n",
        "    out = np.array([start_value for x in range(n_years)],dtype=np.float64)\n",
        "    out[impyr:n_years] = impsign*chgsize +  out[impyr]\n",
        "    return(out)"
      ]
    },
    {
      "cell_type": "code",
      "execution_count": 120,
      "metadata": {
        "id": "SbsV92zPR6nP"
      },
      "outputs": [],
      "source": [
        "def cvx_change(start_value=10., n_years=5, chgsign=1, chgrat=.20):\n",
        "    #function to produce convex change\n",
        "    # i.e. change where the time series of population falls below the line connecting any two\n",
        "    # points on the time series, i.e. alpha*exp(t) or alpha*exp(n_years - t)\n",
        "    chgsize = chgrat*start_value\n",
        "\n",
        "    alpha = np.exp(np.log(1+chgsign*chgrat)/n_years) - 1\n",
        "    output = start_value * np.power(1. + alpha, np.linspace(1,n_years,n_years))\n",
        "\n",
        "    return(output)"
      ]
    },
    {
      "cell_type": "code",
      "execution_count": 121,
      "metadata": {
        "id": "HmOgWuB0UMKi"
      },
      "outputs": [],
      "source": [
        "def test_cvx_c_rat(start_value=10., n_years=5, chgsign=1, chgrat=.20, start_schools=5):\n",
        "    # Function to check a ratio control strategy under convex change\n",
        "    # ratio should be maintained if change in Nschools is proportional to the\n",
        "    # current number of schools (i.e. exponential growth in the same way\n",
        "\n",
        "    history = cvx_change(start_value=start_value, n_years=n_years, chgsign=chgsign, chgrat=chgrat)\n",
        "    school_growth = cvx_change(start_value=start_schools, n_years=n_years, chgsign=chgsign, chgrat=chgrat)\n",
        "    ratio = history/school_growth\n",
        "    testval = np.allclose(ratio, max(ratio)*np.ones(len(ratio)))\n",
        "    return testval"
      ]
    },
    {
      "cell_type": "code",
      "execution_count": 122,
      "metadata": {
        "colab": {
          "base_uri": "https://localhost:8080/"
        },
        "id": "mAF5NnKtUMKi",
        "outputId": "4dc6f751-b303-498c-a064-06c0f611e8c8"
      },
      "outputs": [
        {
          "output_type": "execute_result",
          "data": {
            "text/plain": [
              "True"
            ]
          },
          "metadata": {},
          "execution_count": 122
        }
      ],
      "source": [
        "test_cvx_c_rat(n_years=99)"
      ]
    },
    {
      "cell_type": "code",
      "execution_count": 123,
      "metadata": {
        "id": "9lUKyQE2R6nQ"
      },
      "outputs": [],
      "source": [
        "def ccv_change(start_value=10.,n_years=5,alpha=0.75,chgsign=1, chgrat=.20):\n",
        "    #function to produce convex change\n",
        "    # i.e. change where the time series of population falls below the line connecting any two\n",
        "    # points on the time series, i.e. alpha*exp(t) or alpha*exp(n_years - t)\n",
        "    adjust = 0.5*np.pi if chgsign < 0 else 0\n",
        "    out = np.linspace(0,0.5*np.pi, n_years+1)\n",
        "    out += adjust\n",
        "    maxi = (1+chgrat*chgsign)*start_value\n",
        "    mini = min(start_value, maxi)\n",
        "    maxi = max(start_value, maxi)\n",
        "    output = (maxi-mini)*np.sin(out) + mini\n",
        "    return(output[1:])"
      ]
    },
    {
      "cell_type": "code",
      "execution_count": 124,
      "metadata": {
        "id": "I9ptX5yER6nQ"
      },
      "outputs": [],
      "source": [
        "# with individual growth patterns defined, store all in one easy-access place\n",
        "growthPats = {'flat':flat_with_noise,\n",
        "              'impUp':impulse,\n",
        "              'impDn':partial(impulse, impsign=-1),\n",
        "              'cvxUp':cvx_change,\n",
        "              'cvxDn':partial(cvx_change, chgsign=-1),\n",
        "              'ccvUp':ccv_change,\n",
        "              'ccvDn':partial(ccv_change, chgsign=-1)\n",
        "              }"
      ]
    },
    {
      "cell_type": "code",
      "execution_count": 125,
      "metadata": {
        "id": "GtgLWanGR6nQ"
      },
      "outputs": [],
      "source": [
        "def simulate_history(start_value=50, total_years=50, period_length=5, debug=False, noisy=False, set_history:list=None):\n",
        "    # core function to generate a school (district's) population history\n",
        "\n",
        "    history = [[start_value for x in range(period_length)]]\n",
        "            # need to add functionality to smooth the transitions\n",
        "\n",
        "    if set_history is not None:\n",
        "        assert type(set_history) == list\n",
        "        # since we know it's a list, assert that the length of the list is correct\n",
        "        assert len(set_history) == total_years//period_length\n",
        "\n",
        "    for _, tp in enumerate(range(total_years//period_length)):\n",
        "        locidx = randint(0,len(growthPats)-1) if set_history is None else set_history[_] # there are 7 locidxs\n",
        "\n",
        "        lochg = history[_][period_length-1]\n",
        "        locfun = list(growthPats.values())[locidx](start_value=lochg, n_years=period_length)\n",
        "        local_h = np.squeeze(locfun)\n",
        "        if noisy:\n",
        "            local_h += np.squeeze(list(growthPats.values())[0](start_value=0., n_years=period_length, const_change=500.)) #TODO: use noise range ratio parameter\n",
        "\n",
        "        history.append(local_h)\n",
        "        if debug:\n",
        "            '''debug info that shows which growth pattern is used and prints\n",
        "               the starting value and simulated values for each multiyear\n",
        "            '''\n",
        "            print(f\"starting history {locidx}, a/k/a {repr(list(growthPats.values())[locidx])}\")\n",
        "            print(_)\n",
        "            print(lochg)\n",
        "            print(local_h)\n",
        "            print(\"____\")\n",
        "\n",
        "    out = np.floor(np.hstack(history)[period_length:])\n",
        "    #print(out)\n",
        "    return out # out[period_length:](why are we skipping the first period??)\n"
      ]
    },
    {
      "cell_type": "code",
      "execution_count": 126,
      "metadata": {
        "id": "9qVEB2AaR6nQ"
      },
      "outputs": [],
      "source": [
        "def predict_from_history(schooldata:pd.Series,alpha_set:list=[0.1,0.5,0.7],years:int=5, random:bool=True)->dict:\n",
        "    # core function to use simple exponential smoothing\n",
        "\n",
        "    school_SEWMA = lambda a: dbl_SEWMA(data=schooldata, alpha=a)\n",
        "    fit_res = {}\n",
        "    models = {}\n",
        "    if random:\n",
        "        j = choice(alpha_set)\n",
        "        ssmwa = school_SEWMA(j)\n",
        "        fit_res[j] = ssmwa['sse']\n",
        "        models[j] = ssmwa['mod']\n",
        "    else:\n",
        "        for j in alpha_set:\n",
        "            # don't overwrite if there're multiples\n",
        "            if fit_res.get(j) is None:\n",
        "                ssmwa = school_SEWMA(j)\n",
        "                fit_res[j] = ssmwa['sse']\n",
        "                models[j] = ssmwa['mod']\n",
        "\n",
        "    fit_check = pd.Series(fit_res)\n",
        "    result = fit_check.index[fit_check.argmin()]\n",
        "    return {\"alpha_result\":result, \"prediction\":models[result].forecast(years),\"history\":models[result].fittedvalues}"
      ]
    },
    {
      "cell_type": "code",
      "execution_count": 127,
      "metadata": {
        "id": "yeNLRC-tR6nQ"
      },
      "outputs": [],
      "source": [
        "def get_run_lengths(timeseries:np.array=np.array([1.,1.,1.,22,22.,22.,3.,4.,3.]))->list:\n",
        "    # give the number of time steps between school openings/closings\n",
        "    loct = np.diff(timeseries) # a run is the same as no differences betweeen an item and its predecessor in the array\n",
        "    loct[loct!=0] = 1 # so, each run of length l is l - 1 zeros--if we replace the nonzeros by ones, then we can count each run as a string of 0s\n",
        "    str_reps =  ''.join([str(x) for x in loct]).split(\"1\")  # convert to string, remove any characters that aren't '0's or '1's\n",
        "    rls = [len(x) + 1 for x in str_reps] # get lengths l from (l-1) s\n",
        "    assert sum(rls) == len(timeseries)\n",
        "    return rls"
      ]
    },
    {
      "cell_type": "code",
      "execution_count": 128,
      "metadata": {
        "id": "KYwv3WBTR6nR"
      },
      "outputs": [],
      "source": [
        "def runlength_stats(rls:list)->dict:\n",
        "\n",
        "    # find run lengths of some metric (number schools, achieved ratios, etc), and their counts, averages and  standard deviations\n",
        "    assert len(rls) > 0\n",
        "    rl_count = Counter(rls)\n",
        "    rl_mean = np.mean(rls)\n",
        "    rl_std = np.std(rls)\n",
        "    rl_med = np.median(rls)\n",
        "    return {'counts':rl_count, 'mean':rl_mean, 'median':rl_med, 'stddev':rl_std}\n",
        "\n"
      ]
    },
    {
      "cell_type": "code",
      "execution_count": 128,
      "metadata": {
        "id": "eNF3SBigUMKj"
      },
      "outputs": [],
      "source": []
    },
    {
      "cell_type": "code",
      "execution_count": 128,
      "metadata": {
        "id": "uTZHSRFOUMKj"
      },
      "outputs": [],
      "source": []
    },
    {
      "cell_type": "code",
      "execution_count": 128,
      "metadata": {
        "id": "IJ0C8LeCUMKj"
      },
      "outputs": [],
      "source": []
    },
    {
      "cell_type": "markdown",
      "metadata": {
        "id": "fQ0Y-mC9R6nR"
      },
      "source": [
        "# The SchoolDistrict Class"
      ]
    },
    {
      "cell_type": "code",
      "execution_count": 129,
      "metadata": {
        "id": "5IVIs1tTR6nR"
      },
      "outputs": [],
      "source": [
        "@dataclass\n",
        "class SchoolDistrict:\n",
        "    # core simulation class: represents the history of a single school district\n",
        "    # BASIC SIMULATION PARAMETERS (CONSTANTS)\n",
        "    sscRat: int = 100 # student to school ratio\n",
        "    tolerance: tuple = (-0.5, 0.25) # tolerances for that ratio\n",
        "    alphas:tuple = tuple(np.linspace(0.1,0.9,9)) # starting set of exponential smoothing parameters\n",
        "    growth_period:int = 10 # number of years to follow a particular growth pattern\n",
        "    n_periods:int = 6 # number of growth periods to run the simulation\n",
        "    start_yr:int = 10 # year to begin forecasts\n",
        "    noisy:bool = False # add noise to trajectory?\n",
        "    school_lifetime:int = 30 # expected life of a school\n",
        "    school_open_cost:float = -9. # cost to open a school\n",
        "    school_close_cost:float = 1. # cost to close a school\n",
        "    school_fund_fraction:float = 0.01 # how many other schools should revenue above the cost of maintenance go to fund?\n",
        "    starting_fund_yrs:int = 2 # how many years of surplus to start with?\n",
        "    school_minimum_threshold:float = -50. # what value of budget means no construction and no closure?\n",
        "    interest_rate:float = 0.05 # how much is savings worth\n",
        "    loan_multiplier:float = 0.7 # how much smaller is the interest to be paid vs. interest on assets?\n",
        "    # BASIC SIMULATION PARAMETERS (VARIABLE)\n",
        "    NStudents:int = 1000 # initial number of students\n",
        "    pred_ratios: list = field(default_factory=list) # agent-predicted student/resource ratios\n",
        "    ach_ratios: list = field(default_factory=list) # achieved student/resource ratios\n",
        "    hist_alphas: list = field(default_factory=list)\n",
        "    predictions: list = field(default_factory=list)\n",
        "    hist_schools: list = field(default_factory=list)\n",
        "    hist_budget: list = field(default_factory=list)\n",
        "\n",
        "\n",
        "    #TODO: add BUDGET\n",
        "    #TODO: fix ufunc bug\n",
        "\n",
        "\n",
        "    def simulate_full_history(self,to_debug=False,set_history=None):\n",
        "        # first step in the simulation--initialize the population history\n",
        "        self.len_history = self.n_periods * self.growth_period\n",
        "        self.history=simulate_history(start_value=self.NStudents,\n",
        "                                      total_years=self.len_history,\n",
        "                                      period_length=self.growth_period,\n",
        "                                      noisy=self.noisy,\n",
        "                                      debug=to_debug,\n",
        "                                      set_history=set_history)\n",
        "\n",
        "    def make_construction_decisions(self,debug=True):\n",
        "        # at the end of every year, make a forecast and update alpha selection probabilities\n",
        "        self.NSchools = self.NStudents // (self.sscRat + self.tolerance[1])# initial number of schools--started to be near a phase transition\n",
        "        self.pselect = np.ones(len(self.alphas))/len(self.alphas) # selection probabilities for exponential smoothing parameters\n",
        "        self.funding_rate = (1. + self.school_fund_fraction)/(self.sscRat * self.school_lifetime)\n",
        "        last_alpha = 0.0 # initalize the most recent choice of exponential smoothing param\n",
        "        alpha_multiple, extra = 1, 1 #divmod(self.len_history - self.start_yr, 5*len(self.alphas)) # number of times to include an alpha in the list,\n",
        "        #--must guarantee that we won't run out of alphas\n",
        "        local_as = list(self.alphas)*alpha_multiple  + [choice(self.alphas) for x in range(extra)]\n",
        "        self.ach_ratios += list(np.zeros(self.start_yr-1))\n",
        "        self.predictions += list(np.zeros(self.start_yr))\n",
        "        self.pred_ratios += list(np.zeros(self.start_yr))\n",
        "        self.hist_alphas += list(np.zeros(self.start_yr))\n",
        "        self.hist_schools += list(np.ones(self.start_yr)*self.NSchools)\n",
        "        self.hist_budget += list(np.zeros(self.start_yr - 1)) + [self.starting_fund_yrs*self.funding_rate *self.NStudents*-1*self.school_open_cost]\n",
        "\n",
        "        for yr in range(self.start_yr, self.len_history):\n",
        "            if self.NSchools == 0:\n",
        "                print(\"Simulation terminated early. Zero schools left.\")\n",
        "                break\n",
        "\n",
        "            # calculate ratio (evaluate performance) and update list of smoothing params\n",
        "            local_achrat = self.history[yr-1]/self.NSchools # achieved ratio\n",
        "            self.ach_ratios.append(local_achrat)\n",
        "            self.hist_schools.append(self.NSchools)\n",
        "            local_diff = (local_achrat - self.sscRat)/self.sscRat # achieved difference from ideal\n",
        "            if yr > self.start_yr and last_alpha in local_as:\n",
        "                if local_diff > self.tolerance[1] and len(local_as) > 1: #achieved ratio too high\n",
        "                    local_as.remove(last_alpha)\n",
        "                elif local_diff < self.tolerance[0] and len(local_as) > 1: #achieved ratio too low\n",
        "                    local_as.remove(last_alpha)\n",
        "                else: # ratio ok--good prediction\n",
        "                    local_as.append(last_alpha)\n",
        "\n",
        "\n",
        "            # forecast\n",
        "            forecast_objs = predict_from_history(self.history[0:yr],years=1,alpha_set=local_as)\n",
        "            local_prat = forecast_objs['prediction'][0]/self.NSchools\n",
        "            self.hist_alphas.append(forecast_objs['alpha_result'])\n",
        "            last_alpha = forecast_objs['alpha_result']\n",
        "            local_ach_diff = (local_prat - self.sscRat)/self.sscRat# predicted difference from ideal\n",
        "            self.predictions.append(forecast_objs['prediction'][0])\n",
        "            self.pred_ratios.append(local_prat)\n",
        "\n",
        "            # update number of schools based on forecast\n",
        "\n",
        "            sch_change = np.round(self.NSchools*(local_ach_diff))\n",
        "\n",
        "            open_close_cost = self.school_open_cost*sch_change if sch_change > 0 else self.school_close_cost*sch_change\n",
        "            # print(f\"existing budget is ${self.hist_budget[-1]}, need  ${open_close_cost} for opening/closing. \")\n",
        "\n",
        "            if (self.hist_budget[-1] + open_close_cost) >= self.school_minimum_threshold:\n",
        "                self.NSchools = np.round(self.NSchools*(1 + local_ach_diff))\n",
        "            else: # can't afford to act\n",
        "                open_close_cost = 0.\n",
        "\n",
        "            interest =  self.hist_budget[-1]*self.interest_rate\n",
        "            if self.hist_budget[-1]:\n",
        "                interest *= self.loan_multiplier\n",
        "\n",
        "            budget_change = self.history[yr]*self.funding_rate + open_close_cost + interest\n",
        "            # print(f\"budget changing by ${budget_change}, including ${open_close_cost} for opening/closing. \")\n",
        "            self.hist_budget.append(self.hist_budget[-1] + budget_change)\n",
        "            # update budget to reflect openings and closings\n",
        "            if debug:\n",
        "                print(len(local_as))\n",
        "                print(local_as)\n",
        "                print(Counter(local_as))\n",
        "                print(f\"schools should change by {self.NSchools*(local_ach_diff)}, or {sch_change}\")\n",
        "                print(f\"existing budget is ${self.hist_budget[-1]}, need  ${open_close_cost} for opening/closing. \")\n",
        "                print(f\"budget changing by ${budget_change}, including ${open_close_cost} for opening/closing. \")\n",
        "\n",
        "    def plot_history_vs_preds(self):\n",
        "        # plotting actual vs predicted enrollment\n",
        "        fig, ax = plt.subplots()\n",
        "        ax.step(x=range(len(self.history)), y=self.history)\n",
        "        ax.step(x=range(len(self.predictions)), y=self.predictions)\n",
        "        ax.legend(['historical','predictions'])\n",
        "        ax.set_title(\"Time Series of Historical vs. Predicted Enrollment\")\n",
        "        ax.set_ylabel(\"# Students\")\n",
        "        plt.show()\n",
        "        plt.close()\n",
        "\n",
        "\n",
        "    def plot_ratios(self):\n",
        "        # plotting achieved vs actual student/school ratio\n",
        "        fig, ax = plt.subplots()\n",
        "        ax.step(x=range(len(self.ach_ratios)), y=self.ach_ratios)\n",
        "        ax.step(x=range(len(self.pred_ratios)), y=self.pred_ratios)\n",
        "        ax.hlines((self.tolerance[0] + 1)*self.sscRat, xmin=0, xmax=self.len_history,color=\"gray\")\n",
        "        ax.hlines((self.tolerance[1] + 1)*self.sscRat, xmin=0, xmax=self.len_history,color=\"gray\")\n",
        "        ax.fill_between(range(self.len_history), 0, (self.tolerance[0] + 1)*self.sscRat, color=\"gray\", alpha=0.30)\n",
        "        ax.fill_between(range(self.len_history),(self.tolerance[1] + 1)*self.sscRat, max(max(self.ach_ratios), max(self.pred_ratios)), color=\"gray\", alpha=0.30)\n",
        "        ax.legend(['achieved','predictions'])\n",
        "        ax.set_title(\"Time Series of Predicted vs. Achieved Student/School Ratio\")\n",
        "        ax.set_ylabel(\"Students per School\")\n",
        "        ax.set_xlabel(\"Time (Years)\")\n",
        "        plt.show()\n",
        "        plt.close()\n",
        "\n",
        "    def plot_schools_vs_pop(self):\n",
        "        # plotting number of schools vs. population (scaled)\n",
        "        fig, ax = plt.subplots()\n",
        "        ax.step(x=range(len(self.history)), y=minmax_scale(self.history))\n",
        "        ax.step(x=range(len(self.hist_schools)), y=minmax_scale(self.hist_schools))\n",
        "        ax.legend(['scaled population', 'scaled # schools'])\n",
        "        ax.set_title(f\"Time Series of Scaled # Schools, Total Enrollment\\n#Schools: Min:{min(self.hist_schools)},Max:{max(self.hist_schools)}, Enrolled: Min:{min(self.history)},Max:{max(self.history)}\")\n",
        "        ax.set_ylabel(\"Scaled School Count/Scaled Enrollment\")\n",
        "        ax.set_xlabel(\"Time (Years)\")\n",
        "        plt.show()\n",
        "        plt.close()\n",
        "\n",
        "    # metrics\n",
        "    def pct_when_performant(self, to_print=False):\n",
        "        # give the proportion of school years where achieved student to resource ratios were within tolerance\n",
        "        ach_test = self.ach_ratios[self.start_yr:]\n",
        "        result_bool = [ (x <= ((self.tolerance[1] + 1)*self.sscRat) ) and (x >= ((self.tolerance[0] + 1)*self.sscRat)) for x in ach_test]\n",
        "        prop = sum(result_bool)/len(result_bool)\n",
        "        self.prop_perf = prop\n",
        "        if to_print:\n",
        "            print(f\"The district was within tolerance bounds {np.round(100*prop)}% of the time.\")\n",
        "        return prop\n",
        "\n",
        "    def plot_budget(self):\n",
        "        # plotting budget\n",
        "        fig, ax = plt.subplots()\n",
        "        ax.step(x=range(len(self.hist_budget)), y=self.hist_budget)\n",
        "        ax.legend(['Historical Budget'])\n",
        "        ax.set_title(f\"Time Series of Historical Budget\")\n",
        "        ax.hlines(self.school_minimum_threshold, xmin=0, xmax=self.len_history,color=\"red\", linestyle=\"dotted\")\n",
        "        ax.hlines(0, xmin=0, xmax=self.len_history,color=\"gray\", linestyle=\"dotted\")\n",
        "        ax.set_ylabel(\"Historical Budget ($)\")\n",
        "        ax.set_xlabel(\"Time (Years)\")\n",
        "        plt.show()\n",
        "        plt.close()\n",
        "\n",
        "    # metrics\n",
        "    def pct_when_in_budget(self, lower_thresh=0, to_print=False):\n",
        "        # give the proportion of school years where the budget was above some threshold ($0, -100% of total value of all schools, etc)\n",
        "        # metric \"ever reach ruin\" can be calculated from this\n",
        "        if len(self.hist_budget) < len(self.history):\n",
        "            self.hist_budget += [0 for x in range(len(self.history) - len(self.hist_budget))]\n",
        "        budget_res = self.hist_budget[self.start_yr:]\n",
        "        result_bool = [ (x >= lower_thresh) for x in budget_res]\n",
        "        prop = sum(result_bool)/len(result_bool)\n",
        "        self.prop_perf = prop\n",
        "        if to_print:\n",
        "            print(f\"The district budget was above the threshold of ${lower_thresh} {np.round(100*prop)}% of the time.\")\n",
        "        return prop\n",
        "\n",
        "\n",
        "    def predictive_accuracy(self):\n",
        "        # get Rsquared of predictions\n",
        "        if len(self.history[self.start_yr:]) != len(self.predictions[self.start_yr:]):\n",
        "            print(\"WARNING: HISTORY TERMINATED EARLY\")\n",
        "            lr = linregress(x=self.predictions[self.start_yr:], y=self.history[self.start_yr:len(self.predictions)])\n",
        "        else:\n",
        "            lr = linregress(x=self.predictions[self.start_yr:], y=self.history[self.start_yr:])\n",
        "\n",
        "        return lr.rvalue\n",
        "\n",
        "\n"
      ]
    },
    {
      "cell_type": "markdown",
      "metadata": {
        "id": "LEBZ3SCsR6nS"
      },
      "source": [
        "# An Example"
      ]
    },
    {
      "cell_type": "code",
      "execution_count": 130,
      "metadata": {
        "id": "pUWP8C9SR6nS"
      },
      "outputs": [],
      "source": [
        "simSchool = SchoolDistrict(NStudents=2500, #Start with 1250 students\n",
        "                           sscRat=250,  # ideal student/school ratio is 250\n",
        "                           tolerance=(-.1,.1), #tolerate student/school ratios of 225 to 275\n",
        "                           growth_period=10, # growth patterns last 20 years\n",
        "                           n_periods=5, # run for 60 years\n",
        "                           noisy=True, # add noise to population change\n",
        "                           school_minimum_threshold = -60., # minimum budget to open/close a school\n",
        "                           school_fund_fraction=0.95, # determines how much over current school operating expenses to charge in taxes\n",
        "                           interest_rate=0.03,\n",
        "                           pred_ratios=[], ach_ratios=[], hist_alphas=[], predictions=[],hist_budget=[]\n",
        "                       )\n",
        "simSchool.simulate_full_history(set_history=[6,3,4,3,6])\n",
        "simSchool.make_construction_decisions(debug=False)"
      ]
    },
    {
      "cell_type": "code",
      "execution_count": 131,
      "metadata": {
        "colab": {
          "base_uri": "https://localhost:8080/"
        },
        "id": "iQd-1IIIUMKk",
        "outputId": "a2353b1f-b9d1-4a0a-d9ae-8871cf92eb98"
      },
      "outputs": [
        {
          "output_type": "execute_result",
          "data": {
            "text/plain": [
              "0.5641025641025641"
            ]
          },
          "metadata": {},
          "execution_count": 131
        }
      ],
      "source": [
        "simSchool.pct_when_performant()"
      ]
    },
    {
      "cell_type": "markdown",
      "metadata": {
        "id": "Kslxx9D-R6nT"
      },
      "source": [
        "## Plots: Population Predictions vs Actuals"
      ]
    },
    {
      "cell_type": "code",
      "execution_count": 132,
      "metadata": {
        "colab": {
          "base_uri": "https://localhost:8080/",
          "height": 452
        },
        "id": "Tg1izlYqR6nT",
        "outputId": "944d0149-2c26-4a6d-c647-0afeb9dee7e2"
      },
      "outputs": [
        {
          "output_type": "display_data",
          "data": {
            "text/plain": [
              "<Figure size 640x480 with 1 Axes>"
            ],
            "image/png": "[encoded data removed]"
          },
          "metadata": {}
        }
      ],
      "source": [
        "simSchool.plot_history_vs_preds()"
      ]
    },
    {
      "cell_type": "code",
      "execution_count": 133,
      "metadata": {
        "colab": {
          "base_uri": "https://localhost:8080/"
        },
        "id": "zibU3WOFUMKk",
        "outputId": "3914074e-7e11-4925-efbd-54091ab3f531"
      },
      "outputs": [
        {
          "output_type": "execute_result",
          "data": {
            "text/plain": [
              "0.3617890649447285"
            ]
          },
          "metadata": {},
          "execution_count": 133
        }
      ],
      "source": [
        "simSchool.predictive_accuracy()"
      ]
    },
    {
      "cell_type": "markdown",
      "metadata": {
        "id": "sFo18PP-R6nT"
      },
      "source": [
        "## Plots: Predicted Student/School Ratios vs. Actuals"
      ]
    },
    {
      "cell_type": "code",
      "execution_count": 134,
      "metadata": {
        "colab": {
          "base_uri": "https://localhost:8080/",
          "height": 472
        },
        "id": "tQtdvLRkR6nT",
        "outputId": "e060fb94-ef22-4a76-d427-d21c58205de2"
      },
      "outputs": [
        {
          "output_type": "display_data",
          "data": {
            "text/plain": [
              "<Figure size 640x480 with 1 Axes>"
            ],
            "image/png": "[encoded data removed]"
          },
          "metadata": {}
        }
      ],
      "source": [
        "simSchool.plot_ratios()"
      ]
    },
    {
      "cell_type": "code",
      "execution_count": 135,
      "metadata": {
        "colab": {
          "base_uri": "https://localhost:8080/"
        },
        "id": "OMDYT83FR6nT",
        "outputId": "d9a53278-06ae-4cf5-c1e0-abc830573ff1"
      },
      "outputs": [
        {
          "output_type": "stream",
          "name": "stdout",
          "text": [
            "The district was within tolerance bounds 56.0% of the time.\n"
          ]
        },
        {
          "output_type": "execute_result",
          "data": {
            "text/plain": [
              "0.5641025641025641"
            ]
          },
          "metadata": {},
          "execution_count": 135
        }
      ],
      "source": [
        "simSchool.pct_when_performant(to_print=True)"
      ]
    },
    {
      "cell_type": "markdown",
      "metadata": {
        "id": "unW2zH5IR6nT"
      },
      "source": [
        "## Plots: Trends in School Enrollment and Openings/Closings"
      ]
    },
    {
      "cell_type": "code",
      "execution_count": 136,
      "metadata": {
        "colab": {
          "base_uri": "https://localhost:8080/",
          "height": 493
        },
        "id": "pe1GuNJFR6nT",
        "outputId": "7e580367-fb05-4a43-aa00-6df213bab0e3"
      },
      "outputs": [
        {
          "output_type": "display_data",
          "data": {
            "text/plain": [
              "<Figure size 640x480 with 1 Axes>"
            ],
            "image/png": "[encoded data removed]"
          },
          "metadata": {}
        }
      ],
      "source": [
        "simSchool.plot_schools_vs_pop()"
      ]
    },
    {
      "cell_type": "markdown",
      "metadata": {
        "id": "Xwt0Lx9bR6nU"
      },
      "source": [
        "## Budget figures"
      ]
    },
    {
      "cell_type": "code",
      "execution_count": 137,
      "metadata": {
        "colab": {
          "base_uri": "https://localhost:8080/",
          "height": 472
        },
        "id": "W2SDsgegR6nU",
        "outputId": "6db910f5-d7a8-4424-b104-7b05aba473b7"
      },
      "outputs": [
        {
          "output_type": "display_data",
          "data": {
            "text/plain": [
              "<Figure size 640x480 with 1 Axes>"
            ],
            "image/png": "[encoded data removed]"
          },
          "metadata": {}
        }
      ],
      "source": [
        "simSchool.plot_budget()"
      ]
    },
    {
      "cell_type": "code",
      "execution_count": 138,
      "metadata": {
        "colab": {
          "base_uri": "https://localhost:8080/"
        },
        "id": "GF8jFXUWR6nU",
        "outputId": "f6c74a50-a9f1-4644-cb94-77e091a13944"
      },
      "outputs": [
        {
          "output_type": "stream",
          "name": "stdout",
          "text": [
            "The district budget was above the threshold of $-60.0 92.0% of the time.\n"
          ]
        },
        {
          "output_type": "execute_result",
          "data": {
            "text/plain": [
              "0.925"
            ]
          },
          "metadata": {},
          "execution_count": 138
        }
      ],
      "source": [
        "simSchool.pct_when_in_budget(lower_thresh=simSchool.school_minimum_threshold,to_print=True)"
      ]
    },
    {
      "cell_type": "markdown",
      "metadata": {
        "id": "kbecsMGWR6nU"
      },
      "source": [
        "## Metrics: run lengths"
      ]
    },
    {
      "cell_type": "code",
      "execution_count": 139,
      "metadata": {
        "colab": {
          "base_uri": "https://localhost:8080/"
        },
        "id": "N6TvlLBER6nU",
        "outputId": "a761f0a5-0372-488f-8554-32f41f3d08a1"
      },
      "outputs": [
        {
          "output_type": "execute_result",
          "data": {
            "text/plain": [
              "{'counts': Counter({12: 1, 3: 2, 2: 4, 1: 2, 6: 1, 7: 1, 9: 1}),\n",
              " 'mean': 4.166666666666667,\n",
              " 'median': 2.5,\n",
              " 'stddev': 3.3870669054835956}"
            ]
          },
          "metadata": {},
          "execution_count": 139
        }
      ],
      "source": [
        "runlength_stats(get_run_lengths([int(x) for x in simSchool.hist_schools]))"
      ]
    },
    {
      "cell_type": "markdown",
      "metadata": {
        "id": "wUpEJlwDR6nU"
      },
      "source": [
        "## Metrics: $\\alpha$s"
      ]
    },
    {
      "cell_type": "code",
      "execution_count": 140,
      "metadata": {
        "colab": {
          "base_uri": "https://localhost:8080/"
        },
        "id": "ML8bcjQDR6nV",
        "outputId": "4e6489c2-b94f-47de-cc40-3b49a3870f81"
      },
      "outputs": [
        {
          "output_type": "execute_result",
          "data": {
            "text/plain": [
              "Counter({0.0: 10,\n",
              "         0.5: 1,\n",
              "         0.4: 9,\n",
              "         0.9: 1,\n",
              "         0.8: 8,\n",
              "         0.2: 7,\n",
              "         0.6: 5,\n",
              "         0.30000000000000004: 7,\n",
              "         0.7000000000000001: 1,\n",
              "         0.1: 1})"
            ]
          },
          "metadata": {},
          "execution_count": 140
        }
      ],
      "source": [
        "Counter(simSchool.hist_alphas)"
      ]
    },
    {
      "cell_type": "code",
      "execution_count": 141,
      "metadata": {
        "colab": {
          "base_uri": "https://localhost:8080/",
          "height": 447
        },
        "id": "P9NmJciwR6nV",
        "outputId": "112a0794-287b-411a-c898-e3c6eb4a9713"
      },
      "outputs": [
        {
          "output_type": "execute_result",
          "data": {
            "text/plain": [
              "[<matplotlib.lines.Line2D at 0x79d3ee5a6860>]"
            ]
          },
          "metadata": {},
          "execution_count": 141
        },
        {
          "output_type": "display_data",
          "data": {
            "text/plain": [
              "<Figure size 640x480 with 1 Axes>"
            ],
            "image/png": "[encoded data removed]"
          },
          "metadata": {}
        }
      ],
      "source": [
        "plt.plot(simSchool.hist_alphas)"
      ]
    },
    {
      "cell_type": "markdown",
      "metadata": {
        "id": "7dPn5YTMUMKm"
      },
      "source": [
        "# Factorial Experiment\n"
      ]
    },
    {
      "cell_type": "code",
      "execution_count": 142,
      "metadata": {
        "id": "g79S50nEUMKm"
      },
      "outputs": [],
      "source": [
        "def individual_replicate(SampleSize=3500,ratio=250, growth_patterns:list=[0,0,0], is_noisy:bool=False, alphas:tuple=None)->dict:\n",
        "    simSchool = SchoolDistrict(NStudents=SampleSize, #Start with 1250 students\n",
        "                               sscRat=ratio,  # ideal student/school ratio is 250\n",
        "                               tolerance=(-.1,.1), #tolerate student/school ratios of 225 to 275\n",
        "                               growth_period=20, # growth patterns last 20 years\n",
        "                               n_periods=len(growth_patterns), # run for 60 years\n",
        "                               noisy=is_noisy, # add noise to population change\n",
        "                               school_minimum_threshold = -50., # minimum budget to open/close a school\n",
        "                               school_fund_fraction=0.70, # determines how much over current school operating expenses to charge in taxes\n",
        "                               interest_rate=0.02,\n",
        "                               pred_ratios=[], ach_ratios=[], hist_alphas=[], predictions=[],hist_budget=[]\n",
        "                           )\n",
        "    if alphas is not None:\n",
        "        simSchool.alphas = alphas\n",
        "    school_results = {}\n",
        "    simSchool.simulate_full_history(set_history=growth_patterns)\n",
        "    simSchool.make_construction_decisions(debug=False)\n",
        "    school_results['r2'] = simSchool.predictive_accuracy()\n",
        "    school_results['pct_performant'] = simSchool.pct_when_performant(to_print=False)\n",
        "    school_results['pct_budgetary'] = simSchool.pct_when_in_budget(lower_thresh=simSchool.school_minimum_threshold,to_print=False)\n",
        "    school_results['decision_length'] = runlength_stats(get_run_lengths([int(x) for x in simSchool.hist_schools]))['median']\n",
        "    return school_results"
      ]
    },
    {
      "cell_type": "code",
      "execution_count": 143,
      "metadata": {
        "colab": {
          "base_uri": "https://localhost:8080/"
        },
        "id": "vLAgXAU2UMKm",
        "outputId": "3fe2c0d4-a238-47cd-cd3b-0bdf89db24ac"
      },
      "outputs": [
        {
          "output_type": "execute_result",
          "data": {
            "text/plain": [
              "{'r2': 0.9782376701284913,\n",
              " 'pct_performant': 0.10588235294117647,\n",
              " 'pct_budgetary': 1.0,\n",
              " 'decision_length': 1.0}"
            ]
          },
          "metadata": {},
          "execution_count": 143
        }
      ],
      "source": [
        "individual_replicate(growth_patterns=[0,1,3,1])"
      ]
    },
    {
      "cell_type": "code",
      "source": [],
      "metadata": {
        "id": "cMVYDbDpdR3o"
      },
      "execution_count": 143,
      "outputs": []
    },
    {
      "cell_type": "code",
      "execution_count": 144,
      "metadata": {
        "id": "P-NzS2BeUMKm"
      },
      "outputs": [],
      "source": [
        "def run_experiment(growth_pat_len:int=3, noise:bool=False, set_alpha=None, plot:bool=True):\n",
        "    alphas_ = tuple(set_alpha for x in range(23)) if set_alpha is not None else None\n",
        "    exp_result = {}\n",
        "    pprod = product(\"0123456\", repeat=growth_pat_len)\n",
        "    formula = \"pct_performant ~ \" + \" + \".join([f\"C(p{x})\" for x in range(growth_pat_len)])\n",
        "    # print(formula)\n",
        "    for pat in pprod:\n",
        "        local_name = \",\".join(pat)\n",
        "        growth_pats =  [int(y) for y in pat]\n",
        "        # print(growth_pats)\n",
        "        local_res = individual_replicate(growth_patterns =growth_pats, is_noisy=noise, alphas=alphas_)\n",
        "        exp_result[local_name] = local_res\n",
        "\n",
        "    factorial = pd.DataFrame(exp_result).T\n",
        "    for _,j in enumerate(range(growth_pat_len)):\n",
        "        factorial[f'p{_}'] = factorial.index.to_series().apply(lambda x: x.split(',')[_])\n",
        "\n",
        "    if plot:\n",
        "        factorial.boxplot(column='r2', by='p0')\n",
        "        factorial.boxplot(column='pct_budgetary', by='p0')\n",
        "        factorial.boxplot(column='pct_performant', by='p0')\n",
        "        factorial.boxplot(column='decision_length', by='p0')\n",
        "        factorial.plot.scatter('decision_length', 'pct_performant', c=[int(x) for x in factorial['p2']], colormap='Dark2',alpha=0.3 )\n",
        "\n",
        "\n",
        "    print(factorial[['r2', 'pct_budgetary', 'pct_performant','decision_length']].describe())\n",
        "\n",
        "    lm = ols(formula, factorial).fit()\n",
        "    print(lm.summary())\n",
        "    print(anova_lm(lm))\n",
        "    return factorial, lm"
      ]
    },
    {
      "cell_type": "code",
      "execution_count": 145,
      "metadata": {
        "id": "vNdJ3GTuUMKm"
      },
      "outputs": [],
      "source": [
        "@dataclass\n",
        "class SingleExperiment:\n",
        "    # Single run from one set of experimental conditions\n",
        "    growth_pat_len:int=4\n",
        "    noise:bool=False\n",
        "    set_alpha:float=None\n",
        "    plot:bool=False\n",
        "\n",
        "    def run(self):\n",
        "        self.name = f\"gpl:{self.growth_pat_len};noise:{self.noise};A:{self.set_alpha}\"\n",
        "        self.result = run_experiment(growth_pat_len=self.growth_pat_len,\n",
        "                       noise=self.noise, set_alpha=self.set_alpha, plot=self.plot)\n",
        "        self.core_res = self.result[0][['r2', 'pct_budgetary', 'pct_performant','decision_length']].median()\n",
        "\n",
        "    def get_result(self):\n",
        "        self.run()\n",
        "        return self.core_res\n",
        ""
      ]
    },
    {
      "cell_type": "code",
      "execution_count": 146,
      "metadata": {
        "colab": {
          "base_uri": "https://localhost:8080/",
          "height": 1000
        },
        "id": "rKvwr9oxUMKm",
        "outputId": "2d327d05-7e3d-4a21-8bde-94724d58d9fc"
      },
      "outputs": [
        {
          "output_type": "stream",
          "name": "stdout",
          "text": [
            "Simulation terminated early. Zero schools left.\n",
            "WARNING: HISTORY TERMINATED EARLY\n",
            "Simulation terminated early. Zero schools left.\n",
            "WARNING: HISTORY TERMINATED EARLY\n",
            "Simulation terminated early. Zero schools left.\n",
            "WARNING: HISTORY TERMINATED EARLY\n",
            "Simulation terminated early. Zero schools left.\n",
            "WARNING: HISTORY TERMINATED EARLY\n",
            "Simulation terminated early. Zero schools left.\n",
            "WARNING: HISTORY TERMINATED EARLY\n",
            "Simulation terminated early. Zero schools left.\n",
            "WARNING: HISTORY TERMINATED EARLY\n",
            "Simulation terminated early. Zero schools left.\n",
            "WARNING: HISTORY TERMINATED EARLY\n",
            "Simulation terminated early. Zero schools left.\n",
            "WARNING: HISTORY TERMINATED EARLY\n",
            "Simulation terminated early. Zero schools left.\n",
            "WARNING: HISTORY TERMINATED EARLY\n",
            "                r2  pct_budgetary  pct_performant  decision_length\n",
            "count  2401.000000    2401.000000     2401.000000      2401.000000\n",
            "mean      0.891312       0.861734        0.543355         5.268638\n",
            "std       0.127342       0.229617        0.272997         8.367789\n",
            "min      -0.046491       0.174419        0.000000         1.000000\n",
            "25%       0.877941       0.779070        0.329412         2.000000\n",
            "50%       0.935297       1.000000        0.541176         3.000000\n",
            "75%       0.962632       1.000000        0.752941         5.000000\n",
            "max       0.999370       1.000000        1.000000        48.000000\n",
            "                            OLS Regression Results                            \n",
            "==============================================================================\n",
            "Dep. Variable:         pct_performant   R-squared:                       0.603\n",
            "Model:                            OLS   Adj. R-squared:                  0.599\n",
            "Method:                 Least Squares   F-statistic:                     150.7\n",
            "Date:                Thu, 05 Dec 2024   Prob (F-statistic):               0.00\n",
            "Time:                        02:08:51   Log-Likelihood:                 821.33\n",
            "No. Observations:                2401   AIC:                            -1593.\n",
            "Df Residuals:                    2376   BIC:                            -1448.\n",
            "Df Model:                          24                                         \n",
            "Covariance Type:            nonrobust                                         \n",
            "==============================================================================\n",
            "                 coef    std err          t      P>|t|      [0.025      0.975]\n",
            "------------------------------------------------------------------------------\n",
            "Intercept      0.1970      0.018     11.176      0.000       0.162       0.232\n",
            "C(p0)[T.1]    -0.0525      0.013     -3.978      0.000      -0.078      -0.027\n",
            "C(p0)[T.2]     0.2988      0.013     22.646      0.000       0.273       0.325\n",
            "C(p0)[T.3]     0.2259      0.013     17.123      0.000       0.200       0.252\n",
            "C(p0)[T.4]     0.3251      0.013     24.641      0.000       0.299       0.351\n",
            "C(p0)[T.5]     0.2180      0.013     16.527      0.000       0.192       0.244\n",
            "C(p0)[T.6]     0.2847      0.013     21.579      0.000       0.259       0.311\n",
            "C(p1)[T.1]    -0.0636      0.013     -4.820      0.000      -0.089      -0.038\n",
            "C(p1)[T.2]    -0.0369      0.013     -2.795      0.005      -0.063      -0.011\n",
            "C(p1)[T.3]     0.1813      0.013     13.740      0.000       0.155       0.207\n",
            "C(p1)[T.4]     0.2709      0.013     20.532      0.000       0.245       0.297\n",
            "C(p1)[T.5]     0.1688      0.013     12.796      0.000       0.143       0.195\n",
            "C(p1)[T.6]     0.2609      0.013     19.775      0.000       0.235       0.287\n",
            "C(p2)[T.1]    -0.0857      0.013     -6.494      0.000      -0.112      -0.060\n",
            "C(p2)[T.2]    -0.0558      0.013     -4.231      0.000      -0.082      -0.030\n",
            "C(p2)[T.3]     0.0814      0.013      6.170      0.000       0.056       0.107\n",
            "C(p2)[T.4]     0.1469      0.013     11.133      0.000       0.121       0.173\n",
            "C(p2)[T.5]     0.0649      0.013      4.917      0.000       0.039       0.091\n",
            "C(p2)[T.6]     0.1345      0.013     10.194      0.000       0.109       0.160\n",
            "C(p3)[T.1]    -0.0489      0.013     -3.705      0.000      -0.075      -0.023\n",
            "C(p3)[T.2]    -0.0202      0.013     -1.531      0.126      -0.046       0.006\n",
            "C(p3)[T.3]     0.0168      0.013      1.272      0.204      -0.009       0.043\n",
            "C(p3)[T.4]     0.0579      0.013      4.390      0.000       0.032       0.084\n",
            "C(p3)[T.5]  3.698e-05      0.013      0.003      0.998      -0.026       0.026\n",
            "C(p3)[T.6]     0.0511      0.013      3.876      0.000       0.025       0.077\n",
            "==============================================================================\n",
            "Omnibus:                        8.543   Durbin-Watson:                   1.399\n",
            "Prob(Omnibus):                  0.014   Jarque-Bera (JB):                8.518\n",
            "Skew:                           0.132   Prob(JB):                       0.0141\n",
            "Kurtosis:                       2.874   Cond. No.                         10.5\n",
            "==============================================================================\n",
            "\n",
            "Notes:\n",
            "[1] Standard Errors assume that the covariance matrix of the errors is correctly specified.\n",
            "              df     sum_sq   mean_sq           F         PR(>F)\n",
            "C(p0)        6.0  46.609128  7.768188  260.240551  2.744075e-256\n",
            "C(p1)        6.0  41.495423  6.915904  231.688348  2.124208e-233\n",
            "C(p2)        6.0  16.892621  2.815437   94.319401  1.562236e-106\n",
            "C(p3)        6.0   2.945334  0.490889   16.445177   1.189678e-18\n",
            "Residual  2376.0  70.923668  0.029850         NaN            NaN\n"
          ]
        },
        {
          "output_type": "execute_result",
          "data": {
            "text/plain": [
              "r2                 0.935297\n",
              "pct_budgetary      1.000000\n",
              "pct_performant     0.541176\n",
              "decision_length    3.000000\n",
              "dtype: float64"
            ],
            "text/html": [
              "<div>\n",
              "<style scoped>\n",
              "    .dataframe tbody tr th:only-of-type {\n",
              "        vertical-align: middle;\n",
              "    }\n",
              "\n",
              "    .dataframe tbody tr th {\n",
              "        vertical-align: top;\n",
              "    }\n",
              "\n",
              "    .dataframe thead th {\n",
              "        text-align: right;\n",
              "    }\n",
              "</style>\n",
              "<table border=\"1\" class=\"dataframe\">\n",
              "  <thead>\n",
              "    <tr style=\"text-align: right;\">\n",
              "      <th></th>\n",
              "      <th>0</th>\n",
              "    </tr>\n",
              "  </thead>\n",
              "  <tbody>\n",
              "    <tr>\n",
              "      <th>r2</th>\n",
              "      <td>0.935297</td>\n",
              "    </tr>\n",
              "    <tr>\n",
              "      <th>pct_budgetary</th>\n",
              "      <td>1.000000</td>\n",
              "    </tr>\n",
              "    <tr>\n",
              "      <th>pct_performant</th>\n",
              "      <td>0.541176</td>\n",
              "    </tr>\n",
              "    <tr>\n",
              "      <th>decision_length</th>\n",
              "      <td>3.000000</td>\n",
              "    </tr>\n",
              "  </tbody>\n",
              "</table>\n",
              "</div><br><label><b>dtype:</b> float64</label>"
            ]
          },
          "metadata": {},
          "execution_count": 146
        }
      ],
      "source": [
        "initial_class_test = SingleExperiment(growth_pat_len=4)\n",
        "initial_class_test.get_result()"
      ]
    },
    {
      "cell_type": "code",
      "execution_count": 147,
      "metadata": {
        "colab": {
          "base_uri": "https://localhost:8080/",
          "height": 304
        },
        "id": "-M4v2T4GUMKn",
        "outputId": "c56f0dc3-b72d-4091-e218-cf9f94f2e7c6"
      },
      "outputs": [
        {
          "output_type": "error",
          "ename": "ValueError",
          "evalue": "empty range for randrange() (17, -16, -33)",
          "traceback": [
            "\u001b[0;31m---------------------------------------------------------------------------\u001b[0m",
            "\u001b[0;31mValueError\u001b[0m                                Traceback (most recent call last)",
            "\u001b[0;32m<ipython-input-147-5b263fe12fb1>\u001b[0m in \u001b[0;36m<cell line: 2>\u001b[0;34m()\u001b[0m\n\u001b[1;32m      1\u001b[0m \u001b[0mnoisy_test\u001b[0m \u001b[0;34m=\u001b[0m \u001b[0mSingleExperiment\u001b[0m\u001b[0;34m(\u001b[0m\u001b[0mgrowth_pat_len\u001b[0m\u001b[0;34m=\u001b[0m\u001b[0;36m4\u001b[0m\u001b[0;34m,\u001b[0m\u001b[0mnoise\u001b[0m\u001b[0;34m=\u001b[0m\u001b[0;32mTrue\u001b[0m\u001b[0;34m)\u001b[0m\u001b[0;34m\u001b[0m\u001b[0;34m\u001b[0m\u001b[0m\n\u001b[0;32m----> 2\u001b[0;31m \u001b[0mnoisy_test\u001b[0m\u001b[0;34m.\u001b[0m\u001b[0mget_result\u001b[0m\u001b[0;34m(\u001b[0m\u001b[0;34m)\u001b[0m\u001b[0;34m\u001b[0m\u001b[0;34m\u001b[0m\u001b[0m\n\u001b[0m",
            "\u001b[0;32m<ipython-input-145-2884d3033528>\u001b[0m in \u001b[0;36mget_result\u001b[0;34m(self)\u001b[0m\n\u001b[1;32m     14\u001b[0m \u001b[0;34m\u001b[0m\u001b[0m\n\u001b[1;32m     15\u001b[0m     \u001b[0;32mdef\u001b[0m \u001b[0mget_result\u001b[0m\u001b[0;34m(\u001b[0m\u001b[0mself\u001b[0m\u001b[0;34m)\u001b[0m\u001b[0;34m:\u001b[0m\u001b[0;34m\u001b[0m\u001b[0;34m\u001b[0m\u001b[0m\n\u001b[0;32m---> 16\u001b[0;31m         \u001b[0mself\u001b[0m\u001b[0;34m.\u001b[0m\u001b[0mrun\u001b[0m\u001b[0;34m(\u001b[0m\u001b[0;34m)\u001b[0m\u001b[0;34m\u001b[0m\u001b[0;34m\u001b[0m\u001b[0m\n\u001b[0m\u001b[1;32m     17\u001b[0m         \u001b[0;32mreturn\u001b[0m \u001b[0mself\u001b[0m\u001b[0;34m.\u001b[0m\u001b[0mcore_res\u001b[0m\u001b[0;34m\u001b[0m\u001b[0;34m\u001b[0m\u001b[0m\n\u001b[1;32m     18\u001b[0m \u001b[0;34m\u001b[0m\u001b[0m\n",
            "\u001b[0;32m<ipython-input-145-2884d3033528>\u001b[0m in \u001b[0;36mrun\u001b[0;34m(self)\u001b[0m\n\u001b[1;32m      9\u001b[0m     \u001b[0;32mdef\u001b[0m \u001b[0mrun\u001b[0m\u001b[0;34m(\u001b[0m\u001b[0mself\u001b[0m\u001b[0;34m)\u001b[0m\u001b[0;34m:\u001b[0m\u001b[0;34m\u001b[0m\u001b[0;34m\u001b[0m\u001b[0m\n\u001b[1;32m     10\u001b[0m         \u001b[0mself\u001b[0m\u001b[0;34m.\u001b[0m\u001b[0mname\u001b[0m \u001b[0;34m=\u001b[0m \u001b[0;34mf\"gpl:{self.growth_pat_len};noise:{self.noise};A:{self.set_alpha}\"\u001b[0m\u001b[0;34m\u001b[0m\u001b[0;34m\u001b[0m\u001b[0m\n\u001b[0;32m---> 11\u001b[0;31m         self.result = run_experiment(growth_pat_len=self.growth_pat_len, \n\u001b[0m\u001b[1;32m     12\u001b[0m                        noise=self.noise, set_alpha=self.set_alpha, plot=self.plot)\n\u001b[1;32m     13\u001b[0m         \u001b[0mself\u001b[0m\u001b[0;34m.\u001b[0m\u001b[0mcore_res\u001b[0m \u001b[0;34m=\u001b[0m \u001b[0mself\u001b[0m\u001b[0;34m.\u001b[0m\u001b[0mresult\u001b[0m\u001b[0;34m[\u001b[0m\u001b[0;36m0\u001b[0m\u001b[0;34m]\u001b[0m\u001b[0;34m[\u001b[0m\u001b[0;34m[\u001b[0m\u001b[0;34m'r2'\u001b[0m\u001b[0;34m,\u001b[0m \u001b[0;34m'pct_budgetary'\u001b[0m\u001b[0;34m,\u001b[0m \u001b[0;34m'pct_performant'\u001b[0m\u001b[0;34m,\u001b[0m\u001b[0;34m'decision_length'\u001b[0m\u001b[0;34m]\u001b[0m\u001b[0;34m]\u001b[0m\u001b[0;34m.\u001b[0m\u001b[0mmedian\u001b[0m\u001b[0;34m(\u001b[0m\u001b[0;34m)\u001b[0m\u001b[0;34m\u001b[0m\u001b[0;34m\u001b[0m\u001b[0m\n",
            "\u001b[0;32m<ipython-input-144-89feb691de9b>\u001b[0m in \u001b[0;36mrun_experiment\u001b[0;34m(growth_pat_len, noise, set_alpha, plot)\u001b[0m\n\u001b[1;32m      9\u001b[0m         \u001b[0mgrowth_pats\u001b[0m \u001b[0;34m=\u001b[0m  \u001b[0;34m[\u001b[0m\u001b[0mint\u001b[0m\u001b[0;34m(\u001b[0m\u001b[0my\u001b[0m\u001b[0;34m)\u001b[0m \u001b[0;32mfor\u001b[0m \u001b[0my\u001b[0m \u001b[0;32min\u001b[0m \u001b[0mpat\u001b[0m\u001b[0;34m]\u001b[0m\u001b[0;34m\u001b[0m\u001b[0;34m\u001b[0m\u001b[0m\n\u001b[1;32m     10\u001b[0m         \u001b[0;31m# print(growth_pats)\u001b[0m\u001b[0;34m\u001b[0m\u001b[0;34m\u001b[0m\u001b[0m\n\u001b[0;32m---> 11\u001b[0;31m         \u001b[0mlocal_res\u001b[0m \u001b[0;34m=\u001b[0m \u001b[0mindividual_replicate\u001b[0m\u001b[0;34m(\u001b[0m\u001b[0mgrowth_patterns\u001b[0m \u001b[0;34m=\u001b[0m\u001b[0mgrowth_pats\u001b[0m\u001b[0;34m,\u001b[0m \u001b[0mis_noisy\u001b[0m\u001b[0;34m=\u001b[0m\u001b[0mnoise\u001b[0m\u001b[0;34m,\u001b[0m \u001b[0malphas\u001b[0m\u001b[0;34m=\u001b[0m\u001b[0malphas_\u001b[0m\u001b[0;34m)\u001b[0m\u001b[0;34m\u001b[0m\u001b[0;34m\u001b[0m\u001b[0m\n\u001b[0m\u001b[1;32m     12\u001b[0m         \u001b[0mexp_result\u001b[0m\u001b[0;34m[\u001b[0m\u001b[0mlocal_name\u001b[0m\u001b[0;34m]\u001b[0m \u001b[0;34m=\u001b[0m \u001b[0mlocal_res\u001b[0m\u001b[0;34m\u001b[0m\u001b[0;34m\u001b[0m\u001b[0m\n\u001b[1;32m     13\u001b[0m \u001b[0;34m\u001b[0m\u001b[0m\n",
            "\u001b[0;32m<ipython-input-142-07e302d652a8>\u001b[0m in \u001b[0;36mindividual_replicate\u001b[0;34m(SampleSize, ratio, growth_patterns, is_noisy, alphas)\u001b[0m\n\u001b[1;32m     14\u001b[0m         \u001b[0msimSchool\u001b[0m\u001b[0;34m.\u001b[0m\u001b[0malphas\u001b[0m \u001b[0;34m=\u001b[0m \u001b[0malphas\u001b[0m\u001b[0;34m\u001b[0m\u001b[0;34m\u001b[0m\u001b[0m\n\u001b[1;32m     15\u001b[0m     \u001b[0mschool_results\u001b[0m \u001b[0;34m=\u001b[0m \u001b[0;34m{\u001b[0m\u001b[0;34m}\u001b[0m\u001b[0;34m\u001b[0m\u001b[0;34m\u001b[0m\u001b[0m\n\u001b[0;32m---> 16\u001b[0;31m     \u001b[0msimSchool\u001b[0m\u001b[0;34m.\u001b[0m\u001b[0msimulate_full_history\u001b[0m\u001b[0;34m(\u001b[0m\u001b[0mset_history\u001b[0m\u001b[0;34m=\u001b[0m\u001b[0mgrowth_patterns\u001b[0m\u001b[0;34m)\u001b[0m\u001b[0;34m\u001b[0m\u001b[0;34m\u001b[0m\u001b[0m\n\u001b[0m\u001b[1;32m     17\u001b[0m     \u001b[0msimSchool\u001b[0m\u001b[0;34m.\u001b[0m\u001b[0mmake_construction_decisions\u001b[0m\u001b[0;34m(\u001b[0m\u001b[0mdebug\u001b[0m\u001b[0;34m=\u001b[0m\u001b[0;32mFalse\u001b[0m\u001b[0;34m)\u001b[0m\u001b[0;34m\u001b[0m\u001b[0;34m\u001b[0m\u001b[0m\n\u001b[1;32m     18\u001b[0m     \u001b[0mschool_results\u001b[0m\u001b[0;34m[\u001b[0m\u001b[0;34m'r2'\u001b[0m\u001b[0;34m]\u001b[0m \u001b[0;34m=\u001b[0m \u001b[0msimSchool\u001b[0m\u001b[0;34m.\u001b[0m\u001b[0mpredictive_accuracy\u001b[0m\u001b[0;34m(\u001b[0m\u001b[0;34m)\u001b[0m\u001b[0;34m\u001b[0m\u001b[0;34m\u001b[0m\u001b[0m\n",
            "\u001b[0;32m<ipython-input-129-f508864b65d7>\u001b[0m in \u001b[0;36msimulate_full_history\u001b[0;34m(self, to_debug, set_history)\u001b[0m\n\u001b[1;32m     35\u001b[0m         \u001b[0;31m# first step in the simulation--initialize the population history\u001b[0m\u001b[0;34m\u001b[0m\u001b[0;34m\u001b[0m\u001b[0m\n\u001b[1;32m     36\u001b[0m         \u001b[0mself\u001b[0m\u001b[0;34m.\u001b[0m\u001b[0mlen_history\u001b[0m \u001b[0;34m=\u001b[0m \u001b[0mself\u001b[0m\u001b[0;34m.\u001b[0m\u001b[0mn_periods\u001b[0m \u001b[0;34m*\u001b[0m \u001b[0mself\u001b[0m\u001b[0;34m.\u001b[0m\u001b[0mgrowth_period\u001b[0m\u001b[0;34m\u001b[0m\u001b[0;34m\u001b[0m\u001b[0m\n\u001b[0;32m---> 37\u001b[0;31m         self.history=simulate_history(start_value=self.NStudents,\n\u001b[0m\u001b[1;32m     38\u001b[0m                                       \u001b[0mtotal_years\u001b[0m\u001b[0;34m=\u001b[0m\u001b[0mself\u001b[0m\u001b[0;34m.\u001b[0m\u001b[0mlen_history\u001b[0m\u001b[0;34m,\u001b[0m\u001b[0;34m\u001b[0m\u001b[0;34m\u001b[0m\u001b[0m\n\u001b[1;32m     39\u001b[0m                                       \u001b[0mperiod_length\u001b[0m\u001b[0;34m=\u001b[0m\u001b[0mself\u001b[0m\u001b[0;34m.\u001b[0m\u001b[0mgrowth_period\u001b[0m\u001b[0;34m,\u001b[0m\u001b[0;34m\u001b[0m\u001b[0;34m\u001b[0m\u001b[0m\n",
            "\u001b[0;32m<ipython-input-125-4c1403f2ce18>\u001b[0m in \u001b[0;36msimulate_history\u001b[0;34m(start_value, total_years, period_length, debug, noisy, set_history)\u001b[0m\n\u001b[1;32m     14\u001b[0m \u001b[0;34m\u001b[0m\u001b[0m\n\u001b[1;32m     15\u001b[0m         \u001b[0mlochg\u001b[0m \u001b[0;34m=\u001b[0m \u001b[0mhistory\u001b[0m\u001b[0;34m[\u001b[0m\u001b[0m_\u001b[0m\u001b[0;34m]\u001b[0m\u001b[0;34m[\u001b[0m\u001b[0mperiod_length\u001b[0m\u001b[0;34m-\u001b[0m\u001b[0;36m1\u001b[0m\u001b[0;34m]\u001b[0m\u001b[0;34m\u001b[0m\u001b[0;34m\u001b[0m\u001b[0m\n\u001b[0;32m---> 16\u001b[0;31m         \u001b[0mlocfun\u001b[0m \u001b[0;34m=\u001b[0m \u001b[0mlist\u001b[0m\u001b[0;34m(\u001b[0m\u001b[0mgrowthPats\u001b[0m\u001b[0;34m.\u001b[0m\u001b[0mvalues\u001b[0m\u001b[0;34m(\u001b[0m\u001b[0;34m)\u001b[0m\u001b[0;34m)\u001b[0m\u001b[0;34m[\u001b[0m\u001b[0mlocidx\u001b[0m\u001b[0;34m]\u001b[0m\u001b[0;34m(\u001b[0m\u001b[0mstart_value\u001b[0m\u001b[0;34m=\u001b[0m\u001b[0mlochg\u001b[0m\u001b[0;34m,\u001b[0m \u001b[0mn_years\u001b[0m\u001b[0;34m=\u001b[0m\u001b[0mperiod_length\u001b[0m\u001b[0;34m)\u001b[0m\u001b[0;34m\u001b[0m\u001b[0;34m\u001b[0m\u001b[0m\n\u001b[0m\u001b[1;32m     17\u001b[0m         \u001b[0mlocal_h\u001b[0m \u001b[0;34m=\u001b[0m \u001b[0mnp\u001b[0m\u001b[0;34m.\u001b[0m\u001b[0msqueeze\u001b[0m\u001b[0;34m(\u001b[0m\u001b[0mlocfun\u001b[0m\u001b[0;34m)\u001b[0m\u001b[0;34m\u001b[0m\u001b[0;34m\u001b[0m\u001b[0m\n\u001b[1;32m     18\u001b[0m         \u001b[0;32mif\u001b[0m \u001b[0mnoisy\u001b[0m\u001b[0;34m:\u001b[0m\u001b[0;34m\u001b[0m\u001b[0;34m\u001b[0m\u001b[0m\n",
            "\u001b[0;32m<ipython-input-118-e6b470e67ee5>\u001b[0m in \u001b[0;36mflat_with_noise\u001b[0;34m(start_value, n_years, chgrat, const_change)\u001b[0m\n\u001b[1;32m      9\u001b[0m     \u001b[0mdmin\u001b[0m \u001b[0;34m=\u001b[0m \u001b[0mint\u001b[0m\u001b[0;34m(\u001b[0m\u001b[0;34m-\u001b[0m\u001b[0;36m1\u001b[0m\u001b[0;34m*\u001b[0m\u001b[0mchgsize\u001b[0m\u001b[0;34m)\u001b[0m\u001b[0;34m\u001b[0m\u001b[0;34m\u001b[0m\u001b[0m\n\u001b[1;32m     10\u001b[0m     \u001b[0mdmax\u001b[0m \u001b[0;34m=\u001b[0m \u001b[0mint\u001b[0m\u001b[0;34m(\u001b[0m\u001b[0mchgsize\u001b[0m\u001b[0;34m)\u001b[0m\u001b[0;34m\u001b[0m\u001b[0;34m\u001b[0m\u001b[0m\n\u001b[0;32m---> 11\u001b[0;31m     \u001b[0moutput\u001b[0m \u001b[0;34m+=\u001b[0m \u001b[0mnp\u001b[0m\u001b[0;34m.\u001b[0m\u001b[0marray\u001b[0m\u001b[0;34m(\u001b[0m\u001b[0;34m[\u001b[0m\u001b[0mrandint\u001b[0m\u001b[0;34m(\u001b[0m\u001b[0mdmin\u001b[0m\u001b[0;34m,\u001b[0m \u001b[0mdmax\u001b[0m\u001b[0;34m)\u001b[0m \u001b[0;32mfor\u001b[0m \u001b[0mx\u001b[0m \u001b[0;32min\u001b[0m \u001b[0mrange\u001b[0m\u001b[0;34m(\u001b[0m\u001b[0mn_years\u001b[0m\u001b[0;34m)\u001b[0m\u001b[0;34m]\u001b[0m\u001b[0;34m,\u001b[0m\u001b[0mdtype\u001b[0m\u001b[0;34m=\u001b[0m\u001b[0mnp\u001b[0m\u001b[0;34m.\u001b[0m\u001b[0mfloat64\u001b[0m\u001b[0;34m)\u001b[0m\u001b[0;34m\u001b[0m\u001b[0;34m\u001b[0m\u001b[0m\n\u001b[0m\u001b[1;32m     12\u001b[0m     \u001b[0;32mreturn\u001b[0m\u001b[0;34m(\u001b[0m\u001b[0moutput\u001b[0m\u001b[0;34m)\u001b[0m\u001b[0;34m\u001b[0m\u001b[0;34m\u001b[0m\u001b[0m\n",
            "\u001b[0;32m<ipython-input-118-e6b470e67ee5>\u001b[0m in \u001b[0;36m<listcomp>\u001b[0;34m(.0)\u001b[0m\n\u001b[1;32m      9\u001b[0m     \u001b[0mdmin\u001b[0m \u001b[0;34m=\u001b[0m \u001b[0mint\u001b[0m\u001b[0;34m(\u001b[0m\u001b[0;34m-\u001b[0m\u001b[0;36m1\u001b[0m\u001b[0;34m*\u001b[0m\u001b[0mchgsize\u001b[0m\u001b[0;34m)\u001b[0m\u001b[0;34m\u001b[0m\u001b[0;34m\u001b[0m\u001b[0m\n\u001b[1;32m     10\u001b[0m     \u001b[0mdmax\u001b[0m \u001b[0;34m=\u001b[0m \u001b[0mint\u001b[0m\u001b[0;34m(\u001b[0m\u001b[0mchgsize\u001b[0m\u001b[0;34m)\u001b[0m\u001b[0;34m\u001b[0m\u001b[0;34m\u001b[0m\u001b[0m\n\u001b[0;32m---> 11\u001b[0;31m     \u001b[0moutput\u001b[0m \u001b[0;34m+=\u001b[0m \u001b[0mnp\u001b[0m\u001b[0;34m.\u001b[0m\u001b[0marray\u001b[0m\u001b[0;34m(\u001b[0m\u001b[0;34m[\u001b[0m\u001b[0mrandint\u001b[0m\u001b[0;34m(\u001b[0m\u001b[0mdmin\u001b[0m\u001b[0;34m,\u001b[0m \u001b[0mdmax\u001b[0m\u001b[0;34m)\u001b[0m \u001b[0;32mfor\u001b[0m \u001b[0mx\u001b[0m \u001b[0;32min\u001b[0m \u001b[0mrange\u001b[0m\u001b[0;34m(\u001b[0m\u001b[0mn_years\u001b[0m\u001b[0;34m)\u001b[0m\u001b[0;34m]\u001b[0m\u001b[0;34m,\u001b[0m\u001b[0mdtype\u001b[0m\u001b[0;34m=\u001b[0m\u001b[0mnp\u001b[0m\u001b[0;34m.\u001b[0m\u001b[0mfloat64\u001b[0m\u001b[0;34m)\u001b[0m\u001b[0;34m\u001b[0m\u001b[0;34m\u001b[0m\u001b[0m\n\u001b[0m\u001b[1;32m     12\u001b[0m     \u001b[0;32mreturn\u001b[0m\u001b[0;34m(\u001b[0m\u001b[0moutput\u001b[0m\u001b[0;34m)\u001b[0m\u001b[0;34m\u001b[0m\u001b[0;34m\u001b[0m\u001b[0m\n",
            "\u001b[0;32m/usr/lib/python3.10/random.py\u001b[0m in \u001b[0;36mrandint\u001b[0;34m(self, a, b)\u001b[0m\n\u001b[1;32m    368\u001b[0m         \"\"\"\n\u001b[1;32m    369\u001b[0m \u001b[0;34m\u001b[0m\u001b[0m\n\u001b[0;32m--> 370\u001b[0;31m         \u001b[0;32mreturn\u001b[0m \u001b[0mself\u001b[0m\u001b[0;34m.\u001b[0m\u001b[0mrandrange\u001b[0m\u001b[0;34m(\u001b[0m\u001b[0ma\u001b[0m\u001b[0;34m,\u001b[0m \u001b[0mb\u001b[0m\u001b[0;34m+\u001b[0m\u001b[0;36m1\u001b[0m\u001b[0;34m)\u001b[0m\u001b[0;34m\u001b[0m\u001b[0;34m\u001b[0m\u001b[0m\n\u001b[0m\u001b[1;32m    371\u001b[0m \u001b[0;34m\u001b[0m\u001b[0m\n\u001b[1;32m    372\u001b[0m \u001b[0;34m\u001b[0m\u001b[0m\n",
            "\u001b[0;32m/usr/lib/python3.10/random.py\u001b[0m in \u001b[0;36mrandrange\u001b[0;34m(self, start, stop, step)\u001b[0m\n\u001b[1;32m    351\u001b[0m             \u001b[0;32mif\u001b[0m \u001b[0mwidth\u001b[0m \u001b[0;34m>\u001b[0m \u001b[0;36m0\u001b[0m\u001b[0;34m:\u001b[0m\u001b[0;34m\u001b[0m\u001b[0;34m\u001b[0m\u001b[0m\n\u001b[1;32m    352\u001b[0m                 \u001b[0;32mreturn\u001b[0m \u001b[0mistart\u001b[0m \u001b[0;34m+\u001b[0m \u001b[0mself\u001b[0m\u001b[0;34m.\u001b[0m\u001b[0m_randbelow\u001b[0m\u001b[0;34m(\u001b[0m\u001b[0mwidth\u001b[0m\u001b[0;34m)\u001b[0m\u001b[0;34m\u001b[0m\u001b[0;34m\u001b[0m\u001b[0m\n\u001b[0;32m--> 353\u001b[0;31m             \u001b[0;32mraise\u001b[0m \u001b[0mValueError\u001b[0m\u001b[0;34m(\u001b[0m\u001b[0;34m\"empty range for randrange() (%d, %d, %d)\"\u001b[0m \u001b[0;34m%\u001b[0m \u001b[0;34m(\u001b[0m\u001b[0mistart\u001b[0m\u001b[0;34m,\u001b[0m \u001b[0mistop\u001b[0m\u001b[0;34m,\u001b[0m \u001b[0mwidth\u001b[0m\u001b[0;34m)\u001b[0m\u001b[0;34m)\u001b[0m\u001b[0;34m\u001b[0m\u001b[0;34m\u001b[0m\u001b[0m\n\u001b[0m\u001b[1;32m    354\u001b[0m \u001b[0;34m\u001b[0m\u001b[0m\n\u001b[1;32m    355\u001b[0m         \u001b[0;31m# Non-unit step argument supplied.\u001b[0m\u001b[0;34m\u001b[0m\u001b[0;34m\u001b[0m\u001b[0m\n",
            "\u001b[0;31mValueError\u001b[0m: empty range for randrange() (17, -16, -33)"
          ]
        }
      ],
      "source": [
        "noisy_test = SingleExperiment(growth_pat_len=4,noise=True)\n",
        "noisy_test.get_result()"
      ]
    },
    {
      "cell_type": "code",
      "execution_count": 148,
      "metadata": {
        "colab": {
          "base_uri": "https://localhost:8080/",
          "height": 1000
        },
        "id": "C8nrCKzXUMKn",
        "outputId": "1eb724f5-d0f7-4953-bcc0-e9aff2da0d86"
      },
      "outputs": [
        {
          "output_type": "stream",
          "name": "stdout",
          "text": [
            "Simulation terminated early. Zero schools left.\n",
            "WARNING: HISTORY TERMINATED EARLY\n",
            "Simulation terminated early. Zero schools left.\n",
            "WARNING: HISTORY TERMINATED EARLY\n",
            "Simulation terminated early. Zero schools left.\n",
            "WARNING: HISTORY TERMINATED EARLY\n",
            "                r2  pct_budgetary  pct_performant  decision_length\n",
            "count  2401.000000    2401.000000     2401.000000      2401.000000\n",
            "mean      0.783766       0.973533        0.520270         6.966681\n",
            "std       0.184797       0.122457        0.246213         6.435039\n",
            "min      -0.361945       0.244186        0.000000         1.000000\n",
            "25%       0.723593       1.000000        0.364706         3.500000\n",
            "50%       0.839063       1.000000        0.541176         6.000000\n",
            "75%       0.900163       1.000000        0.705882         9.000000\n",
            "max       0.999909       1.000000        0.976471        48.000000\n",
            "                            OLS Regression Results                            \n",
            "==============================================================================\n",
            "Dep. Variable:         pct_performant   R-squared:                       0.755\n",
            "Model:                            OLS   Adj. R-squared:                  0.753\n",
            "Method:                 Least Squares   F-statistic:                     305.6\n",
            "Date:                Thu, 05 Dec 2024   Prob (F-statistic):               0.00\n",
            "Time:                        02:19:54   Log-Likelihood:                 1648.7\n",
            "No. Observations:                2401   AIC:                            -3247.\n",
            "Df Residuals:                    2376   BIC:                            -3103.\n",
            "Df Model:                          24                                         \n",
            "Covariance Type:            nonrobust                                         \n",
            "==============================================================================\n",
            "                 coef    std err          t      P>|t|      [0.025      0.975]\n",
            "------------------------------------------------------------------------------\n",
            "Intercept      0.5155      0.012     41.268      0.000       0.491       0.540\n",
            "C(p0)[T.1]    -0.3288      0.009    -35.179      0.000      -0.347      -0.310\n",
            "C(p0)[T.2]    -0.1222      0.009    -13.077      0.000      -0.141      -0.104\n",
            "C(p0)[T.3]     0.0645      0.009      6.899      0.000       0.046       0.083\n",
            "C(p0)[T.4]     0.0951      0.009     10.179      0.000       0.077       0.113\n",
            "C(p0)[T.5]     0.0738      0.009      7.900      0.000       0.056       0.092\n",
            "C(p0)[T.6]     0.0768      0.009      8.212      0.000       0.058       0.095\n",
            "C(p1)[T.1]    -0.1671      0.009    -17.881      0.000      -0.185      -0.149\n",
            "C(p1)[T.2]    -0.1999      0.009    -21.388      0.000      -0.218      -0.182\n",
            "C(p1)[T.3]     0.0883      0.009      9.442      0.000       0.070       0.107\n",
            "C(p1)[T.4]     0.0913      0.009      9.768      0.000       0.073       0.110\n",
            "C(p1)[T.5]     0.0686      0.009      7.339      0.000       0.050       0.087\n",
            "C(p1)[T.6]     0.0787      0.009      8.418      0.000       0.060       0.097\n",
            "C(p2)[T.1]    -0.0806      0.009     -8.620      0.000      -0.099      -0.062\n",
            "C(p2)[T.2]    -0.1455      0.009    -15.568      0.000      -0.164      -0.127\n",
            "C(p2)[T.3]     0.1019      0.009     10.898      0.000       0.084       0.120\n",
            "C(p2)[T.4]     0.0772      0.009      8.260      0.000       0.059       0.096\n",
            "C(p2)[T.5]     0.0855      0.009      9.148      0.000       0.067       0.104\n",
            "C(p2)[T.6]     0.0610      0.009      6.528      0.000       0.043       0.079\n",
            "C(p3)[T.1]    -0.0418      0.009     -4.473      0.000      -0.060      -0.023\n",
            "C(p3)[T.2]    -0.1013      0.009    -10.837      0.000      -0.120      -0.083\n",
            "C(p3)[T.3]     0.0820      0.009      8.777      0.000       0.064       0.100\n",
            "C(p3)[T.4]     0.0535      0.009      5.722      0.000       0.035       0.072\n",
            "C(p3)[T.5]     0.0649      0.009      6.946      0.000       0.047       0.083\n",
            "C(p3)[T.6]     0.0578      0.009      6.180      0.000       0.039       0.076\n",
            "==============================================================================\n",
            "Omnibus:                      133.583   Durbin-Watson:                   0.937\n",
            "Prob(Omnibus):                  0.000   Jarque-Bera (JB):              165.615\n",
            "Skew:                          -0.549   Prob(JB):                     1.09e-36\n",
            "Kurtosis:                       3.670   Cond. No.                         10.5\n",
            "==============================================================================\n",
            "\n",
            "Notes:\n",
            "[1] Standard Errors assume that the covariance matrix of the errors is correctly specified.\n",
            "              df     sum_sq   mean_sq           F         PR(>F)\n",
            "C(p0)        6.0  49.663730  8.277288  552.402574   0.000000e+00\n",
            "C(p1)        6.0  32.480116  5.413353  361.271692   0.000000e+00\n",
            "C(p2)        6.0  18.393681  3.065613  204.590281  1.063131e-210\n",
            "C(p3)        6.0   9.350149  1.558358  104.000373  1.491904e-116\n",
            "Residual  2376.0  35.602363  0.014984         NaN            NaN\n"
          ]
        },
        {
          "output_type": "execute_result",
          "data": {
            "text/plain": [
              "r2                 0.839063\n",
              "pct_budgetary      1.000000\n",
              "pct_performant     0.541176\n",
              "decision_length    6.000000\n",
              "dtype: float64"
            ],
            "text/html": [
              "<div>\n",
              "<style scoped>\n",
              "    .dataframe tbody tr th:only-of-type {\n",
              "        vertical-align: middle;\n",
              "    }\n",
              "\n",
              "    .dataframe tbody tr th {\n",
              "        vertical-align: top;\n",
              "    }\n",
              "\n",
              "    .dataframe thead th {\n",
              "        text-align: right;\n",
              "    }\n",
              "</style>\n",
              "<table border=\"1\" class=\"dataframe\">\n",
              "  <thead>\n",
              "    <tr style=\"text-align: right;\">\n",
              "      <th></th>\n",
              "      <th>0</th>\n",
              "    </tr>\n",
              "  </thead>\n",
              "  <tbody>\n",
              "    <tr>\n",
              "      <th>r2</th>\n",
              "      <td>0.839063</td>\n",
              "    </tr>\n",
              "    <tr>\n",
              "      <th>pct_budgetary</th>\n",
              "      <td>1.000000</td>\n",
              "    </tr>\n",
              "    <tr>\n",
              "      <th>pct_performant</th>\n",
              "      <td>0.541176</td>\n",
              "    </tr>\n",
              "    <tr>\n",
              "      <th>decision_length</th>\n",
              "      <td>6.000000</td>\n",
              "    </tr>\n",
              "  </tbody>\n",
              "</table>\n",
              "</div><br><label><b>dtype:</b> float64</label>"
            ]
          },
          "metadata": {},
          "execution_count": 148
        }
      ],
      "source": [
        "a01_test = SingleExperiment(set_alpha=0.1, growth_pat_len=4)\n",
        "a01_test.get_result()"
      ]
    },
    {
      "cell_type": "code",
      "execution_count": 149,
      "metadata": {
        "colab": {
          "base_uri": "https://localhost:8080/",
          "height": 651
        },
        "id": "cfnqHJ73UMKn",
        "outputId": "89c05241-1d58-4857-8090-da9c7fe0213e"
      },
      "outputs": [
        {
          "output_type": "stream",
          "name": "stdout",
          "text": [
            "Simulation terminated early. Zero schools left.\n",
            "WARNING: HISTORY TERMINATED EARLY\n",
            "Simulation terminated early. Zero schools left.\n",
            "WARNING: HISTORY TERMINATED EARLY\n",
            "Simulation terminated early. Zero schools left.\n",
            "WARNING: HISTORY TERMINATED EARLY\n",
            "Simulation terminated early. Zero schools left.\n",
            "WARNING: HISTORY TERMINATED EARLY\n",
            "Simulation terminated early. Zero schools left.\n",
            "WARNING: HISTORY TERMINATED EARLY\n",
            "Simulation terminated early. Zero schools left.\n",
            "WARNING: HISTORY TERMINATED EARLY\n",
            "Simulation terminated early. Zero schools left.\n",
            "WARNING: HISTORY TERMINATED EARLY\n",
            "Simulation terminated early. Zero schools left.\n",
            "WARNING: HISTORY TERMINATED EARLY\n",
            "Simulation terminated early. Zero schools left.\n",
            "WARNING: HISTORY TERMINATED EARLY\n",
            "Simulation terminated early. Zero schools left.\n",
            "WARNING: HISTORY TERMINATED EARLY\n"
          ]
        },
        {
          "output_type": "error",
          "ename": "ValueError",
          "evalue": "empty range for randrange() (14, -13, -27)",
          "traceback": [
            "\u001b[0;31m---------------------------------------------------------------------------\u001b[0m",
            "\u001b[0;31mValueError\u001b[0m                                Traceback (most recent call last)",
            "\u001b[0;32m<ipython-input-149-6d94e2048247>\u001b[0m in \u001b[0;36m<cell line: 2>\u001b[0;34m()\u001b[0m\n\u001b[1;32m      1\u001b[0m \u001b[0mna01_test\u001b[0m \u001b[0;34m=\u001b[0m \u001b[0mSingleExperiment\u001b[0m\u001b[0;34m(\u001b[0m\u001b[0mgrowth_pat_len\u001b[0m\u001b[0;34m=\u001b[0m\u001b[0;36m4\u001b[0m\u001b[0;34m,\u001b[0m \u001b[0mset_alpha\u001b[0m\u001b[0;34m=\u001b[0m\u001b[0;36m0.1\u001b[0m\u001b[0;34m,\u001b[0m \u001b[0mnoise\u001b[0m\u001b[0;34m=\u001b[0m\u001b[0;32mTrue\u001b[0m\u001b[0;34m)\u001b[0m\u001b[0;34m\u001b[0m\u001b[0;34m\u001b[0m\u001b[0m\n\u001b[0;32m----> 2\u001b[0;31m \u001b[0mna01_test\u001b[0m\u001b[0;34m.\u001b[0m\u001b[0mget_result\u001b[0m\u001b[0;34m(\u001b[0m\u001b[0;34m)\u001b[0m\u001b[0;34m\u001b[0m\u001b[0;34m\u001b[0m\u001b[0m\n\u001b[0m",
            "\u001b[0;32m<ipython-input-145-2884d3033528>\u001b[0m in \u001b[0;36mget_result\u001b[0;34m(self)\u001b[0m\n\u001b[1;32m     14\u001b[0m \u001b[0;34m\u001b[0m\u001b[0m\n\u001b[1;32m     15\u001b[0m     \u001b[0;32mdef\u001b[0m \u001b[0mget_result\u001b[0m\u001b[0;34m(\u001b[0m\u001b[0mself\u001b[0m\u001b[0;34m)\u001b[0m\u001b[0;34m:\u001b[0m\u001b[0;34m\u001b[0m\u001b[0;34m\u001b[0m\u001b[0m\n\u001b[0;32m---> 16\u001b[0;31m         \u001b[0mself\u001b[0m\u001b[0;34m.\u001b[0m\u001b[0mrun\u001b[0m\u001b[0;34m(\u001b[0m\u001b[0;34m)\u001b[0m\u001b[0;34m\u001b[0m\u001b[0;34m\u001b[0m\u001b[0m\n\u001b[0m\u001b[1;32m     17\u001b[0m         \u001b[0;32mreturn\u001b[0m \u001b[0mself\u001b[0m\u001b[0;34m.\u001b[0m\u001b[0mcore_res\u001b[0m\u001b[0;34m\u001b[0m\u001b[0;34m\u001b[0m\u001b[0m\n\u001b[1;32m     18\u001b[0m \u001b[0;34m\u001b[0m\u001b[0m\n",
            "\u001b[0;32m<ipython-input-145-2884d3033528>\u001b[0m in \u001b[0;36mrun\u001b[0;34m(self)\u001b[0m\n\u001b[1;32m      9\u001b[0m     \u001b[0;32mdef\u001b[0m \u001b[0mrun\u001b[0m\u001b[0;34m(\u001b[0m\u001b[0mself\u001b[0m\u001b[0;34m)\u001b[0m\u001b[0;34m:\u001b[0m\u001b[0;34m\u001b[0m\u001b[0;34m\u001b[0m\u001b[0m\n\u001b[1;32m     10\u001b[0m         \u001b[0mself\u001b[0m\u001b[0;34m.\u001b[0m\u001b[0mname\u001b[0m \u001b[0;34m=\u001b[0m \u001b[0;34mf\"gpl:{self.growth_pat_len};noise:{self.noise};A:{self.set_alpha}\"\u001b[0m\u001b[0;34m\u001b[0m\u001b[0;34m\u001b[0m\u001b[0m\n\u001b[0;32m---> 11\u001b[0;31m         self.result = run_experiment(growth_pat_len=self.growth_pat_len, \n\u001b[0m\u001b[1;32m     12\u001b[0m                        noise=self.noise, set_alpha=self.set_alpha, plot=self.plot)\n\u001b[1;32m     13\u001b[0m         \u001b[0mself\u001b[0m\u001b[0;34m.\u001b[0m\u001b[0mcore_res\u001b[0m \u001b[0;34m=\u001b[0m \u001b[0mself\u001b[0m\u001b[0;34m.\u001b[0m\u001b[0mresult\u001b[0m\u001b[0;34m[\u001b[0m\u001b[0;36m0\u001b[0m\u001b[0;34m]\u001b[0m\u001b[0;34m[\u001b[0m\u001b[0;34m[\u001b[0m\u001b[0;34m'r2'\u001b[0m\u001b[0;34m,\u001b[0m \u001b[0;34m'pct_budgetary'\u001b[0m\u001b[0;34m,\u001b[0m \u001b[0;34m'pct_performant'\u001b[0m\u001b[0;34m,\u001b[0m\u001b[0;34m'decision_length'\u001b[0m\u001b[0;34m]\u001b[0m\u001b[0;34m]\u001b[0m\u001b[0;34m.\u001b[0m\u001b[0mmedian\u001b[0m\u001b[0;34m(\u001b[0m\u001b[0;34m)\u001b[0m\u001b[0;34m\u001b[0m\u001b[0;34m\u001b[0m\u001b[0m\n",
            "\u001b[0;32m<ipython-input-144-89feb691de9b>\u001b[0m in \u001b[0;36mrun_experiment\u001b[0;34m(growth_pat_len, noise, set_alpha, plot)\u001b[0m\n\u001b[1;32m      9\u001b[0m         \u001b[0mgrowth_pats\u001b[0m \u001b[0;34m=\u001b[0m  \u001b[0;34m[\u001b[0m\u001b[0mint\u001b[0m\u001b[0;34m(\u001b[0m\u001b[0my\u001b[0m\u001b[0;34m)\u001b[0m \u001b[0;32mfor\u001b[0m \u001b[0my\u001b[0m \u001b[0;32min\u001b[0m \u001b[0mpat\u001b[0m\u001b[0;34m]\u001b[0m\u001b[0;34m\u001b[0m\u001b[0;34m\u001b[0m\u001b[0m\n\u001b[1;32m     10\u001b[0m         \u001b[0;31m# print(growth_pats)\u001b[0m\u001b[0;34m\u001b[0m\u001b[0;34m\u001b[0m\u001b[0m\n\u001b[0;32m---> 11\u001b[0;31m         \u001b[0mlocal_res\u001b[0m \u001b[0;34m=\u001b[0m \u001b[0mindividual_replicate\u001b[0m\u001b[0;34m(\u001b[0m\u001b[0mgrowth_patterns\u001b[0m \u001b[0;34m=\u001b[0m\u001b[0mgrowth_pats\u001b[0m\u001b[0;34m,\u001b[0m \u001b[0mis_noisy\u001b[0m\u001b[0;34m=\u001b[0m\u001b[0mnoise\u001b[0m\u001b[0;34m,\u001b[0m \u001b[0malphas\u001b[0m\u001b[0;34m=\u001b[0m\u001b[0malphas_\u001b[0m\u001b[0;34m)\u001b[0m\u001b[0;34m\u001b[0m\u001b[0;34m\u001b[0m\u001b[0m\n\u001b[0m\u001b[1;32m     12\u001b[0m         \u001b[0mexp_result\u001b[0m\u001b[0;34m[\u001b[0m\u001b[0mlocal_name\u001b[0m\u001b[0;34m]\u001b[0m \u001b[0;34m=\u001b[0m \u001b[0mlocal_res\u001b[0m\u001b[0;34m\u001b[0m\u001b[0;34m\u001b[0m\u001b[0m\n\u001b[1;32m     13\u001b[0m \u001b[0;34m\u001b[0m\u001b[0m\n",
            "\u001b[0;32m<ipython-input-142-07e302d652a8>\u001b[0m in \u001b[0;36mindividual_replicate\u001b[0;34m(SampleSize, ratio, growth_patterns, is_noisy, alphas)\u001b[0m\n\u001b[1;32m     14\u001b[0m         \u001b[0msimSchool\u001b[0m\u001b[0;34m.\u001b[0m\u001b[0malphas\u001b[0m \u001b[0;34m=\u001b[0m \u001b[0malphas\u001b[0m\u001b[0;34m\u001b[0m\u001b[0;34m\u001b[0m\u001b[0m\n\u001b[1;32m     15\u001b[0m     \u001b[0mschool_results\u001b[0m \u001b[0;34m=\u001b[0m \u001b[0;34m{\u001b[0m\u001b[0;34m}\u001b[0m\u001b[0;34m\u001b[0m\u001b[0;34m\u001b[0m\u001b[0m\n\u001b[0;32m---> 16\u001b[0;31m     \u001b[0msimSchool\u001b[0m\u001b[0;34m.\u001b[0m\u001b[0msimulate_full_history\u001b[0m\u001b[0;34m(\u001b[0m\u001b[0mset_history\u001b[0m\u001b[0;34m=\u001b[0m\u001b[0mgrowth_patterns\u001b[0m\u001b[0;34m)\u001b[0m\u001b[0;34m\u001b[0m\u001b[0;34m\u001b[0m\u001b[0m\n\u001b[0m\u001b[1;32m     17\u001b[0m     \u001b[0msimSchool\u001b[0m\u001b[0;34m.\u001b[0m\u001b[0mmake_construction_decisions\u001b[0m\u001b[0;34m(\u001b[0m\u001b[0mdebug\u001b[0m\u001b[0;34m=\u001b[0m\u001b[0;32mFalse\u001b[0m\u001b[0;34m)\u001b[0m\u001b[0;34m\u001b[0m\u001b[0;34m\u001b[0m\u001b[0m\n\u001b[1;32m     18\u001b[0m     \u001b[0mschool_results\u001b[0m\u001b[0;34m[\u001b[0m\u001b[0;34m'r2'\u001b[0m\u001b[0;34m]\u001b[0m \u001b[0;34m=\u001b[0m \u001b[0msimSchool\u001b[0m\u001b[0;34m.\u001b[0m\u001b[0mpredictive_accuracy\u001b[0m\u001b[0;34m(\u001b[0m\u001b[0;34m)\u001b[0m\u001b[0;34m\u001b[0m\u001b[0;34m\u001b[0m\u001b[0m\n",
            "\u001b[0;32m<ipython-input-129-f508864b65d7>\u001b[0m in \u001b[0;36msimulate_full_history\u001b[0;34m(self, to_debug, set_history)\u001b[0m\n\u001b[1;32m     35\u001b[0m         \u001b[0;31m# first step in the simulation--initialize the population history\u001b[0m\u001b[0;34m\u001b[0m\u001b[0;34m\u001b[0m\u001b[0m\n\u001b[1;32m     36\u001b[0m         \u001b[0mself\u001b[0m\u001b[0;34m.\u001b[0m\u001b[0mlen_history\u001b[0m \u001b[0;34m=\u001b[0m \u001b[0mself\u001b[0m\u001b[0;34m.\u001b[0m\u001b[0mn_periods\u001b[0m \u001b[0;34m*\u001b[0m \u001b[0mself\u001b[0m\u001b[0;34m.\u001b[0m\u001b[0mgrowth_period\u001b[0m\u001b[0;34m\u001b[0m\u001b[0;34m\u001b[0m\u001b[0m\n\u001b[0;32m---> 37\u001b[0;31m         self.history=simulate_history(start_value=self.NStudents,\n\u001b[0m\u001b[1;32m     38\u001b[0m                                       \u001b[0mtotal_years\u001b[0m\u001b[0;34m=\u001b[0m\u001b[0mself\u001b[0m\u001b[0;34m.\u001b[0m\u001b[0mlen_history\u001b[0m\u001b[0;34m,\u001b[0m\u001b[0;34m\u001b[0m\u001b[0;34m\u001b[0m\u001b[0m\n\u001b[1;32m     39\u001b[0m                                       \u001b[0mperiod_length\u001b[0m\u001b[0;34m=\u001b[0m\u001b[0mself\u001b[0m\u001b[0;34m.\u001b[0m\u001b[0mgrowth_period\u001b[0m\u001b[0;34m,\u001b[0m\u001b[0;34m\u001b[0m\u001b[0;34m\u001b[0m\u001b[0m\n",
            "\u001b[0;32m<ipython-input-125-4c1403f2ce18>\u001b[0m in \u001b[0;36msimulate_history\u001b[0;34m(start_value, total_years, period_length, debug, noisy, set_history)\u001b[0m\n\u001b[1;32m     14\u001b[0m \u001b[0;34m\u001b[0m\u001b[0m\n\u001b[1;32m     15\u001b[0m         \u001b[0mlochg\u001b[0m \u001b[0;34m=\u001b[0m \u001b[0mhistory\u001b[0m\u001b[0;34m[\u001b[0m\u001b[0m_\u001b[0m\u001b[0;34m]\u001b[0m\u001b[0;34m[\u001b[0m\u001b[0mperiod_length\u001b[0m\u001b[0;34m-\u001b[0m\u001b[0;36m1\u001b[0m\u001b[0;34m]\u001b[0m\u001b[0;34m\u001b[0m\u001b[0;34m\u001b[0m\u001b[0m\n\u001b[0;32m---> 16\u001b[0;31m         \u001b[0mlocfun\u001b[0m \u001b[0;34m=\u001b[0m \u001b[0mlist\u001b[0m\u001b[0;34m(\u001b[0m\u001b[0mgrowthPats\u001b[0m\u001b[0;34m.\u001b[0m\u001b[0mvalues\u001b[0m\u001b[0;34m(\u001b[0m\u001b[0;34m)\u001b[0m\u001b[0;34m)\u001b[0m\u001b[0;34m[\u001b[0m\u001b[0mlocidx\u001b[0m\u001b[0;34m]\u001b[0m\u001b[0;34m(\u001b[0m\u001b[0mstart_value\u001b[0m\u001b[0;34m=\u001b[0m\u001b[0mlochg\u001b[0m\u001b[0;34m,\u001b[0m \u001b[0mn_years\u001b[0m\u001b[0;34m=\u001b[0m\u001b[0mperiod_length\u001b[0m\u001b[0;34m)\u001b[0m\u001b[0;34m\u001b[0m\u001b[0;34m\u001b[0m\u001b[0m\n\u001b[0m\u001b[1;32m     17\u001b[0m         \u001b[0mlocal_h\u001b[0m \u001b[0;34m=\u001b[0m \u001b[0mnp\u001b[0m\u001b[0;34m.\u001b[0m\u001b[0msqueeze\u001b[0m\u001b[0;34m(\u001b[0m\u001b[0mlocfun\u001b[0m\u001b[0;34m)\u001b[0m\u001b[0;34m\u001b[0m\u001b[0;34m\u001b[0m\u001b[0m\n\u001b[1;32m     18\u001b[0m         \u001b[0;32mif\u001b[0m \u001b[0mnoisy\u001b[0m\u001b[0;34m:\u001b[0m\u001b[0;34m\u001b[0m\u001b[0;34m\u001b[0m\u001b[0m\n",
            "\u001b[0;32m<ipython-input-118-e6b470e67ee5>\u001b[0m in \u001b[0;36mflat_with_noise\u001b[0;34m(start_value, n_years, chgrat, const_change)\u001b[0m\n\u001b[1;32m      9\u001b[0m     \u001b[0mdmin\u001b[0m \u001b[0;34m=\u001b[0m \u001b[0mint\u001b[0m\u001b[0;34m(\u001b[0m\u001b[0;34m-\u001b[0m\u001b[0;36m1\u001b[0m\u001b[0;34m*\u001b[0m\u001b[0mchgsize\u001b[0m\u001b[0;34m)\u001b[0m\u001b[0;34m\u001b[0m\u001b[0;34m\u001b[0m\u001b[0m\n\u001b[1;32m     10\u001b[0m     \u001b[0mdmax\u001b[0m \u001b[0;34m=\u001b[0m \u001b[0mint\u001b[0m\u001b[0;34m(\u001b[0m\u001b[0mchgsize\u001b[0m\u001b[0;34m)\u001b[0m\u001b[0;34m\u001b[0m\u001b[0;34m\u001b[0m\u001b[0m\n\u001b[0;32m---> 11\u001b[0;31m     \u001b[0moutput\u001b[0m \u001b[0;34m+=\u001b[0m \u001b[0mnp\u001b[0m\u001b[0;34m.\u001b[0m\u001b[0marray\u001b[0m\u001b[0;34m(\u001b[0m\u001b[0;34m[\u001b[0m\u001b[0mrandint\u001b[0m\u001b[0;34m(\u001b[0m\u001b[0mdmin\u001b[0m\u001b[0;34m,\u001b[0m \u001b[0mdmax\u001b[0m\u001b[0;34m)\u001b[0m \u001b[0;32mfor\u001b[0m \u001b[0mx\u001b[0m \u001b[0;32min\u001b[0m \u001b[0mrange\u001b[0m\u001b[0;34m(\u001b[0m\u001b[0mn_years\u001b[0m\u001b[0;34m)\u001b[0m\u001b[0;34m]\u001b[0m\u001b[0;34m,\u001b[0m\u001b[0mdtype\u001b[0m\u001b[0;34m=\u001b[0m\u001b[0mnp\u001b[0m\u001b[0;34m.\u001b[0m\u001b[0mfloat64\u001b[0m\u001b[0;34m)\u001b[0m\u001b[0;34m\u001b[0m\u001b[0;34m\u001b[0m\u001b[0m\n\u001b[0m\u001b[1;32m     12\u001b[0m     \u001b[0;32mreturn\u001b[0m\u001b[0;34m(\u001b[0m\u001b[0moutput\u001b[0m\u001b[0;34m)\u001b[0m\u001b[0;34m\u001b[0m\u001b[0;34m\u001b[0m\u001b[0m\n",
            "\u001b[0;32m<ipython-input-118-e6b470e67ee5>\u001b[0m in \u001b[0;36m<listcomp>\u001b[0;34m(.0)\u001b[0m\n\u001b[1;32m      9\u001b[0m     \u001b[0mdmin\u001b[0m \u001b[0;34m=\u001b[0m \u001b[0mint\u001b[0m\u001b[0;34m(\u001b[0m\u001b[0;34m-\u001b[0m\u001b[0;36m1\u001b[0m\u001b[0;34m*\u001b[0m\u001b[0mchgsize\u001b[0m\u001b[0;34m)\u001b[0m\u001b[0;34m\u001b[0m\u001b[0;34m\u001b[0m\u001b[0m\n\u001b[1;32m     10\u001b[0m     \u001b[0mdmax\u001b[0m \u001b[0;34m=\u001b[0m \u001b[0mint\u001b[0m\u001b[0;34m(\u001b[0m\u001b[0mchgsize\u001b[0m\u001b[0;34m)\u001b[0m\u001b[0;34m\u001b[0m\u001b[0;34m\u001b[0m\u001b[0m\n\u001b[0;32m---> 11\u001b[0;31m     \u001b[0moutput\u001b[0m \u001b[0;34m+=\u001b[0m \u001b[0mnp\u001b[0m\u001b[0;34m.\u001b[0m\u001b[0marray\u001b[0m\u001b[0;34m(\u001b[0m\u001b[0;34m[\u001b[0m\u001b[0mrandint\u001b[0m\u001b[0;34m(\u001b[0m\u001b[0mdmin\u001b[0m\u001b[0;34m,\u001b[0m \u001b[0mdmax\u001b[0m\u001b[0;34m)\u001b[0m \u001b[0;32mfor\u001b[0m \u001b[0mx\u001b[0m \u001b[0;32min\u001b[0m \u001b[0mrange\u001b[0m\u001b[0;34m(\u001b[0m\u001b[0mn_years\u001b[0m\u001b[0;34m)\u001b[0m\u001b[0;34m]\u001b[0m\u001b[0;34m,\u001b[0m\u001b[0mdtype\u001b[0m\u001b[0;34m=\u001b[0m\u001b[0mnp\u001b[0m\u001b[0;34m.\u001b[0m\u001b[0mfloat64\u001b[0m\u001b[0;34m)\u001b[0m\u001b[0;34m\u001b[0m\u001b[0;34m\u001b[0m\u001b[0m\n\u001b[0m\u001b[1;32m     12\u001b[0m     \u001b[0;32mreturn\u001b[0m\u001b[0;34m(\u001b[0m\u001b[0moutput\u001b[0m\u001b[0;34m)\u001b[0m\u001b[0;34m\u001b[0m\u001b[0;34m\u001b[0m\u001b[0m\n",
            "\u001b[0;32m/usr/lib/python3.10/random.py\u001b[0m in \u001b[0;36mrandint\u001b[0;34m(self, a, b)\u001b[0m\n\u001b[1;32m    368\u001b[0m         \"\"\"\n\u001b[1;32m    369\u001b[0m \u001b[0;34m\u001b[0m\u001b[0m\n\u001b[0;32m--> 370\u001b[0;31m         \u001b[0;32mreturn\u001b[0m \u001b[0mself\u001b[0m\u001b[0;34m.\u001b[0m\u001b[0mrandrange\u001b[0m\u001b[0;34m(\u001b[0m\u001b[0ma\u001b[0m\u001b[0;34m,\u001b[0m \u001b[0mb\u001b[0m\u001b[0;34m+\u001b[0m\u001b[0;36m1\u001b[0m\u001b[0;34m)\u001b[0m\u001b[0;34m\u001b[0m\u001b[0;34m\u001b[0m\u001b[0m\n\u001b[0m\u001b[1;32m    371\u001b[0m \u001b[0;34m\u001b[0m\u001b[0m\n\u001b[1;32m    372\u001b[0m \u001b[0;34m\u001b[0m\u001b[0m\n",
            "\u001b[0;32m/usr/lib/python3.10/random.py\u001b[0m in \u001b[0;36mrandrange\u001b[0;34m(self, start, stop, step)\u001b[0m\n\u001b[1;32m    351\u001b[0m             \u001b[0;32mif\u001b[0m \u001b[0mwidth\u001b[0m \u001b[0;34m>\u001b[0m \u001b[0;36m0\u001b[0m\u001b[0;34m:\u001b[0m\u001b[0;34m\u001b[0m\u001b[0;34m\u001b[0m\u001b[0m\n\u001b[1;32m    352\u001b[0m                 \u001b[0;32mreturn\u001b[0m \u001b[0mistart\u001b[0m \u001b[0;34m+\u001b[0m \u001b[0mself\u001b[0m\u001b[0;34m.\u001b[0m\u001b[0m_randbelow\u001b[0m\u001b[0;34m(\u001b[0m\u001b[0mwidth\u001b[0m\u001b[0;34m)\u001b[0m\u001b[0;34m\u001b[0m\u001b[0;34m\u001b[0m\u001b[0m\n\u001b[0;32m--> 353\u001b[0;31m             \u001b[0;32mraise\u001b[0m \u001b[0mValueError\u001b[0m\u001b[0;34m(\u001b[0m\u001b[0;34m\"empty range for randrange() (%d, %d, %d)\"\u001b[0m \u001b[0;34m%\u001b[0m \u001b[0;34m(\u001b[0m\u001b[0mistart\u001b[0m\u001b[0;34m,\u001b[0m \u001b[0mistop\u001b[0m\u001b[0;34m,\u001b[0m \u001b[0mwidth\u001b[0m\u001b[0;34m)\u001b[0m\u001b[0;34m)\u001b[0m\u001b[0;34m\u001b[0m\u001b[0;34m\u001b[0m\u001b[0m\n\u001b[0m\u001b[1;32m    354\u001b[0m \u001b[0;34m\u001b[0m\u001b[0m\n\u001b[1;32m    355\u001b[0m         \u001b[0;31m# Non-unit step argument supplied.\u001b[0m\u001b[0;34m\u001b[0m\u001b[0;34m\u001b[0m\u001b[0m\n",
            "\u001b[0;31mValueError\u001b[0m: empty range for randrange() (14, -13, -27)"
          ]
        }
      ],
      "source": [
        "na01_test = SingleExperiment(growth_pat_len=4, set_alpha=0.1, noise=True)\n",
        "na01_test.get_result()"
      ]
    },
    {
      "cell_type": "code",
      "execution_count": null,
      "metadata": {
        "id": "uVkxBzisUMKn"
      },
      "outputs": [],
      "source": [
        "a09_test = SingleExperiment(growth_pat_len=4, set_alpha=0.9)\n",
        "a09_test.get_result()"
      ]
    },
    {
      "cell_type": "code",
      "execution_count": null,
      "metadata": {
        "id": "G-e4wX_8UMKn"
      },
      "outputs": [],
      "source": [
        "na09_test = SingleExperiment(growth_pat_len=4, set_alpha=0.9, noise=True,plot=True)\n",
        "na09_test.get_result()"
      ]
    },
    {
      "cell_type": "code",
      "execution_count": null,
      "metadata": {
        "id": "aeCkhyvwUMKn"
      },
      "outputs": [],
      "source": [
        "{x.name:x.core_res for x in [initial_class_test, noisy_test, a01_test, a09_test, na01_test, na09_test]}\n"
      ]
    },
    {
      "cell_type": "code",
      "source": [
        "initial_class_test.name"
      ],
      "metadata": {
        "id": "qjHCtc4dcymj"
      },
      "execution_count": null,
      "outputs": []
    },
    {
      "cell_type": "markdown",
      "metadata": {
        "id": "NwbkGv3CUMKn"
      },
      "source": [
        "# Discounting and predictive accuracy\n",
        "- In benefit-cost analysis, the process of discounting involves converting \"each future dollar \\[or util\\] amount into equivalent future dollars\" (Weitzman, 2001),\n",
        "- Discounting depends on a 'discount rate' $d$ a number, generally between 0 and 1, that reflects the proportion by which money would have to grow annually for an agent to be indifferent between having money now and having money in the future; a discount rate of 5\\% means that an agent considers receiving a benefit of \\\\$100 now to be equivalent with one of \\\\$105, received in one year.\n",
        "- A high discount rate corresponds to an expected low value of money in the future relative to now, and can reflect uncertainty.\n",
        "- The higher the discount rate, the less important predictive accuracy is to decision-making*: if the discount rate is such that the required future value is much greater than the predictive accuracy, there is no point in predicting--future money is so worthless to the agent . For example, in an autoregressive predictive model, say that $y_{t+1} = \\beta y_t + \\varepsilon$, where $0<\\beta<1$ and $\\varepsilon$ is Gaussian with mean 0 and variance 1; then, if $d = 11$,  the prediction cannot help the agent make a decision.\n",
        "\n",
        "* for models that don't extrapolate beyond existing data or that have narrow bounds on their trends."
      ]
    },
    {
      "cell_type": "markdown",
      "metadata": {
        "id": "avE5SbIzUMKo"
      },
      "source": [
        "# Future Directions\n",
        "- Common Core of Data API\n",
        "- Gittins index agents\n",
        "- Process controllers (PID, feed-forward, ...?)"
      ]
    },
    {
      "cell_type": "markdown",
      "metadata": {
        "id": "Z5JydkDoUMKo"
      },
      "source": [
        "# Test Functions\n",
        "- all that's needed for testing to make sense is that the shape of the prediction match the shape of the growth curve--I think I can use the FTES or other theory to show that smooth transitions can be well-followed and that EWMA should be able to be useful for maintaining a ratio."
      ]
    },
    {
      "cell_type": "markdown",
      "metadata": {
        "id": "N-egRL_pUMKo"
      },
      "source": [
        "Key questions:\n",
        "- Are there \"close\" conditions under which predictive accuracy makes the difference between success and failure?\n",
        "- Is there an empirical relationship between discounting and predictive accuracy?\n",
        "- Does scaling make a difference?"
      ]
    },
    {
      "cell_type": "code",
      "execution_count": null,
      "metadata": {
        "id": "2ZiINkHmUMKo"
      },
      "outputs": [],
      "source": []
    },
    {
      "cell_type": "code",
      "execution_count": null,
      "metadata": {
        "id": "EwfFaIHdUMKo"
      },
      "outputs": [],
      "source": []
    }
  ],
  "metadata": {
    "colab": {
      "provenance": []
    },
    "kernelspec": {
      "display_name": "Python 3 (ipykernel)",
      "language": "python",
      "name": "python3"
    },
    "language_info": {
      "codemirror_mode": {
        "name": "ipython",
        "version": 3
      },
      "file_extension": ".py",
      "mimetype": "text/x-python",
      "name": "python",
      "nbconvert_exporter": "python",
      "pygments_lexer": "ipython3",
      "version": "3.12.4"
    }
  },
  "nbformat": 4,
  "nbformat_minor": 0
}