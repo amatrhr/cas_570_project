{
 "cells": [
  {
   "cell_type": "code",
   "execution_count": 36,
   "metadata": {},
   "outputs": [],
   "source": [
    "import numpy as np\n",
    "import matplotlib.pyplot as plt\n",
    "import pandas as pd\n",
    "from random import randint\n",
    "from functools import partial\n",
    "# Basic parameters\n"
   ]
  },
  {
   "cell_type": "code",
   "execution_count": 37,
   "metadata": {},
   "outputs": [],
   "source": [
    "def flat_with_noise(n_year=5, chgsize=50):\n",
    "    # function to produce a level change\n",
    "    dmin = int(-1*chgsize)\n",
    "    dmax = int(chgsize)\n",
    "    return([randint(dmin, dmax) for x in range(n_year)])"
   ]
  },
  {
   "cell_type": "code",
   "execution_count": 38,
   "metadata": {},
   "outputs": [],
   "source": [
    "def impulse(n_year=5, impyr=2, chgsize=50,impsign=1):\n",
    "    # function to produce an impulsive change \n",
    "    out = [0 for x in range(n_year)]\n",
    "    out[impyr] = impsign*chgsize \n",
    "    return(out)"
   ]
  },
  {
   "cell_type": "code",
   "execution_count": 39,
   "metadata": {},
   "outputs": [],
   "source": [
    "def cvx_change(n_years=5,alpha=0.75,chgsign=1, chgsize=50):\n",
    "    #function to produce convex change \n",
    "    # i.e. change where the time series of population falls below the line connecting any two \n",
    "    # points on the time series, i.e. alpha*exp(t) or alpha*exp(n_years - t)\n",
    "    out = np.linspace(1,n_years,n_years)/n_years\n",
    "    if chgsign > 0:\n",
    "        output = alpha*np.exp(out)\n",
    "        \n",
    "    else:\n",
    "        # handle the negative case \n",
    "        output = alpha*np.exp(n_years - out)\n",
    "        \n",
    "    output =  1.0 - (max(output)-output)/(max(output) - min(output))\n",
    "    return(chgsize*output)"
   ]
  },
  {
   "cell_type": "code",
   "execution_count": 40,
   "metadata": {},
   "outputs": [],
   "source": [
    "def ccv_change(n_years=5,alpha=0.75,chgsign=1, chgsize=50):\n",
    "    #function to produce convex change \n",
    "    # i.e. change where the time series of population falls below the line connecting any two \n",
    "    # points on the time series, i.e. alpha*exp(t) or alpha*exp(n_years - t)\n",
    "    out = np.linspace(1,n_years,n_years)/n_years\n",
    "    if chgsign < 0:\n",
    "        output = alpha*np.exp(out)\n",
    "        \n",
    "    else:\n",
    "        # handle the positive case \n",
    "        output = alpha*np.exp(n_years - out)\n",
    "        \n",
    "    output = (max(output)-output)/(max(output) - min(output))\n",
    "    return(chgsize*output)"
   ]
  },
  {
   "cell_type": "code",
   "execution_count": 41,
   "metadata": {},
   "outputs": [],
   "source": [
    "\n",
    "sscRat = 100\n",
    "tolerance = (-0.5, 0.25)\n",
    "Alphas = np.linspace(.1,1,10)\n",
    "pselect = [0.1 for x in Alphas]\n",
    "growthPats = {'flat':flat_with_noise, \n",
    "              'impUp':impulse, \n",
    "              'impDn':partial(impulse, impsign=-1), \n",
    "              'cvxUp':cvx_change, \n",
    "              'cvxDn':partial(cvx_change, chgsign=-1),\n",
    "              'ccvUp':ccv_change,\n",
    "              'ccvDn':partial(ccv_change, chgsign=-1)\n",
    "              }\n",
    "NSchool = 11\n",
    "len_history = 50"
   ]
  },
  {
   "cell_type": "code",
   "execution_count": 42,
   "metadata": {},
   "outputs": [],
   "source": [
    "def simulate_history(start_value=50, total_years=50, period_length=5):\n",
    "    history = []\n",
    "    # need to add functionality to smooth the transitions \n",
    "    for _, tp in enumerate(range(total_years//period_length)):\n",
    "        locidx = randint(0,len(growthPats)-1)\n",
    "        # locidx = 3\n",
    "        print(f\"starting history {locidx}, a/k/a {repr(list(growthPats.values())[locidx])}\")\n",
    "        \n",
    "        lochg = history[_-1][-1] if _ > 0 else start_value\n",
    "\n",
    "        \n",
    "        locfun = list(growthPats.values())[locidx](chgsize=lochg) + lochg\n",
    "        local_h = np.squeeze(locfun)\n",
    "        local_h = local_h[1:len(local_h) + 1]\n",
    "        print(local_h)\n",
    "        history.append(local_h)\n",
    "        print(\"____\")\n",
    "\n",
    "    out = np.diff(np.hstack(history))\n",
    "    sendout = [x for _, x in enumerate(out) if _ > 0 and x > 0 ]\n",
    "    return sendout "
   ]
  },
  {
   "cell_type": "code",
   "execution_count": 43,
   "metadata": {},
   "outputs": [
    {
     "name": "stdout",
     "output_type": "stream",
     "text": [
      "starting history 3, a/k/a <function cvx_change at 0x000001904F90B880>\n",
      "[4722.62868751 5605.24935955 6683.28468279 8000.        ]\n",
      "____\n",
      "starting history 0, a/k/a <function flat_with_noise at 0x000001904F90AB60>\n",
      "[11336. 11351. 11547. 11050.]\n",
      "____\n",
      "starting history 1, a/k/a <function impulse at 0x000001904F909DA0>\n",
      "[11050. 22100. 11050. 11050.]\n",
      "____\n",
      "starting history 1, a/k/a <function impulse at 0x000001904F909DA0>\n",
      "[11050. 22100. 11050. 11050.]\n",
      "____\n",
      "starting history 6, a/k/a functools.partial(<function ccv_change at 0x000001904F908400>, chgsign=-1)\n",
      "[20103.73825077 17665.49864424 14687.42606378 11050.        ]\n",
      "____\n",
      "starting history 5, a/k/a <function ccv_change at 0x000001904F908400>\n",
      "[14687.42606378 17665.49864424 20103.73825077 22100.        ]\n",
      "____\n",
      "starting history 6, a/k/a functools.partial(<function ccv_change at 0x000001904F908400>, chgsign=-1)\n",
      "[40207.47650153 35330.99728849 29374.85212756 22100.        ]\n",
      "____\n",
      "starting history 2, a/k/a functools.partial(<function impulse at 0x000001904F909DA0>, impsign=-1)\n",
      "[22100.     0. 22100. 22100.]\n",
      "____\n",
      "starting history 5, a/k/a <function ccv_change at 0x000001904F908400>\n",
      "[29374.85212756 35330.99728849 40207.47650153 44200.        ]\n",
      "____\n",
      "starting history 5, a/k/a <function ccv_change at 0x000001904F908400>\n",
      "[58749.70425512 70661.99457697 80414.95300307 88400.        ]\n",
      "____\n"
     ]
    },
    {
     "data": {
      "text/plain": [
       "[<matplotlib.lines.Line2D at 0x190500505f0>]"
      ]
     },
     "execution_count": 43,
     "metadata": {},
     "output_type": "execute_result"
    },
    {
     "data": {
      "image/png": "[encoded data removed]",
      "text/plain": [
       "<Figure size 640x480 with 1 Axes>"
      ]
     },
     "metadata": {},
     "output_type": "display_data"
    }
   ],
   "source": [
    "plt.plot(simulate_history(start_value=4000))"
   ]
  },
  {
   "cell_type": "code",
   "execution_count": 44,
   "metadata": {},
   "outputs": [
    {
     "name": "stdout",
     "output_type": "stream",
     "text": [
      "starting history 3, a/k/a <function cvx_change at 0x000001904F90B880>\n",
      "[ 59.03285859  70.06561699  83.54105853 100.        ]\n",
      "____\n",
      "starting history 5, a/k/a <function ccv_change at 0x000001904F908400>\n",
      "[132.91788293 159.86876601 181.93428281 200.        ]\n",
      "____\n",
      "starting history 1, a/k/a <function impulse at 0x000001904F909DA0>\n",
      "[200. 400. 200. 200.]\n",
      "____\n",
      "starting history 2, a/k/a functools.partial(<function impulse at 0x000001904F909DA0>, impsign=-1)\n",
      "[200.   0. 200. 200.]\n",
      "____\n",
      "starting history 2, a/k/a functools.partial(<function impulse at 0x000001904F909DA0>, impsign=-1)\n",
      "[200.   0. 200. 200.]\n",
      "____\n",
      "starting history 6, a/k/a functools.partial(<function ccv_change at 0x000001904F908400>, chgsign=-1)\n",
      "[363.86856562 319.73753202 265.83576586 200.        ]\n",
      "____\n",
      "starting history 3, a/k/a <function cvx_change at 0x000001904F90B880>\n",
      "[236.13143438 280.26246798 334.16423414 400.        ]\n",
      "____\n",
      "starting history 0, a/k/a <function flat_with_noise at 0x000001904F90AB60>\n",
      "[332. 343. 715. 163.]\n",
      "____\n",
      "starting history 2, a/k/a functools.partial(<function impulse at 0x000001904F909DA0>, impsign=-1)\n",
      "[163.   0. 163. 163.]\n",
      "____\n",
      "starting history 3, a/k/a <function cvx_change at 0x000001904F90B880>\n",
      "[192.44711902 228.4139114  272.34385082 326.        ]\n",
      "____\n"
     ]
    }
   ],
   "source": [
    "JJ = simulate_history()"
   ]
  }
 ],
 "metadata": {
  "kernelspec": {
   "display_name": "Python 3",
   "language": "python",
   "name": "python3"
  },
  "language_info": {
   "codemirror_mode": {
    "name": "ipython",
    "version": 3
   },
   "file_extension": ".py",
   "mimetype": "text/x-python",
   "name": "python",
   "nbconvert_exporter": "python",
   "pygments_lexer": "ipython3",
   "version": "3.12.4"
  }
 },
 "nbformat": 4,
 "nbformat_minor": 2
}
