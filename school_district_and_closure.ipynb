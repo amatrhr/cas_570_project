{
 "cells": [
  {
   "cell_type": "code",
   "execution_count": 110,
   "metadata": {},
   "outputs": [],
   "source": [
    "import numpy as np\n",
    "import matplotlib.pyplot as plt\n",
    "import pandas as pd\n",
    "from random import randint\n",
    "from functools import partial\n",
    "# Basic parameters\n"
   ]
  },
  {
   "cell_type": "code",
   "execution_count": 111,
   "metadata": {},
   "outputs": [],
   "source": [
    "def flat_with_noise(n_year=5, chgsize=50):\n",
    "    # function to produce a level change\n",
    "    dmin = -1*chgsize\n",
    "    dmax = chgsize\n",
    "    return([randint(dmin, dmax) for x in range(n_year)])"
   ]
  },
  {
   "cell_type": "code",
   "execution_count": 112,
   "metadata": {},
   "outputs": [],
   "source": [
    "def impulse(n_year=5, impyr=2, chgsize=50,impsign=1):\n",
    "    # function to produce an impulsive change \n",
    "    out = [0 for x in range(n_year)]\n",
    "    out[impyr] = impsign*chgsize \n",
    "    return(out)"
   ]
  },
  {
   "cell_type": "code",
   "execution_count": 113,
   "metadata": {},
   "outputs": [],
   "source": [
    "def cvx_change(n_years=5,alpha=0.75,chgsign=1, chgsize=50):\n",
    "    #function to produce convex change \n",
    "    # i.e. change where the time series of population falls below the line connecting any two \n",
    "    # points on the time series, i.e. alpha*exp(t) or alpha*exp(n_years - t)\n",
    "    out = np.linspace(1,n_years,n_years)/n_years\n",
    "    if chgsign > 0:\n",
    "        output = alpha*np.exp(out)\n",
    "        \n",
    "    else:\n",
    "        # handle the negative case \n",
    "        output = alpha*np.exp(n_years - out)\n",
    "        \n",
    "    output =  1.0 - (max(output)-output)/(max(output) - min(output))\n",
    "    return(chgsize*output)"
   ]
  },
  {
   "cell_type": "code",
   "execution_count": 114,
   "metadata": {},
   "outputs": [],
   "source": [
    "def ccv_change(n_years=5,alpha=0.75,chgsign=1, chgsize=50):\n",
    "    #function to produce convex change \n",
    "    # i.e. change where the time series of population falls below the line connecting any two \n",
    "    # points on the time series, i.e. alpha*exp(t) or alpha*exp(n_years - t)\n",
    "    out = np.linspace(1,n_years,n_years)/n_years\n",
    "    if chgsign < 0:\n",
    "        output = alpha*np.exp(out)\n",
    "        \n",
    "    else:\n",
    "        # handle the positive case \n",
    "        output = alpha*np.exp(n_years - out)\n",
    "        \n",
    "    output = (max(output)-output)/(max(output) - min(output))\n",
    "    return(chgsize*output)"
   ]
  },
  {
   "cell_type": "code",
   "execution_count": 115,
   "metadata": {},
   "outputs": [],
   "source": [
    "\n",
    "sscRat = 100\n",
    "tolerance = (-0.5, 0.25)\n",
    "Alphas = np.linspace(.1,1,10)\n",
    "pselect = [0.1 for x in Alphas]\n",
    "growthPats = {'flat':flat_with_noise, \n",
    "              'impUp':impulse, \n",
    "              'impDn':partial(impulse, impsign=-1), \n",
    "              'cvxUp':cvx_change, \n",
    "              'cvxDn':partial(cvx_change, chgsign=-1),\n",
    "              'ccvUp':ccv_change,\n",
    "              'ccvDn':partial(ccv_change, chgsign=-1)\n",
    "              }\n",
    "NSchool = 11\n",
    "len_history = 50"
   ]
  },
  {
   "cell_type": "code",
   "execution_count": 150,
   "metadata": {},
   "outputs": [],
   "source": [
    "def simulate_history(total_years=50, period_length=5):\n",
    "    history = []\n",
    "    # need to add functionality to smooth the transitions \n",
    "    for _, tp in enumerate(range(total_years//period_length)):\n",
    "        locidx = randint(0,len(growthPats)-1)\n",
    "        #locidx = 3\n",
    "      \n",
    "        \n",
    "        lochg = history[_-1][-1] if _ > 0 else 50\n",
    "\n",
    "        \n",
    "        locfun = list(growthPats.values())[locidx](chgsize=lochg) + lochg\n",
    "        print(np.squeeze(locfun))\n",
    "        history.append(np.squeeze(locfun))\n",
    "        print(\"____\")\n",
    "\n",
    "    out = np.diff(np.hstack(history))\n",
    "    sendout = [x for _, x in enumerate(out) if _ > 0 and x > 0 ]\n",
    "    return sendout "
   ]
  },
  {
   "cell_type": "code",
   "execution_count": 153,
   "metadata": {},
   "outputs": [
    {
     "ename": "TypeError",
     "evalue": "can only concatenate list (not \"int\") to list",
     "output_type": "error",
     "traceback": [
      "\u001b[1;31m---------------------------------------------------------------------------\u001b[0m",
      "\u001b[1;31mTypeError\u001b[0m                                 Traceback (most recent call last)",
      "Cell \u001b[1;32mIn[153], line 1\u001b[0m\n\u001b[1;32m----> 1\u001b[0m plt\u001b[38;5;241m.\u001b[39mplot(simulate_history())\n",
      "Cell \u001b[1;32mIn[150], line 12\u001b[0m, in \u001b[0;36msimulate_history\u001b[1;34m(total_years, period_length)\u001b[0m\n\u001b[0;32m      6\u001b[0m \u001b[38;5;66;03m#locidx = 3\u001b[39;00m\n\u001b[0;32m      9\u001b[0m lochg \u001b[38;5;241m=\u001b[39m history[_\u001b[38;5;241m-\u001b[39m\u001b[38;5;241m1\u001b[39m][\u001b[38;5;241m-\u001b[39m\u001b[38;5;241m1\u001b[39m] \u001b[38;5;28;01mif\u001b[39;00m _ \u001b[38;5;241m>\u001b[39m \u001b[38;5;241m0\u001b[39m \u001b[38;5;28;01melse\u001b[39;00m \u001b[38;5;241m50\u001b[39m\n\u001b[1;32m---> 12\u001b[0m locfun \u001b[38;5;241m=\u001b[39m \u001b[38;5;28mlist\u001b[39m(growthPats\u001b[38;5;241m.\u001b[39mvalues())[locidx](chgsize\u001b[38;5;241m=\u001b[39mlochg) \u001b[38;5;241m+\u001b[39m lochg\n\u001b[0;32m     13\u001b[0m \u001b[38;5;28mprint\u001b[39m(np\u001b[38;5;241m.\u001b[39msqueeze(locfun))\n\u001b[0;32m     14\u001b[0m history\u001b[38;5;241m.\u001b[39mappend(np\u001b[38;5;241m.\u001b[39msqueeze(locfun))\n",
      "\u001b[1;31mTypeError\u001b[0m: can only concatenate list (not \"int\") to list"
     ]
    }
   ],
   "source": [
    "plt.plot(simulate_history())"
   ]
  },
  {
   "cell_type": "code",
   "execution_count": 146,
   "metadata": {},
   "outputs": [
    {
     "name": "stdout",
     "output_type": "stream",
     "text": [
      "[ 50.          59.03285859  70.06561699  83.54105853 100.        ]\n",
      "____\n",
      "[100.         118.06571719 140.13123399 167.08211707 200.        ]\n",
      "____\n",
      "[200.         236.13143438 280.26246798 334.16423414 400.        ]\n",
      "____\n",
      "[400.         472.26286875 560.52493596 668.32846828 800.        ]\n",
      "____\n",
      "[ 800.          944.5257375  1121.04987191 1336.65693656 1600.        ]\n",
      "____\n",
      "[1600.         1889.051475   2242.09974382 2673.31387312 3200.        ]\n",
      "____\n",
      "[3200.         3778.10295    4484.19948764 5346.62774624 6400.        ]\n",
      "____\n",
      "[ 6400.          7556.20590001  8968.39897528 10693.25549247\n",
      " 12800.        ]\n",
      "____\n",
      "[12800.         15112.41180002 17936.79795056 21386.51098494\n",
      " 25600.        ]\n",
      "____\n",
      "[25600.         30224.82360003 35873.59590112 42773.02196989\n",
      " 51200.        ]\n",
      "____\n"
     ]
    },
    {
     "ename": "TypeError",
     "evalue": "can only concatenate list (not \"int\") to list",
     "output_type": "error",
     "traceback": [
      "\u001b[1;31m---------------------------------------------------------------------------\u001b[0m",
      "\u001b[1;31mTypeError\u001b[0m                                 Traceback (most recent call last)",
      "Cell \u001b[1;32mIn[146], line 1\u001b[0m\n\u001b[1;32m----> 1\u001b[0m JJ \u001b[38;5;241m=\u001b[39m simulate_history()\u001b[38;5;241m+\u001b[39m\u001b[38;5;241m1000\u001b[39m\n",
      "\u001b[1;31mTypeError\u001b[0m: can only concatenate list (not \"int\") to list"
     ]
    }
   ],
   "source": [
    "JJ = simulate_history()+1000"
   ]
  },
  {
   "cell_type": "code",
   "execution_count": 147,
   "metadata": {},
   "outputs": [
    {
     "data": {
      "text/plain": [
       "9"
      ]
     },
     "execution_count": 147,
     "metadata": {},
     "output_type": "execute_result"
    }
   ],
   "source": [
    "55//6\n"
   ]
  },
  {
   "cell_type": "code",
   "execution_count": 139,
   "metadata": {},
   "outputs": [
    {
     "data": {
      "text/plain": [
       "array([1009.03285859, 1011.0327584 , 1013.47544154, 1016.45894147,\n",
       "       1000.        , 1018.06571719, 1022.0655168 , 1026.95088308,\n",
       "       1032.91788293, 1000.        , 1036.13143438, 1044.1310336 ,\n",
       "       1053.90176616, 1065.83576586, 1000.        , 1072.26286875,\n",
       "       1088.2620672 , 1107.80353232, 1131.67153172, 1000.        ,\n",
       "       1144.5257375 , 1176.52413441, 1215.60706465, 1263.34306344,\n",
       "       1000.        , 1289.051475  , 1353.04826882, 1431.2141293 ,\n",
       "       1526.68612688, 1000.        , 1578.10295   , 1706.09653764,\n",
       "       1862.4282586 , 2053.37225376, 1000.        , 2156.20590001,\n",
       "       2412.19307527, 2724.85651719, 3106.74450753, 1000.        ,\n",
       "       3312.41180002, 3824.38615054, 4449.71303438, 5213.48901506,\n",
       "       1000.        , 5624.82360003, 6648.77230109, 7899.42606877,\n",
       "       9426.97803011])"
      ]
     },
     "execution_count": 139,
     "metadata": {},
     "output_type": "execute_result"
    }
   ],
   "source": [
    "JJ"
   ]
  },
  {
   "cell_type": "code",
   "execution_count": null,
   "metadata": {},
   "outputs": [],
   "source": []
  }
 ],
 "metadata": {
  "kernelspec": {
   "display_name": "Python 3 (ipykernel)",
   "language": "python",
   "name": "python3"
  },
  "language_info": {
   "codemirror_mode": {
    "name": "ipython",
    "version": 3
   },
   "file_extension": ".py",
   "mimetype": "text/x-python",
   "name": "python",
   "nbconvert_exporter": "python",
   "pygments_lexer": "ipython3",
   "version": "3.12.4"
  }
 },
 "nbformat": 4,
 "nbformat_minor": 2
}
