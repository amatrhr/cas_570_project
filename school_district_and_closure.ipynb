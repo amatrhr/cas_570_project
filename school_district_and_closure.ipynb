{
  "cells": [
    {
      "cell_type": "markdown",
      "metadata": {
        "id": "C-66kaUPR6nK"
      },
      "source": [
        "# Contents\n",
        "* [Overview](#Overview)\n",
        "* [Imports](#Library-Imports)\n",
        "* [Helper Functions](#Helper-Functions)\n",
        "* [The `SchoolDistrict` Class](#The-SchoolDistrict-Class)\n",
        "* [Example](#An-Example)"
      ]
    },
    {
      "cell_type": "markdown",
      "metadata": {
        "id": "2uS4KpSfR6nM"
      },
      "source": [
        "# Overview\n",
        "This project asks how, when faced with uncertain enrollment trends and a need to maintain a proper assignment of resources to students, a school district might set a fair resource policy by maintaining a tolerable student-to-resource ratio, for example, maintaining a certain student-to-school ratio $R$, for example 200 students in each school.\n",
        "\n",
        "I will address this question by using a two-agent simulation of school openings and closings in a single school district, played out over 50 to 100 time steps (\"school years\"). One agent represents the population of public school students, which undergoes random demographic variation across years. The other agent represents the policy-making body of the district, which attempts to maintain a tolerable student-to-school ratio in the face of these demographic changes by using historical data to predict the change in enrollment at the end of each school year and opening or closing schools in response. The district administration agent will update its prediction-making method based on whether its predictions have led to good decisions (maintaining a tolerable student-to-school ratio) or poor ones (failure to maintain the ratio).\n",
        "\n",
        "## Conceptual implementation\n",
        "I will simulate uncertain patterns of student demographic change within an individual school district; for each five-year period, the student population will (randomly) undergo either convex growth/decline, concave growth/decline, a one-time impulse of sudden inflow or outflow during the third year, or will remain flat (with uniform noise).\n",
        "\n",
        "![](https://github.com/amatrhr/cas_570_project/blob/main/logo.png?raw=1)\n",
        "\n",
        "### Agent Behavior: District Administration\n",
        "During every simulated summer, the district administration will predict the change in number of students enrolled by using an exponentially weighted moving average (EWMA) of previous year-over-year changes, then will use the prediction as a basis for action. EWMA predictions depend on a single smoothing parameter, $\\alpha;\\; 0<\\alpha\\leq1$ and larger $\\alpha$ corresponds to emphasizing recent observations when predicting; see (https://otexts.com/fpp3/expsmooth.html).\n",
        "\n",
        "The district will choose $\\alpha$ randomly from the set $A = \\left\\{0.1,\\,0.2,\\,\\dots,\\,0.9, 1\\right\\}$, using the 10-vector of selection probabilities $\\vec{p}$. At first, each $\\alpha$ in $A$ has the same probability of being selected; each element of $\\vec{p}$ is 0.1. The district will learn from its policy choice and will increase those $p_i$ that have led to predictions that led to good decisions and decrease others, a process based on the adaptive agent-specific autoregressive predictions of Arthur, 1994 (https://www.jstor.org/stable/2117868) (my model is much simpler; the reference is a multi-agent simulation in which agents compete for resources based on their predictions).\n",
        "\n",
        "The district administration has a pre-set tolerance to violations of the student-to-school ratio; for example, if the tolerance interval is $T_\\text{min}=-50\\%$ to $T_\\text{max}=25\\%$ and the desired ratio, $R$, is 200 students per school, a predicted enrollment change resulting in $\\hat{R}<100$ or $\\hat{R}>250$ students per school is out-of-tolerance.\n",
        "If the predicted number of students would lead to an out-of-tolerance student-to-school ratio, the number of schools will be adjusted up or down to be just within tolerance."
      ]
    },
    {
      "cell_type": "markdown",
      "metadata": {
        "id": "3TSf3FjkR6nN"
      },
      "source": [
        "# Library Imports"
      ]
    },
    {
      "cell_type": "code",
      "execution_count": null,
      "metadata": {
        "id": "7lXsWH69R6nO"
      },
      "outputs": [],
      "source": [
        "# modeling tools\n",
        "import numpy as np\n",
        "import matplotlib.pyplot as plt\n",
        "import pandas as pd\n",
        "import statsmodels.api as sm\n",
        "from copy import deepcopy\n",
        "from random import randint, choice\n",
        "from statsmodels.tsa.api import  SimpleExpSmoothing\n",
        "from statsmodels.formula.api import ols\n",
        "from statsmodels.stats.api import anova_lm\n",
        "\n",
        "# programming and optimization tools\n",
        "# import ipdb\n",
        "from collections import Counter\n",
        "from dataclasses import dataclass, field\n",
        "from functools import partial\n",
        "from itertools import product\n",
        "from scipy.optimize import minimize_scalar\n",
        "from scipy.stats import linregress\n",
        "\n",
        "\n",
        "# parameters for the notebook itself\n",
        "%matplotlib inline"
      ]
    },
    {
      "cell_type": "markdown",
      "metadata": {
        "id": "yt_DxV_NR6nO"
      },
      "source": [
        "# Helper Functions"
      ]
    },
    {
      "cell_type": "code",
      "execution_count": null,
      "metadata": {
        "id": "4AOSKLacR6nP"
      },
      "outputs": [],
      "source": [
        "def minmax_scale(data:np.array)->np.array:\n",
        "    # function to scale a variable between 1 and 0, where 1 corresponds to its max value\n",
        "    data = np.nan_to_num(data,0)\n",
        "    vs_min = data - np.min(data)\n",
        "    mmrange = np.max(data) - np.min(data) if np.max(data) != np.min(data) else 1\n",
        "    scaled = vs_min / mmrange\n",
        "    return scaled"
      ]
    },
    {
      "cell_type": "code",
      "execution_count": null,
      "metadata": {
        "id": "zNuMy2MRR6nP"
      },
      "outputs": [],
      "source": [
        "def dbl_SEWMA(data:pd.Series, alpha:float)->dict:\n",
        "    # fits a simple exponential smoothing model with fixed alpha to a dataset\n",
        "    # used by simulated school (districts) to predict enrollment\n",
        "    ## Arguments\n",
        "    # data: univariate time series\n",
        "    # alpha: exponential smoothing parameter, between 0 and 1\n",
        "    ## Returns\n",
        "    # dictionary containing the sum of squared errors and statsmodels time series model\n",
        "    #TODO: fix initialization to use as few years as possible--this can only be done with \"known\" initial trend and level\n",
        "    mod1 = SimpleExpSmoothing(data, initialization_method=\"heuristic\").fit(smoothing_level=alpha, optimized=False)\n",
        "    return {'sse':mod1.sse, 'mod':mod1}\n"
      ]
    },
    {
      "cell_type": "code",
      "execution_count": null,
      "metadata": {
        "id": "ZEG-Hhw_R6nP"
      },
      "outputs": [],
      "source": [
        "def flat_with_noise(start_value:float=10.0, n_years:int=5, chgrat:float=0.20, const_change:float=None)->np.array:\n",
        "    # generates a set of simulated enrollments that vary due to having noise\n",
        "    ## Arguments\n",
        "    ##\n",
        "    ## Returns\n",
        "    # np array of e\n",
        "    output = np.zeros(n_years) + start_value\n",
        "    chgsize = chgrat*start_value if const_change is None else const_change\n",
        "    dmin = int(-1*chgsize)\n",
        "    dmax = int(chgsize)\n",
        "    output += np.array([randint(dmin, dmax) for x in range(n_years)],dtype=np.float64)\n",
        "    return(output)"
      ]
    },
    {
      "cell_type": "code",
      "execution_count": null,
      "metadata": {
        "id": "Ih43moqmR6nP"
      },
      "outputs": [],
      "source": [
        "def impulse(start_value:float=10., n_years:int=5, impyr:int=2, chgrat:float=.670, impsign:int=1):\n",
        "    # function to produce an impulsive change\n",
        "    chgsize = chgrat*start_value\n",
        "    out = np.array([start_value for x in range(n_years)],dtype=np.float64)\n",
        "    out[impyr:n_years] = impsign*chgsize +  out[impyr]\n",
        "    return(out)"
      ]
    },
    {
      "cell_type": "code",
      "execution_count": null,
      "metadata": {
        "id": "SbsV92zPR6nP"
      },
      "outputs": [],
      "source": [
        "def cvx_change(start_value=10., n_years=5, chgsign=1, chgrat=.20):\n",
        "    #function to produce convex change\n",
        "    # i.e. change where the time series of population falls below the line connecting any two\n",
        "    # points on the time series, i.e. alpha*exp(t) or alpha*exp(n_years - t)\n",
        "    chgsize = chgrat*start_value\n",
        "\n",
        "    alpha = np.exp(np.log(1+chgsign*chgrat)/n_years) - 1\n",
        "    output = start_value * np.power(1. + alpha, np.linspace(1,n_years,n_years))\n",
        "\n",
        "    return(output)"
      ]
    },
    {
      "cell_type": "code",
      "execution_count": null,
      "metadata": {
        "id": "HmOgWuB0UMKi"
      },
      "outputs": [],
      "source": [
        "def test_cvx_c_rat(start_value=10., n_years=5, chgsign=1, chgrat=.20, start_schools=5):\n",
        "    # Function to check a ratio control strategy under convex change\n",
        "    # ratio should be maintained if change in Nschools is proportional to the\n",
        "    # current number of schools (i.e. exponential growth in the same way\n",
        "\n",
        "    history = cvx_change(start_value=start_value, n_years=n_years, chgsign=chgsign, chgrat=chgrat)\n",
        "    school_growth = cvx_change(start_value=start_schools, n_years=n_years, chgsign=chgsign, chgrat=chgrat)\n",
        "    ratio = history/school_growth\n",
        "    testval = np.allclose(ratio, max(ratio)*np.ones(len(ratio)))\n",
        "    return testval"
      ]
    },
    {
      "cell_type": "code",
      "execution_count": null,
      "metadata": {
        "id": "mAF5NnKtUMKi",
        "outputId": "22f831d4-689a-40b4-bf4f-e2ed30b0f694"
      },
      "outputs": [
        {
          "data": {
            "text/plain": [
              "True"
            ]
          },
          "execution_count": 8,
          "metadata": {},
          "output_type": "execute_result"
        }
      ],
      "source": [
        "test_cvx_c_rat(n_years=99)"
      ]
    },
    {
      "cell_type": "code",
      "execution_count": null,
      "metadata": {
        "id": "9lUKyQE2R6nQ"
      },
      "outputs": [],
      "source": [
        "def ccv_change(start_value=10.,n_years=5,alpha=0.75,chgsign=1, chgrat=.20):\n",
        "    #function to produce convex change\n",
        "    # i.e. change where the time series of population falls below the line connecting any two\n",
        "    # points on the time series, i.e. alpha*exp(t) or alpha*exp(n_years - t)\n",
        "    adjust = 0.5*np.pi if chgsign < 0 else 0\n",
        "    out = np.linspace(0,0.5*np.pi, n_years+1)\n",
        "    out += adjust\n",
        "    maxi = (1+chgrat*chgsign)*start_value\n",
        "    mini = min(start_value, maxi)\n",
        "    maxi = max(start_value, maxi)\n",
        "    output = (maxi-mini)*np.sin(out) + mini\n",
        "    return(output[1:])"
      ]
    },
    {
      "cell_type": "code",
      "execution_count": null,
      "metadata": {
        "id": "I9ptX5yER6nQ"
      },
      "outputs": [],
      "source": [
        "# with individual growth patterns defined, store all in one easy-access place\n",
        "growthPats = {'flat':flat_with_noise,\n",
        "              'impUp':impulse,\n",
        "              'impDn':partial(impulse, impsign=-1),\n",
        "              'cvxUp':cvx_change,\n",
        "              'cvxDn':partial(cvx_change, chgsign=-1),\n",
        "              'ccvUp':ccv_change,\n",
        "              'ccvDn':partial(ccv_change, chgsign=-1)\n",
        "              }"
      ]
    },
    {
      "cell_type": "code",
      "execution_count": null,
      "metadata": {
        "id": "GtgLWanGR6nQ"
      },
      "outputs": [],
      "source": [
        "def simulate_history(start_value=50, total_years=50, period_length=5, debug=False, noisy=False, set_history:list=None):\n",
        "    # core function to generate a school (district's) population history\n",
        "\n",
        "    history = [[start_value for x in range(period_length)]]\n",
        "            # need to add functionality to smooth the transitions\n",
        "\n",
        "    if set_history is not None:\n",
        "        assert type(set_history) == list\n",
        "        # since we know it's a list, assert that the length of the list is correct\n",
        "        assert len(set_history) == total_years//period_length\n",
        "\n",
        "    for _, tp in enumerate(range(total_years//period_length)):\n",
        "        locidx = randint(0,len(growthPats)-1) if set_history is None else set_history[_] # there are 7 locidxs\n",
        "\n",
        "        lochg = history[_][period_length-1]\n",
        "        locfun = list(growthPats.values())[locidx](start_value=lochg, n_years=period_length)\n",
        "        local_h = np.squeeze(locfun)\n",
        "        if noisy:\n",
        "            local_h += np.squeeze(list(growthPats.values())[0](start_value=0., n_years=period_length, const_change=500.)) #TODO: use noise range ratio parameter\n",
        "\n",
        "        history.append(local_h)\n",
        "        if debug:\n",
        "            '''debug info that shows which growth pattern is used and prints\n",
        "               the starting value and simulated values for each multiyear\n",
        "            '''\n",
        "            print(f\"starting history {locidx}, a/k/a {repr(list(growthPats.values())[locidx])}\")\n",
        "            print(_)\n",
        "            print(lochg)\n",
        "            print(local_h)\n",
        "            print(\"____\")\n",
        "\n",
        "    out = np.floor(np.hstack(history)[period_length:])\n",
        "    #print(out)\n",
        "    return out # out[period_length:](why are we skipping the first period??)\n"
      ]
    },
    {
      "cell_type": "code",
      "execution_count": null,
      "metadata": {
        "id": "9qVEB2AaR6nQ"
      },
      "outputs": [],
      "source": [
        "def predict_from_history(schooldata:pd.Series,alpha_set:list=[0.1,0.5,0.7],years:int=5, random:bool=True)->dict:\n",
        "    # core function to use simple exponential smoothing\n",
        "\n",
        "    school_SEWMA = lambda a: dbl_SEWMA(data=schooldata, alpha=a)\n",
        "    fit_res = {}\n",
        "    models = {}\n",
        "    if random:\n",
        "        j = choice(alpha_set)\n",
        "        ssmwa = school_SEWMA(j)\n",
        "        fit_res[j] = ssmwa['sse']\n",
        "        models[j] = ssmwa['mod']\n",
        "    else:\n",
        "        for j in alpha_set:\n",
        "            # don't overwrite if there're multiples\n",
        "            if fit_res.get(j) is None:\n",
        "                ssmwa = school_SEWMA(j)\n",
        "                fit_res[j] = ssmwa['sse']\n",
        "                models[j] = ssmwa['mod']\n",
        "\n",
        "    fit_check = pd.Series(fit_res)\n",
        "    result = fit_check.index[fit_check.argmin()]\n",
        "    return {\"alpha_result\":result, \"prediction\":models[result].forecast(years),\"history\":models[result].fittedvalues}"
      ]
    },
    {
      "cell_type": "code",
      "execution_count": null,
      "metadata": {
        "id": "yeNLRC-tR6nQ"
      },
      "outputs": [],
      "source": [
        "def get_run_lengths(timeseries:np.array=np.array([1.,1.,1.,22,22.,22.,3.,4.,3.]))->list:\n",
        "    # give the number of time steps between school openings/closings\n",
        "    loct = np.diff(timeseries) # a run is the same as no differences betweeen an item and its predecessor in the array\n",
        "    loct[loct!=0] = 1 # so, each run of length l is l - 1 zeros--if we replace the nonzeros by ones, then we can count each run as a string of 0s\n",
        "    str_reps =  ''.join([str(x) for x in loct]).split(\"1\")  # convert to string, remove any characters that aren't '0's or '1's\n",
        "    rls = [len(x) + 1 for x in str_reps] # get lengths l from (l-1) s\n",
        "    assert sum(rls) == len(timeseries)\n",
        "    return rls"
      ]
    },
    {
      "cell_type": "code",
      "execution_count": null,
      "metadata": {
        "id": "KYwv3WBTR6nR"
      },
      "outputs": [],
      "source": [
        "def runlength_stats(rls:list)->dict:\n",
        "\n",
        "    # find run lengths of some metric (number schools, achieved ratios, etc), and their counts, averages and  standard deviations\n",
        "    assert len(rls) > 0\n",
        "    rl_count = Counter(rls)\n",
        "    rl_mean = np.mean(rls)\n",
        "    rl_std = np.std(rls)\n",
        "    rl_med = np.median(rls)\n",
        "    return {'counts':rl_count, 'mean':rl_mean, 'median':rl_med, 'stddev':rl_std}\n",
        "\n"
      ]
    },
    {
      "cell_type": "code",
      "execution_count": null,
      "metadata": {
        "id": "eNF3SBigUMKj"
      },
      "outputs": [],
      "source": []
    },
    {
      "cell_type": "code",
      "execution_count": null,
      "metadata": {
        "id": "uTZHSRFOUMKj"
      },
      "outputs": [],
      "source": []
    },
    {
      "cell_type": "code",
      "execution_count": null,
      "metadata": {
        "id": "IJ0C8LeCUMKj"
      },
      "outputs": [],
      "source": []
    },
    {
      "cell_type": "markdown",
      "metadata": {
        "id": "fQ0Y-mC9R6nR"
      },
      "source": [
        "# The SchoolDistrict Class"
      ]
    },
    {
      "cell_type": "code",
      "execution_count": null,
      "metadata": {
        "id": "5IVIs1tTR6nR"
      },
      "outputs": [],
      "source": [
        "@dataclass\n",
        "class SchoolDistrict:\n",
        "    # core simulation class: represents the history of a single school district\n",
        "    # BASIC SIMULATION PARAMETERS (CONSTANTS)\n",
        "    sscRat: int = 100 # student to school ratio\n",
        "    tolerance: tuple = (-0.5, 0.25) # tolerances for that ratio\n",
        "    alphas:tuple = tuple(np.linspace(0.1,0.9,9)) # starting set of exponential smoothing parameters\n",
        "    growth_period:int = 10 # number of years to follow a particular growth pattern\n",
        "    n_periods:int = 6 # number of growth periods to run the simulation\n",
        "    start_yr:int = 10 # year to begin forecasts\n",
        "    noisy:bool = False # add noise to trajectory?\n",
        "    school_lifetime:int = 30 # expected life of a school\n",
        "    school_open_cost:float = -9. # cost to open a school\n",
        "    school_close_cost:float = 1. # cost to close a school\n",
        "    school_fund_fraction:float = 0.01 # how many other schools should revenue above the cost of maintenance go to fund?\n",
        "    starting_fund_yrs:int = 2 # how many years of surplus to start with?\n",
        "    school_minimum_threshold:float = -50. # what value of budget means no construction and no closure?\n",
        "    interest_rate:float = 0.05 # how much is savings worth\n",
        "    loan_multiplier:float = 0.7 # how much smaller is the interest to be paid vs. interest on assets?\n",
        "    # BASIC SIMULATION PARAMETERS (VARIABLE)\n",
        "    NStudents:int = 1000 # initial number of students\n",
        "    pred_ratios: list = field(default_factory=list) # agent-predicted student/resource ratios\n",
        "    ach_ratios: list = field(default_factory=list) # achieved student/resource ratios\n",
        "    hist_alphas: list = field(default_factory=list)\n",
        "    predictions: list = field(default_factory=list)\n",
        "    hist_schools: list = field(default_factory=list)\n",
        "    hist_budget: list = field(default_factory=list)\n",
        "\n",
        "\n",
        "    #TODO: add BUDGET\n",
        "    #TODO: fix ufunc bug\n",
        "\n",
        "\n",
        "    def simulate_full_history(self,to_debug=False,set_history=None):\n",
        "        # first step in the simulation--initialize the population history\n",
        "        self.len_history = self.n_periods * self.growth_period\n",
        "        self.history=simulate_history(start_value=self.NStudents,\n",
        "                                      total_years=self.len_history,\n",
        "                                      period_length=self.growth_period,\n",
        "                                      noisy=self.noisy,\n",
        "                                      debug=to_debug,\n",
        "                                      set_history=set_history)\n",
        "\n",
        "    def make_construction_decisions(self,debug=True):\n",
        "        # at the end of every year, make a forecast and update alpha selection probabilities\n",
        "        self.NSchools = self.NStudents // (self.sscRat + self.tolerance[1])# initial number of schools--started to be near a phase transition\n",
        "        self.pselect = np.ones(len(self.alphas))/len(self.alphas) # selection probabilities for exponential smoothing parameters\n",
        "        self.funding_rate = (1. + self.school_fund_fraction)/(self.sscRat * self.school_lifetime)\n",
        "        last_alpha = 0.0 # initalize the most recent choice of exponential smoothing param\n",
        "        alpha_multiple, extra = 1, 1 #divmod(self.len_history - self.start_yr, 5*len(self.alphas)) # number of times to include an alpha in the list,\n",
        "        #--must guarantee that we won't run out of alphas\n",
        "        local_as = list(self.alphas)*alpha_multiple  + [choice(self.alphas) for x in range(extra)]\n",
        "        self.ach_ratios += list(np.zeros(self.start_yr-1))\n",
        "        self.predictions += list(np.zeros(self.start_yr))\n",
        "        self.pred_ratios += list(np.zeros(self.start_yr))\n",
        "        self.hist_alphas += list(np.zeros(self.start_yr))\n",
        "        self.hist_schools += list(np.ones(self.start_yr)*self.NSchools)\n",
        "        self.hist_budget += list(np.zeros(self.start_yr - 1)) + [self.starting_fund_yrs*self.funding_rate *self.NStudents*-1*self.school_open_cost]\n",
        "\n",
        "        for yr in range(self.start_yr, self.len_history):\n",
        "            if self.NSchools == 0:\n",
        "                print(\"Simulation terminated early. Zero schools left.\")\n",
        "                break\n",
        "\n",
        "            # calculate ratio (evaluate performance) and update list of smoothing params\n",
        "            local_achrat = self.history[yr-1]/self.NSchools # achieved ratio\n",
        "            self.ach_ratios.append(local_achrat)\n",
        "            self.hist_schools.append(self.NSchools)\n",
        "            local_diff = (local_achrat - self.sscRat)/self.sscRat # achieved difference from ideal\n",
        "            if yr > self.start_yr and last_alpha in local_as:\n",
        "                if local_diff > self.tolerance[1] and len(local_as) > 1: #achieved ratio too high\n",
        "                    local_as.remove(last_alpha)\n",
        "                elif local_diff < self.tolerance[0] and len(local_as) > 1: #achieved ratio too low\n",
        "                    local_as.remove(last_alpha)\n",
        "                else: # ratio ok--good prediction\n",
        "                    local_as.append(last_alpha)\n",
        "\n",
        "\n",
        "            # forecast\n",
        "            forecast_objs = predict_from_history(self.history[0:yr],years=1,alpha_set=local_as)\n",
        "            local_prat = forecast_objs['prediction'][0]/self.NSchools\n",
        "            self.hist_alphas.append(forecast_objs['alpha_result'])\n",
        "            last_alpha = forecast_objs['alpha_result']\n",
        "            local_ach_diff = (local_prat - self.sscRat)/self.sscRat# predicted difference from ideal\n",
        "            self.predictions.append(forecast_objs['prediction'][0])\n",
        "            self.pred_ratios.append(local_prat)\n",
        "\n",
        "            # update number of schools based on forecast\n",
        "\n",
        "            sch_change = np.round(self.NSchools*(local_ach_diff))\n",
        "\n",
        "            open_close_cost = self.school_open_cost*sch_change if sch_change > 0 else self.school_close_cost*sch_change\n",
        "            # print(f\"existing budget is ${self.hist_budget[-1]}, need  ${open_close_cost} for opening/closing. \")\n",
        "\n",
        "            if (self.hist_budget[-1] + open_close_cost) >= self.school_minimum_threshold:\n",
        "                self.NSchools = np.round(self.NSchools*(1 + local_ach_diff))\n",
        "            else: # can't afford to act\n",
        "                open_close_cost = 0.\n",
        "\n",
        "            interest =  self.hist_budget[-1]*self.interest_rate\n",
        "            if self.hist_budget[-1]:\n",
        "                interest *= self.loan_multiplier\n",
        "\n",
        "            budget_change = self.history[yr]*self.funding_rate + open_close_cost + interest\n",
        "            # print(f\"budget changing by ${budget_change}, including ${open_close_cost} for opening/closing. \")\n",
        "            self.hist_budget.append(self.hist_budget[-1] + budget_change)\n",
        "            # update budget to reflect openings and closings\n",
        "            if debug:\n",
        "                print(len(local_as))\n",
        "                print(local_as)\n",
        "                print(Counter(local_as))\n",
        "                print(f\"schools should change by {self.NSchools*(local_ach_diff)}, or {sch_change}\")\n",
        "                print(f\"existing budget is ${self.hist_budget[-1]}, need  ${open_close_cost} for opening/closing. \")\n",
        "                print(f\"budget changing by ${budget_change}, including ${open_close_cost} for opening/closing. \")\n",
        "\n",
        "    def plot_history_vs_preds(self):\n",
        "        # plotting actual vs predicted enrollment\n",
        "        fig, ax = plt.subplots()\n",
        "        ax.step(x=range(len(self.history)), y=self.history)\n",
        "        ax.step(x=range(len(self.predictions)), y=self.predictions)\n",
        "        ax.legend(['historical','predictions'])\n",
        "        ax.set_title(\"Time Series of Historical vs. Predicted Enrollment\")\n",
        "        ax.set_ylabel(\"# Students\")\n",
        "        plt.show()\n",
        "        plt.close()\n",
        "\n",
        "\n",
        "    def plot_ratios(self):\n",
        "        # plotting achieved vs actual student/school ratio\n",
        "        fig, ax = plt.subplots()\n",
        "        ax.step(x=range(len(self.ach_ratios)), y=self.ach_ratios)\n",
        "        ax.step(x=range(len(self.pred_ratios)), y=self.pred_ratios)\n",
        "        ax.hlines((self.tolerance[0] + 1)*self.sscRat, xmin=0, xmax=self.len_history,color=\"gray\")\n",
        "        ax.hlines((self.tolerance[1] + 1)*self.sscRat, xmin=0, xmax=self.len_history,color=\"gray\")\n",
        "        ax.fill_between(range(self.len_history), 0, (self.tolerance[0] + 1)*self.sscRat, color=\"gray\", alpha=0.30)\n",
        "        ax.fill_between(range(self.len_history),(self.tolerance[1] + 1)*self.sscRat, max(max(self.ach_ratios), max(self.pred_ratios)), color=\"gray\", alpha=0.30)\n",
        "        ax.legend(['achieved','predictions'])\n",
        "        ax.set_title(\"Time Series of Predicted vs. Achieved Student/School Ratio\")\n",
        "        ax.set_ylabel(\"Students per School\")\n",
        "        ax.set_xlabel(\"Time (Years)\")\n",
        "        plt.show()\n",
        "        plt.close()\n",
        "\n",
        "    def plot_schools_vs_pop(self):\n",
        "        # plotting number of schools vs. population (scaled)\n",
        "        fig, ax = plt.subplots()\n",
        "        ax.step(x=range(len(self.history)), y=minmax_scale(self.history))\n",
        "        ax.step(x=range(len(self.hist_schools)), y=minmax_scale(self.hist_schools))\n",
        "        ax.legend(['scaled population', 'scaled # schools'])\n",
        "        ax.set_title(f\"Time Series of Scaled # Schools, Total Enrollment\\n#Schools: Min:{min(self.hist_schools)},Max:{max(self.hist_schools)}, Enrolled: Min:{min(self.history)},Max:{max(self.history)}\")\n",
        "        ax.set_ylabel(\"Scaled School Count/Scaled Enrollment\")\n",
        "        ax.set_xlabel(\"Time (Years)\")\n",
        "        plt.show()\n",
        "        plt.close()\n",
        "\n",
        "    # metrics\n",
        "    def pct_when_performant(self, to_print=False):\n",
        "        # give the proportion of school years where achieved student to resource ratios were within tolerance\n",
        "        ach_test = self.ach_ratios[self.start_yr:]\n",
        "        result_bool = [ (x <= ((self.tolerance[1] + 1)*self.sscRat) ) and (x >= ((self.tolerance[0] + 1)*self.sscRat)) for x in ach_test]\n",
        "        prop = sum(result_bool)/len(result_bool)\n",
        "        self.prop_perf = prop\n",
        "        if to_print:\n",
        "            print(f\"The district was within tolerance bounds {np.round(100*prop)}% of the time.\")\n",
        "        return prop\n",
        "\n",
        "    def plot_budget(self):\n",
        "        # plotting budget\n",
        "        fig, ax = plt.subplots()\n",
        "        ax.step(x=range(len(self.hist_budget)), y=self.hist_budget)\n",
        "        ax.legend(['Historical Budget'])\n",
        "        ax.set_title(f\"Time Series of Historical Budget\")\n",
        "        ax.hlines(self.school_minimum_threshold, xmin=0, xmax=self.len_history,color=\"red\", linestyle=\"dotted\")\n",
        "        ax.hlines(0, xmin=0, xmax=self.len_history,color=\"gray\", linestyle=\"dotted\")\n",
        "        ax.set_ylabel(\"Historical Budget ($)\")\n",
        "        ax.set_xlabel(\"Time (Years)\")\n",
        "        plt.show()\n",
        "        plt.close()\n",
        "\n",
        "    # metrics\n",
        "    def pct_when_in_budget(self, lower_thresh=0, to_print=False):\n",
        "        # give the proportion of school years where the budget was above some threshold ($0, -100% of total value of all schools, etc)\n",
        "        # metric \"ever reach ruin\" can be calculated from this\n",
        "        if len(self.hist_budget) < len(self.history):\n",
        "            self.hist_budget += [0 for x in range(len(self.history) - len(self.hist_budget))]\n",
        "        budget_res = self.hist_budget[self.start_yr:]\n",
        "        result_bool = [ (x >= lower_thresh) for x in budget_res]\n",
        "        prop = sum(result_bool)/len(result_bool)\n",
        "        self.prop_perf = prop\n",
        "        if to_print:\n",
        "            print(f\"The district budget was above the threshold of ${lower_thresh} {np.round(100*prop)}% of the time.\")\n",
        "        return prop\n",
        "\n",
        "\n",
        "    def predictive_accuracy(self):\n",
        "        # get Rsquared of predictions\n",
        "        if len(self.history[self.start_yr:]) != len(self.predictions[self.start_yr:]):\n",
        "            print(\"WARNING: HISTORY TERMINATED EARLY\")\n",
        "            lr = linregress(x=self.predictions[self.start_yr:], y=self.history[self.start_yr:len(self.predictions)])\n",
        "        else:\n",
        "            lr = linregress(x=self.predictions[self.start_yr:], y=self.history[self.start_yr:])\n",
        "\n",
        "        return lr.rvalue\n",
        "\n",
        "\n"
      ]
    },
    {
      "cell_type": "markdown",
      "metadata": {
        "id": "LEBZ3SCsR6nS"
      },
      "source": [
        "# An Example"
      ]
    },
    {
      "cell_type": "code",
      "execution_count": null,
      "metadata": {
        "id": "pUWP8C9SR6nS"
      },
      "outputs": [],
      "source": [
        "simSchool = SchoolDistrict(NStudents=2500, #Start with 1250 students\n",
        "                           sscRat=250,  # ideal student/school ratio is 250\n",
        "                           tolerance=(-.1,.1), #tolerate student/school ratios of 225 to 275\n",
        "                           growth_period=10, # growth patterns last 20 years\n",
        "                           n_periods=5, # run for 60 years\n",
        "                           noisy=True, # add noise to population change\n",
        "                           school_minimum_threshold = -60., # minimum budget to open/close a school\n",
        "                           school_fund_fraction=0.95, # determines how much over current school operating expenses to charge in taxes\n",
        "                           interest_rate=0.03,\n",
        "                           pred_ratios=[], ach_ratios=[], hist_alphas=[], predictions=[],hist_budget=[]\n",
        "                       )\n",
        "simSchool.simulate_full_history(set_history=[6,3,4,3,6])\n",
        "simSchool.make_construction_decisions(debug=False)"
      ]
    },
    {
      "cell_type": "code",
      "execution_count": null,
      "metadata": {
        "id": "iQd-1IIIUMKk",
        "outputId": "0b3b48b4-65ff-447d-b9de-b3d945620e0c"
      },
      "outputs": [
        {
          "data": {
            "text/plain": [
              "0.1794871794871795"
            ]
          },
          "execution_count": 17,
          "metadata": {},
          "output_type": "execute_result"
        }
      ],
      "source": [
        "simSchool.pct_when_performant()"
      ]
    },
    {
      "cell_type": "markdown",
      "metadata": {
        "id": "Kslxx9D-R6nT"
      },
      "source": [
        "## Plots: Population Predictions vs Actuals"
      ]
    },
    {
      "cell_type": "code",
      "execution_count": null,
      "metadata": {
        "colab": {
          "base_uri": "https://localhost:8080/",
          "height": 452
        },
        "id": "Tg1izlYqR6nT",
        "outputId": "d2623b6c-88db-478a-d5d0-683c18139242"
      },
      "outputs": [
        {
          "data": {
            "image/png": "[encoded data removed]",
            "text/plain": [
              "<Figure size 640x480 with 1 Axes>"
            ]
          },
          "metadata": {},
          "output_type": "display_data"
        }
      ],
      "source": [
        "simSchool.plot_history_vs_preds()"
      ]
    },
    {
      "cell_type": "code",
      "execution_count": null,
      "metadata": {
        "id": "zibU3WOFUMKk",
        "outputId": "48500c45-8d0b-4d37-9bab-e47b817d489a"
      },
      "outputs": [
        {
          "data": {
            "text/plain": [
              "0.4971501986887587"
            ]
          },
          "execution_count": 19,
          "metadata": {},
          "output_type": "execute_result"
        }
      ],
      "source": [
        "simSchool.predictive_accuracy()"
      ]
    },
    {
      "cell_type": "markdown",
      "metadata": {
        "id": "sFo18PP-R6nT"
      },
      "source": [
        "## Plots: Predicted Student/School Ratios vs. Actuals"
      ]
    },
    {
      "cell_type": "code",
      "execution_count": null,
      "metadata": {
        "colab": {
          "base_uri": "https://localhost:8080/",
          "height": 472
        },
        "id": "tQtdvLRkR6nT",
        "outputId": "4dbc2bc4-bef4-4bbe-b057-246047088bed"
      },
      "outputs": [
        {
          "data": {
            "image/png": "[encoded data removed]",
            "text/plain": [
              "<Figure size 640x480 with 1 Axes>"
            ]
          },
          "metadata": {},
          "output_type": "display_data"
        }
      ],
      "source": [
        "simSchool.plot_ratios()"
      ]
    },
    {
      "cell_type": "code",
      "execution_count": null,
      "metadata": {
        "colab": {
          "base_uri": "https://localhost:8080/"
        },
        "id": "OMDYT83FR6nT",
        "outputId": "b83a83cb-9eb5-4a0c-ab3f-1924b847ade2"
      },
      "outputs": [
        {
          "name": "stdout",
          "output_type": "stream",
          "text": [
            "The district was within tolerance bounds 18.0% of the time.\n"
          ]
        },
        {
          "data": {
            "text/plain": [
              "0.1794871794871795"
            ]
          },
          "execution_count": 21,
          "metadata": {},
          "output_type": "execute_result"
        }
      ],
      "source": [
        "simSchool.pct_when_performant(to_print=True)"
      ]
    },
    {
      "cell_type": "markdown",
      "metadata": {
        "id": "unW2zH5IR6nT"
      },
      "source": [
        "## Plots: Trends in School Enrollment and Openings/Closings"
      ]
    },
    {
      "cell_type": "code",
      "execution_count": null,
      "metadata": {
        "colab": {
          "base_uri": "https://localhost:8080/",
          "height": 493
        },
        "id": "pe1GuNJFR6nT",
        "outputId": "19585cd8-9667-4931-c4d4-846825853884"
      },
      "outputs": [
        {
          "data": {
            "image/png": "[encoded data removed]",
            "text/plain": [
              "<Figure size 640x480 with 1 Axes>"
            ]
          },
          "metadata": {},
          "output_type": "display_data"
        }
      ],
      "source": [
        "simSchool.plot_schools_vs_pop()"
      ]
    },
    {
      "cell_type": "markdown",
      "metadata": {
        "id": "Xwt0Lx9bR6nU"
      },
      "source": [
        "## Budget figures"
      ]
    },
    {
      "cell_type": "code",
      "execution_count": null,
      "metadata": {
        "colab": {
          "base_uri": "https://localhost:8080/",
          "height": 472
        },
        "id": "W2SDsgegR6nU",
        "outputId": "df6b0210-8e0f-4267-810f-c8b63159728f"
      },
      "outputs": [
        {
          "data": {
            "image/png": "[encoded data removed]",
            "text/plain": [
              "<Figure size 640x480 with 1 Axes>"
            ]
          },
          "metadata": {},
          "output_type": "display_data"
        }
      ],
      "source": [
        "simSchool.plot_budget()"
      ]
    },
    {
      "cell_type": "code",
      "execution_count": null,
      "metadata": {
        "colab": {
          "base_uri": "https://localhost:8080/"
        },
        "id": "GF8jFXUWR6nU",
        "outputId": "54387f8b-7485-453d-aa94-2644be4f3bb3"
      },
      "outputs": [
        {
          "name": "stdout",
          "output_type": "stream",
          "text": [
            "The district budget was above the threshold of $-60.0 50.0% of the time.\n"
          ]
        },
        {
          "data": {
            "text/plain": [
              "0.5"
            ]
          },
          "execution_count": 24,
          "metadata": {},
          "output_type": "execute_result"
        }
      ],
      "source": [
        "simSchool.pct_when_in_budget(lower_thresh=simSchool.school_minimum_threshold,to_print=True)"
      ]
    },
    {
      "cell_type": "markdown",
      "metadata": {
        "id": "kbecsMGWR6nU"
      },
      "source": [
        "## Metrics: run lengths"
      ]
    },
    {
      "cell_type": "code",
      "execution_count": null,
      "metadata": {
        "colab": {
          "base_uri": "https://localhost:8080/"
        },
        "id": "N6TvlLBER6nU",
        "outputId": "fa41a424-3f14-4cda-856c-9b5119455a9f"
      },
      "outputs": [
        {
          "data": {
            "text/plain": [
              "{'counts': Counter({1: 7, 2: 2, 12: 1, 27: 1}),\n",
              " 'mean': 4.545454545454546,\n",
              " 'median': 1.0,\n",
              " 'stddev': 7.7502332676171335}"
            ]
          },
          "execution_count": 25,
          "metadata": {},
          "output_type": "execute_result"
        }
      ],
      "source": [
        "runlength_stats(get_run_lengths([int(x) for x in simSchool.hist_schools]))"
      ]
    },
    {
      "cell_type": "markdown",
      "metadata": {
        "id": "wUpEJlwDR6nU"
      },
      "source": [
        "## Metrics: $\\alpha$s"
      ]
    },
    {
      "cell_type": "code",
      "execution_count": null,
      "metadata": {
        "colab": {
          "base_uri": "https://localhost:8080/"
        },
        "id": "ML8bcjQDR6nV",
        "outputId": "6bb890a5-dc32-420e-addb-5ee3aa19b2c9"
      },
      "outputs": [
        {
          "data": {
            "text/plain": [
              "Counter({0.4: 31,\n",
              "         0.0: 10,\n",
              "         0.9: 2,\n",
              "         0.5: 1,\n",
              "         0.30000000000000004: 1,\n",
              "         0.7000000000000001: 1,\n",
              "         0.2: 1,\n",
              "         0.8: 1,\n",
              "         0.6: 1,\n",
              "         0.1: 1})"
            ]
          },
          "execution_count": 26,
          "metadata": {},
          "output_type": "execute_result"
        }
      ],
      "source": [
        "Counter(simSchool.hist_alphas)"
      ]
    },
    {
      "cell_type": "code",
      "execution_count": null,
      "metadata": {
        "colab": {
          "base_uri": "https://localhost:8080/",
          "height": 447
        },
        "id": "P9NmJciwR6nV",
        "outputId": "6fc9533e-5e5f-4446-9902-31fe4b2bf549"
      },
      "outputs": [
        {
          "data": {
            "text/plain": [
              "[<matplotlib.lines.Line2D at 0x22e7edef080>]"
            ]
          },
          "execution_count": 27,
          "metadata": {},
          "output_type": "execute_result"
        },
        {
          "data": {
            "image/png": "[encoded data removed]",
            "text/plain": [
              "<Figure size 640x480 with 1 Axes>"
            ]
          },
          "metadata": {},
          "output_type": "display_data"
        }
      ],
      "source": [
        "plt.plot(simSchool.hist_alphas)"
      ]
    },
    {
      "cell_type": "markdown",
      "metadata": {
        "id": "7dPn5YTMUMKm"
      },
      "source": [
        "# Factorial Experiment\n"
      ]
    },
    {
      "cell_type": "code",
      "execution_count": null,
      "metadata": {
        "id": "g79S50nEUMKm"
      },
      "outputs": [],
      "source": [
        "def individual_replicate(SampleSize=3500,ratio=250, growth_patterns:list=[0,0,0], is_noisy:bool=False, alphas:tuple=None)->dict:\n",
        "    simSchool = SchoolDistrict(NStudents=SampleSize, #Start with 1250 students\n",
        "                               sscRat=ratio,  # ideal student/school ratio is 250\n",
        "                               tolerance=(-.1,.1), #tolerate student/school ratios of 225 to 275\n",
        "                               growth_period=20, # growth patterns last 20 years\n",
        "                               n_periods=3, # run for 60 years\n",
        "                               noisy=is_noisy, # add noise to population change\n",
        "                               school_minimum_threshold = -50., # minimum budget to open/close a school\n",
        "                               school_fund_fraction=0.70, # determines how much over current school operating expenses to charge in taxes\n",
        "                               interest_rate=0.02,\n",
        "                               pred_ratios=[], ach_ratios=[], hist_alphas=[], predictions=[],hist_budget=[]\n",
        "                           )\n",
        "    if alphas is not None:\n",
        "        simSchool.alphas = alphas\n",
        "    school_results = {}\n",
        "    simSchool.simulate_full_history(set_history=growth_patterns)\n",
        "    simSchool.make_construction_decisions(debug=False)\n",
        "    school_results['r2'] = simSchool.predictive_accuracy()\n",
        "    school_results['pct_performant'] = simSchool.pct_when_performant(to_print=False)\n",
        "    school_results['pct_budgetary'] = simSchool.pct_when_in_budget(lower_thresh=simSchool.school_minimum_threshold,to_print=False)\n",
        "    school_results['decision_length'] = runlength_stats(get_run_lengths([int(x) for x in simSchool.hist_schools]))['median']\n",
        "    return school_results"
      ]
    },
    {
      "cell_type": "code",
      "execution_count": null,
      "metadata": {
        "id": "vLAgXAU2UMKm"
      },
      "outputs": [],
      "source": []
    },
    {
      "cell_type": "code",
      "execution_count": null,
      "metadata": {
        "id": "P-NzS2BeUMKm"
      },
      "outputs": [],
      "source": [
        "def run_experiment(growth_pat_len:int=3, noise:bool=False, set_alpha=None, plot:bool=True):\n",
        "    alphas_ = tuple(set_alpha for x in range(23)) if set_alpha is not None else None\n",
        "    exp_result = {}\n",
        "    pprod = product(\"0123456\", repeat=growth_pat_len)\n",
        "    formula = \"pct_performant ~ \" + \" + \".join([f\"C(p{x})\" for x in range(growth_pat_len)])\n",
        "    print(formula)\n",
        "    for pat in pprod:\n",
        "        local_name = \",\".join(pat)\n",
        "        growth_pats =  [int(y) for y in pat]\n",
        "        print(growth_pats)\n",
        "        local_res = individual_replicate(growth_patterns =growth_pats, is_noisy=noise, alphas=alphas_)\n",
        "        exp_result[local_name] = local_res\n",
        "\n",
        "    factorial = pd.DataFrame(exp_result).T\n",
        "    for _,j in enumerate(range(growth_pat_len)):\n",
        "        factorial[f'p{_}'] = factorial.index.to_series().apply(lambda x: x.split(',')[_])\n",
        "\n",
        "    if plot:\n",
        "        factorial.boxplot(column='r2', by='p0')\n",
        "        factorial.boxplot(column='pct_budgetary', by='p0')\n",
        "        factorial.boxplot(column='pct_performant', by='p0')\n",
        "        factorial.boxplot(column='decision_length', by='p0')\n",
        "        factorial.plot.scatter('decision_length', 'pct_performant', c=[int(x) for x in factorial['p2']], colormap='Dark2',alpha=0.3 )\n",
        "\n",
        "\n",
        "    print(factorial[['r2', 'pct_budgetary', 'pct_performant','decision_length']].describe())\n",
        "\n",
        "    lm = ols(formula, factorial).fit()\n",
        "    print(lm.summary())\n",
        "    print(anova_lm(lm))\n",
        "    return factorial, lm"
      ]
    },
    {
      "cell_type": "code",
      "execution_count": null,
      "metadata": {
        "id": "vNdJ3GTuUMKm"
      },
      "outputs": [],
      "source": [
        "@dataclass\n",
        "class SingleExperiment:\n",
        "    # Single run from one set of experimental conditions\n",
        "    growth_pat_len:int=4\n",
        "    noise:bool=False\n",
        "    set_alpha:float=None\n",
        "    plot:bool=False\n",
        "\n",
        "    def run(self):\n",
        "        self.name = f\"gpl:{self.growth_pat_len};noise:{self.noise};A:{self.set_alpha}\"\n",
        "        self.result = run_experiment(growth_pat_len=self.growth_pat_len,\n",
        "                       noise=self.noise, set_alpha=self.set_alpha, plot=self.plot)\n",
        "        self.core_res = self.result[0][['r2', 'pct_budgetary', 'pct_performant','decision_length']].median()\n",
        "\n",
        "    def get_result(self):\n",
        "        self.run()\n",
        "        return self.core_res\n",
        ""
      ]
    },
    {
      "cell_type": "code",
      "execution_count": null,
      "metadata": {
        "id": "rKvwr9oxUMKm",
        "outputId": "09199fab-94bd-4c62-dec8-79b60fb87b34"
      },
      "outputs": [
        {
          "name": "stdout",
          "output_type": "stream",
          "text": [
            "pct_performant ~ C(p0) + C(p1) + C(p2) + C(p3) + C(p4)\n",
            "[0, 0, 0, 0, 0]\n"
          ]
        },
        {
          "ename": "AssertionError",
          "evalue": "",
          "output_type": "error",
          "traceback": [
            "\u001b[1;31m---------------------------------------------------------------------------\u001b[0m",
            "\u001b[1;31mAssertionError\u001b[0m                            Traceback (most recent call last)",
            "Cell \u001b[1;32mIn[61], line 2\u001b[0m\n\u001b[0;32m      1\u001b[0m initial_class_test \u001b[38;5;241m=\u001b[39m SingleExperiment(growth_pat_len\u001b[38;5;241m=\u001b[39m\u001b[38;5;241m5\u001b[39m)\n\u001b[1;32m----> 2\u001b[0m initial_class_test\u001b[38;5;241m.\u001b[39mget_result()\n",
            "Cell \u001b[1;32mIn[60], line 15\u001b[0m, in \u001b[0;36mSingleExperiment.get_result\u001b[1;34m(self)\u001b[0m\n\u001b[0;32m     14\u001b[0m \u001b[38;5;28;01mdef\u001b[39;00m \u001b[38;5;21mget_result\u001b[39m(\u001b[38;5;28mself\u001b[39m):\n\u001b[1;32m---> 15\u001b[0m     \u001b[38;5;28mself\u001b[39m\u001b[38;5;241m.\u001b[39mrun()\n\u001b[0;32m     16\u001b[0m     \u001b[38;5;28;01mreturn\u001b[39;00m \u001b[38;5;28mself\u001b[39m\u001b[38;5;241m.\u001b[39mcore_res\n",
            "Cell \u001b[1;32mIn[60], line 10\u001b[0m, in \u001b[0;36mSingleExperiment.run\u001b[1;34m(self)\u001b[0m\n\u001b[0;32m      9\u001b[0m \u001b[38;5;28;01mdef\u001b[39;00m \u001b[38;5;21mrun\u001b[39m(\u001b[38;5;28mself\u001b[39m):\n\u001b[1;32m---> 10\u001b[0m     \u001b[38;5;28mself\u001b[39m\u001b[38;5;241m.\u001b[39mresult \u001b[38;5;241m=\u001b[39m run_experiment(growth_pat_len\u001b[38;5;241m=\u001b[39m\u001b[38;5;28mself\u001b[39m\u001b[38;5;241m.\u001b[39mgrowth_pat_len, \n\u001b[0;32m     11\u001b[0m                    noise\u001b[38;5;241m=\u001b[39m\u001b[38;5;28mself\u001b[39m\u001b[38;5;241m.\u001b[39mnoise, set_alpha\u001b[38;5;241m=\u001b[39m\u001b[38;5;28mself\u001b[39m\u001b[38;5;241m.\u001b[39mset_alpha, plot\u001b[38;5;241m=\u001b[39m\u001b[38;5;28mself\u001b[39m\u001b[38;5;241m.\u001b[39mplot)\n\u001b[0;32m     12\u001b[0m     \u001b[38;5;28mself\u001b[39m\u001b[38;5;241m.\u001b[39mcore_res \u001b[38;5;241m=\u001b[39m \u001b[38;5;28mself\u001b[39m\u001b[38;5;241m.\u001b[39mresult[\u001b[38;5;241m0\u001b[39m][[\u001b[38;5;124m'\u001b[39m\u001b[38;5;124mr2\u001b[39m\u001b[38;5;124m'\u001b[39m, \u001b[38;5;124m'\u001b[39m\u001b[38;5;124mpct_budgetary\u001b[39m\u001b[38;5;124m'\u001b[39m, \u001b[38;5;124m'\u001b[39m\u001b[38;5;124mpct_performant\u001b[39m\u001b[38;5;124m'\u001b[39m,\u001b[38;5;124m'\u001b[39m\u001b[38;5;124mdecision_length\u001b[39m\u001b[38;5;124m'\u001b[39m]]\u001b[38;5;241m.\u001b[39mmedian()\n",
            "Cell \u001b[1;32mIn[59], line 11\u001b[0m, in \u001b[0;36mrun_experiment\u001b[1;34m(growth_pat_len, noise, set_alpha, plot)\u001b[0m\n\u001b[0;32m      9\u001b[0m     growth_pats \u001b[38;5;241m=\u001b[39m  [\u001b[38;5;28mint\u001b[39m(y) \u001b[38;5;28;01mfor\u001b[39;00m y \u001b[38;5;129;01min\u001b[39;00m pat]\n\u001b[0;32m     10\u001b[0m     \u001b[38;5;28mprint\u001b[39m(growth_pats)\n\u001b[1;32m---> 11\u001b[0m     local_res \u001b[38;5;241m=\u001b[39m individual_replicate(growth_patterns \u001b[38;5;241m=\u001b[39mgrowth_pats, is_noisy\u001b[38;5;241m=\u001b[39mnoise, alphas\u001b[38;5;241m=\u001b[39malphas_)\n\u001b[0;32m     12\u001b[0m     exp_result[local_name] \u001b[38;5;241m=\u001b[39m local_res\n\u001b[0;32m     14\u001b[0m factorial \u001b[38;5;241m=\u001b[39m pd\u001b[38;5;241m.\u001b[39mDataFrame(exp_result)\u001b[38;5;241m.\u001b[39mT\n",
            "Cell \u001b[1;32mIn[32], line 16\u001b[0m, in \u001b[0;36mindividual_replicate\u001b[1;34m(SampleSize, ratio, growth_patterns, is_noisy, alphas)\u001b[0m\n\u001b[0;32m     14\u001b[0m     simSchool\u001b[38;5;241m.\u001b[39malphas \u001b[38;5;241m=\u001b[39m alphas\n\u001b[0;32m     15\u001b[0m school_results \u001b[38;5;241m=\u001b[39m {}\n\u001b[1;32m---> 16\u001b[0m simSchool\u001b[38;5;241m.\u001b[39msimulate_full_history(set_history\u001b[38;5;241m=\u001b[39mgrowth_patterns)\n\u001b[0;32m     17\u001b[0m simSchool\u001b[38;5;241m.\u001b[39mmake_construction_decisions(debug\u001b[38;5;241m=\u001b[39m\u001b[38;5;28;01mFalse\u001b[39;00m)\n\u001b[0;32m     18\u001b[0m school_results[\u001b[38;5;124m'\u001b[39m\u001b[38;5;124mr2\u001b[39m\u001b[38;5;124m'\u001b[39m] \u001b[38;5;241m=\u001b[39m simSchool\u001b[38;5;241m.\u001b[39mpredictive_accuracy()\n",
            "Cell \u001b[1;32mIn[15], line 37\u001b[0m, in \u001b[0;36mSchoolDistrict.simulate_full_history\u001b[1;34m(self, to_debug, set_history)\u001b[0m\n\u001b[0;32m     34\u001b[0m \u001b[38;5;28;01mdef\u001b[39;00m \u001b[38;5;21msimulate_full_history\u001b[39m(\u001b[38;5;28mself\u001b[39m,to_debug\u001b[38;5;241m=\u001b[39m\u001b[38;5;28;01mFalse\u001b[39;00m,set_history\u001b[38;5;241m=\u001b[39m\u001b[38;5;28;01mNone\u001b[39;00m):\n\u001b[0;32m     35\u001b[0m     \u001b[38;5;66;03m# first step in the simulation--initialize the population history\u001b[39;00m\n\u001b[0;32m     36\u001b[0m     \u001b[38;5;28mself\u001b[39m\u001b[38;5;241m.\u001b[39mlen_history \u001b[38;5;241m=\u001b[39m \u001b[38;5;28mself\u001b[39m\u001b[38;5;241m.\u001b[39mn_periods \u001b[38;5;241m*\u001b[39m \u001b[38;5;28mself\u001b[39m\u001b[38;5;241m.\u001b[39mgrowth_period\n\u001b[1;32m---> 37\u001b[0m     \u001b[38;5;28mself\u001b[39m\u001b[38;5;241m.\u001b[39mhistory\u001b[38;5;241m=\u001b[39msimulate_history(start_value\u001b[38;5;241m=\u001b[39m\u001b[38;5;28mself\u001b[39m\u001b[38;5;241m.\u001b[39mNStudents,\n\u001b[0;32m     38\u001b[0m                                   total_years\u001b[38;5;241m=\u001b[39m\u001b[38;5;28mself\u001b[39m\u001b[38;5;241m.\u001b[39mlen_history,\n\u001b[0;32m     39\u001b[0m                                   period_length\u001b[38;5;241m=\u001b[39m\u001b[38;5;28mself\u001b[39m\u001b[38;5;241m.\u001b[39mgrowth_period,\n\u001b[0;32m     40\u001b[0m                                   noisy\u001b[38;5;241m=\u001b[39m\u001b[38;5;28mself\u001b[39m\u001b[38;5;241m.\u001b[39mnoisy,\n\u001b[0;32m     41\u001b[0m                                   debug\u001b[38;5;241m=\u001b[39mto_debug,\n\u001b[0;32m     42\u001b[0m                                   set_history\u001b[38;5;241m=\u001b[39mset_history)\n",
            "Cell \u001b[1;32mIn[11], line 10\u001b[0m, in \u001b[0;36msimulate_history\u001b[1;34m(start_value, total_years, period_length, debug, noisy, set_history)\u001b[0m\n\u001b[0;32m      8\u001b[0m     \u001b[38;5;28;01massert\u001b[39;00m \u001b[38;5;28mtype\u001b[39m(set_history) \u001b[38;5;241m==\u001b[39m \u001b[38;5;28mlist\u001b[39m\n\u001b[0;32m      9\u001b[0m     \u001b[38;5;66;03m# since we know it's a list, assert that the length of the list is correct\u001b[39;00m\n\u001b[1;32m---> 10\u001b[0m     \u001b[38;5;28;01massert\u001b[39;00m \u001b[38;5;28mlen\u001b[39m(set_history) \u001b[38;5;241m==\u001b[39m total_years\u001b[38;5;241m/\u001b[39m\u001b[38;5;241m/\u001b[39mperiod_length\n\u001b[0;32m     12\u001b[0m \u001b[38;5;28;01mfor\u001b[39;00m _, tp \u001b[38;5;129;01min\u001b[39;00m \u001b[38;5;28menumerate\u001b[39m(\u001b[38;5;28mrange\u001b[39m(total_years\u001b[38;5;241m/\u001b[39m\u001b[38;5;241m/\u001b[39mperiod_length)):\n\u001b[0;32m     13\u001b[0m     locidx \u001b[38;5;241m=\u001b[39m randint(\u001b[38;5;241m0\u001b[39m,\u001b[38;5;28mlen\u001b[39m(growthPats)\u001b[38;5;241m-\u001b[39m\u001b[38;5;241m1\u001b[39m) \u001b[38;5;28;01mif\u001b[39;00m set_history \u001b[38;5;129;01mis\u001b[39;00m \u001b[38;5;28;01mNone\u001b[39;00m \u001b[38;5;28;01melse\u001b[39;00m set_history[_] \u001b[38;5;66;03m# there are 7 locidxs\u001b[39;00m\n",
            "\u001b[1;31mAssertionError\u001b[0m: "
          ]
        }
      ],
      "source": [
        "initial_class_test = SingleExperiment(growth_pat_len=5)\n",
        "initial_class_test.get_result()"
      ]
    },
    {
      "cell_type": "code",
      "execution_count": null,
      "metadata": {
        "id": "-M4v2T4GUMKn",
        "outputId": "c6e4b87d-3bc1-435c-e738-374bb13a0394"
      },
      "outputs": [
        {
          "name": "stdout",
          "output_type": "stream",
          "text": [
            "Simulation terminated early. Zero schools left.\n",
            "WARNING: HISTORY TERMINATED EARLY\n",
            "               r2  pct_budgetary  pct_performant  decision_length\n",
            "count  343.000000     343.000000      343.000000       343.000000\n",
            "mean     0.669293       0.819592        0.309389         3.265306\n",
            "std      0.248484       0.245457        0.174263         6.900262\n",
            "min     -0.253295       0.240000        0.000000         1.000000\n",
            "25%      0.514558       0.620000        0.163265         1.000000\n",
            "50%      0.748178       1.000000        0.306122         2.000000\n",
            "75%      0.870857       1.000000        0.438776         2.000000\n",
            "max      0.963172       1.000000        0.836735        60.000000\n",
            "                            OLS Regression Results                            \n",
            "==============================================================================\n",
            "Dep. Variable:         pct_performant   R-squared:                       0.517\n",
            "Model:                            OLS   Adj. R-squared:                  0.490\n",
            "Method:                 Least Squares   F-statistic:                     19.24\n",
            "Date:                Mon, 02 Dec 2024   Prob (F-statistic):           5.49e-41\n",
            "Time:                        14:46:50   Log-Likelihood:                 237.78\n",
            "No. Observations:                 343   AIC:                            -437.6\n",
            "Df Residuals:                     324   BIC:                            -364.6\n",
            "Df Model:                          18                                         \n",
            "Covariance Type:            nonrobust                                         \n",
            "==============================================================================\n",
            "                 coef    std err          t      P>|t|      [0.025      0.975]\n",
            "------------------------------------------------------------------------------\n",
            "Intercept      0.3346      0.029     11.421      0.000       0.277       0.392\n",
            "C(p0)[T.1]    -0.0787      0.025     -3.130      0.002      -0.128      -0.029\n",
            "C(p0)[T.2]    -0.1683      0.025     -6.693      0.000      -0.218      -0.119\n",
            "C(p0)[T.3]     0.0646      0.025      2.567      0.011       0.015       0.114\n",
            "C(p0)[T.4]     0.0516      0.025      2.054      0.041       0.002       0.101\n",
            "C(p0)[T.5]     0.0421      0.025      1.673      0.095      -0.007       0.092\n",
            "C(p0)[T.6]     0.0504      0.025      2.004      0.046       0.001       0.100\n",
            "C(p1)[T.1]    -0.1458      0.025     -5.797      0.000      -0.195      -0.096\n",
            "C(p1)[T.2]    -0.1500      0.025     -5.964      0.000      -0.199      -0.101\n",
            "C(p1)[T.3]     0.0058      0.025      0.232      0.817      -0.044       0.055\n",
            "C(p1)[T.4]     0.0841      0.025      3.346      0.001       0.035       0.134\n",
            "C(p1)[T.5]    -0.0079      0.025     -0.315      0.753      -0.057       0.042\n",
            "C(p1)[T.6]     0.0558      0.025      2.219      0.027       0.006       0.105\n",
            "C(p2)[T.1]    -0.0534      0.025     -2.122      0.035      -0.103      -0.004\n",
            "C(p2)[T.2]    -0.0383      0.025     -1.524      0.129      -0.088       0.011\n",
            "C(p2)[T.3]    -0.0062      0.025     -0.248      0.804      -0.056       0.043\n",
            "C(p2)[T.4]     0.0633      0.025      2.517      0.012       0.014       0.113\n",
            "C(p2)[T.5]    -0.0162      0.025     -0.646      0.519      -0.066       0.033\n",
            "C(p2)[T.6]     0.0708      0.025      2.816      0.005       0.021       0.120\n",
            "==============================================================================\n",
            "Omnibus:                       14.989   Durbin-Watson:                   1.870\n",
            "Prob(Omnibus):                  0.001   Jarque-Bera (JB):               15.757\n",
            "Skew:                           0.515   Prob(JB):                     0.000379\n",
            "Kurtosis:                       3.208   Cond. No.                         9.61\n",
            "==============================================================================\n",
            "\n",
            "Notes:\n",
            "[1] Standard Errors assume that the covariance matrix of the errors is correctly specified.\n",
            "             df    sum_sq   mean_sq          F        PR(>F)\n",
            "C(p0)       6.0  2.227380  0.371230  23.960919  1.892276e-23\n",
            "C(p1)       6.0  2.473103  0.412184  26.604265  9.812774e-26\n",
            "C(p2)       6.0  0.665504  0.110917   7.159119  3.499449e-07\n",
            "Residual  324.0  5.019779  0.015493        NaN           NaN\n"
          ]
        },
        {
          "data": {
            "text/plain": [
              "r2                 0.748178\n",
              "pct_budgetary      1.000000\n",
              "pct_performant     0.306122\n",
              "decision_length    2.000000\n",
              "dtype: float64"
            ]
          },
          "execution_count": 37,
          "metadata": {},
          "output_type": "execute_result"
        }
      ],
      "source": [
        "noisy_test = SingleExperiment(growth_pat_len=3,noise=True)\n",
        "noisy_test.get_result()"
      ]
    },
    {
      "cell_type": "code",
      "execution_count": null,
      "metadata": {
        "id": "C8nrCKzXUMKn",
        "outputId": "d6e84a16-7bbf-4105-859b-73234922cc42"
      },
      "outputs": [
        {
          "ename": "AssertionError",
          "evalue": "",
          "output_type": "error",
          "traceback": [
            "\u001b[1;31m---------------------------------------------------------------------------\u001b[0m",
            "\u001b[1;31mAssertionError\u001b[0m                            Traceback (most recent call last)",
            "Cell \u001b[1;32mIn[54], line 2\u001b[0m\n\u001b[0;32m      1\u001b[0m a01_test \u001b[38;5;241m=\u001b[39m SingleExperiment(set_alpha\u001b[38;5;241m=\u001b[39m\u001b[38;5;241m0.1\u001b[39m, growth_pat_len \u001b[38;5;241m=\u001b[39m \u001b[38;5;241m18\u001b[39m)\n\u001b[1;32m----> 2\u001b[0m a01_test\u001b[38;5;241m.\u001b[39mget_result()\n",
            "Cell \u001b[1;32mIn[39], line 15\u001b[0m, in \u001b[0;36mSingleExperiment.get_result\u001b[1;34m(self)\u001b[0m\n\u001b[0;32m     14\u001b[0m \u001b[38;5;28;01mdef\u001b[39;00m \u001b[38;5;21mget_result\u001b[39m(\u001b[38;5;28mself\u001b[39m):\n\u001b[1;32m---> 15\u001b[0m     \u001b[38;5;28mself\u001b[39m\u001b[38;5;241m.\u001b[39mrun()\n\u001b[0;32m     16\u001b[0m     \u001b[38;5;28;01mreturn\u001b[39;00m \u001b[38;5;28mself\u001b[39m\u001b[38;5;241m.\u001b[39mcore_res\n",
            "Cell \u001b[1;32mIn[39], line 10\u001b[0m, in \u001b[0;36mSingleExperiment.run\u001b[1;34m(self)\u001b[0m\n\u001b[0;32m      9\u001b[0m \u001b[38;5;28;01mdef\u001b[39;00m \u001b[38;5;21mrun\u001b[39m(\u001b[38;5;28mself\u001b[39m):\n\u001b[1;32m---> 10\u001b[0m     \u001b[38;5;28mself\u001b[39m\u001b[38;5;241m.\u001b[39mresult \u001b[38;5;241m=\u001b[39m run_experiment(growth_pat_len\u001b[38;5;241m=\u001b[39m\u001b[38;5;28mself\u001b[39m\u001b[38;5;241m.\u001b[39mgrowth_pat_len, \n\u001b[0;32m     11\u001b[0m                    noise\u001b[38;5;241m=\u001b[39m\u001b[38;5;28mself\u001b[39m\u001b[38;5;241m.\u001b[39mnoise, set_alpha\u001b[38;5;241m=\u001b[39m\u001b[38;5;28mself\u001b[39m\u001b[38;5;241m.\u001b[39mset_alpha, plot\u001b[38;5;241m=\u001b[39m\u001b[38;5;28mself\u001b[39m\u001b[38;5;241m.\u001b[39mplot)\n\u001b[0;32m     12\u001b[0m     \u001b[38;5;28mself\u001b[39m\u001b[38;5;241m.\u001b[39mcore_res \u001b[38;5;241m=\u001b[39m \u001b[38;5;28mself\u001b[39m\u001b[38;5;241m.\u001b[39mresult[\u001b[38;5;241m0\u001b[39m][[\u001b[38;5;124m'\u001b[39m\u001b[38;5;124mr2\u001b[39m\u001b[38;5;124m'\u001b[39m, \u001b[38;5;124m'\u001b[39m\u001b[38;5;124mpct_budgetary\u001b[39m\u001b[38;5;124m'\u001b[39m, \u001b[38;5;124m'\u001b[39m\u001b[38;5;124mpct_performant\u001b[39m\u001b[38;5;124m'\u001b[39m,\u001b[38;5;124m'\u001b[39m\u001b[38;5;124mdecision_length\u001b[39m\u001b[38;5;124m'\u001b[39m]]\u001b[38;5;241m.\u001b[39mmedian()\n",
            "Cell \u001b[1;32mIn[33], line 8\u001b[0m, in \u001b[0;36mrun_experiment\u001b[1;34m(growth_pat_len, noise, set_alpha, plot)\u001b[0m\n\u001b[0;32m      6\u001b[0m \u001b[38;5;28;01mfor\u001b[39;00m pat \u001b[38;5;129;01min\u001b[39;00m pprod:\n\u001b[0;32m      7\u001b[0m     local_name \u001b[38;5;241m=\u001b[39m \u001b[38;5;124m\"\u001b[39m\u001b[38;5;124m,\u001b[39m\u001b[38;5;124m\"\u001b[39m\u001b[38;5;241m.\u001b[39mjoin(pat)\n\u001b[1;32m----> 8\u001b[0m     local_res \u001b[38;5;241m=\u001b[39m individual_replicate(growth_patterns \u001b[38;5;241m=\u001b[39m [\u001b[38;5;28mint\u001b[39m(y) \u001b[38;5;28;01mfor\u001b[39;00m y \u001b[38;5;129;01min\u001b[39;00m pat], is_noisy\u001b[38;5;241m=\u001b[39mnoise, alphas\u001b[38;5;241m=\u001b[39malphas_)\n\u001b[0;32m      9\u001b[0m     exp_result[local_name] \u001b[38;5;241m=\u001b[39m local_res\n\u001b[0;32m     11\u001b[0m factorial \u001b[38;5;241m=\u001b[39m pd\u001b[38;5;241m.\u001b[39mDataFrame(exp_result)\u001b[38;5;241m.\u001b[39mT\n",
            "Cell \u001b[1;32mIn[32], line 16\u001b[0m, in \u001b[0;36mindividual_replicate\u001b[1;34m(SampleSize, ratio, growth_patterns, is_noisy, alphas)\u001b[0m\n\u001b[0;32m     14\u001b[0m     simSchool\u001b[38;5;241m.\u001b[39malphas \u001b[38;5;241m=\u001b[39m alphas\n\u001b[0;32m     15\u001b[0m school_results \u001b[38;5;241m=\u001b[39m {}\n\u001b[1;32m---> 16\u001b[0m simSchool\u001b[38;5;241m.\u001b[39msimulate_full_history(set_history\u001b[38;5;241m=\u001b[39mgrowth_patterns)\n\u001b[0;32m     17\u001b[0m simSchool\u001b[38;5;241m.\u001b[39mmake_construction_decisions(debug\u001b[38;5;241m=\u001b[39m\u001b[38;5;28;01mFalse\u001b[39;00m)\n\u001b[0;32m     18\u001b[0m school_results[\u001b[38;5;124m'\u001b[39m\u001b[38;5;124mr2\u001b[39m\u001b[38;5;124m'\u001b[39m] \u001b[38;5;241m=\u001b[39m simSchool\u001b[38;5;241m.\u001b[39mpredictive_accuracy()\n",
            "Cell \u001b[1;32mIn[15], line 37\u001b[0m, in \u001b[0;36mSchoolDistrict.simulate_full_history\u001b[1;34m(self, to_debug, set_history)\u001b[0m\n\u001b[0;32m     34\u001b[0m \u001b[38;5;28;01mdef\u001b[39;00m \u001b[38;5;21msimulate_full_history\u001b[39m(\u001b[38;5;28mself\u001b[39m,to_debug\u001b[38;5;241m=\u001b[39m\u001b[38;5;28;01mFalse\u001b[39;00m,set_history\u001b[38;5;241m=\u001b[39m\u001b[38;5;28;01mNone\u001b[39;00m):\n\u001b[0;32m     35\u001b[0m     \u001b[38;5;66;03m# first step in the simulation--initialize the population history\u001b[39;00m\n\u001b[0;32m     36\u001b[0m     \u001b[38;5;28mself\u001b[39m\u001b[38;5;241m.\u001b[39mlen_history \u001b[38;5;241m=\u001b[39m \u001b[38;5;28mself\u001b[39m\u001b[38;5;241m.\u001b[39mn_periods \u001b[38;5;241m*\u001b[39m \u001b[38;5;28mself\u001b[39m\u001b[38;5;241m.\u001b[39mgrowth_period\n\u001b[1;32m---> 37\u001b[0m     \u001b[38;5;28mself\u001b[39m\u001b[38;5;241m.\u001b[39mhistory\u001b[38;5;241m=\u001b[39msimulate_history(start_value\u001b[38;5;241m=\u001b[39m\u001b[38;5;28mself\u001b[39m\u001b[38;5;241m.\u001b[39mNStudents,\n\u001b[0;32m     38\u001b[0m                                   total_years\u001b[38;5;241m=\u001b[39m\u001b[38;5;28mself\u001b[39m\u001b[38;5;241m.\u001b[39mlen_history,\n\u001b[0;32m     39\u001b[0m                                   period_length\u001b[38;5;241m=\u001b[39m\u001b[38;5;28mself\u001b[39m\u001b[38;5;241m.\u001b[39mgrowth_period,\n\u001b[0;32m     40\u001b[0m                                   noisy\u001b[38;5;241m=\u001b[39m\u001b[38;5;28mself\u001b[39m\u001b[38;5;241m.\u001b[39mnoisy,\n\u001b[0;32m     41\u001b[0m                                   debug\u001b[38;5;241m=\u001b[39mto_debug,\n\u001b[0;32m     42\u001b[0m                                   set_history\u001b[38;5;241m=\u001b[39mset_history)\n",
            "Cell \u001b[1;32mIn[11], line 10\u001b[0m, in \u001b[0;36msimulate_history\u001b[1;34m(start_value, total_years, period_length, debug, noisy, set_history)\u001b[0m\n\u001b[0;32m      8\u001b[0m     \u001b[38;5;28;01massert\u001b[39;00m \u001b[38;5;28mtype\u001b[39m(set_history) \u001b[38;5;241m==\u001b[39m \u001b[38;5;28mlist\u001b[39m\n\u001b[0;32m      9\u001b[0m     \u001b[38;5;66;03m# since we know it's a list, assert that the length of the list is correct\u001b[39;00m\n\u001b[1;32m---> 10\u001b[0m     \u001b[38;5;28;01massert\u001b[39;00m \u001b[38;5;28mlen\u001b[39m(set_history) \u001b[38;5;241m==\u001b[39m total_years\u001b[38;5;241m/\u001b[39m\u001b[38;5;241m/\u001b[39mperiod_length\n\u001b[0;32m     12\u001b[0m \u001b[38;5;28;01mfor\u001b[39;00m _, tp \u001b[38;5;129;01min\u001b[39;00m \u001b[38;5;28menumerate\u001b[39m(\u001b[38;5;28mrange\u001b[39m(total_years\u001b[38;5;241m/\u001b[39m\u001b[38;5;241m/\u001b[39mperiod_length)):\n\u001b[0;32m     13\u001b[0m     locidx \u001b[38;5;241m=\u001b[39m randint(\u001b[38;5;241m0\u001b[39m,\u001b[38;5;28mlen\u001b[39m(growthPats)\u001b[38;5;241m-\u001b[39m\u001b[38;5;241m1\u001b[39m) \u001b[38;5;28;01mif\u001b[39;00m set_history \u001b[38;5;129;01mis\u001b[39;00m \u001b[38;5;28;01mNone\u001b[39;00m \u001b[38;5;28;01melse\u001b[39;00m set_history[_] \u001b[38;5;66;03m# there are 7 locidxs\u001b[39;00m\n",
            "\u001b[1;31mAssertionError\u001b[0m: "
          ]
        }
      ],
      "source": [
        "a01_test = SingleExperiment(set_alpha=0.1, growth_pat_len = 3)\n",
        "a01_test.get_result()"
      ]
    },
    {
      "cell_type": "code",
      "execution_count": null,
      "metadata": {
        "id": "cfnqHJ73UMKn",
        "outputId": "9c3e99a7-6e8d-4265-c0b7-41fef09dd49f"
      },
      "outputs": [
        {
          "name": "stdout",
          "output_type": "stream",
          "text": [
            "Simulation terminated early. Zero schools left.\n",
            "WARNING: HISTORY TERMINATED EARLY\n",
            "Simulation terminated early. Zero schools left.\n",
            "WARNING: HISTORY TERMINATED EARLY\n",
            "               r2  pct_budgetary  pct_performant  decision_length\n",
            "count  343.000000     343.000000      343.000000       343.000000\n",
            "mean     0.593858       0.986531        0.354703         6.189504\n",
            "std      0.283706       0.071732        0.182727         5.594531\n",
            "min     -0.259232       0.320000        0.000000         1.000000\n",
            "25%      0.434741       1.000000        0.204082         3.000000\n",
            "50%      0.692894       1.000000        0.346939         5.000000\n",
            "75%      0.806232       1.000000        0.510204         7.000000\n",
            "max      0.956338       1.000000        0.775510        30.000000\n",
            "                            OLS Regression Results                            \n",
            "==============================================================================\n",
            "Dep. Variable:         pct_performant   R-squared:                       0.628\n",
            "Model:                            OLS   Adj. R-squared:                  0.608\n",
            "Method:                 Least Squares   F-statistic:                     30.42\n",
            "Date:                Mon, 02 Dec 2024   Prob (F-statistic):           8.86e-59\n",
            "Time:                        16:14:34   Log-Likelihood:                 266.52\n",
            "No. Observations:                 343   AIC:                            -495.0\n",
            "Df Residuals:                     324   BIC:                            -422.1\n",
            "Df Model:                          18                                         \n",
            "Covariance Type:            nonrobust                                         \n",
            "==============================================================================\n",
            "                 coef    std err          t      P>|t|      [0.025      0.975]\n",
            "------------------------------------------------------------------------------\n",
            "Intercept      0.4168      0.027     15.471      0.000       0.364       0.470\n",
            "C(p0)[T.1]    -0.1870      0.023     -8.086      0.000      -0.233      -0.142\n",
            "C(p0)[T.2]    -0.1589      0.023     -6.871      0.000      -0.204      -0.113\n",
            "C(p0)[T.3]     0.0575      0.023      2.485      0.013       0.012       0.103\n",
            "C(p0)[T.4]     0.0521      0.023      2.251      0.025       0.007       0.098\n",
            "C(p0)[T.5]     0.0658      0.023      2.846      0.005       0.020       0.111\n",
            "C(p0)[T.6]     0.0237      0.023      1.027      0.305      -0.022       0.069\n",
            "C(p1)[T.1]    -0.1554      0.023     -6.718      0.000      -0.201      -0.110\n",
            "C(p1)[T.2]    -0.1905      0.023     -8.240      0.000      -0.236      -0.145\n",
            "C(p1)[T.3]    -0.0046      0.023     -0.198      0.843      -0.050       0.041\n",
            "C(p1)[T.4]     0.0583      0.023      2.521      0.012       0.013       0.104\n",
            "C(p1)[T.5]    -0.0087      0.023     -0.378      0.706      -0.054       0.037\n",
            "C(p1)[T.6]     0.0375      0.023      1.621      0.106      -0.008       0.083\n",
            "C(p2)[T.1]    -0.0678      0.023     -2.932      0.004      -0.113      -0.022\n",
            "C(p2)[T.2]    -0.1087      0.023     -4.701      0.000      -0.154      -0.063\n",
            "C(p2)[T.3]     0.0325      0.023      1.405      0.161      -0.013       0.078\n",
            "C(p2)[T.4]     0.0587      0.023      2.539      0.012       0.013       0.104\n",
            "C(p2)[T.5]     0.0196      0.023      0.846      0.398      -0.026       0.065\n",
            "C(p2)[T.6]     0.0414      0.023      1.788      0.075      -0.004       0.087\n",
            "==============================================================================\n",
            "Omnibus:                        2.134   Durbin-Watson:                   1.327\n",
            "Prob(Omnibus):                  0.344   Jarque-Bera (JB):                2.008\n",
            "Skew:                           0.111   Prob(JB):                        0.366\n",
            "Kurtosis:                       2.697   Cond. No.                         9.61\n",
            "==============================================================================\n",
            "\n",
            "Notes:\n",
            "[1] Standard Errors assume that the covariance matrix of the errors is correctly specified.\n",
            "             df    sum_sq   mean_sq          F        PR(>F)\n",
            "C(p0)       6.0  3.334306  0.555718  42.412607  4.341274e-38\n",
            "C(p1)       6.0  2.716132  0.452689  34.549382  3.315667e-32\n",
            "C(p2)       6.0  1.123364  0.187227  14.289266  1.862677e-14\n",
            "Residual  324.0  4.245260  0.013103        NaN           NaN\n"
          ]
        },
        {
          "data": {
            "text/plain": [
              "r2                 0.692894\n",
              "pct_budgetary      1.000000\n",
              "pct_performant     0.346939\n",
              "decision_length    5.000000\n",
              "dtype: float64"
            ]
          },
          "execution_count": 46,
          "metadata": {},
          "output_type": "execute_result"
        }
      ],
      "source": [
        "na01_test = SingleExperiment(growth_pat_len=3, set_alpha=0.1, noise=True)\n",
        "na01_test.get_result()"
      ]
    },
    {
      "cell_type": "code",
      "execution_count": null,
      "metadata": {
        "id": "uVkxBzisUMKn",
        "outputId": "50d06207-9732-4932-ae38-a2952dcf3be1"
      },
      "outputs": [
        {
          "name": "stdout",
          "output_type": "stream",
          "text": [
            "               r2  pct_budgetary  pct_performant  decision_length\n",
            "count  343.000000     343.000000      343.000000       343.000000\n",
            "mean     0.858852       0.964315        0.663414         7.607872\n",
            "std      0.220624       0.124525        0.314040         8.824973\n",
            "min     -0.086937       0.300000        0.000000         1.000000\n",
            "25%      0.895654       1.000000        0.387755         3.000000\n",
            "50%      0.946476       1.000000        0.714286         6.000000\n",
            "75%      0.984140       1.000000        0.959184         9.000000\n",
            "max      1.000000       1.000000        1.000000        60.000000\n",
            "                            OLS Regression Results                            \n",
            "==============================================================================\n",
            "Dep. Variable:         pct_performant   R-squared:                       0.641\n",
            "Model:                            OLS   Adj. R-squared:                  0.621\n",
            "Method:                 Least Squares   F-statistic:                     32.14\n",
            "Date:                Mon, 02 Dec 2024   Prob (F-statistic):           3.57e-61\n",
            "Time:                        15:03:20   Log-Likelihood:                 86.781\n",
            "No. Observations:                 343   AIC:                            -135.6\n",
            "Df Residuals:                     324   BIC:                            -62.65\n",
            "Df Model:                          18                                         \n",
            "Covariance Type:            nonrobust                                         \n",
            "==============================================================================\n",
            "                 coef    std err          t      P>|t|      [0.025      0.975]\n",
            "------------------------------------------------------------------------------\n",
            "Intercept      0.0309      0.045      0.680      0.497      -0.059       0.120\n",
            "C(p0)[T.1]     0.0179      0.039      0.459      0.647      -0.059       0.095\n",
            "C(p0)[T.2]     0.4294      0.039     10.995      0.000       0.353       0.506\n",
            "C(p0)[T.3]     0.4373      0.039     11.198      0.000       0.360       0.514\n",
            "C(p0)[T.4]     0.4998      0.039     12.797      0.000       0.423       0.577\n",
            "C(p0)[T.5]     0.4302      0.039     11.016      0.000       0.353       0.507\n",
            "C(p0)[T.6]     0.5231      0.039     13.394      0.000       0.446       0.600\n",
            "C(p1)[T.1]     0.0408      0.039      1.045      0.297      -0.036       0.118\n",
            "C(p1)[T.2]     0.2103      0.039      5.385      0.000       0.133       0.287\n",
            "C(p1)[T.3]     0.2536      0.039      6.495      0.000       0.177       0.330\n",
            "C(p1)[T.4]     0.3207      0.039      8.212      0.000       0.244       0.398\n",
            "C(p1)[T.5]     0.2441      0.039      6.249      0.000       0.167       0.321\n",
            "C(p1)[T.6]     0.3528      0.039      9.033      0.000       0.276       0.430\n",
            "C(p2)[T.1]     0.0296      0.039      0.757      0.450      -0.047       0.106\n",
            "C(p2)[T.2]     0.0437      0.039      1.120      0.264      -0.033       0.121\n",
            "C(p2)[T.3]     0.1354      0.039      3.466      0.001       0.059       0.212\n",
            "C(p2)[T.4]     0.1828      0.039      4.682      0.000       0.106       0.260\n",
            "C(p2)[T.5]     0.1233      0.039      3.157      0.002       0.046       0.200\n",
            "C(p2)[T.6]     0.1524      0.039      3.903      0.000       0.076       0.229\n",
            "==============================================================================\n",
            "Omnibus:                       12.570   Durbin-Watson:                   1.068\n",
            "Prob(Omnibus):                  0.002   Jarque-Bera (JB):               13.010\n",
            "Skew:                          -0.471   Prob(JB):                      0.00150\n",
            "Kurtosis:                       3.146   Cond. No.                         9.61\n",
            "==============================================================================\n",
            "\n",
            "Notes:\n",
            "[1] Standard Errors assume that the covariance matrix of the errors is correctly specified.\n",
            "             df     sum_sq   mean_sq          F        PR(>F)\n",
            "C(p0)       6.0  14.884197  2.480699  66.383214  1.619677e-53\n",
            "C(p1)       6.0   5.296967  0.882828  23.624364  3.741169e-23\n",
            "C(p2)       6.0   1.439493  0.239915   6.420107  2.088549e-06\n",
            "Residual  324.0  12.107679  0.037369        NaN           NaN\n"
          ]
        },
        {
          "data": {
            "text/plain": [
              "r2                 0.946476\n",
              "pct_budgetary      1.000000\n",
              "pct_performant     0.714286\n",
              "decision_length    6.000000\n",
              "dtype: float64"
            ]
          },
          "execution_count": 44,
          "metadata": {},
          "output_type": "execute_result"
        }
      ],
      "source": [
        "a09_test = SingleExperiment(growth_pat_len=3, set_alpha=0.9)\n",
        "a09_test.get_result()"
      ]
    },
    {
      "cell_type": "code",
      "execution_count": null,
      "metadata": {
        "id": "G-e4wX_8UMKn",
        "outputId": "72696d0a-dc2b-4039-c270-c26da0cc0e01"
      },
      "outputs": [
        {
          "name": "stdout",
          "output_type": "stream",
          "text": [
            "Simulation terminated early. Zero schools left.\n",
            "WARNING: HISTORY TERMINATED EARLY\n",
            "Simulation terminated early. Zero schools left.\n",
            "WARNING: HISTORY TERMINATED EARLY\n",
            "Simulation terminated early. Zero schools left.\n",
            "WARNING: HISTORY TERMINATED EARLY\n",
            "               r2  pct_budgetary  pct_performant  decision_length\n",
            "count  343.000000     343.000000      343.000000       343.000000\n",
            "mean     0.676303       0.800233        0.251315         3.300292\n",
            "std      0.257139       0.258995        0.162066         7.124944\n",
            "min     -0.184986       0.180000        0.000000         1.000000\n",
            "25%      0.504809       0.580000        0.122449         1.000000\n",
            "50%      0.750192       1.000000        0.224490         2.000000\n",
            "75%      0.890803       1.000000        0.346939         2.500000\n",
            "max      0.968349       1.000000        0.775510        60.000000\n",
            "                            OLS Regression Results                            \n",
            "==============================================================================\n",
            "Dep. Variable:         pct_performant   R-squared:                       0.533\n",
            "Model:                            OLS   Adj. R-squared:                  0.508\n",
            "Method:                 Least Squares   F-statistic:                     20.58\n",
            "Date:                Mon, 02 Dec 2024   Prob (F-statistic):           2.31e-43\n",
            "Time:                        15:04:55   Log-Likelihood:                 268.73\n",
            "No. Observations:                 343   AIC:                            -499.5\n",
            "Df Residuals:                     324   BIC:                            -426.5\n",
            "Df Model:                          18                                         \n",
            "Covariance Type:            nonrobust                                         \n",
            "==============================================================================\n",
            "                 coef    std err          t      P>|t|      [0.025      0.975]\n",
            "------------------------------------------------------------------------------\n",
            "Intercept      0.2012      0.027      7.518      0.000       0.149       0.254\n",
            "C(p0)[T.1]    -0.0317      0.023     -1.378      0.169      -0.077       0.014\n",
            "C(p0)[T.2]    -0.1072      0.023     -4.663      0.000      -0.152      -0.062\n",
            "C(p0)[T.3]     0.0912      0.023      3.970      0.000       0.046       0.136\n",
            "C(p0)[T.4]     0.0217      0.023      0.943      0.347      -0.024       0.067\n",
            "C(p0)[T.5]     0.0737      0.023      3.208      0.001       0.029       0.119\n",
            "C(p0)[T.6]     0.0554      0.023      2.413      0.016       0.010       0.101\n",
            "C(p1)[T.1]    -0.0995      0.023     -4.332      0.000      -0.145      -0.054\n",
            "C(p1)[T.2]    -0.0671      0.023     -2.921      0.004      -0.112      -0.022\n",
            "C(p1)[T.3]     0.0137      0.023      0.598      0.550      -0.031       0.059\n",
            "C(p1)[T.4]     0.1262      0.023      5.492      0.000       0.081       0.171\n",
            "C(p1)[T.5]    -0.0042      0.023     -0.181      0.856      -0.049       0.041\n",
            "C(p1)[T.6]     0.1458      0.023      6.344      0.000       0.101       0.191\n",
            "C(p2)[T.1]    -0.0433      0.023     -1.883      0.061      -0.088       0.002\n",
            "C(p2)[T.2]    -0.0016      0.023     -0.069      0.945      -0.047       0.044\n",
            "C(p2)[T.3]    -0.0194      0.023     -0.842      0.400      -0.065       0.026\n",
            "C(p2)[T.4]     0.1245      0.023      5.420      0.000       0.079       0.170\n",
            "C(p2)[T.5]     0.0062      0.023      0.272      0.786      -0.039       0.051\n",
            "C(p2)[T.6]     0.0658      0.023      2.864      0.004       0.021       0.111\n",
            "==============================================================================\n",
            "Omnibus:                        0.288   Durbin-Watson:                   1.701\n",
            "Prob(Omnibus):                  0.866   Jarque-Bera (JB):                0.232\n",
            "Skew:                           0.064   Prob(JB):                        0.890\n",
            "Kurtosis:                       3.007   Cond. No.                         9.61\n",
            "==============================================================================\n",
            "\n",
            "Notes:\n",
            "[1] Standard Errors assume that the covariance matrix of the errors is correctly specified.\n",
            "             df    sum_sq   mean_sq          F        PR(>F)\n",
            "C(p0)       6.0  1.384689  0.230781  17.841444  7.035017e-18\n",
            "C(p1)       6.0  2.445544  0.407591  31.510360  8.487026e-30\n",
            "C(p2)       6.0  0.961498  0.160250  12.388712  1.444107e-12\n",
            "Residual  324.0  4.190984  0.012935        NaN           NaN\n"
          ]
        },
        {
          "data": {
            "text/plain": [
              "r2                 0.750192\n",
              "pct_budgetary      1.000000\n",
              "pct_performant     0.224490\n",
              "decision_length    2.000000\n",
              "dtype: float64"
            ]
          },
          "execution_count": 45,
          "metadata": {},
          "output_type": "execute_result"
        }
      ],
      "source": [
        "na09_test = SingleExperiment(growth_pat_len=3, set_alpha=0.9, noise=True)\n",
        "na09_test.get_result()"
      ]
    },
    {
      "cell_type": "code",
      "execution_count": null,
      "metadata": {
        "id": "aeCkhyvwUMKn",
        "outputId": "6c33093d-f541-4242-e3f2-3b4c1f186881"
      },
      "outputs": [
        {
          "data": {
            "text/plain": [
              "[r2                 0.904959\n",
              " pct_budgetary      1.000000\n",
              " pct_performant     0.653061\n",
              " decision_length    3.000000\n",
              " dtype: float64,\n",
              " r2                 0.748178\n",
              " pct_budgetary      1.000000\n",
              " pct_performant     0.306122\n",
              " decision_length    2.000000\n",
              " dtype: float64,\n",
              " r2                 0.753139\n",
              " pct_budgetary      1.000000\n",
              " pct_performant     0.489796\n",
              " decision_length    7.000000\n",
              " dtype: float64,\n",
              " r2                 0.946476\n",
              " pct_budgetary      1.000000\n",
              " pct_performant     0.714286\n",
              " decision_length    6.000000\n",
              " dtype: float64,\n",
              " r2                 0.692894\n",
              " pct_budgetary      1.000000\n",
              " pct_performant     0.346939\n",
              " decision_length    5.000000\n",
              " dtype: float64,\n",
              " r2                 0.750192\n",
              " pct_budgetary      1.000000\n",
              " pct_performant     0.224490\n",
              " decision_length    2.000000\n",
              " dtype: float64]"
            ]
          },
          "execution_count": 52,
          "metadata": {},
          "output_type": "execute_result"
        }
      ],
      "source": [
        "[x.core_res for x in [initial_class_test, noisy_test, a01_test, a09_test, na01_test, na09_test]]\n"
      ]
    },
    {
      "cell_type": "markdown",
      "metadata": {
        "id": "NwbkGv3CUMKn"
      },
      "source": [
        "# Discounting and predictive accuracy\n",
        "- In benefit-cost analysis, the process of discounting involves converting \"each future dollar \\[or util\\] amount into equivalent future dollars\" (Weitzman, 2001),\n",
        "- Discounting depends on a 'discount rate' $d$ a number, generally between 0 and 1, that reflects the proportion by which money would have to grow annually for an agent to be indifferent between having money now and having money in the future; a discount rate of 5\\% means that an agent considers receiving a benefit of \\\\$100 now to be equivalent with one of \\\\$105, received in one year.\n",
        "- A high discount rate corresponds to an expected low value of money in the future relative to now, and can reflect uncertainty.\n",
        "- The higher the discount rate, the less important predictive accuracy is to decision-making*: if the discount rate is such that the required future value is much greater than the predictive accuracy, there is no point in predicting--future money is so worthless to the agent . For example, in an autoregressive predictive model, say that $y_{t+1} = \\beta y_t + \\varepsilon$, where $0<\\beta<1$ and $\\varepsilon$ is Gaussian with mean 0 and variance 1; then, if $d = 11$,  the prediction cannot help the agent make a decision.\n",
        "\n",
        "* for models that don't extrapolate beyond existing data or that have narrow bounds on their trends."
      ]
    },
    {
      "cell_type": "markdown",
      "metadata": {
        "id": "avE5SbIzUMKo"
      },
      "source": [
        "# Future Directions\n",
        "- Common Core of Data API\n",
        "- Gittins index agents\n",
        "- Process controllers (PID, feed-forward, ...?)"
      ]
    },
    {
      "cell_type": "markdown",
      "metadata": {
        "id": "Z5JydkDoUMKo"
      },
      "source": [
        "# Test Functions\n",
        "- all that's needed for testing to make sense is that the shape of the prediction match the shape of the growth curve--I think I can use the FTES or other theory to show that smooth transitions can be well-followed and that EWMA should be able to be useful for maintaining a ratio."
      ]
    },
    {
      "cell_type": "markdown",
      "metadata": {
        "id": "N-egRL_pUMKo"
      },
      "source": [
        "Key questions:\n",
        "- Are there \"close\" conditions under which predictive accuracy makes the difference between success and failure?\n",
        "- Is there an empirical relationship between discounting and predictive accuracy?\n",
        "- Does scaling make a difference?"
      ]
    },
    {
      "cell_type": "code",
      "execution_count": null,
      "metadata": {
        "id": "2ZiINkHmUMKo",
        "outputId": "c7e0476f-f95b-4f1e-9a9a-e7a1df80954c"
      },
      "outputs": [
        {
          "ename": "AttributeError",
          "evalue": "'SingleExperiment' object has no attribute '__name__'",
          "output_type": "error",
          "traceback": [
            "\u001b[1;31m---------------------------------------------------------------------------\u001b[0m",
            "\u001b[1;31mAttributeError\u001b[0m                            Traceback (most recent call last)",
            "Cell \u001b[1;32mIn[51], line 1\u001b[0m\n\u001b[1;32m----> 1\u001b[0m initial_class_test\u001b[38;5;241m.\u001b[39m\u001b[38;5;18m__name__\u001b[39m\n",
            "\u001b[1;31mAttributeError\u001b[0m: 'SingleExperiment' object has no attribute '__name__'"
          ]
        }
      ],
      "source": []
    },
    {
      "cell_type": "code",
      "execution_count": null,
      "metadata": {
        "id": "EwfFaIHdUMKo"
      },
      "outputs": [],
      "source": []
    }
  ],
  "metadata": {
    "colab": {
      "provenance": []
    },
    "kernelspec": {
      "display_name": "Python 3 (ipykernel)",
      "language": "python",
      "name": "python3"
    },
    "language_info": {
      "codemirror_mode": {
        "name": "ipython",
        "version": 3
      },
      "file_extension": ".py",
      "mimetype": "text/x-python",
      "name": "python",
      "nbconvert_exporter": "python",
      "pygments_lexer": "ipython3",
      "version": "3.12.4"
    }
  },
  "nbformat": 4,
  "nbformat_minor": 0
}