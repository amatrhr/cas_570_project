{
 "cells": [
  {
   "cell_type": "code",
   "execution_count": null,
   "metadata": {},
   "outputs": [],
   "source": [
    "# modeling tools\n",
    "import numpy as np\n",
    "import matplotlib.pyplot as plt\n",
    "import pandas as pd\n",
    "from random import randint, choice\n",
    "from statsmodels.tsa.api import  SimpleExpSmoothing\n",
    "\n",
    "# programming and optimization tools\n",
    "import ipdb\n",
    "from collections import Counter\n",
    "from dataclasses import dataclass, field\n",
    "from functools import partial\n",
    "from scipy.optimize import minimize_scalar\n",
    "\n",
    "\n",
    "# parameters for the notebook itself\n",
    "%matplotlib inline\n"
   ]
  },
  {
   "cell_type": "code",
   "execution_count": null,
   "metadata": {},
   "outputs": [],
   "source": [
    "def minmax_scale(data:np.array)->np.array:\n",
    "    data = np.nan_to_num(data,0)\n",
    "    vs_min = data - np.min(data)\n",
    "    mmrange = np.max(data) - np.min(data) if np.max(data) != np.min(data) else 1\n",
    "    scaled = vs_min / mmrange\n",
    "    return scaled"
   ]
  },
  {
   "cell_type": "code",
   "execution_count": null,
   "metadata": {},
   "outputs": [],
   "source": [
    "def dbl_SEWMA(data:pd.Series, alpha:float)->dict:\n",
    "    # fits a simple exponential smoothing model with fixed alpha to a dataset\n",
    "    # used by simulated school (districts) to predict enrollment\n",
    "    ## Arguments\n",
    "    # data: univariate time series\n",
    "    # alpha: exponential smoothing parameter, between 0 and 1 \n",
    "    ## Returns\n",
    "    # dictionary containing the sum of squared errors and statsmodels time series model\n",
    "    mod1 = SimpleExpSmoothing(data, initialization_method=\"heuristic\").fit(smoothing_level=alpha, optimized=False)\n",
    "    return {'sse':mod1.sse, 'mod':mod1}\n"
   ]
  },
  {
   "cell_type": "code",
   "execution_count": null,
   "metadata": {},
   "outputs": [],
   "source": [
    "def flat_with_noise(start_value:float=10.0, n_years:int=5, chgrat:float=0.20)->np.array:\n",
    "    # generates a set of simulated enrollments that vary due to having noise\n",
    "    ## Arguments\n",
    "    ## Returns\n",
    "    # np array of e\n",
    "    output = np.zeros(n_years) + start_value\n",
    "    chgsize = chgrat*start_value\n",
    "    dmin = int(-1*chgsize)\n",
    "    dmax = int(chgsize)\n",
    "    output += np.array([randint(dmin, dmax) for x in range(n_years)])\n",
    "    return(output)"
   ]
  },
  {
   "cell_type": "code",
   "execution_count": null,
   "metadata": {},
   "outputs": [],
   "source": [
    "def impulse(start_value=10., n_years=5, impyr=2, chgrat=.670, impsign=1):\n",
    "    # function to produce an impulsive change \n",
    "    chgsize = chgrat*start_value\n",
    "    out = np.array([start_value for x in range(n_years)]) \n",
    "    out[impyr:n_years] = impsign*chgsize +  out[impyr]\n",
    "    return(out)"
   ]
  },
  {
   "cell_type": "code",
   "execution_count": null,
   "metadata": {},
   "outputs": [],
   "source": [
    "def cvx_change(start_value=10., n_years=5, chgsign=1, chgrat=.20):\n",
    "    #function to produce convex change \n",
    "    # i.e. change where the time series of population falls below the line connecting any two \n",
    "    # points on the time series, i.e. alpha*exp(t) or alpha*exp(n_years - t)\n",
    "    chgsize = chgrat*start_value\n",
    "    \n",
    "    alpha = np.exp(np.log(1+chgsign*chgrat)/n_years) - 1\n",
    "    output = start_value * np.power(1. + alpha, np.linspace(1,n_years,n_years))\n",
    "    \n",
    "    return(output)"
   ]
  },
  {
   "cell_type": "code",
   "execution_count": null,
   "metadata": {},
   "outputs": [],
   "source": [
    "def ccv_change(start_value=10.,n_years=5,alpha=0.75,chgsign=1, chgrat=.20):\n",
    "    #function to produce convex change \n",
    "    # i.e. change where the time series of population falls below the line connecting any two \n",
    "    # points on the time series, i.e. alpha*exp(t) or alpha*exp(n_years - t)\n",
    "    adjust = 0.5*np.pi if chgsign < 0 else 0\n",
    "    out = np.linspace(0,0.5*np.pi, n_years+1)\n",
    "    out += adjust\n",
    "    maxi = (1+chgrat*chgsign)*start_value\n",
    "    mini = min(start_value, maxi)\n",
    "    maxi = max(start_value, maxi)\n",
    "    output = (maxi-mini)*np.sin(out) + mini\n",
    "    return(output[1:])"
   ]
  },
  {
   "cell_type": "code",
   "execution_count": null,
   "metadata": {},
   "outputs": [],
   "source": [
    "# with individual growth patterns defined, store all in one easy-access place\n",
    "growthPats = {'flat':flat_with_noise, \n",
    "              'impUp':impulse, \n",
    "              'impDn':partial(impulse, impsign=-1), \n",
    "              'cvxUp':cvx_change, \n",
    "              'cvxDn':partial(cvx_change, chgsign=-1),\n",
    "              'ccvUp':ccv_change,\n",
    "              'ccvDn':partial(ccv_change, chgsign=-1)\n",
    "              }"
   ]
  },
  {
   "cell_type": "code",
   "execution_count": null,
   "metadata": {},
   "outputs": [],
   "source": [
    "def simulate_history(start_value=50, total_years=50, period_length=5, debug=False):\n",
    "    # core function to generate a school (district's) population history\n",
    "    history = [[start_value for x in range(period_length)]]\n",
    "            # need to add functionality to smooth the transitions \n",
    "    \n",
    "    for _, tp in enumerate(range(total_years//period_length)):\n",
    "        locidx = randint(0,len(growthPats)-1) # there are 7 locidxs\n",
    "        lochg = history[_][period_length-1] \n",
    "        locfun = list(growthPats.values())[locidx](start_value=lochg, n_years=period_length) \n",
    "        local_h = np.squeeze(locfun)\n",
    "        history.append(local_h)\n",
    "        if debug:\n",
    "            '''debug info that shows which growth pattern is used and prints\n",
    "               the starting value and simulated values for each multiyear \n",
    "            '''\n",
    "            print(f\"starting history {locidx}, a/k/a {repr(list(growthPats.values())[locidx])}\")\n",
    "            print(_)\n",
    "            print(lochg)\n",
    "            print(local_h)\n",
    "            print(\"____\")\n",
    "\n",
    "    out = np.floor(np.hstack(history)[period_length:])\n",
    "    print(out)\n",
    "    return out[period_length:]\n"
   ]
  },
  {
   "cell_type": "code",
   "execution_count": null,
   "metadata": {},
   "outputs": [],
   "source": [
    "def predict_from_history(schooldata:pd.Series,alpha_set:list=[0.1,0.5,0.7],years:int=5)->dict:\n",
    "    # core function to \n",
    "    # \n",
    "    school_SEWMA = lambda a: dbl_SEWMA(data=schooldata, alpha=a)\n",
    "    fit_res = {}\n",
    "    models = {}\n",
    "    sorted \n",
    "    for j in alpha_set:\n",
    "        # don't overwrite if there're multiples \n",
    "        if fit_res.get(j) is None: \n",
    "            ssmwa = school_SEWMA(j)\n",
    "            fit_res[j] = ssmwa['sse']\n",
    "            models[j] = ssmwa['mod']\n",
    "        \n",
    "    fit_check = pd.Series(fit_res)\n",
    "    result = fit_check.index[fit_check.argmin()]\n",
    "    return {\"alpha_result\":result, \"prediction\":models[result].forecast(years),\"history\":models[result].fittedvalues}"
   ]
  },
  {
   "cell_type": "code",
   "execution_count": null,
   "metadata": {},
   "outputs": [],
   "source": [
    "sim1 = simulate_history(start_value=5000,period_length=12)"
   ]
  },
  {
   "cell_type": "code",
   "execution_count": null,
   "metadata": {},
   "outputs": [],
   "source": [
    "predicres1 = predict_from_history(schooldata=sim1[0:13],years=4)\n",
    "predicres2 = predict_from_history(schooldata=sim1[0:25],years=4)\n",
    "predicres3 = predict_from_history(schooldata=sim1[0:35],years=4)"
   ]
  },
  {
   "cell_type": "code",
   "execution_count": null,
   "metadata": {},
   "outputs": [],
   "source": [
    "plt.plot(sim1)\n",
    "plt.plot(np.hstack((predicres1['history'],  predicres1['prediction'])))\n",
    "plt.plot(np.hstack((predicres2['history'],  predicres2['prediction'])))\n",
    "plt.plot(np.hstack((predicres3['history'],  predicres3['prediction'])))\n",
    "plt.legend(['sim', 'first', 'second','third'])"
   ]
  },
  {
   "cell_type": "code",
   "execution_count": null,
   "metadata": {},
   "outputs": [],
   "source": [
    "predicres1\n"
   ]
  },
  {
   "cell_type": "code",
   "execution_count": null,
   "metadata": {},
   "outputs": [],
   "source": [
    "@dataclass\n",
    "class SchoolDistrict:\n",
    "    # core simulation class: represents the history of a single school district \n",
    "    # BASIC SIMULATION PARAMETERS (CONSTANTS)\n",
    "    sscRat: int = 100 # student to school ratio\n",
    "    tolerance: tuple = (-0.5, 0.25) # tolerances for that ratio\n",
    "    alphas:tuple = tuple(np.linspace(0.1,0.9,9)) # starting set of exponential smoothing parameters \n",
    "    len_history:int = 60 # number of years to run the simulation\n",
    "    growth_period:int = 10 # number of years to follow a particular growth patterndef simulate_history(start_value=50, total_years=50, period_length=5, debug=False):\n",
    "    start_yr:int = 10 # year to begin forecasts\n",
    "    # BASIC SIMULATION PARAMETERS (VARIABLE)\n",
    "    NStudents:int = 1000 # initial number of students\n",
    "    pred_ratios: list = field(default_factory=list)\n",
    "    ach_ratios: list = field(default_factory=list)\n",
    "    hist_alphas: list = field(default_factory=list)\n",
    "    predictions: list = field(default_factory=list)\n",
    "    hist_schools: list = field(default_factory=list)\n",
    "\n",
    "\n",
    "    \n",
    "    def simulate_full_history(self):\n",
    "        # first step in the simulation--initialize the population history\n",
    "        self.history=simulate_history(start_value=self.NStudents, total_years=self.len_history, period_length=self.growth_period)\n",
    "        \n",
    "    def make_construction_decisions(self,debug=True):\n",
    "        # at the end of every year, make a forecast and update alpha selection probabilities\n",
    "        self.NSchools = self.NStudents // (self.sscRat + self.tolerance[1])# initial number of schools--started to be near a phase transition \n",
    "        self.pselect = np.ones(len(self.alphas))/len(self.alphas) # selection probabilities for exponential smoothing parameters\n",
    "        last_alpha = 0.0 # initalize the most recent choice of exponential smoothing param\n",
    "        alpha_multiple, extra = divmod(self.len_history - self.start_yr, len(self.alphas)) # number of times to include an alpha in the list, \n",
    "        #--must guarantee that we won't run out of alphas\n",
    "        local_as = list(self.alphas)*alpha_multiple  + [choice(self.alphas) for x in range(extra)]\n",
    "        self.ach_ratios += list(np.zeros(self.start_yr)-1)\n",
    "        self.predictions += list(np.zeros(self.start_yr))\n",
    "        self.pred_ratios += list(np.zeros(self.start_yr))\n",
    "        self.hist_alphas += list(np.zeros(self.start_yr))\n",
    "        self.hist_schools += list(np.zeros(self.start_yr))\n",
    "\n",
    "        for yr in range(self.start_yr, self.len_history-self.start_yr):\n",
    "            \n",
    "            # calculate ratio (evaluate performance) and update list of smoothing params\n",
    "            local_achrat = self.history[yr-1]/self.NSchools # achieved ratio\n",
    "            self.ach_ratios.append(local_achrat)\n",
    "            self.hist_schools.append(self.NSchools)\n",
    "            local_diff = (local_achrat - self.sscRat)/self.sscRat # achieved difference from ideal\n",
    "            if yr > self.start_yr and last_alpha in local_as:\n",
    "                if local_diff > self.tolerance[1]: #achieved ratio too high\n",
    "                    local_as.remove(last_alpha)\n",
    "                elif local_diff < self.tolerance[0]: #achieved ratio too low\n",
    "                    local_as.remove(last_alpha)\n",
    "                else: # ratio ok--good prediction\n",
    "                    local_as.append(last_alpha)\n",
    "                    \n",
    "\n",
    "\n",
    "            # forecast \n",
    "            forecast_objs = predict_from_history(self.history[0:yr],years=1,alpha_set=local_as)\n",
    "            local_prat = forecast_objs['prediction'][0]/self.NSchools\n",
    "            self.hist_alphas.append(forecast_objs['alpha_result'])\n",
    "            last_alpha = forecast_objs['alpha_result']\n",
    "            local_ach_diff = (local_prat - self.sscRat)/self.sscRat# predicted difference from ideal\n",
    "            self.predictions.append(forecast_objs['prediction'][0])\n",
    "            self.pred_ratios.append(local_prat)\n",
    "\n",
    "            # update number of schools based on forecast \n",
    "            self.NSchools = np.round(self.NSchools*(1 + local_ach_diff))\n",
    "            # \n",
    "            if debug:\n",
    "                print(len(local_as))\n",
    "                print(local_as)\n",
    "            \n",
    "    \n",
    "    \n",
    "    "
   ]
  },
  {
   "cell_type": "code",
   "execution_count": null,
   "metadata": {},
   "outputs": [],
   "source": [
    "simSchool = SchoolDistrict(growth_period=5,tolerance=(-.01,.01),pred_ratios=[], ach_ratios=[], hist_alphas=[], predictions=[], len_history=120)"
   ]
  },
  {
   "cell_type": "code",
   "execution_count": null,
   "metadata": {},
   "outputs": [],
   "source": [
    "simSchool.simulate_full_history()"
   ]
  },
  {
   "cell_type": "code",
   "execution_count": null,
   "metadata": {},
   "outputs": [],
   "source": [
    "simSchool.make_construction_decisions(debug=False)"
   ]
  },
  {
   "cell_type": "code",
   "execution_count": null,
   "metadata": {},
   "outputs": [],
   "source": []
  },
  {
   "cell_type": "code",
   "execution_count": null,
   "metadata": {},
   "outputs": [],
   "source": [
    "plt.plot(simSchool.history)\n",
    "plt.plot(simSchool.predictions)\n",
    "plt.legend(['hist','pred'])"
   ]
  },
  {
   "cell_type": "code",
   "execution_count": null,
   "metadata": {},
   "outputs": [],
   "source": [
    "plt.plot(simSchool.hist_alphas)"
   ]
  },
  {
   "cell_type": "code",
   "execution_count": null,
   "metadata": {},
   "outputs": [],
   "source": [
    "plt.plot(simSchool.ach_ratios)\n",
    "plt.plot(simSchool.pred_ratios)\n",
    "plt.legend(['achieved', 'predicted'])"
   ]
  },
  {
   "cell_type": "code",
   "execution_count": null,
   "metadata": {},
   "outputs": [],
   "source": [
    "Counter(simSchool.hist_alphas)"
   ]
  },
  {
   "cell_type": "code",
   "execution_count": null,
   "metadata": {},
   "outputs": [],
   "source": [
    "plt.plot(simSchool.hist_schools)"
   ]
  },
  {
   "cell_type": "code",
   "execution_count": null,
   "metadata": {},
   "outputs": [],
   "source": []
  },
  {
   "cell_type": "code",
   "execution_count": null,
   "metadata": {},
   "outputs": [],
   "source": [
    "plt.plot(minmax_scale(simSchool.history))\n",
    "plt.plot(minmax_scale(simSchool.hist_schools))\n",
    "plt.legend(['scaled population', 'scaled # schools'])"
   ]
  },
  {
   "cell_type": "code",
   "execution_count": null,
   "metadata": {},
   "outputs": [],
   "source": []
  }
 ],
 "metadata": {
  "kernelspec": {
   "display_name": "Python 3 (ipykernel)",
   "language": "python",
   "name": "python3"
  },
  "language_info": {
   "codemirror_mode": {
    "name": "ipython",
    "version": 3
   },
   "file_extension": ".py",
   "mimetype": "text/x-python",
   "name": "python",
   "nbconvert_exporter": "python",
   "pygments_lexer": "ipython3",
   "version": "3.12.4"
  }
 },
 "nbformat": 4,
 "nbformat_minor": 4
}
