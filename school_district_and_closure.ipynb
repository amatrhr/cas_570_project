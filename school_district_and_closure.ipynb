{
 "cells": [
  {
   "cell_type": "markdown",
   "metadata": {
    "id": "C-66kaUPR6nK"
   },
   "source": [
    "# Contents\n",
    "* [Overview](#Overview)\n",
    "* [Imports](#Library-Imports)\n",
    "* [Helper Functions](#Helper-Functions)\n",
    "* [The `SchoolDistrict` Class](#The-SchoolDistrict-Class)\n",
    "* [Example](#An-Example)"
   ]
  },
  {
   "cell_type": "markdown",
   "metadata": {
    "id": "2uS4KpSfR6nM"
   },
   "source": [
    "# Overview\n",
    "This project asks how, when faced with uncertain enrollment trends and a need to maintain a proper assignment of resources to students, a school district might set a fair resource policy by maintaining a tolerable student-to-resource ratio, for example, maintaining a certain student-to-school ratio $R$, for example 200 students in each school.\n",
    "\n",
    "I will address this question by using a two-agent simulation of school openings and closings in a single school district, played out over 50 to 100 time steps (\"school years\"). One agent represents the population of public school students, which undergoes random demographic variation across years. The other agent represents the policy-making body of the district, which attempts to maintain a tolerable student-to-school ratio in the face of these demographic changes by using historical data to predict the change in enrollment at the end of each school year and opening or closing schools in response. The district administration agent will update its prediction-making method based on whether its predictions have led to good decisions (maintaining a tolerable student-to-school ratio) or poor ones (failure to maintain the ratio).\n",
    "\n",
    "## Conceptual implementation\n",
    "I will simulate uncertain patterns of student demographic change within an individual school district; for each five-year period, the student population will (randomly) undergo either convex growth/decline, concave growth/decline, a one-time impulse of sudden inflow or outflow during the third year, or will remain flat (with uniform noise).\n",
    "\n",
    "![](logo.png)\n",
    "\n",
    "### Agent Behavior: District Administration\n",
    "During every simulated summer, the district administration will predict the change in number of students enrolled by using an exponentially weighted moving average (EWMA) of previous year-over-year changes, then will use the prediction as a basis for action. EWMA predictions depend on a single smoothing parameter, $\\alpha;\\; 0<\\alpha\\leq1$ and larger $\\alpha$ corresponds to emphasizing recent observations when predicting; see (https://otexts.com/fpp3/expsmooth.html).\n",
    "\n",
    "The district will choose $\\alpha$ randomly from the set $A = \\left\\{0.1,\\,0.2,\\,\\dots,\\,0.9, 1\\right\\}$, using the 10-vector of selection probabilities $\\vec{p}$. At first, each $\\alpha$ in $A$ has the same probability of being selected; each element of $\\vec{p}$ is 0.1. The district will learn from its policy choice and will increase those $p_i$ that have led to predictions that led to good decisions and decrease others, a process based on the adaptive agent-specific autoregressive predictions of Arthur, 1994 (https://www.jstor.org/stable/2117868) (my model is much simpler; the reference is a multi-agent simulation in which agents compete for resources based on their predictions).\n",
    "\n",
    "The district administration has a pre-set tolerance to violations of the student-to-school ratio; for example, if the tolerance interval is $T_\\text{min}=-50\\%$ to $T_\\text{max}=25\\%$ and the desired ratio, $R$, is 200 students per school, a predicted enrollment change resulting in $\\hat{R}<100$ or $\\hat{R}>250$ students per school is out-of-tolerance.\n",
    "If the predicted number of students would lead to an out-of-tolerance student-to-school ratio, the number of schools will be adjusted up or down to be just within tolerance."
   ]
  },
  {
   "cell_type": "markdown",
   "metadata": {
    "id": "3TSf3FjkR6nN"
   },
   "source": [
    "# Library Imports"
   ]
  },
  {
   "cell_type": "code",
   "execution_count": 122,
   "metadata": {
    "id": "7lXsWH69R6nO"
   },
   "outputs": [],
   "source": [
    "# modeling tools\n",
    "import numpy as np\n",
    "import matplotlib.pyplot as plt\n",
    "import pandas as pd\n",
    "from copy import deepcopy\n",
    "from random import randint, choice\n",
    "from statsmodels.tsa.api import  SimpleExpSmoothing\n",
    "\n",
    "# programming and optimization tools\n",
    "# import ipdb\n",
    "from collections import Counter\n",
    "from dataclasses import dataclass, field\n",
    "from functools import partial\n",
    "from scipy.optimize import minimize_scalar\n",
    "\n",
    "\n",
    "# parameters for the notebook itself\n",
    "%matplotlib inline"
   ]
  },
  {
   "cell_type": "markdown",
   "metadata": {
    "id": "yt_DxV_NR6nO"
   },
   "source": [
    "# Helper Functions"
   ]
  },
  {
   "cell_type": "code",
   "execution_count": 2,
   "metadata": {
    "id": "4AOSKLacR6nP"
   },
   "outputs": [],
   "source": [
    "def minmax_scale(data:np.array)->np.array:\n",
    "    # function to scale a variable between 1 and 0, where 1 corresponds to its max value\n",
    "    data = np.nan_to_num(data,0)\n",
    "    vs_min = data - np.min(data)\n",
    "    mmrange = np.max(data) - np.min(data) if np.max(data) != np.min(data) else 1\n",
    "    scaled = vs_min / mmrange\n",
    "    return scaled"
   ]
  },
  {
   "cell_type": "code",
   "execution_count": 3,
   "metadata": {
    "id": "zNuMy2MRR6nP"
   },
   "outputs": [],
   "source": [
    "def dbl_SEWMA(data:pd.Series, alpha:float)->dict:\n",
    "    # fits a simple exponential smoothing model with fixed alpha to a dataset\n",
    "    # used by simulated school (districts) to predict enrollment\n",
    "    ## Arguments\n",
    "    # data: univariate time series\n",
    "    # alpha: exponential smoothing parameter, between 0 and 1\n",
    "    ## Returns\n",
    "    # dictionary containing the sum of squared errors and statsmodels time series model\n",
    "    #TODO: fix initialization to use as few years as possible--this can only be done with \"known\" initial trend and level\n",
    "    mod1 = SimpleExpSmoothing(data, initialization_method=\"heuristic\").fit(smoothing_level=alpha, optimized=False)\n",
    "    return {'sse':mod1.sse, 'mod':mod1}\n"
   ]
  },
  {
   "cell_type": "code",
   "execution_count": 4,
   "metadata": {
    "id": "ZEG-Hhw_R6nP"
   },
   "outputs": [],
   "source": [
    "def flat_with_noise(start_value:float=10.0, n_years:int=5, chgrat:float=0.20, const_change:float=None)->np.array:\n",
    "    # generates a set of simulated enrollments that vary due to having noise\n",
    "    ## Arguments\n",
    "    ##\n",
    "    ## Returns\n",
    "    # np array of e\n",
    "    output = np.zeros(n_years) + start_value\n",
    "    chgsize = chgrat*start_value if const_change is None else const_change\n",
    "    dmin = int(-1*chgsize)\n",
    "    dmax = int(chgsize)\n",
    "    output += np.array([randint(dmin, dmax) for x in range(n_years)],dtype=np.float64)\n",
    "    return(output)"
   ]
  },
  {
   "cell_type": "code",
   "execution_count": 5,
   "metadata": {
    "id": "Ih43moqmR6nP"
   },
   "outputs": [],
   "source": [
    "def impulse(start_value:float=10., n_years:int=5, impyr:int=2, chgrat:float=.670, impsign:int=1):\n",
    "    # function to produce an impulsive change\n",
    "    chgsize = chgrat*start_value\n",
    "    out = np.array([start_value for x in range(n_years)],dtype=np.float64)\n",
    "    out[impyr:n_years] = impsign*chgsize +  out[impyr]\n",
    "    return(out)"
   ]
  },
  {
   "cell_type": "code",
   "execution_count": 6,
   "metadata": {
    "id": "SbsV92zPR6nP"
   },
   "outputs": [],
   "source": [
    "def cvx_change(start_value=10., n_years=5, chgsign=1, chgrat=.20):\n",
    "    #function to produce convex change\n",
    "    # i.e. change where the time series of population falls below the line connecting any two\n",
    "    # points on the time series, i.e. alpha*exp(t) or alpha*exp(n_years - t)\n",
    "    chgsize = chgrat*start_value\n",
    "\n",
    "    alpha = np.exp(np.log(1+chgsign*chgrat)/n_years) - 1\n",
    "    output = start_value * np.power(1. + alpha, np.linspace(1,n_years,n_years))\n",
    "\n",
    "    return(output)"
   ]
  },
  {
   "cell_type": "code",
   "execution_count": 7,
   "metadata": {
    "id": "9lUKyQE2R6nQ"
   },
   "outputs": [],
   "source": [
    "def ccv_change(start_value=10.,n_years=5,alpha=0.75,chgsign=1, chgrat=.20):\n",
    "    #function to produce convex change\n",
    "    # i.e. change where the time series of population falls below the line connecting any two\n",
    "    # points on the time series, i.e. alpha*exp(t) or alpha*exp(n_years - t)\n",
    "    adjust = 0.5*np.pi if chgsign < 0 else 0\n",
    "    out = np.linspace(0,0.5*np.pi, n_years+1)\n",
    "    out += adjust\n",
    "    maxi = (1+chgrat*chgsign)*start_value\n",
    "    mini = min(start_value, maxi)\n",
    "    maxi = max(start_value, maxi)\n",
    "    output = (maxi-mini)*np.sin(out) + mini\n",
    "    return(output[1:])"
   ]
  },
  {
   "cell_type": "code",
   "execution_count": 8,
   "metadata": {
    "id": "I9ptX5yER6nQ"
   },
   "outputs": [],
   "source": [
    "# with individual growth patterns defined, store all in one easy-access place\n",
    "growthPats = {'flat':flat_with_noise,\n",
    "              'impUp':impulse,\n",
    "              'impDn':partial(impulse, impsign=-1),\n",
    "              'cvxUp':cvx_change,\n",
    "              'cvxDn':partial(cvx_change, chgsign=-1),\n",
    "              'ccvUp':ccv_change,\n",
    "              'ccvDn':partial(ccv_change, chgsign=-1)\n",
    "              }"
   ]
  },
  {
   "cell_type": "code",
   "execution_count": 9,
   "metadata": {
    "id": "GtgLWanGR6nQ"
   },
   "outputs": [],
   "source": [
    "def simulate_history(start_value=50, total_years=50, period_length=5, debug=False, noisy=False, set_history:list=None):\n",
    "    # core function to generate a school (district's) population history\n",
    "\n",
    "    history = [[start_value for x in range(period_length)]]\n",
    "            # need to add functionality to smooth the transitions\n",
    "\n",
    "    if set_history is not None:\n",
    "        assert type(set_history) == list\n",
    "        # since we know it's a list, assert that the length of the list is correct\n",
    "        assert len(set_history) == total_years//period_length\n",
    "\n",
    "    for _, tp in enumerate(range(total_years//period_length)):\n",
    "        locidx = randint(0,len(growthPats)-1) if set_history is None else set_history[_] # there are 7 locidxs\n",
    "\n",
    "        lochg = history[_][period_length-1]\n",
    "        locfun = list(growthPats.values())[locidx](start_value=lochg, n_years=period_length)\n",
    "        local_h = np.squeeze(locfun)\n",
    "        if noisy:\n",
    "            local_h += np.squeeze(list(growthPats.values())[0](start_value=0., n_years=period_length, const_change=25.)) #TODO: use noise range ratio parameter\n",
    "\n",
    "        history.append(local_h)\n",
    "        if debug:\n",
    "            '''debug info that shows which growth pattern is used and prints\n",
    "               the starting value and simulated values for each multiyear\n",
    "            '''\n",
    "            print(f\"starting history {locidx}, a/k/a {repr(list(growthPats.values())[locidx])}\")\n",
    "            print(_)\n",
    "            print(lochg)\n",
    "            print(local_h)\n",
    "            print(\"____\")\n",
    "\n",
    "    out = np.floor(np.hstack(history)[period_length:])\n",
    "    print(out)\n",
    "    return out # out[period_length:](why are we skipping the first period??)\n"
   ]
  },
  {
   "cell_type": "code",
   "execution_count": 10,
   "metadata": {
    "id": "9qVEB2AaR6nQ"
   },
   "outputs": [],
   "source": [
    "def predict_from_history(schooldata:pd.Series,alpha_set:list=[0.1,0.5,0.7],years:int=5, random:bool=True)->dict:\n",
    "    # core function to use simple exponential smoothing\n",
    "\n",
    "    school_SEWMA = lambda a: dbl_SEWMA(data=schooldata, alpha=a)\n",
    "    fit_res = {}\n",
    "    models = {}\n",
    "    if random:\n",
    "        j = choice(alpha_set)\n",
    "        ssmwa = school_SEWMA(j)\n",
    "        fit_res[j] = ssmwa['sse']\n",
    "        models[j] = ssmwa['mod']\n",
    "    else:\n",
    "        for j in alpha_set:\n",
    "            # don't overwrite if there're multiples\n",
    "            if fit_res.get(j) is None:\n",
    "                ssmwa = school_SEWMA(j)\n",
    "                fit_res[j] = ssmwa['sse']\n",
    "                models[j] = ssmwa['mod']\n",
    "\n",
    "    fit_check = pd.Series(fit_res)\n",
    "    result = fit_check.index[fit_check.argmin()]\n",
    "    return {\"alpha_result\":result, \"prediction\":models[result].forecast(years),\"history\":models[result].fittedvalues}"
   ]
  },
  {
   "cell_type": "code",
   "execution_count": 11,
   "metadata": {
    "id": "yeNLRC-tR6nQ"
   },
   "outputs": [],
   "source": [
    "def get_run_lengths(timeseries:np.array=np.array([1.,1.,1.,22,22.,22.,3.,4.,3.]))->list:\n",
    "    # give the number of time steps between school openings/closings\n",
    "    loct = np.diff(timeseries) # a run is the same as no differences betweeen an item and its predecessor in the array\n",
    "    loct[loct!=0] = 1 # so, each run of length l is l - 1 zeros--if we replace the nonzeros by ones, then we can count each run as a string of 0s\n",
    "    str_reps =  ''.join([str(x) for x in loct]).split(\"1\")  # convert to string, remove any characters that aren't '0's or '1's\n",
    "    rls = [len(x) + 1 for x in str_reps] # get lengths l from (l-1) s\n",
    "    assert sum(rls) == len(timeseries)\n",
    "    return rls"
   ]
  },
  {
   "cell_type": "code",
   "execution_count": 12,
   "metadata": {
    "id": "KYwv3WBTR6nR"
   },
   "outputs": [],
   "source": [
    "def runlength_stats(rls:list)->dict:\n",
    "\n",
    "    # find run lengths of some metric (number schools, achieved ratios, etc), and their counts, averages and  standard deviations\n",
    "    assert len(rls) > 0\n",
    "    rl_count = Counter(rls)\n",
    "    rl_mean = np.mean(rls)\n",
    "    rl_std = np.std(rls)\n",
    "    return {'counts':rl_count, 'mean':rl_mean,'stddev':rl_std}\n",
    "\n"
   ]
  },
  {
   "cell_type": "code",
   "execution_count": null,
   "metadata": {},
   "outputs": [],
   "source": []
  },
  {
   "cell_type": "code",
   "execution_count": null,
   "metadata": {},
   "outputs": [],
   "source": []
  },
  {
   "cell_type": "code",
   "execution_count": null,
   "metadata": {},
   "outputs": [],
   "source": []
  },
  {
   "cell_type": "markdown",
   "metadata": {
    "id": "fQ0Y-mC9R6nR"
   },
   "source": [
    "# The SchoolDistrict Class"
   ]
  },
  {
   "cell_type": "code",
   "execution_count": 13,
   "metadata": {
    "id": "5IVIs1tTR6nR"
   },
   "outputs": [],
   "source": [
    "@dataclass\n",
    "class SchoolDistrict:\n",
    "    # core simulation class: represents the history of a single school district\n",
    "    # BASIC SIMULATION PARAMETERS (CONSTANTS)\n",
    "    sscRat: int = 100 # student to school ratio\n",
    "    tolerance: tuple = (-0.5, 0.25) # tolerances for that ratio\n",
    "    alphas:tuple = tuple(np.linspace(0.1,0.9,9)) # starting set of exponential smoothing parameters\n",
    "    growth_period:int = 10 # number of years to follow a particular growth pattern\n",
    "    n_periods:int = 6 # number of growth periods to run the simulation\n",
    "    start_yr:int = 10 # year to begin forecasts\n",
    "    noisy:bool = False # add noise to trajectory?\n",
    "    school_lifetime:int = 30 # expected life of a school\n",
    "    school_open_cost:float = -9. # cost to open a school\n",
    "    school_close_cost:float = 1. # cost to close a school\n",
    "    school_fund_fraction:float = 0.01 # how many other schools should revenue above the cost of maintenance go to fund?\n",
    "    starting_fund_yrs:int = 2 # how many years of surplus to start with?\n",
    "    school_minimum_threshold:float = -50. # what value of budget means no construction and no closure?\n",
    "    interest_rate:float = 0.05 # how much is savings worth\n",
    "    loan_multiplier:float = 0.7 # how much smaller is the interest to be paid vs. interest on assets?\n",
    "    # BASIC SIMULATION PARAMETERS (VARIABLE)\n",
    "    NStudents:int = 1000 # initial number of students\n",
    "    pred_ratios: list = field(default_factory=list) # agent-predicted student/resource ratios\n",
    "    ach_ratios: list = field(default_factory=list) # achieved student/resource ratios\n",
    "    hist_alphas: list = field(default_factory=list)\n",
    "    predictions: list = field(default_factory=list)\n",
    "    hist_schools: list = field(default_factory=list)\n",
    "    hist_budget: list = field(default_factory=list)\n",
    "\n",
    "\n",
    "    #TODO: add BUDGET\n",
    "    #TODO: fix ufunc bug\n",
    "\n",
    "\n",
    "    def simulate_full_history(self,to_debug=False,set_history=None):\n",
    "        # first step in the simulation--initialize the population history\n",
    "        self.len_history = self.n_periods * self.growth_period\n",
    "        self.history=simulate_history(start_value=self.NStudents,\n",
    "                                      total_years=self.len_history,\n",
    "                                      period_length=self.growth_period,\n",
    "                                      noisy=self.noisy,\n",
    "                                      debug=to_debug,\n",
    "                                      set_history=set_history)\n",
    "\n",
    "    def make_construction_decisions(self,debug=True):\n",
    "        # at the end of every year, make a forecast and update alpha selection probabilities\n",
    "        self.NSchools = self.NStudents // (self.sscRat + self.tolerance[1])# initial number of schools--started to be near a phase transition\n",
    "        self.pselect = np.ones(len(self.alphas))/len(self.alphas) # selection probabilities for exponential smoothing parameters\n",
    "        self.funding_rate = (1. + self.school_fund_fraction)/(self.sscRat * self.school_lifetime)\n",
    "        last_alpha = 0.0 # initalize the most recent choice of exponential smoothing param\n",
    "        alpha_multiple, extra = 1, 1 #divmod(self.len_history - self.start_yr, 5*len(self.alphas)) # number of times to include an alpha in the list,\n",
    "        #--must guarantee that we won't run out of alphas\n",
    "        local_as = list(self.alphas)*alpha_multiple  + [choice(self.alphas) for x in range(extra)]\n",
    "        self.ach_ratios += list(np.zeros(self.start_yr-1))\n",
    "        self.predictions += list(np.zeros(self.start_yr))\n",
    "        self.pred_ratios += list(np.zeros(self.start_yr))\n",
    "        self.hist_alphas += list(np.zeros(self.start_yr))\n",
    "        self.hist_schools += list(np.ones(self.start_yr)*self.NSchools)\n",
    "        self.hist_budget += list(np.zeros(self.start_yr - 1)) + [self.starting_fund_yrs*self.funding_rate *self.NStudents*-1*self.school_open_cost]\n",
    "\n",
    "        for yr in range(self.start_yr, self.len_history):\n",
    "            if self.NSchools == 0:\n",
    "                print(\"Simulation terminated early. Zero schools left.\")\n",
    "                break\n",
    "\n",
    "            # calculate ratio (evaluate performance) and update list of smoothing params\n",
    "            local_achrat = self.history[yr-1]/self.NSchools # achieved ratio\n",
    "            self.ach_ratios.append(local_achrat)\n",
    "            self.hist_schools.append(self.NSchools)\n",
    "            local_diff = (local_achrat - self.sscRat)/self.sscRat # achieved difference from ideal\n",
    "            if yr > self.start_yr and last_alpha in local_as:\n",
    "                if local_diff > self.tolerance[1] and len(local_as) > 1: #achieved ratio too high\n",
    "                    local_as.remove(last_alpha)\n",
    "                elif local_diff < self.tolerance[0] and len(local_as) > 1: #achieved ratio too low\n",
    "                    local_as.remove(last_alpha)\n",
    "                else: # ratio ok--good prediction\n",
    "                    local_as.append(last_alpha)\n",
    "\n",
    "\n",
    "            # forecast\n",
    "            forecast_objs = predict_from_history(self.history[0:yr],years=1,alpha_set=local_as)\n",
    "            local_prat = forecast_objs['prediction'][0]/self.NSchools\n",
    "            self.hist_alphas.append(forecast_objs['alpha_result'])\n",
    "            last_alpha = forecast_objs['alpha_result']\n",
    "            local_ach_diff = (local_prat - self.sscRat)/self.sscRat# predicted difference from ideal\n",
    "            self.predictions.append(forecast_objs['prediction'][0])\n",
    "            self.pred_ratios.append(local_prat)\n",
    "\n",
    "            # update number of schools based on forecast\n",
    "\n",
    "            sch_change = np.round(self.NSchools*(local_ach_diff))\n",
    "\n",
    "            open_close_cost = self.school_open_cost*sch_change if sch_change > 0 else self.school_close_cost*sch_change\n",
    "            # print(f\"existing budget is ${self.hist_budget[-1]}, need  ${open_close_cost} for opening/closing. \")\n",
    "\n",
    "            if (self.hist_budget[-1] + open_close_cost) >= self.school_minimum_threshold:\n",
    "                self.NSchools = np.round(self.NSchools*(1 + local_ach_diff))\n",
    "            else: # can't afford to act\n",
    "                open_close_cost = 0.\n",
    "\n",
    "            interest =  self.hist_budget[-1]*self.interest_rate\n",
    "            if self.hist_budget[-1]:\n",
    "                interest *= self.loan_multiplier\n",
    "\n",
    "            budget_change = self.history[yr]*self.funding_rate + open_close_cost + interest\n",
    "            # print(f\"budget changing by ${budget_change}, including ${open_close_cost} for opening/closing. \")\n",
    "            self.hist_budget.append(self.hist_budget[-1] + budget_change)\n",
    "            # update budget to reflect openings and closings\n",
    "            if debug:\n",
    "                print(len(local_as))\n",
    "                print(local_as)\n",
    "                print(Counter(local_as))\n",
    "                print(f\"schools should change by {self.NSchools*(local_ach_diff)}, or {sch_change}\")\n",
    "                print(f\"existing budget is ${self.hist_budget[-1]}, need  ${open_close_cost} for opening/closing. \")\n",
    "                print(f\"budget changing by ${budget_change}, including ${open_close_cost} for opening/closing. \")\n",
    "\n",
    "    def plot_history_vs_preds(self):\n",
    "        # plotting actual vs predicted enrollment\n",
    "        fig, ax = plt.subplots()\n",
    "        ax.step(x=range(len(self.history)), y=self.history)\n",
    "        ax.step(x=range(len(self.predictions)), y=self.predictions)\n",
    "        ax.legend(['historical','predictions'])\n",
    "        ax.set_title(\"Time Series of Historical vs. Predicted Enrollment\")\n",
    "        ax.set_ylabel(\"# Students\")\n",
    "        plt.show()\n",
    "        plt.close()\n",
    "\n",
    "\n",
    "    def plot_ratios(self):\n",
    "        # plotting achieved vs actual student/school ratio\n",
    "        fig, ax = plt.subplots()\n",
    "        ax.step(x=range(len(self.ach_ratios)), y=self.ach_ratios)\n",
    "        ax.step(x=range(len(self.pred_ratios)), y=self.pred_ratios)\n",
    "        ax.hlines((self.tolerance[0] + 1)*self.sscRat, xmin=0, xmax=self.len_history,color=\"gray\")\n",
    "        ax.hlines((self.tolerance[1] + 1)*self.sscRat, xmin=0, xmax=self.len_history,color=\"gray\")\n",
    "        ax.fill_between(range(self.len_history), 0, (self.tolerance[0] + 1)*self.sscRat, color=\"gray\", alpha=0.30)\n",
    "        ax.fill_between(range(self.len_history),(self.tolerance[1] + 1)*self.sscRat, max(max(self.ach_ratios), max(self.pred_ratios)), color=\"gray\", alpha=0.30)\n",
    "        ax.legend(['achieved','predictions'])\n",
    "        ax.set_title(\"Time Series of Predicted vs. Achieved Student/School Ratio\")\n",
    "        ax.set_ylabel(\"Students per School\")\n",
    "        ax.set_xlabel(\"Time (Years)\")\n",
    "        plt.show()\n",
    "        plt.close()\n",
    "\n",
    "    def plot_schools_vs_pop(self):\n",
    "        # plotting number of schools vs. population (scaled)\n",
    "        fig, ax = plt.subplots()\n",
    "        ax.step(x=range(len(self.history)), y=minmax_scale(self.history))\n",
    "        ax.step(x=range(len(self.hist_schools)), y=minmax_scale(self.hist_schools))\n",
    "        ax.legend(['scaled population', 'scaled # schools'])\n",
    "        ax.set_title(f\"Time Series of Scaled # Schools, Total Enrollment\\n#Schools: Min:{min(self.hist_schools)},Max:{max(self.hist_schools)}, Enrolled: Min:{min(self.history)},Max:{max(self.history)}\")\n",
    "        ax.set_ylabel(\"Scaled School Count/Scaled Enrollment\")\n",
    "        ax.set_xlabel(\"Time (Years)\")\n",
    "        plt.show()\n",
    "        plt.close()\n",
    "\n",
    "    # metrics\n",
    "    def pct_when_performant(self, to_print=False):\n",
    "        # give the proportion of school years where achieved student to resource ratios were within tolerance\n",
    "        ach_test = self.ach_ratios[self.start_yr:]\n",
    "        result_bool = [ (x <= ((self.tolerance[1] + 1)*self.sscRat) ) and (x >= ((self.tolerance[0] + 1)*self.sscRat)) for x in ach_test]\n",
    "        prop = sum(result_bool)/len(result_bool)\n",
    "        self.prop_perf = prop\n",
    "        if to_print:\n",
    "            print(f\"The district was within tolerance bounds {np.round(100*prop)}% of the time.\")\n",
    "        return prop\n",
    "\n",
    "    def plot_budget(self):\n",
    "        # plotting budget\n",
    "        fig, ax = plt.subplots()\n",
    "        ax.step(x=range(len(self.hist_budget)), y=self.hist_budget)\n",
    "        ax.legend(['Historical Budget'])\n",
    "        ax.set_title(f\"Time Series of Historical Budget\")\n",
    "        ax.hlines(self.school_minimum_threshold, xmin=0, xmax=self.len_history,color=\"red\", linestyle=\"dotted\")\n",
    "        ax.hlines(0, xmin=0, xmax=self.len_history,color=\"gray\", linestyle=\"dotted\")\n",
    "        ax.set_ylabel(\"Historical Budget ($)\")\n",
    "        ax.set_xlabel(\"Time (Years)\")\n",
    "        plt.show()\n",
    "        plt.close()\n",
    "\n",
    "    # metrics\n",
    "    def pct_when_in_budget(self, lower_thresh=0, to_print=False):\n",
    "        # give the proportion of school years where the budget was above some threshold ($0, -100% of total value of all schools, etc)\n",
    "        budget_res = self.hist_budget[self.start_yr:]\n",
    "        result_bool = [ (x >= lower_thresh) for x in budget_res]\n",
    "        prop = sum(result_bool)/len(result_bool)\n",
    "        self.prop_perf = prop\n",
    "        if to_print:\n",
    "            print(f\"The district budget was above the threshold of ${lower_thresh} {np.round(100*prop)}% of the time.\")\n",
    "        return prop\n",
    "\n",
    "\n",
    "    # optimal predictions\n",
    "    def optimal_pred_decs(self):\n",
    "        # reimplements decisions with better predictions\n",
    "        # copy over existing run to new objects\n",
    "        # reset NSchools\n",
    "        # reset alphas\n",
    "\n",
    "        #reset historical objects\n",
    "        pass\n",
    "\n",
    "    # budget-optimal decisions\n",
    "    def oracle_budget_decide(self):\n",
    "        pass\n",
    "\n",
    "\n"
   ]
  },
  {
   "cell_type": "markdown",
   "metadata": {
    "id": "LEBZ3SCsR6nS"
   },
   "source": [
    "# An Example"
   ]
  },
  {
   "cell_type": "code",
   "execution_count": 14,
   "metadata": {
    "id": "pUWP8C9SR6nS"
   },
   "outputs": [],
   "source": [
    "simSchool = SchoolDistrict(NStudents=2500, #Start with 1250 students\n",
    "                           sscRat=250,  # ideal student/school ratio is 250\n",
    "                           tolerance=(-.1,.1), #tolerate student/school ratios of 225 to 275\n",
    "                           growth_period=20, # growth patterns last 20 years\n",
    "                           n_periods=3, # run for 60 years\n",
    "                           noisy=False, # add noise to population change\n",
    "                           school_minimum_threshold = -60., # minimum budget to open/close a school\n",
    "                           school_fund_fraction=0.95, # determines how much over current school operating expenses to charge in taxes\n",
    "                           interest_rate=0.03,\n",
    "                           pred_ratios=[], ach_ratios=[], hist_alphas=[], predictions=[],hist_budget=[]\n",
    "                       )"
   ]
  },
  {
   "cell_type": "code",
   "execution_count": 15,
   "metadata": {
    "colab": {
     "base_uri": "https://localhost:8080/"
    },
    "id": "UPwcKbwWR6nS",
    "outputId": "222e8cd8-96bd-4e0f-b924-13e6504c5412"
   },
   "outputs": [
    {
     "name": "stdout",
     "output_type": "stream",
     "text": [
      "[2539. 2578. 2616. 2654. 2691. 2726. 2761. 2793. 2824. 2853. 2880. 2904.\n",
      " 2926. 2945. 2961. 2975. 2986. 2993. 2998. 3000. 2966. 2933. 2901. 2869.\n",
      " 2837. 2805. 2774. 2743. 2713. 2683. 2653. 2624. 2594. 2566. 2537. 2509.\n",
      " 2481. 2454. 2426. 2400. 2182. 2288. 2319. 2068. 1955. 2625. 2803. 2793.\n",
      " 2028. 1948. 2487. 2281. 2540. 2377. 2155. 2152. 2645. 2717. 1983. 2779.]\n"
     ]
    }
   ],
   "source": [
    "simSchool.simulate_full_history(set_history=[5,4,0])"
   ]
  },
  {
   "cell_type": "code",
   "execution_count": 16,
   "metadata": {
    "id": "M8l72CIjR6nS"
   },
   "outputs": [],
   "source": [
    "simSchool.make_construction_decisions(debug=False)"
   ]
  },
  {
   "cell_type": "markdown",
   "metadata": {
    "id": "Kslxx9D-R6nT"
   },
   "source": [
    "## Plots: Population Predictions vs Actuals"
   ]
  },
  {
   "cell_type": "code",
   "execution_count": 17,
   "metadata": {
    "colab": {
     "base_uri": "https://localhost:8080/",
     "height": 452
    },
    "id": "Tg1izlYqR6nT",
    "outputId": "d2623b6c-88db-478a-d5d0-683c18139242"
   },
   "outputs": [
    {
     "data": {
      "image/png": "[encoded data removed]",
      "text/plain": [
       "<Figure size 640x480 with 1 Axes>"
      ]
     },
     "metadata": {},
     "output_type": "display_data"
    }
   ],
   "source": [
    "simSchool.plot_history_vs_preds()"
   ]
  },
  {
   "cell_type": "markdown",
   "metadata": {
    "id": "sFo18PP-R6nT"
   },
   "source": [
    "## Plots: Predicted Student/School Ratios vs. Actuals"
   ]
  },
  {
   "cell_type": "code",
   "execution_count": 18,
   "metadata": {
    "colab": {
     "base_uri": "https://localhost:8080/",
     "height": 472
    },
    "id": "tQtdvLRkR6nT",
    "outputId": "4dbc2bc4-bef4-4bbe-b057-246047088bed"
   },
   "outputs": [
    {
     "data": {
      "image/png": "[encoded data removed]",
      "text/plain": [
       "<Figure size 640x480 with 1 Axes>"
      ]
     },
     "metadata": {},
     "output_type": "display_data"
    }
   ],
   "source": [
    "simSchool.plot_ratios()"
   ]
  },
  {
   "cell_type": "code",
   "execution_count": 19,
   "metadata": {
    "colab": {
     "base_uri": "https://localhost:8080/"
    },
    "id": "OMDYT83FR6nT",
    "outputId": "b83a83cb-9eb5-4a0c-ab3f-1924b847ade2"
   },
   "outputs": [
    {
     "name": "stdout",
     "output_type": "stream",
     "text": [
      "The district was within tolerance bounds 78.0% of the time.\n"
     ]
    },
    {
     "data": {
      "text/plain": [
       "0.7755102040816326"
      ]
     },
     "execution_count": 19,
     "metadata": {},
     "output_type": "execute_result"
    }
   ],
   "source": [
    "simSchool.pct_when_performant(to_print=True)"
   ]
  },
  {
   "cell_type": "markdown",
   "metadata": {
    "id": "unW2zH5IR6nT"
   },
   "source": [
    "## Plots: Trends in School Enrollment and Openings/Closings"
   ]
  },
  {
   "cell_type": "code",
   "execution_count": 20,
   "metadata": {
    "colab": {
     "base_uri": "https://localhost:8080/",
     "height": 493
    },
    "id": "pe1GuNJFR6nT",
    "outputId": "19585cd8-9667-4931-c4d4-846825853884"
   },
   "outputs": [
    {
     "data": {
      "image/png": "[encoded data removed]",
      "text/plain": [
       "<Figure size 640x480 with 1 Axes>"
      ]
     },
     "metadata": {},
     "output_type": "display_data"
    }
   ],
   "source": [
    "simSchool.plot_schools_vs_pop()"
   ]
  },
  {
   "cell_type": "markdown",
   "metadata": {
    "id": "Xwt0Lx9bR6nU"
   },
   "source": [
    "## Budget figures"
   ]
  },
  {
   "cell_type": "code",
   "execution_count": 21,
   "metadata": {
    "colab": {
     "base_uri": "https://localhost:8080/",
     "height": 472
    },
    "id": "W2SDsgegR6nU",
    "outputId": "df6b0210-8e0f-4267-810f-c8b63159728f"
   },
   "outputs": [
    {
     "data": {
      "image/png": "[encoded data removed]",
      "text/plain": [
       "<Figure size 640x480 with 1 Axes>"
      ]
     },
     "metadata": {},
     "output_type": "display_data"
    }
   ],
   "source": [
    "simSchool.plot_budget()"
   ]
  },
  {
   "cell_type": "code",
   "execution_count": 22,
   "metadata": {
    "colab": {
     "base_uri": "https://localhost:8080/"
    },
    "id": "GF8jFXUWR6nU",
    "outputId": "54387f8b-7485-453d-aa94-2644be4f3bb3"
   },
   "outputs": [
    {
     "name": "stdout",
     "output_type": "stream",
     "text": [
      "The district budget was above the threshold of $-60.0 100.0% of the time.\n"
     ]
    },
    {
     "data": {
      "text/plain": [
       "1.0"
      ]
     },
     "execution_count": 22,
     "metadata": {},
     "output_type": "execute_result"
    }
   ],
   "source": [
    "simSchool.pct_when_in_budget(lower_thresh=simSchool.school_minimum_threshold,to_print=True)"
   ]
  },
  {
   "cell_type": "markdown",
   "metadata": {
    "id": "kbecsMGWR6nU"
   },
   "source": [
    "## Metrics: run lengths"
   ]
  },
  {
   "cell_type": "code",
   "execution_count": 23,
   "metadata": {
    "colab": {
     "base_uri": "https://localhost:8080/"
    },
    "id": "N6TvlLBER6nU",
    "outputId": "fa41a424-3f14-4cda-856c-9b5119455a9f"
   },
   "outputs": [
    {
     "data": {
      "text/plain": [
       "{'counts': Counter({1: 5, 2: 2, 5: 2, 10: 2, 11: 1, 4: 1, 6: 1}),\n",
       " 'mean': 4.285714285714286,\n",
       " 'stddev': 3.5742845723419436}"
      ]
     },
     "execution_count": 23,
     "metadata": {},
     "output_type": "execute_result"
    }
   ],
   "source": [
    "runlength_stats(get_run_lengths([int(x) for x in simSchool.hist_schools]))"
   ]
  },
  {
   "cell_type": "markdown",
   "metadata": {
    "id": "wUpEJlwDR6nU"
   },
   "source": [
    "## Metrics: $\\alpha$s"
   ]
  },
  {
   "cell_type": "code",
   "execution_count": 24,
   "metadata": {
    "colab": {
     "base_uri": "https://localhost:8080/"
    },
    "id": "ML8bcjQDR6nV",
    "outputId": "6bb890a5-dc32-420e-addb-5ee3aa19b2c9"
   },
   "outputs": [
    {
     "data": {
      "text/plain": [
       "Counter({0.30000000000000004: 27,\n",
       "         0.0: 10,\n",
       "         0.1: 5,\n",
       "         0.4: 4,\n",
       "         0.2: 3,\n",
       "         0.5: 3,\n",
       "         0.7000000000000001: 3,\n",
       "         0.8: 2,\n",
       "         0.6: 2,\n",
       "         0.9: 1})"
      ]
     },
     "execution_count": 24,
     "metadata": {},
     "output_type": "execute_result"
    }
   ],
   "source": [
    "Counter(simSchool.hist_alphas)"
   ]
  },
  {
   "cell_type": "code",
   "execution_count": 25,
   "metadata": {
    "colab": {
     "base_uri": "https://localhost:8080/",
     "height": 447
    },
    "id": "P9NmJciwR6nV",
    "outputId": "6fc9533e-5e5f-4446-9902-31fe4b2bf549"
   },
   "outputs": [
    {
     "data": {
      "text/plain": [
       "[<matplotlib.lines.Line2D at 0x21a6a8337d0>]"
      ]
     },
     "execution_count": 25,
     "metadata": {},
     "output_type": "execute_result"
    },
    {
     "data": {
      "image/png": "[encoded data removed]",
      "text/plain": [
       "<Figure size 640x480 with 1 Axes>"
      ]
     },
     "metadata": {},
     "output_type": "display_data"
    }
   ],
   "source": [
    "plt.plot(simSchool.hist_alphas)"
   ]
  },
  {
   "cell_type": "markdown",
   "metadata": {
    "id": "7ky5bzVTSh0h"
   },
   "source": [
    "Since the change in population is exogenous and non-interest revenue is a direct function of population, that revenue is not affected by school district decisions. Thus, the constraint on the budget is set after the history is generated.\n",
    "\n",
    "The necessary ingredients for a constrained optimization are that constraint + a loss function defined on achieved student-to-resource ratio."
   ]
  },
  {
   "cell_type": "code",
   "execution_count": 26,
   "metadata": {},
   "outputs": [],
   "source": [
    "total_revenue = np.round(np.cumsum(simSchool.history*simSchool.funding_rate))"
   ]
  },
  {
   "cell_type": "code",
   "execution_count": 27,
   "metadata": {},
   "outputs": [
    {
     "data": {
      "text/plain": [
       "array([ 1.,  1.,  2.,  3.,  3.,  4.,  5.,  6.,  6.,  7.,  8.,  9.,  9.,\n",
       "       10., 11., 12., 12., 13., 14., 15., 15., 16., 17., 18., 18., 19.,\n",
       "       20., 21., 21., 22., 23., 23., 24., 25., 25., 26., 27., 27., 28.,\n",
       "       29., 29., 30., 30., 31., 31., 32., 33., 34., 34., 35., 35., 36.,\n",
       "       37., 37., 38., 38., 39., 40., 40., 41.])"
      ]
     },
     "execution_count": 27,
     "metadata": {},
     "output_type": "execute_result"
    }
   ],
   "source": [
    "total_revenue"
   ]
  },
  {
   "cell_type": "code",
   "execution_count": 111,
   "metadata": {},
   "outputs": [],
   "source": [
    "'''Back out of the ratio curve to find a small number of changes that can keep it close to tolerable'''\n",
    "def find_crossing_indices(history, tolerances, ratio, init_schools):\n",
    "    '''\n",
    "    Finds the locations where, with no intervention, ratio would break\n",
    "    '''\n",
    "    no_action_rat = history/init_schools\n",
    "    \n",
    "    LL = ratio*(1+tolerances[0])\n",
    "    UL = ratio*(1+tolerances[1])\n",
    "    out_of_tol = [(x or y) for x, y in zip(no_action_rat < LL, no_action_rat > UL)]\n",
    "    transitions = [False] + [(x != y) for x, y in zip(out_of_tol[1:],out_of_tol[:len(out_of_tol)]) ]\n",
    "    transition_idx = np.where(transitions)\n",
    "    \n",
    "    return out_of_tol, no_action_rat, transitions, transition_idx"
   ]
  },
  {
   "cell_type": "code",
   "execution_count": 119,
   "metadata": {},
   "outputs": [],
   "source": [
    "def adjust_epochs(no_action_rat, transition_idx, tolerances, ratio, init_schools):\n",
    "    '''\n",
    "    minimally opens or closes schools to remain within ratio, by splitting history into epochs above or below tolerance ratio\n",
    "    '''\n",
    "    LL = ratio*(1+tolerances[0])\n",
    "    UL = ratio*(1+tolerances[1])\n",
    "    out_of_tol = (min(no_action_rat) < LL) or max(no_action_rat) > UL)\n",
    "    while len(transition_idx) > 0 and out_of_tol:\n",
    "        epoch_start = transition_idx.pop()\n",
    "        epoch = deepcopy(no_action_rat[epoch_start:])\n",
    "        n_violate = sum([(x < LL or x > UL) for x in epoch])\n",
    "        while n_violate > 2: # temporarily out-of-tolerance--don't do anything if it's a year or two; TODO: parameterize this\n",
    "            # find out how much to adjust the ratio\n",
    "            dmax = max(epoch - UL, LL - epoch)\n",
    "            epoch_r = init_schools*dmax/epoch\n",
    "            delta = int(np.round(epoch_r/(1 - epoch_r)))\n",
    "            \n",
    "            \n",
    "    \n",
    "    pass"
   ]
  },
  {
   "cell_type": "code",
   "execution_count": 112,
   "metadata": {},
   "outputs": [],
   "source": [
    "fci = find_crossing_indices(simSchool.history[simSchool.start_yr:], simSchool.tolerance, simSchool.sscRat, simSchool.hist_schools[0])"
   ]
  },
  {
   "cell_type": "code",
   "execution_count": 165,
   "metadata": {},
   "outputs": [],
   "source": [
    "UL = simSchool.sscRat*(1+simSchool.tolerance[1])\n",
    "\n",
    "dmax = max(fci[1] - UL)\n",
    "epoch = deepcopy(fci[1])\n",
    "history = deepcopy(simSchool.history)\n",
    "hist_schools = [simSchool.hist_schools[0] for x in range(len(history))]\n",
    "out_of_tol = (max(epoch) > UL)\n",
    "epoch_r = simSchool.hist_schools[0]*dmax/epoch\n",
    "delta = np.abs(np.round(epoch_r/(1 - epoch_r)))\n",
    "delta = list(np.squeeze(delta))\n",
    "add_idxs = {}\n",
    "while len(delta) > 0 and out_of_tol:\n",
    "    idxs = len(delta) - 1 \n",
    "    td = delta.pop()\n",
    "    hs = deepcopy(hist_schools)\n",
    "    hs[idxs:] += td\n",
    "    new_epoch = history/hs\n",
    "    out_of_tol = (max(new_epoch) > UL)\n",
    "else:\n",
    "    add_idxs[idxs] = td\n",
    "    \n",
    "    "
   ]
  },
  {
   "cell_type": "code",
   "execution_count": 169,
   "metadata": {},
   "outputs": [
    {
     "data": {
      "text/plain": [
       "[<matplotlib.lines.Line2D at 0x21a6e6c8c20>]"
      ]
     },
     "execution_count": 169,
     "metadata": {},
     "output_type": "execute_result"
    },
    {
     "data": {
      "image/png": "[encoded data removed]",
      "text/plain": [
       "<Figure size 640x480 with 1 Axes>"
      ]
     },
     "metadata": {},
     "output_type": "display_data"
    }
   ],
   "source": [
    "plt.plot(hist_schools)\n",
    "plt.plot(hs)"
   ]
  },
  {
   "cell_type": "code",
   "execution_count": 167,
   "metadata": {},
   "outputs": [
    {
     "data": {
      "text/plain": [
       "[12.0,\n",
       " 12.0,\n",
       " 12.0,\n",
       " 12.0,\n",
       " 12.0,\n",
       " 12.0,\n",
       " 12.0,\n",
       " 12.0,\n",
       " 12.0,\n",
       " 12.0,\n",
       " 12.0,\n",
       " 12.0,\n",
       " 12.0,\n",
       " 12.0,\n",
       " 12.0,\n",
       " 12.0,\n",
       " 12.0,\n",
       " 12.0,\n",
       " 12.0,\n",
       " 12.0,\n",
       " 12.0,\n",
       " 12.0,\n",
       " 12.0,\n",
       " 12.0,\n",
       " 12.0,\n",
       " 12.0,\n",
       " 12.0,\n",
       " 12.0,\n",
       " 12.0,\n",
       " 12.0,\n",
       " 12.0,\n",
       " 12.0,\n",
       " 12.0,\n",
       " 12.0,\n",
       " 12.0,\n",
       " 12.0,\n",
       " 12.0,\n",
       " 12.0,\n",
       " 12.0,\n",
       " 12.0,\n",
       " 12.0,\n",
       " 12.0,\n",
       " 12.0,\n",
       " 12.0,\n",
       " 12.0,\n",
       " 12.0,\n",
       " 12.0,\n",
       " 12.0,\n",
       " 12.0,\n",
       " 12.0,\n",
       " 12.0,\n",
       " 12.0,\n",
       " 12.0,\n",
       " 12.0,\n",
       " 12.0,\n",
       " 12.0,\n",
       " 12.0,\n",
       " 12.0,\n",
       " 12.0,\n",
       " 12.0]"
      ]
     },
     "execution_count": 167,
     "metadata": {},
     "output_type": "execute_result"
    }
   ],
   "source": [
    "hs"
   ]
  },
  {
   "cell_type": "code",
   "execution_count": null,
   "metadata": {},
   "outputs": [],
   "source": [
    "ad"
   ]
  },
  {
   "cell_type": "code",
   "execution_count": 153,
   "metadata": {},
   "outputs": [
    {
     "data": {
      "text/plain": [
       "2.0"
      ]
     },
     "execution_count": 153,
     "metadata": {},
     "output_type": "execute_result"
    }
   ],
   "source": [
    "delta[len(delta)-1]"
   ]
  },
  {
   "cell_type": "code",
   "execution_count": 157,
   "metadata": {},
   "outputs": [
    {
     "data": {
      "text/plain": [
       "3.0"
      ]
     },
     "execution_count": 157,
     "metadata": {},
     "output_type": "execute_result"
    }
   ],
   "source": [
    "td"
   ]
  },
  {
   "cell_type": "code",
   "execution_count": 114,
   "metadata": {},
   "outputs": [
    {
     "data": {
      "text/plain": [
       "[<matplotlib.lines.Line2D at 0x21a74062870>]"
      ]
     },
     "execution_count": 114,
     "metadata": {},
     "output_type": "execute_result"
    },
    {
     "data": {
      "image/png": "[encoded data removed]",
      "text/plain": [
       "<Figure size 640x480 with 1 Axes>"
      ]
     },
     "metadata": {},
     "output_type": "display_data"
    }
   ],
   "source": [
    "plt.step(x=range(len(fci[0])),y=fci[0])\n",
    "plt.step(x=range(len(fci[0])),y=[ int(x)-2 for x in fci[2]])\n"
   ]
  },
  {
   "cell_type": "code",
   "execution_count": 123,
   "metadata": {},
   "outputs": [
    {
     "data": {
      "text/plain": [
       "['a']"
      ]
     },
     "execution_count": 123,
     "metadata": {},
     "output_type": "execute_result"
    }
   ],
   "source": [
    "deepcopy(['a'])"
   ]
  },
  {
   "cell_type": "code",
   "execution_count": 117,
   "metadata": {},
   "outputs": [
    {
     "data": {
      "text/plain": [
       "<matplotlib.collections.LineCollection at 0x21a732fa660>"
      ]
     },
     "execution_count": 117,
     "metadata": {},
     "output_type": "execute_result"
    },
    {
     "data": {
      "image/png": "[encoded data removed]",
      "text/plain": [
       "<Figure size 640x480 with 1 Axes>"
      ]
     },
     "metadata": {},
     "output_type": "display_data"
    }
   ],
   "source": [
    "plt.plot(fci[1])\n",
    "plt.step(x=range(len(fci[0])),y=[ int(x)*max(fci[1]) for x in  fci[2]],alpha=0.4)\n",
    "plt.hlines((simSchool.tolerance[0] + 1)*simSchool.sscRat, xmin=0, xmax=simSchool.len_history,color=\"gray\")\n",
    "plt.hlines((simSchool.tolerance[1] + 1)*simSchool.sscRat, xmin=0, xmax=simSchool.len_history,color=\"gray\")"
   ]
  },
  {
   "cell_type": "code",
   "execution_count": 131,
   "metadata": {},
   "outputs": [
    {
     "data": {
      "text/plain": [
       "array([115.        , 117.66666667, 120.11111111, 122.22222222,\n",
       "       124.        , 125.55555556, 126.77777778, 127.55555556,\n",
       "       128.11111111, 128.33333333, 124.55555556, 120.88888889,\n",
       "       117.33333333, 113.77777778, 110.22222222, 106.66666667,\n",
       "       103.22222222,  99.77777778,  96.44444444,  93.11111111,\n",
       "        89.77777778,  86.55555556,  83.22222222,  80.11111111,\n",
       "        76.88888889,  73.77777778,  70.66666667,  67.66666667,\n",
       "        64.55555556,  61.66666667,  37.44444444,  49.22222222,\n",
       "        52.66666667,  24.77777778,  12.22222222,  86.66666667,\n",
       "       106.44444444, 105.33333333,  20.33333333,  11.44444444,\n",
       "        71.33333333,  48.44444444,  77.22222222,  59.11111111,\n",
       "        34.44444444,  34.11111111,  88.88888889,  96.88888889,\n",
       "        15.33333333, 103.77777778])"
      ]
     },
     "execution_count": 131,
     "metadata": {},
     "output_type": "execute_result"
    }
   ],
   "source": [
    "fci[1] - 205"
   ]
  },
  {
   "cell_type": "code",
   "execution_count": null,
   "metadata": {},
   "outputs": [],
   "source": []
  }
 ],
 "metadata": {
  "colab": {
   "provenance": []
  },
  "kernelspec": {
   "display_name": "Python 3 (ipykernel)",
   "language": "python",
   "name": "python3"
  },
  "language_info": {
   "codemirror_mode": {
    "name": "ipython",
    "version": 3
   },
   "file_extension": ".py",
   "mimetype": "text/x-python",
   "name": "python",
   "nbconvert_exporter": "python",
   "pygments_lexer": "ipython3",
   "version": "3.12.4"
  }
 },
 "nbformat": 4,
 "nbformat_minor": 4
}
