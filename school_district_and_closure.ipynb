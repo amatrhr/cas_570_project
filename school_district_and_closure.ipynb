{
  "cells": [
    {
      "cell_type": "markdown",
      "metadata": {
        "id": "C-66kaUPR6nK"
      },
      "source": [
        "# Contents\n",
        "* [Overview](#Overview)\n",
        "* [Imports](#Library-Imports)\n",
        "* [Helper Functions](#Helper-Functions)\n",
        "* [The `SchoolDistrict` Class](#The-SchoolDistrict-Class)\n",
        "* [Example](#An-Example)"
      ]
    },
    {
      "cell_type": "markdown",
      "metadata": {
        "id": "2uS4KpSfR6nM"
      },
      "source": [
        "# Overview\n",
        "This project asks how, when faced with uncertain enrollment trends and a need to maintain a proper assignment of resources to students, a school district might set a fair resource policy by maintaining a tolerable student-to-resource ratio, for example, maintaining a certain student-to-school ratio $R$, for example 200 students in each school.\n",
        "\n",
        "I will address this question by using a two-agent simulation of school openings and closings in a single school district, played out over 50 to 100 time steps (\"school years\"). One agent represents the population of public school students, which undergoes random demographic variation across years. The other agent represents the policy-making body of the district, which attempts to maintain a tolerable student-to-school ratio in the face of these demographic changes by using historical data to predict the change in enrollment at the end of each school year and opening or closing schools in response. The district administration agent will update its prediction-making method based on whether its predictions have led to good decisions (maintaining a tolerable student-to-school ratio) or poor ones (failure to maintain the ratio).\n",
        "\n",
        "## Conceptual implementation\n",
        "I will simulate uncertain patterns of student demographic change within an individual school district; for each five-year period, the student population will (randomly) undergo either convex growth/decline, concave growth/decline, a one-time impulse of sudden inflow or outflow during the third year, or will remain flat (with uniform noise).\n",
        "\n",
        "![](https://github.com/amatrhr/cas_570_project/blob/main/logo.png?raw=1)\n",
        "\n",
        "### Agent Behavior: District Administration\n",
        "During every simulated summer, the district administration will predict the change in number of students enrolled by using an exponentially weighted moving average (EWMA) of previous year-over-year changes, then will use the prediction as a basis for action. EWMA predictions depend on a single smoothing parameter, $\\alpha;\\; 0<\\alpha\\leq1$ and larger $\\alpha$ corresponds to emphasizing recent observations when predicting; see (https://otexts.com/fpp3/expsmooth.html).\n",
        "\n",
        "The district will choose $\\alpha$ randomly from the set $A = \\left\\{0.1,\\,0.2,\\,\\dots,\\,0.9, 1\\right\\}$, using the 10-vector of selection probabilities $\\vec{p}$. At first, each $\\alpha$ in $A$ has the same probability of being selected; each element of $\\vec{p}$ is 0.1. The district will learn from its policy choice and will increase those $p_i$ that have led to predictions that led to good decisions and decrease others, a process based on the adaptive agent-specific autoregressive predictions of Arthur, 1994 (https://www.jstor.org/stable/2117868) (my model is much simpler; the reference is a multi-agent simulation in which agents compete for resources based on their predictions).\n",
        "\n",
        "The district administration has a pre-set tolerance to violations of the student-to-school ratio; for example, if the tolerance interval is $T_\\text{min}=-50\\%$ to $T_\\text{max}=25\\%$ and the desired ratio, $R$, is 200 students per school, a predicted enrollment change resulting in $\\hat{R}<100$ or $\\hat{R}>250$ students per school is out-of-tolerance.\n",
        "If the predicted number of students would lead to an out-of-tolerance student-to-school ratio, the number of schools will be adjusted up or down to be just within tolerance."
      ]
    },
    {
      "cell_type": "markdown",
      "metadata": {
        "id": "3TSf3FjkR6nN"
      },
      "source": [
        "# Library Imports"
      ]
    },
    {
      "cell_type": "code",
      "execution_count": 83,
      "metadata": {
        "id": "7lXsWH69R6nO"
      },
      "outputs": [],
      "source": [
        "# modeling tools\n",
        "import numpy as np\n",
        "import matplotlib.pyplot as plt\n",
        "import pandas as pd\n",
        "import statsmodels.api as sm\n",
        "from copy import deepcopy\n",
        "from random import randint, choice\n",
        "from statsmodels.tsa.api import  SimpleExpSmoothing\n",
        "from statsmodels.formula.api import ols\n",
        "from statsmodels.stats.api import anova_lm\n",
        "\n",
        "# programming and optimization tools\n",
        "# import ipdb\n",
        "from collections import Counter\n",
        "from dataclasses import dataclass, field\n",
        "from functools import partial\n",
        "from itertools import product\n",
        "from scipy.optimize import minimize_scalar\n",
        "from scipy.stats import linregress\n",
        "\n",
        "\n",
        "# parameters for the notebook itself\n",
        "%matplotlib inline"
      ]
    },
    {
      "cell_type": "markdown",
      "metadata": {
        "id": "yt_DxV_NR6nO"
      },
      "source": [
        "# Helper Functions"
      ]
    },
    {
      "cell_type": "code",
      "execution_count": 84,
      "metadata": {
        "id": "4AOSKLacR6nP"
      },
      "outputs": [],
      "source": [
        "def minmax_scale(data:np.array)->np.array:\n",
        "    # function to scale a variable between 1 and 0, where 1 corresponds to its max value\n",
        "    data = np.nan_to_num(data,0)\n",
        "    vs_min = data - np.min(data)\n",
        "    mmrange = np.max(data) - np.min(data) if np.max(data) != np.min(data) else 1\n",
        "    scaled = vs_min / mmrange\n",
        "    return scaled"
      ]
    },
    {
      "cell_type": "code",
      "execution_count": 85,
      "metadata": {
        "id": "zNuMy2MRR6nP"
      },
      "outputs": [],
      "source": [
        "def dbl_SEWMA(data:pd.Series, alpha:float)->dict:\n",
        "    # fits a simple exponential smoothing model with fixed alpha to a dataset\n",
        "    # used by simulated school (districts) to predict enrollment\n",
        "    ## Arguments\n",
        "    # data: univariate time series\n",
        "    # alpha: exponential smoothing parameter, between 0 and 1\n",
        "    ## Returns\n",
        "    # dictionary containing the sum of squared errors and statsmodels time series model\n",
        "    #TODO: fix initialization to use as few years as possible--this can only be done with \"known\" initial trend and level\n",
        "    mod1 = SimpleExpSmoothing(data, initialization_method=\"heuristic\").fit(smoothing_level=alpha, optimized=False)\n",
        "    return {'sse':mod1.sse, 'mod':mod1}\n"
      ]
    },
    {
      "cell_type": "code",
      "execution_count": 86,
      "metadata": {
        "id": "ZEG-Hhw_R6nP"
      },
      "outputs": [],
      "source": [
        "def flat_with_noise(start_value:float=10.0, n_years:int=5, chgrat:float=0.20, const_change:float=None)->np.array:\n",
        "    # generates a set of simulated enrollments that vary due to having noise\n",
        "    ## Arguments\n",
        "    ##\n",
        "    ## Returns\n",
        "    # np array of e\n",
        "    output = np.zeros(n_years) + start_value\n",
        "    chgsize = chgrat*start_value if const_change is None else const_change\n",
        "    dmin = int(-1*chgsize)\n",
        "    dmax = int(chgsize)\n",
        "    output += np.array([randint(dmin, dmax) for x in range(n_years)],dtype=np.float64)\n",
        "    return(output)"
      ]
    },
    {
      "cell_type": "code",
      "execution_count": 87,
      "metadata": {
        "id": "Ih43moqmR6nP"
      },
      "outputs": [],
      "source": [
        "def impulse(start_value:float=10., n_years:int=5, impyr:int=2, chgrat:float=.670, impsign:int=1):\n",
        "    # function to produce an impulsive change\n",
        "    chgsize = chgrat*start_value\n",
        "    out = np.array([start_value for x in range(n_years)],dtype=np.float64)\n",
        "    out[impyr:n_years] = impsign*chgsize +  out[impyr]\n",
        "    return(out)"
      ]
    },
    {
      "cell_type": "code",
      "execution_count": 88,
      "metadata": {
        "id": "SbsV92zPR6nP"
      },
      "outputs": [],
      "source": [
        "def cvx_change(start_value=10., n_years=5, chgsign=1, chgrat=.20):\n",
        "    #function to produce convex change\n",
        "    # i.e. change where the time series of population falls below the line connecting any two\n",
        "    # points on the time series, i.e. alpha*exp(t) or alpha*exp(n_years - t)\n",
        "    chgsize = chgrat*start_value\n",
        "\n",
        "    alpha = np.exp(np.log(1+chgsign*chgrat)/n_years) - 1\n",
        "    output = start_value * np.power(1. + alpha, np.linspace(1,n_years,n_years))\n",
        "\n",
        "    return(output)"
      ]
    },
    {
      "cell_type": "code",
      "execution_count": 89,
      "metadata": {
        "id": "HmOgWuB0UMKi"
      },
      "outputs": [],
      "source": [
        "def test_cvx_c_rat(start_value=10., n_years=5, chgsign=1, chgrat=.20, start_schools=5):\n",
        "    # Function to check a ratio control strategy under convex change\n",
        "    # ratio should be maintained if change in Nschools is proportional to the\n",
        "    # current number of schools (i.e. exponential growth in the same way\n",
        "\n",
        "    history = cvx_change(start_value=start_value, n_years=n_years, chgsign=chgsign, chgrat=chgrat)\n",
        "    school_growth = cvx_change(start_value=start_schools, n_years=n_years, chgsign=chgsign, chgrat=chgrat)\n",
        "    ratio = history/school_growth\n",
        "    testval = np.allclose(ratio, max(ratio)*np.ones(len(ratio)))\n",
        "    return testval"
      ]
    },
    {
      "cell_type": "code",
      "execution_count": 90,
      "metadata": {
        "colab": {
          "base_uri": "https://localhost:8080/"
        },
        "id": "mAF5NnKtUMKi",
        "outputId": "37ec62aa-5295-40bc-dafb-b223a0d3fd34"
      },
      "outputs": [
        {
          "output_type": "execute_result",
          "data": {
            "text/plain": [
              "True"
            ]
          },
          "metadata": {},
          "execution_count": 90
        }
      ],
      "source": [
        "test_cvx_c_rat(n_years=99)"
      ]
    },
    {
      "cell_type": "code",
      "execution_count": 91,
      "metadata": {
        "id": "9lUKyQE2R6nQ"
      },
      "outputs": [],
      "source": [
        "def ccv_change(start_value=10.,n_years=5,alpha=0.75,chgsign=1, chgrat=.20):\n",
        "    #function to produce convex change\n",
        "    # i.e. change where the time series of population falls below the line connecting any two\n",
        "    # points on the time series, i.e. alpha*exp(t) or alpha*exp(n_years - t)\n",
        "    adjust = 0.5*np.pi if chgsign < 0 else 0\n",
        "    out = np.linspace(0,0.5*np.pi, n_years+1)\n",
        "    out += adjust\n",
        "    maxi = (1+chgrat*chgsign)*start_value\n",
        "    mini = min(start_value, maxi)\n",
        "    maxi = max(start_value, maxi)\n",
        "    output = (maxi-mini)*np.sin(out) + mini\n",
        "    return(output[1:])"
      ]
    },
    {
      "cell_type": "code",
      "execution_count": 92,
      "metadata": {
        "id": "I9ptX5yER6nQ"
      },
      "outputs": [],
      "source": [
        "# with individual growth patterns defined, store all in one easy-access place\n",
        "growthPats = {'flat':flat_with_noise,\n",
        "              'impUp':impulse,\n",
        "              'impDn':partial(impulse, impsign=-1),\n",
        "              'cvxUp':cvx_change,\n",
        "              'cvxDn':partial(cvx_change, chgsign=-1),\n",
        "              'ccvUp':ccv_change,\n",
        "              'ccvDn':partial(ccv_change, chgsign=-1)\n",
        "              }"
      ]
    },
    {
      "cell_type": "code",
      "execution_count": 93,
      "metadata": {
        "id": "GtgLWanGR6nQ"
      },
      "outputs": [],
      "source": [
        "def simulate_history(start_value=50, total_years=50, period_length=5, debug=False, noisy=False, set_history:list=None):\n",
        "    # core function to generate a school (district's) population history\n",
        "\n",
        "    history = [[start_value for x in range(period_length)]]\n",
        "            # need to add functionality to smooth the transitions\n",
        "\n",
        "    if set_history is not None:\n",
        "        assert type(set_history) == list\n",
        "        # since we know it's a list, assert that the length of the list is correct\n",
        "        assert len(set_history) == total_years//period_length\n",
        "\n",
        "    for _, tp in enumerate(range(total_years//period_length)):\n",
        "        locidx = randint(0,len(growthPats)-1) if set_history is None else set_history[_] # there are 7 locidxs\n",
        "\n",
        "        lochg = history[_][period_length-1]\n",
        "        locfun = list(growthPats.values())[locidx](start_value=lochg, n_years=period_length)\n",
        "        local_h = np.squeeze(locfun)\n",
        "        if noisy:\n",
        "            local_h += np.squeeze(list(growthPats.values())[0](start_value=0., n_years=period_length, const_change=500.)) #TODO: use noise range ratio parameter\n",
        "\n",
        "        history.append(local_h)\n",
        "        if debug:\n",
        "            '''debug info that shows which growth pattern is used and prints\n",
        "               the starting value and simulated values for each multiyear\n",
        "            '''\n",
        "            print(f\"starting history {locidx}, a/k/a {repr(list(growthPats.values())[locidx])}\")\n",
        "            print(_)\n",
        "            print(lochg)\n",
        "            print(local_h)\n",
        "            print(\"____\")\n",
        "\n",
        "    out = np.floor(np.hstack(history)[period_length:])\n",
        "    #print(out)\n",
        "    return out # out[period_length:](why are we skipping the first period??)\n"
      ]
    },
    {
      "cell_type": "code",
      "execution_count": 94,
      "metadata": {
        "id": "9qVEB2AaR6nQ"
      },
      "outputs": [],
      "source": [
        "def predict_from_history(schooldata:pd.Series,alpha_set:list=[0.1,0.5,0.7],years:int=5, random:bool=True)->dict:\n",
        "    # core function to use simple exponential smoothing\n",
        "\n",
        "    school_SEWMA = lambda a: dbl_SEWMA(data=schooldata, alpha=a)\n",
        "    fit_res = {}\n",
        "    models = {}\n",
        "    if random:\n",
        "        j = choice(alpha_set)\n",
        "        ssmwa = school_SEWMA(j)\n",
        "        fit_res[j] = ssmwa['sse']\n",
        "        models[j] = ssmwa['mod']\n",
        "    else:\n",
        "        for j in alpha_set:\n",
        "            # don't overwrite if there're multiples\n",
        "            if fit_res.get(j) is None:\n",
        "                ssmwa = school_SEWMA(j)\n",
        "                fit_res[j] = ssmwa['sse']\n",
        "                models[j] = ssmwa['mod']\n",
        "\n",
        "    fit_check = pd.Series(fit_res)\n",
        "    result = fit_check.index[fit_check.argmin()]\n",
        "    return {\"alpha_result\":result, \"prediction\":models[result].forecast(years),\"history\":models[result].fittedvalues}"
      ]
    },
    {
      "cell_type": "code",
      "execution_count": 95,
      "metadata": {
        "id": "yeNLRC-tR6nQ"
      },
      "outputs": [],
      "source": [
        "def get_run_lengths(timeseries:np.array=np.array([1.,1.,1.,22,22.,22.,3.,4.,3.]))->list:\n",
        "    # give the number of time steps between school openings/closings\n",
        "    loct = np.diff(timeseries) # a run is the same as no differences betweeen an item and its predecessor in the array\n",
        "    loct[loct!=0] = 1 # so, each run of length l is l - 1 zeros--if we replace the nonzeros by ones, then we can count each run as a string of 0s\n",
        "    str_reps =  ''.join([str(x) for x in loct]).split(\"1\")  # convert to string, remove any characters that aren't '0's or '1's\n",
        "    rls = [len(x) + 1 for x in str_reps] # get lengths l from (l-1) s\n",
        "    assert sum(rls) == len(timeseries)\n",
        "    return rls"
      ]
    },
    {
      "cell_type": "code",
      "execution_count": 96,
      "metadata": {
        "id": "KYwv3WBTR6nR"
      },
      "outputs": [],
      "source": [
        "def runlength_stats(rls:list)->dict:\n",
        "\n",
        "    # find run lengths of some metric (number schools, achieved ratios, etc), and their counts, averages and  standard deviations\n",
        "    assert len(rls) > 0\n",
        "    rl_count = Counter(rls)\n",
        "    rl_mean = np.mean(rls)\n",
        "    rl_std = np.std(rls)\n",
        "    rl_med = np.median(rls)\n",
        "    return {'counts':rl_count, 'mean':rl_mean, 'median':rl_med, 'stddev':rl_std}\n",
        "\n"
      ]
    },
    {
      "cell_type": "code",
      "execution_count": 96,
      "metadata": {
        "id": "eNF3SBigUMKj"
      },
      "outputs": [],
      "source": []
    },
    {
      "cell_type": "code",
      "execution_count": 96,
      "metadata": {
        "id": "uTZHSRFOUMKj"
      },
      "outputs": [],
      "source": []
    },
    {
      "cell_type": "code",
      "execution_count": 96,
      "metadata": {
        "id": "IJ0C8LeCUMKj"
      },
      "outputs": [],
      "source": []
    },
    {
      "cell_type": "markdown",
      "metadata": {
        "id": "fQ0Y-mC9R6nR"
      },
      "source": [
        "# The SchoolDistrict Class"
      ]
    },
    {
      "cell_type": "code",
      "execution_count": 97,
      "metadata": {
        "id": "5IVIs1tTR6nR"
      },
      "outputs": [],
      "source": [
        "@dataclass\n",
        "class SchoolDistrict:\n",
        "    # core simulation class: represents the history of a single school district\n",
        "    # BASIC SIMULATION PARAMETERS (CONSTANTS)\n",
        "    sscRat: int = 100 # student to school ratio\n",
        "    tolerance: tuple = (-0.5, 0.25) # tolerances for that ratio\n",
        "    alphas:tuple = tuple(np.linspace(0.1,0.9,9)) # starting set of exponential smoothing parameters\n",
        "    growth_period:int = 10 # number of years to follow a particular growth pattern\n",
        "    n_periods:int = 6 # number of growth periods to run the simulation\n",
        "    start_yr:int = 10 # year to begin forecasts\n",
        "    noisy:bool = False # add noise to trajectory?\n",
        "    school_lifetime:int = 30 # expected life of a school\n",
        "    school_open_cost:float = -9. # cost to open a school\n",
        "    school_close_cost:float = 1. # cost to close a school\n",
        "    school_fund_fraction:float = 0.01 # how many other schools should revenue above the cost of maintenance go to fund?\n",
        "    starting_fund_yrs:int = 2 # how many years of surplus to start with?\n",
        "    school_minimum_threshold:float = -50. # what value of budget means no construction and no closure?\n",
        "    interest_rate:float = 0.05 # how much is savings worth\n",
        "    loan_multiplier:float = 0.7 # how much smaller is the interest to be paid vs. interest on assets?\n",
        "    # BASIC SIMULATION PARAMETERS (VARIABLE)\n",
        "    NStudents:int = 1000 # initial number of students\n",
        "    pred_ratios: list = field(default_factory=list) # agent-predicted student/resource ratios\n",
        "    ach_ratios: list = field(default_factory=list) # achieved student/resource ratios\n",
        "    hist_alphas: list = field(default_factory=list)\n",
        "    predictions: list = field(default_factory=list)\n",
        "    hist_schools: list = field(default_factory=list)\n",
        "    hist_budget: list = field(default_factory=list)\n",
        "\n",
        "\n",
        "    #TODO: add BUDGET\n",
        "    #TODO: fix ufunc bug\n",
        "\n",
        "\n",
        "    def simulate_full_history(self,to_debug=False,set_history=None):\n",
        "        # first step in the simulation--initialize the population history\n",
        "        self.len_history = self.n_periods * self.growth_period\n",
        "        self.history=simulate_history(start_value=self.NStudents,\n",
        "                                      total_years=self.len_history,\n",
        "                                      period_length=self.growth_period,\n",
        "                                      noisy=self.noisy,\n",
        "                                      debug=to_debug,\n",
        "                                      set_history=set_history)\n",
        "\n",
        "    def make_construction_decisions(self,debug=True):\n",
        "        # at the end of every year, make a forecast and update alpha selection probabilities\n",
        "        self.NSchools = self.NStudents // (self.sscRat + self.tolerance[1])# initial number of schools--started to be near a phase transition\n",
        "        self.pselect = np.ones(len(self.alphas))/len(self.alphas) # selection probabilities for exponential smoothing parameters\n",
        "        self.funding_rate = (1. + self.school_fund_fraction)/(self.sscRat * self.school_lifetime)\n",
        "        last_alpha = 0.0 # initalize the most recent choice of exponential smoothing param\n",
        "        alpha_multiple, extra = 1, 1 #divmod(self.len_history - self.start_yr, 5*len(self.alphas)) # number of times to include an alpha in the list,\n",
        "        #--must guarantee that we won't run out of alphas\n",
        "        local_as = list(self.alphas)*alpha_multiple  + [choice(self.alphas) for x in range(extra)]\n",
        "        self.ach_ratios += list(np.zeros(self.start_yr-1))\n",
        "        self.predictions += list(np.zeros(self.start_yr))\n",
        "        self.pred_ratios += list(np.zeros(self.start_yr))\n",
        "        self.hist_alphas += list(np.zeros(self.start_yr))\n",
        "        self.hist_schools += list(np.ones(self.start_yr)*self.NSchools)\n",
        "        self.hist_budget += list(np.zeros(self.start_yr - 1)) + [self.starting_fund_yrs*self.funding_rate *self.NStudents*-1*self.school_open_cost]\n",
        "\n",
        "        for yr in range(self.start_yr, self.len_history):\n",
        "            if self.NSchools == 0:\n",
        "                print(\"Simulation terminated early. Zero schools left.\")\n",
        "                break\n",
        "\n",
        "            # calculate ratio (evaluate performance) and update list of smoothing params\n",
        "            local_achrat = self.history[yr-1]/self.NSchools # achieved ratio\n",
        "            self.ach_ratios.append(local_achrat)\n",
        "            self.hist_schools.append(self.NSchools)\n",
        "            local_diff = (local_achrat - self.sscRat)/self.sscRat # achieved difference from ideal\n",
        "            if yr > self.start_yr and last_alpha in local_as:\n",
        "                if local_diff > self.tolerance[1] and len(local_as) > 1: #achieved ratio too high\n",
        "                    local_as.remove(last_alpha)\n",
        "                elif local_diff < self.tolerance[0] and len(local_as) > 1: #achieved ratio too low\n",
        "                    local_as.remove(last_alpha)\n",
        "                else: # ratio ok--good prediction\n",
        "                    local_as.append(last_alpha)\n",
        "\n",
        "\n",
        "            # forecast\n",
        "            forecast_objs = predict_from_history(self.history[0:yr],years=1,alpha_set=local_as)\n",
        "            local_prat = forecast_objs['prediction'][0]/self.NSchools\n",
        "            self.hist_alphas.append(forecast_objs['alpha_result'])\n",
        "            last_alpha = forecast_objs['alpha_result']\n",
        "            local_ach_diff = (local_prat - self.sscRat)/self.sscRat# predicted difference from ideal\n",
        "            self.predictions.append(forecast_objs['prediction'][0])\n",
        "            self.pred_ratios.append(local_prat)\n",
        "\n",
        "            # update number of schools based on forecast\n",
        "\n",
        "            sch_change = np.round(self.NSchools*(local_ach_diff))\n",
        "\n",
        "            open_close_cost = self.school_open_cost*sch_change if sch_change > 0 else self.school_close_cost*sch_change\n",
        "            # print(f\"existing budget is ${self.hist_budget[-1]}, need  ${open_close_cost} for opening/closing. \")\n",
        "\n",
        "            if (self.hist_budget[-1] + open_close_cost) >= self.school_minimum_threshold:\n",
        "                self.NSchools = np.round(self.NSchools*(1 + local_ach_diff))\n",
        "            else: # can't afford to act\n",
        "                open_close_cost = 0.\n",
        "\n",
        "            interest =  self.hist_budget[-1]*self.interest_rate\n",
        "            if self.hist_budget[-1]:\n",
        "                interest *= self.loan_multiplier\n",
        "\n",
        "            budget_change = self.history[yr]*self.funding_rate + open_close_cost + interest\n",
        "            # print(f\"budget changing by ${budget_change}, including ${open_close_cost} for opening/closing. \")\n",
        "            self.hist_budget.append(self.hist_budget[-1] + budget_change)\n",
        "            # update budget to reflect openings and closings\n",
        "            if debug:\n",
        "                print(len(local_as))\n",
        "                print(local_as)\n",
        "                print(Counter(local_as))\n",
        "                print(f\"schools should change by {self.NSchools*(local_ach_diff)}, or {sch_change}\")\n",
        "                print(f\"existing budget is ${self.hist_budget[-1]}, need  ${open_close_cost} for opening/closing. \")\n",
        "                print(f\"budget changing by ${budget_change}, including ${open_close_cost} for opening/closing. \")\n",
        "\n",
        "    def plot_history_vs_preds(self):\n",
        "        # plotting actual vs predicted enrollment\n",
        "        fig, ax = plt.subplots()\n",
        "        ax.step(x=range(len(self.history)), y=self.history)\n",
        "        ax.step(x=range(len(self.predictions)), y=self.predictions)\n",
        "        ax.legend(['historical','predictions'])\n",
        "        ax.set_title(\"Time Series of Historical vs. Predicted Enrollment\")\n",
        "        ax.set_ylabel(\"# Students\")\n",
        "        plt.show()\n",
        "        plt.close()\n",
        "\n",
        "\n",
        "    def plot_ratios(self):\n",
        "        # plotting achieved vs actual student/school ratio\n",
        "        fig, ax = plt.subplots()\n",
        "        ax.step(x=range(len(self.ach_ratios)), y=self.ach_ratios)\n",
        "        ax.step(x=range(len(self.pred_ratios)), y=self.pred_ratios)\n",
        "        ax.hlines((self.tolerance[0] + 1)*self.sscRat, xmin=0, xmax=self.len_history,color=\"gray\")\n",
        "        ax.hlines((self.tolerance[1] + 1)*self.sscRat, xmin=0, xmax=self.len_history,color=\"gray\")\n",
        "        ax.fill_between(range(self.len_history), 0, (self.tolerance[0] + 1)*self.sscRat, color=\"gray\", alpha=0.30)\n",
        "        ax.fill_between(range(self.len_history),(self.tolerance[1] + 1)*self.sscRat, max(max(self.ach_ratios), max(self.pred_ratios)), color=\"gray\", alpha=0.30)\n",
        "        ax.legend(['achieved','predictions'])\n",
        "        ax.set_title(\"Time Series of Predicted vs. Achieved Student/School Ratio\")\n",
        "        ax.set_ylabel(\"Students per School\")\n",
        "        ax.set_xlabel(\"Time (Years)\")\n",
        "        plt.show()\n",
        "        plt.close()\n",
        "\n",
        "    def plot_schools_vs_pop(self):\n",
        "        # plotting number of schools vs. population (scaled)\n",
        "        fig, ax = plt.subplots()\n",
        "        ax.step(x=range(len(self.history)), y=minmax_scale(self.history))\n",
        "        ax.step(x=range(len(self.hist_schools)), y=minmax_scale(self.hist_schools))\n",
        "        ax.legend(['scaled population', 'scaled # schools'])\n",
        "        ax.set_title(f\"Time Series of Scaled # Schools, Total Enrollment\\n#Schools: Min:{min(self.hist_schools)},Max:{max(self.hist_schools)}, Enrolled: Min:{min(self.history)},Max:{max(self.history)}\")\n",
        "        ax.set_ylabel(\"Scaled School Count/Scaled Enrollment\")\n",
        "        ax.set_xlabel(\"Time (Years)\")\n",
        "        plt.show()\n",
        "        plt.close()\n",
        "\n",
        "    # metrics\n",
        "    def pct_when_performant(self, to_print=False):\n",
        "        # give the proportion of school years where achieved student to resource ratios were within tolerance\n",
        "        ach_test = self.ach_ratios[self.start_yr:]\n",
        "        result_bool = [ (x <= ((self.tolerance[1] + 1)*self.sscRat) ) and (x >= ((self.tolerance[0] + 1)*self.sscRat)) for x in ach_test]\n",
        "        prop = sum(result_bool)/len(result_bool)\n",
        "        self.prop_perf = prop\n",
        "        if to_print:\n",
        "            print(f\"The district was within tolerance bounds {np.round(100*prop)}% of the time.\")\n",
        "        return prop\n",
        "\n",
        "    def plot_budget(self):\n",
        "        # plotting budget\n",
        "        fig, ax = plt.subplots()\n",
        "        ax.step(x=range(len(self.hist_budget)), y=self.hist_budget)\n",
        "        ax.legend(['Historical Budget'])\n",
        "        ax.set_title(f\"Time Series of Historical Budget\")\n",
        "        ax.hlines(self.school_minimum_threshold, xmin=0, xmax=self.len_history,color=\"red\", linestyle=\"dotted\")\n",
        "        ax.hlines(0, xmin=0, xmax=self.len_history,color=\"gray\", linestyle=\"dotted\")\n",
        "        ax.set_ylabel(\"Historical Budget ($)\")\n",
        "        ax.set_xlabel(\"Time (Years)\")\n",
        "        plt.show()\n",
        "        plt.close()\n",
        "\n",
        "    # metrics\n",
        "    def pct_when_in_budget(self, lower_thresh=0, to_print=False):\n",
        "        # give the proportion of school years where the budget was above some threshold ($0, -100% of total value of all schools, etc)\n",
        "        # metric \"ever reach ruin\" can be calculated from this\n",
        "        if len(self.hist_budget) < len(self.history):\n",
        "            self.hist_budget += [0 for x in range(len(self.history) - len(self.hist_budget))]\n",
        "        budget_res = self.hist_budget[self.start_yr:]\n",
        "        result_bool = [ (x >= lower_thresh) for x in budget_res]\n",
        "        prop = sum(result_bool)/len(result_bool)\n",
        "        self.prop_perf = prop\n",
        "        if to_print:\n",
        "            print(f\"The district budget was above the threshold of ${lower_thresh} {np.round(100*prop)}% of the time.\")\n",
        "        return prop\n",
        "\n",
        "\n",
        "    def predictive_accuracy(self):\n",
        "        # get Rsquared of predictions\n",
        "        if len(self.history[self.start_yr:]) != len(self.predictions[self.start_yr:]):\n",
        "            print(\"WARNING: HISTORY TERMINATED EARLY\")\n",
        "            lr = linregress(x=self.predictions[self.start_yr:], y=self.history[self.start_yr:len(self.predictions)])\n",
        "        else:\n",
        "            lr = linregress(x=self.predictions[self.start_yr:], y=self.history[self.start_yr:])\n",
        "\n",
        "        return lr.rvalue\n",
        "\n",
        "\n"
      ]
    },
    {
      "cell_type": "markdown",
      "metadata": {
        "id": "LEBZ3SCsR6nS"
      },
      "source": [
        "# An Example"
      ]
    },
    {
      "cell_type": "code",
      "execution_count": 98,
      "metadata": {
        "id": "pUWP8C9SR6nS"
      },
      "outputs": [],
      "source": [
        "simSchool = SchoolDistrict(NStudents=2500, #Start with 1250 students\n",
        "                           sscRat=250,  # ideal student/school ratio is 250\n",
        "                           tolerance=(-.1,.1), #tolerate student/school ratios of 225 to 275\n",
        "                           growth_period=10, # growth patterns last 20 years\n",
        "                           n_periods=5, # run for 60 years\n",
        "                           noisy=True, # add noise to population change\n",
        "                           school_minimum_threshold = -60., # minimum budget to open/close a school\n",
        "                           school_fund_fraction=0.95, # determines how much over current school operating expenses to charge in taxes\n",
        "                           interest_rate=0.03,\n",
        "                           pred_ratios=[], ach_ratios=[], hist_alphas=[], predictions=[],hist_budget=[]\n",
        "                       )\n",
        "simSchool.simulate_full_history(set_history=[6,3,4,3,6])\n",
        "simSchool.make_construction_decisions(debug=False)"
      ]
    },
    {
      "cell_type": "code",
      "execution_count": 99,
      "metadata": {
        "colab": {
          "base_uri": "https://localhost:8080/"
        },
        "id": "iQd-1IIIUMKk",
        "outputId": "8524cfa4-ad72-489f-e74f-7e26be650aa2"
      },
      "outputs": [
        {
          "output_type": "execute_result",
          "data": {
            "text/plain": [
              "0.28205128205128205"
            ]
          },
          "metadata": {},
          "execution_count": 99
        }
      ],
      "source": [
        "simSchool.pct_when_performant()"
      ]
    },
    {
      "cell_type": "markdown",
      "metadata": {
        "id": "Kslxx9D-R6nT"
      },
      "source": [
        "## Plots: Population Predictions vs Actuals"
      ]
    },
    {
      "cell_type": "code",
      "execution_count": 100,
      "metadata": {
        "colab": {
          "base_uri": "https://localhost:8080/",
          "height": 452
        },
        "id": "Tg1izlYqR6nT",
        "outputId": "7e8a18fa-516b-4fc1-96d4-2760a3b4737d"
      },
      "outputs": [
        {
          "output_type": "display_data",
          "data": {
            "text/plain": [
              "<Figure size 640x480 with 1 Axes>"
            ],
            "image/png": "[encoded data removed]"
          },
          "metadata": {}
        }
      ],
      "source": [
        "simSchool.plot_history_vs_preds()"
      ]
    },
    {
      "cell_type": "code",
      "execution_count": 101,
      "metadata": {
        "colab": {
          "base_uri": "https://localhost:8080/"
        },
        "id": "zibU3WOFUMKk",
        "outputId": "48635ceb-3d66-479e-94b6-d7786ecc0073"
      },
      "outputs": [
        {
          "output_type": "execute_result",
          "data": {
            "text/plain": [
              "0.6989455448523818"
            ]
          },
          "metadata": {},
          "execution_count": 101
        }
      ],
      "source": [
        "simSchool.predictive_accuracy()"
      ]
    },
    {
      "cell_type": "markdown",
      "metadata": {
        "id": "sFo18PP-R6nT"
      },
      "source": [
        "## Plots: Predicted Student/School Ratios vs. Actuals"
      ]
    },
    {
      "cell_type": "code",
      "execution_count": 102,
      "metadata": {
        "colab": {
          "base_uri": "https://localhost:8080/",
          "height": 472
        },
        "id": "tQtdvLRkR6nT",
        "outputId": "bd9c4d72-dd8f-4086-da1c-6bf93d483759"
      },
      "outputs": [
        {
          "output_type": "display_data",
          "data": {
            "text/plain": [
              "<Figure size 640x480 with 1 Axes>"
            ],
            "image/png": "[encoded data removed]"
          },
          "metadata": {}
        }
      ],
      "source": [
        "simSchool.plot_ratios()"
      ]
    },
    {
      "cell_type": "code",
      "execution_count": 103,
      "metadata": {
        "colab": {
          "base_uri": "https://localhost:8080/"
        },
        "id": "OMDYT83FR6nT",
        "outputId": "07ea3fc6-6d41-46b1-b2f0-628966116243"
      },
      "outputs": [
        {
          "output_type": "stream",
          "name": "stdout",
          "text": [
            "The district was within tolerance bounds 28.0% of the time.\n"
          ]
        },
        {
          "output_type": "execute_result",
          "data": {
            "text/plain": [
              "0.28205128205128205"
            ]
          },
          "metadata": {},
          "execution_count": 103
        }
      ],
      "source": [
        "simSchool.pct_when_performant(to_print=True)"
      ]
    },
    {
      "cell_type": "markdown",
      "metadata": {
        "id": "unW2zH5IR6nT"
      },
      "source": [
        "## Plots: Trends in School Enrollment and Openings/Closings"
      ]
    },
    {
      "cell_type": "code",
      "execution_count": 104,
      "metadata": {
        "colab": {
          "base_uri": "https://localhost:8080/",
          "height": 493
        },
        "id": "pe1GuNJFR6nT",
        "outputId": "7c242f07-20fc-4423-a360-365b457587e1"
      },
      "outputs": [
        {
          "output_type": "display_data",
          "data": {
            "text/plain": [
              "<Figure size 640x480 with 1 Axes>"
            ],
            "image/png": "[encoded data removed]"
          },
          "metadata": {}
        }
      ],
      "source": [
        "simSchool.plot_schools_vs_pop()"
      ]
    },
    {
      "cell_type": "markdown",
      "metadata": {
        "id": "Xwt0Lx9bR6nU"
      },
      "source": [
        "## Budget figures"
      ]
    },
    {
      "cell_type": "code",
      "execution_count": 105,
      "metadata": {
        "colab": {
          "base_uri": "https://localhost:8080/",
          "height": 472
        },
        "id": "W2SDsgegR6nU",
        "outputId": "44dc50fc-8dcd-4459-d90f-6f3f6d736e6d"
      },
      "outputs": [
        {
          "output_type": "display_data",
          "data": {
            "text/plain": [
              "<Figure size 640x480 with 1 Axes>"
            ],
            "image/png": "[encoded data removed]"
          },
          "metadata": {}
        }
      ],
      "source": [
        "simSchool.plot_budget()"
      ]
    },
    {
      "cell_type": "code",
      "execution_count": 106,
      "metadata": {
        "colab": {
          "base_uri": "https://localhost:8080/"
        },
        "id": "GF8jFXUWR6nU",
        "outputId": "1874b86b-e394-4919-fe65-fd2f1b981faa"
      },
      "outputs": [
        {
          "output_type": "stream",
          "name": "stdout",
          "text": [
            "The district budget was above the threshold of $-60.0 28.0% of the time.\n"
          ]
        },
        {
          "output_type": "execute_result",
          "data": {
            "text/plain": [
              "0.275"
            ]
          },
          "metadata": {},
          "execution_count": 106
        }
      ],
      "source": [
        "simSchool.pct_when_in_budget(lower_thresh=simSchool.school_minimum_threshold,to_print=True)"
      ]
    },
    {
      "cell_type": "markdown",
      "metadata": {
        "id": "kbecsMGWR6nU"
      },
      "source": [
        "## Metrics: run lengths"
      ]
    },
    {
      "cell_type": "code",
      "execution_count": 107,
      "metadata": {
        "colab": {
          "base_uri": "https://localhost:8080/"
        },
        "id": "N6TvlLBER6nU",
        "outputId": "8514d931-b66f-42cb-91ef-f2fab646a8fb"
      },
      "outputs": [
        {
          "output_type": "execute_result",
          "data": {
            "text/plain": [
              "{'counts': Counter({11: 1, 1: 5, 2: 1, 3: 1, 29: 1}),\n",
              " 'mean': 5.555555555555555,\n",
              " 'median': 1.0,\n",
              " 'stddev': 8.833158628600795}"
            ]
          },
          "metadata": {},
          "execution_count": 107
        }
      ],
      "source": [
        "runlength_stats(get_run_lengths([int(x) for x in simSchool.hist_schools]))"
      ]
    },
    {
      "cell_type": "markdown",
      "metadata": {
        "id": "wUpEJlwDR6nU"
      },
      "source": [
        "## Metrics: $\\alpha$s"
      ]
    },
    {
      "cell_type": "code",
      "execution_count": 108,
      "metadata": {
        "colab": {
          "base_uri": "https://localhost:8080/"
        },
        "id": "ML8bcjQDR6nV",
        "outputId": "80ab6b6c-d1d8-45eb-a16f-1fc798ea108f"
      },
      "outputs": [
        {
          "output_type": "execute_result",
          "data": {
            "text/plain": [
              "Counter({0.0: 10,\n",
              "         0.6: 1,\n",
              "         0.7000000000000001: 15,\n",
              "         0.9: 1,\n",
              "         0.1: 4,\n",
              "         0.5: 1,\n",
              "         0.8: 1,\n",
              "         0.4: 1,\n",
              "         0.2: 3,\n",
              "         0.30000000000000004: 13})"
            ]
          },
          "metadata": {},
          "execution_count": 108
        }
      ],
      "source": [
        "Counter(simSchool.hist_alphas)"
      ]
    },
    {
      "cell_type": "code",
      "execution_count": 109,
      "metadata": {
        "colab": {
          "base_uri": "https://localhost:8080/",
          "height": 447
        },
        "id": "P9NmJciwR6nV",
        "outputId": "2b6fae4e-9bdd-47f1-8f23-55e5a721a8a3"
      },
      "outputs": [
        {
          "output_type": "execute_result",
          "data": {
            "text/plain": [
              "[<matplotlib.lines.Line2D at 0x79d3db47ce50>]"
            ]
          },
          "metadata": {},
          "execution_count": 109
        },
        {
          "output_type": "display_data",
          "data": {
            "text/plain": [
              "<Figure size 640x480 with 1 Axes>"
            ],
            "image/png": "[encoded data removed]"
          },
          "metadata": {}
        }
      ],
      "source": [
        "plt.plot(simSchool.hist_alphas)"
      ]
    },
    {
      "cell_type": "markdown",
      "metadata": {
        "id": "7dPn5YTMUMKm"
      },
      "source": [
        "# Factorial Experiment\n"
      ]
    },
    {
      "cell_type": "code",
      "execution_count": 110,
      "metadata": {
        "id": "g79S50nEUMKm"
      },
      "outputs": [],
      "source": [
        "def individual_replicate(SampleSize=3500,ratio=250, growth_patterns:list=[0,0,0], is_noisy:bool=False, alphas:tuple=None)->dict:\n",
        "    simSchool = SchoolDistrict(NStudents=SampleSize, #Start with 1250 students\n",
        "                               sscRat=ratio,  # ideal student/school ratio is 250\n",
        "                               tolerance=(-.1,.1), #tolerate student/school ratios of 225 to 275\n",
        "                               growth_period=24, # growth patterns last 20 years\n",
        "                               n_periods=len(growth_patterns), # run for 60 years\n",
        "                               noisy=is_noisy, # add noise to population change\n",
        "                               school_minimum_threshold = -50., # minimum budget to open/close a school\n",
        "                               school_fund_fraction=0.70, # determines how much over current school operating expenses to charge in taxes\n",
        "                               interest_rate=0.02,\n",
        "                               pred_ratios=[], ach_ratios=[], hist_alphas=[], predictions=[],hist_budget=[]\n",
        "                           )\n",
        "    if alphas is not None:\n",
        "        simSchool.alphas = alphas\n",
        "    school_results = {}\n",
        "    simSchool.simulate_full_history(set_history=growth_patterns)\n",
        "    simSchool.make_construction_decisions(debug=False)\n",
        "    school_results['r2'] = simSchool.predictive_accuracy()\n",
        "    school_results['pct_performant'] = simSchool.pct_when_performant(to_print=False)\n",
        "    school_results['pct_budgetary'] = simSchool.pct_when_in_budget(lower_thresh=simSchool.school_minimum_threshold,to_print=False)\n",
        "    school_results['decision_length'] = runlength_stats(get_run_lengths([int(x) for x in simSchool.hist_schools]))['median']\n",
        "    return school_results"
      ]
    },
    {
      "cell_type": "code",
      "execution_count": 111,
      "metadata": {
        "colab": {
          "base_uri": "https://localhost:8080/"
        },
        "id": "vLAgXAU2UMKm",
        "outputId": "6f6c8679-90c9-43de-bdad-f339ffb0abb0"
      },
      "outputs": [
        {
          "output_type": "execute_result",
          "data": {
            "text/plain": [
              "{'r2': 0.9690850023279477,\n",
              " 'pct_performant': 0.09411764705882353,\n",
              " 'pct_budgetary': 1.0,\n",
              " 'decision_length': 1.5}"
            ]
          },
          "metadata": {},
          "execution_count": 111
        }
      ],
      "source": [
        "individual_replicate(growth_patterns=[0,1,3,1])"
      ]
    },
    {
      "cell_type": "code",
      "source": [],
      "metadata": {
        "id": "cMVYDbDpdR3o"
      },
      "execution_count": 111,
      "outputs": []
    },
    {
      "cell_type": "code",
      "execution_count": 112,
      "metadata": {
        "id": "P-NzS2BeUMKm"
      },
      "outputs": [],
      "source": [
        "def run_experiment(growth_pat_len:int=3, noise:bool=False, set_alpha=None, plot:bool=True):\n",
        "    alphas_ = tuple(set_alpha for x in range(23)) if set_alpha is not None else None\n",
        "    exp_result = {}\n",
        "    pprod = product(\"0123456\", repeat=growth_pat_len)\n",
        "    formula = \"pct_performant ~ \" + \" + \".join([f\"C(p{x})\" for x in range(growth_pat_len)])\n",
        "    # print(formula)\n",
        "    for pat in pprod:\n",
        "        local_name = \",\".join(pat)\n",
        "        growth_pats =  [int(y) for y in pat]\n",
        "        # print(growth_pats)\n",
        "        local_res = individual_replicate(growth_patterns =growth_pats, is_noisy=noise, alphas=alphas_)\n",
        "        exp_result[local_name] = local_res\n",
        "\n",
        "    factorial = pd.DataFrame(exp_result).T\n",
        "    for _,j in enumerate(range(growth_pat_len)):\n",
        "        factorial[f'p{_}'] = factorial.index.to_series().apply(lambda x: x.split(',')[_])\n",
        "\n",
        "    if plot:\n",
        "        factorial.boxplot(column='r2', by='p0')\n",
        "        factorial.boxplot(column='pct_budgetary', by='p0')\n",
        "        factorial.boxplot(column='pct_performant', by='p0')\n",
        "        factorial.boxplot(column='decision_length', by='p0')\n",
        "        factorial.plot.scatter('decision_length', 'pct_performant', c=[int(x) for x in factorial['p2']], colormap='Dark2',alpha=0.3 )\n",
        "\n",
        "\n",
        "    print(factorial[['r2', 'pct_budgetary', 'pct_performant','decision_length']].describe())\n",
        "\n",
        "    lm = ols(formula, factorial).fit()\n",
        "    print(lm.summary())\n",
        "    print(anova_lm(lm))\n",
        "    return factorial, lm"
      ]
    },
    {
      "cell_type": "code",
      "execution_count": 113,
      "metadata": {
        "id": "vNdJ3GTuUMKm"
      },
      "outputs": [],
      "source": [
        "@dataclass\n",
        "class SingleExperiment:\n",
        "    # Single run from one set of experimental conditions\n",
        "    growth_pat_len:int=4\n",
        "    noise:bool=False\n",
        "    set_alpha:float=None\n",
        "    plot:bool=False\n",
        "\n",
        "    def run(self):\n",
        "        self.name = f\"gpl:{self.growth_pat_len};noise:{self.noise};A:{self.set_alpha}\"\n",
        "        self.result = run_experiment(growth_pat_len=self.growth_pat_len,\n",
        "                       noise=self.noise, set_alpha=self.set_alpha, plot=self.plot)\n",
        "        self.core_res = self.result[0][['r2', 'pct_budgetary', 'pct_performant','decision_length']].median()\n",
        "\n",
        "    def get_result(self):\n",
        "        self.run()\n",
        "        return self.core_res\n",
        ""
      ]
    },
    {
      "cell_type": "code",
      "execution_count": 114,
      "metadata": {
        "colab": {
          "base_uri": "https://localhost:8080/",
          "height": 321
        },
        "id": "rKvwr9oxUMKm",
        "outputId": "6a2ee116-abd5-4140-e138-ff0a422597e0"
      },
      "outputs": [
        {
          "output_type": "stream",
          "name": "stdout",
          "text": [
            "pct_performant ~ C(p0) + C(p1) + C(p2) + C(p3) + C(p4) + C(p5) + C(p6) + C(p7) + C(p8)\n"
          ]
        },
        {
          "output_type": "error",
          "ename": "KeyboardInterrupt",
          "evalue": "",
          "traceback": [
            "\u001b[0;31m---------------------------------------------------------------------------\u001b[0m",
            "\u001b[0;31mKeyboardInterrupt\u001b[0m                         Traceback (most recent call last)",
            "\u001b[0;32m<ipython-input-114-a625c1e3766d>\u001b[0m in \u001b[0;36m<cell line: 2>\u001b[0;34m()\u001b[0m\n\u001b[1;32m      1\u001b[0m \u001b[0minitial_class_test\u001b[0m \u001b[0;34m=\u001b[0m \u001b[0mSingleExperiment\u001b[0m\u001b[0;34m(\u001b[0m\u001b[0mgrowth_pat_len\u001b[0m\u001b[0;34m=\u001b[0m\u001b[0;36m9\u001b[0m\u001b[0;34m)\u001b[0m\u001b[0;34m\u001b[0m\u001b[0;34m\u001b[0m\u001b[0m\n\u001b[0;32m----> 2\u001b[0;31m \u001b[0minitial_class_test\u001b[0m\u001b[0;34m.\u001b[0m\u001b[0mget_result\u001b[0m\u001b[0;34m(\u001b[0m\u001b[0;34m)\u001b[0m\u001b[0;34m\u001b[0m\u001b[0;34m\u001b[0m\u001b[0m\n\u001b[0m",
            "\u001b[0;32m<ipython-input-113-2884d3033528>\u001b[0m in \u001b[0;36mget_result\u001b[0;34m(self)\u001b[0m\n\u001b[1;32m     14\u001b[0m \u001b[0;34m\u001b[0m\u001b[0m\n\u001b[1;32m     15\u001b[0m     \u001b[0;32mdef\u001b[0m \u001b[0mget_result\u001b[0m\u001b[0;34m(\u001b[0m\u001b[0mself\u001b[0m\u001b[0;34m)\u001b[0m\u001b[0;34m:\u001b[0m\u001b[0;34m\u001b[0m\u001b[0;34m\u001b[0m\u001b[0m\n\u001b[0;32m---> 16\u001b[0;31m         \u001b[0mself\u001b[0m\u001b[0;34m.\u001b[0m\u001b[0mrun\u001b[0m\u001b[0;34m(\u001b[0m\u001b[0;34m)\u001b[0m\u001b[0;34m\u001b[0m\u001b[0;34m\u001b[0m\u001b[0m\n\u001b[0m\u001b[1;32m     17\u001b[0m         \u001b[0;32mreturn\u001b[0m \u001b[0mself\u001b[0m\u001b[0;34m.\u001b[0m\u001b[0mcore_res\u001b[0m\u001b[0;34m\u001b[0m\u001b[0;34m\u001b[0m\u001b[0m\n\u001b[1;32m     18\u001b[0m \u001b[0;34m\u001b[0m\u001b[0m\n",
            "\u001b[0;32m<ipython-input-113-2884d3033528>\u001b[0m in \u001b[0;36mrun\u001b[0;34m(self)\u001b[0m\n\u001b[1;32m      9\u001b[0m     \u001b[0;32mdef\u001b[0m \u001b[0mrun\u001b[0m\u001b[0;34m(\u001b[0m\u001b[0mself\u001b[0m\u001b[0;34m)\u001b[0m\u001b[0;34m:\u001b[0m\u001b[0;34m\u001b[0m\u001b[0;34m\u001b[0m\u001b[0m\n\u001b[1;32m     10\u001b[0m         \u001b[0mself\u001b[0m\u001b[0;34m.\u001b[0m\u001b[0mname\u001b[0m \u001b[0;34m=\u001b[0m \u001b[0;34mf\"gpl:{self.growth_pat_len};noise:{self.noise};A:{self.set_alpha}\"\u001b[0m\u001b[0;34m\u001b[0m\u001b[0;34m\u001b[0m\u001b[0m\n\u001b[0;32m---> 11\u001b[0;31m         self.result = run_experiment(growth_pat_len=self.growth_pat_len, \n\u001b[0m\u001b[1;32m     12\u001b[0m                        noise=self.noise, set_alpha=self.set_alpha, plot=self.plot)\n\u001b[1;32m     13\u001b[0m         \u001b[0mself\u001b[0m\u001b[0;34m.\u001b[0m\u001b[0mcore_res\u001b[0m \u001b[0;34m=\u001b[0m \u001b[0mself\u001b[0m\u001b[0;34m.\u001b[0m\u001b[0mresult\u001b[0m\u001b[0;34m[\u001b[0m\u001b[0;36m0\u001b[0m\u001b[0;34m]\u001b[0m\u001b[0;34m[\u001b[0m\u001b[0;34m[\u001b[0m\u001b[0;34m'r2'\u001b[0m\u001b[0;34m,\u001b[0m \u001b[0;34m'pct_budgetary'\u001b[0m\u001b[0;34m,\u001b[0m \u001b[0;34m'pct_performant'\u001b[0m\u001b[0;34m,\u001b[0m\u001b[0;34m'decision_length'\u001b[0m\u001b[0;34m]\u001b[0m\u001b[0;34m]\u001b[0m\u001b[0;34m.\u001b[0m\u001b[0mmedian\u001b[0m\u001b[0;34m(\u001b[0m\u001b[0;34m)\u001b[0m\u001b[0;34m\u001b[0m\u001b[0;34m\u001b[0m\u001b[0m\n",
            "\u001b[0;32m<ipython-input-112-b73941a69ab6>\u001b[0m in \u001b[0;36mrun_experiment\u001b[0;34m(growth_pat_len, noise, set_alpha, plot)\u001b[0m\n\u001b[1;32m      9\u001b[0m         \u001b[0mgrowth_pats\u001b[0m \u001b[0;34m=\u001b[0m  \u001b[0;34m[\u001b[0m\u001b[0mint\u001b[0m\u001b[0;34m(\u001b[0m\u001b[0my\u001b[0m\u001b[0;34m)\u001b[0m \u001b[0;32mfor\u001b[0m \u001b[0my\u001b[0m \u001b[0;32min\u001b[0m \u001b[0mpat\u001b[0m\u001b[0;34m]\u001b[0m\u001b[0;34m\u001b[0m\u001b[0;34m\u001b[0m\u001b[0m\n\u001b[1;32m     10\u001b[0m         \u001b[0;31m# print(growth_pats)\u001b[0m\u001b[0;34m\u001b[0m\u001b[0;34m\u001b[0m\u001b[0m\n\u001b[0;32m---> 11\u001b[0;31m         \u001b[0mlocal_res\u001b[0m \u001b[0;34m=\u001b[0m \u001b[0mindividual_replicate\u001b[0m\u001b[0;34m(\u001b[0m\u001b[0mgrowth_patterns\u001b[0m \u001b[0;34m=\u001b[0m\u001b[0mgrowth_pats\u001b[0m\u001b[0;34m,\u001b[0m \u001b[0mis_noisy\u001b[0m\u001b[0;34m=\u001b[0m\u001b[0mnoise\u001b[0m\u001b[0;34m,\u001b[0m \u001b[0malphas\u001b[0m\u001b[0;34m=\u001b[0m\u001b[0malphas_\u001b[0m\u001b[0;34m)\u001b[0m\u001b[0;34m\u001b[0m\u001b[0;34m\u001b[0m\u001b[0m\n\u001b[0m\u001b[1;32m     12\u001b[0m         \u001b[0mexp_result\u001b[0m\u001b[0;34m[\u001b[0m\u001b[0mlocal_name\u001b[0m\u001b[0;34m]\u001b[0m \u001b[0;34m=\u001b[0m \u001b[0mlocal_res\u001b[0m\u001b[0;34m\u001b[0m\u001b[0;34m\u001b[0m\u001b[0m\n\u001b[1;32m     13\u001b[0m \u001b[0;34m\u001b[0m\u001b[0m\n",
            "\u001b[0;32m<ipython-input-110-07e302d652a8>\u001b[0m in \u001b[0;36mindividual_replicate\u001b[0;34m(SampleSize, ratio, growth_patterns, is_noisy, alphas)\u001b[0m\n\u001b[1;32m     15\u001b[0m     \u001b[0mschool_results\u001b[0m \u001b[0;34m=\u001b[0m \u001b[0;34m{\u001b[0m\u001b[0;34m}\u001b[0m\u001b[0;34m\u001b[0m\u001b[0;34m\u001b[0m\u001b[0m\n\u001b[1;32m     16\u001b[0m     \u001b[0msimSchool\u001b[0m\u001b[0;34m.\u001b[0m\u001b[0msimulate_full_history\u001b[0m\u001b[0;34m(\u001b[0m\u001b[0mset_history\u001b[0m\u001b[0;34m=\u001b[0m\u001b[0mgrowth_patterns\u001b[0m\u001b[0;34m)\u001b[0m\u001b[0;34m\u001b[0m\u001b[0;34m\u001b[0m\u001b[0m\n\u001b[0;32m---> 17\u001b[0;31m     \u001b[0msimSchool\u001b[0m\u001b[0;34m.\u001b[0m\u001b[0mmake_construction_decisions\u001b[0m\u001b[0;34m(\u001b[0m\u001b[0mdebug\u001b[0m\u001b[0;34m=\u001b[0m\u001b[0;32mFalse\u001b[0m\u001b[0;34m)\u001b[0m\u001b[0;34m\u001b[0m\u001b[0;34m\u001b[0m\u001b[0m\n\u001b[0m\u001b[1;32m     18\u001b[0m     \u001b[0mschool_results\u001b[0m\u001b[0;34m[\u001b[0m\u001b[0;34m'r2'\u001b[0m\u001b[0;34m]\u001b[0m \u001b[0;34m=\u001b[0m \u001b[0msimSchool\u001b[0m\u001b[0;34m.\u001b[0m\u001b[0mpredictive_accuracy\u001b[0m\u001b[0;34m(\u001b[0m\u001b[0;34m)\u001b[0m\u001b[0;34m\u001b[0m\u001b[0;34m\u001b[0m\u001b[0m\n\u001b[1;32m     19\u001b[0m     \u001b[0mschool_results\u001b[0m\u001b[0;34m[\u001b[0m\u001b[0;34m'pct_performant'\u001b[0m\u001b[0;34m]\u001b[0m \u001b[0;34m=\u001b[0m \u001b[0msimSchool\u001b[0m\u001b[0;34m.\u001b[0m\u001b[0mpct_when_performant\u001b[0m\u001b[0;34m(\u001b[0m\u001b[0mto_print\u001b[0m\u001b[0;34m=\u001b[0m\u001b[0;32mFalse\u001b[0m\u001b[0;34m)\u001b[0m\u001b[0;34m\u001b[0m\u001b[0;34m\u001b[0m\u001b[0m\n",
            "\u001b[0;32m<ipython-input-97-f508864b65d7>\u001b[0m in \u001b[0;36mmake_construction_decisions\u001b[0;34m(self, debug)\u001b[0m\n\u001b[1;32m     78\u001b[0m \u001b[0;34m\u001b[0m\u001b[0m\n\u001b[1;32m     79\u001b[0m             \u001b[0;31m# forecast\u001b[0m\u001b[0;34m\u001b[0m\u001b[0;34m\u001b[0m\u001b[0m\n\u001b[0;32m---> 80\u001b[0;31m             \u001b[0mforecast_objs\u001b[0m \u001b[0;34m=\u001b[0m \u001b[0mpredict_from_history\u001b[0m\u001b[0;34m(\u001b[0m\u001b[0mself\u001b[0m\u001b[0;34m.\u001b[0m\u001b[0mhistory\u001b[0m\u001b[0;34m[\u001b[0m\u001b[0;36m0\u001b[0m\u001b[0;34m:\u001b[0m\u001b[0myr\u001b[0m\u001b[0;34m]\u001b[0m\u001b[0;34m,\u001b[0m\u001b[0myears\u001b[0m\u001b[0;34m=\u001b[0m\u001b[0;36m1\u001b[0m\u001b[0;34m,\u001b[0m\u001b[0malpha_set\u001b[0m\u001b[0;34m=\u001b[0m\u001b[0mlocal_as\u001b[0m\u001b[0;34m)\u001b[0m\u001b[0;34m\u001b[0m\u001b[0;34m\u001b[0m\u001b[0m\n\u001b[0m\u001b[1;32m     81\u001b[0m             \u001b[0mlocal_prat\u001b[0m \u001b[0;34m=\u001b[0m \u001b[0mforecast_objs\u001b[0m\u001b[0;34m[\u001b[0m\u001b[0;34m'prediction'\u001b[0m\u001b[0;34m]\u001b[0m\u001b[0;34m[\u001b[0m\u001b[0;36m0\u001b[0m\u001b[0;34m]\u001b[0m\u001b[0;34m/\u001b[0m\u001b[0mself\u001b[0m\u001b[0;34m.\u001b[0m\u001b[0mNSchools\u001b[0m\u001b[0;34m\u001b[0m\u001b[0;34m\u001b[0m\u001b[0m\n\u001b[1;32m     82\u001b[0m             \u001b[0mself\u001b[0m\u001b[0;34m.\u001b[0m\u001b[0mhist_alphas\u001b[0m\u001b[0;34m.\u001b[0m\u001b[0mappend\u001b[0m\u001b[0;34m(\u001b[0m\u001b[0mforecast_objs\u001b[0m\u001b[0;34m[\u001b[0m\u001b[0;34m'alpha_result'\u001b[0m\u001b[0;34m]\u001b[0m\u001b[0;34m)\u001b[0m\u001b[0;34m\u001b[0m\u001b[0;34m\u001b[0m\u001b[0m\n",
            "\u001b[0;32m<ipython-input-94-541545c233ce>\u001b[0m in \u001b[0;36mpredict_from_history\u001b[0;34m(schooldata, alpha_set, years, random)\u001b[0m\n\u001b[1;32m      7\u001b[0m     \u001b[0;32mif\u001b[0m \u001b[0mrandom\u001b[0m\u001b[0;34m:\u001b[0m\u001b[0;34m\u001b[0m\u001b[0;34m\u001b[0m\u001b[0m\n\u001b[1;32m      8\u001b[0m         \u001b[0mj\u001b[0m \u001b[0;34m=\u001b[0m \u001b[0mchoice\u001b[0m\u001b[0;34m(\u001b[0m\u001b[0malpha_set\u001b[0m\u001b[0;34m)\u001b[0m\u001b[0;34m\u001b[0m\u001b[0;34m\u001b[0m\u001b[0m\n\u001b[0;32m----> 9\u001b[0;31m         \u001b[0mssmwa\u001b[0m \u001b[0;34m=\u001b[0m \u001b[0mschool_SEWMA\u001b[0m\u001b[0;34m(\u001b[0m\u001b[0mj\u001b[0m\u001b[0;34m)\u001b[0m\u001b[0;34m\u001b[0m\u001b[0;34m\u001b[0m\u001b[0m\n\u001b[0m\u001b[1;32m     10\u001b[0m         \u001b[0mfit_res\u001b[0m\u001b[0;34m[\u001b[0m\u001b[0mj\u001b[0m\u001b[0;34m]\u001b[0m \u001b[0;34m=\u001b[0m \u001b[0mssmwa\u001b[0m\u001b[0;34m[\u001b[0m\u001b[0;34m'sse'\u001b[0m\u001b[0;34m]\u001b[0m\u001b[0;34m\u001b[0m\u001b[0;34m\u001b[0m\u001b[0m\n\u001b[1;32m     11\u001b[0m         \u001b[0mmodels\u001b[0m\u001b[0;34m[\u001b[0m\u001b[0mj\u001b[0m\u001b[0;34m]\u001b[0m \u001b[0;34m=\u001b[0m \u001b[0mssmwa\u001b[0m\u001b[0;34m[\u001b[0m\u001b[0;34m'mod'\u001b[0m\u001b[0;34m]\u001b[0m\u001b[0;34m\u001b[0m\u001b[0;34m\u001b[0m\u001b[0m\n",
            "\u001b[0;32m<ipython-input-94-541545c233ce>\u001b[0m in \u001b[0;36m<lambda>\u001b[0;34m(a)\u001b[0m\n\u001b[1;32m      2\u001b[0m     \u001b[0;31m# core function to use simple exponential smoothing\u001b[0m\u001b[0;34m\u001b[0m\u001b[0;34m\u001b[0m\u001b[0m\n\u001b[1;32m      3\u001b[0m \u001b[0;34m\u001b[0m\u001b[0m\n\u001b[0;32m----> 4\u001b[0;31m     \u001b[0mschool_SEWMA\u001b[0m \u001b[0;34m=\u001b[0m \u001b[0;32mlambda\u001b[0m \u001b[0ma\u001b[0m\u001b[0;34m:\u001b[0m \u001b[0mdbl_SEWMA\u001b[0m\u001b[0;34m(\u001b[0m\u001b[0mdata\u001b[0m\u001b[0;34m=\u001b[0m\u001b[0mschooldata\u001b[0m\u001b[0;34m,\u001b[0m \u001b[0malpha\u001b[0m\u001b[0;34m=\u001b[0m\u001b[0ma\u001b[0m\u001b[0;34m)\u001b[0m\u001b[0;34m\u001b[0m\u001b[0;34m\u001b[0m\u001b[0m\n\u001b[0m\u001b[1;32m      5\u001b[0m     \u001b[0mfit_res\u001b[0m \u001b[0;34m=\u001b[0m \u001b[0;34m{\u001b[0m\u001b[0;34m}\u001b[0m\u001b[0;34m\u001b[0m\u001b[0;34m\u001b[0m\u001b[0m\n\u001b[1;32m      6\u001b[0m     \u001b[0mmodels\u001b[0m \u001b[0;34m=\u001b[0m \u001b[0;34m{\u001b[0m\u001b[0;34m}\u001b[0m\u001b[0;34m\u001b[0m\u001b[0;34m\u001b[0m\u001b[0m\n",
            "\u001b[0;32m<ipython-input-85-caa8cd8b372c>\u001b[0m in \u001b[0;36mdbl_SEWMA\u001b[0;34m(data, alpha)\u001b[0m\n\u001b[1;32m      8\u001b[0m     \u001b[0;31m# dictionary containing the sum of squared errors and statsmodels time series model\u001b[0m\u001b[0;34m\u001b[0m\u001b[0;34m\u001b[0m\u001b[0m\n\u001b[1;32m      9\u001b[0m     \u001b[0;31m#TODO: fix initialization to use as few years as possible--this can only be done with \"known\" initial trend and level\u001b[0m\u001b[0;34m\u001b[0m\u001b[0;34m\u001b[0m\u001b[0m\n\u001b[0;32m---> 10\u001b[0;31m     \u001b[0mmod1\u001b[0m \u001b[0;34m=\u001b[0m \u001b[0mSimpleExpSmoothing\u001b[0m\u001b[0;34m(\u001b[0m\u001b[0mdata\u001b[0m\u001b[0;34m,\u001b[0m \u001b[0minitialization_method\u001b[0m\u001b[0;34m=\u001b[0m\u001b[0;34m\"heuristic\"\u001b[0m\u001b[0;34m)\u001b[0m\u001b[0;34m.\u001b[0m\u001b[0mfit\u001b[0m\u001b[0;34m(\u001b[0m\u001b[0msmoothing_level\u001b[0m\u001b[0;34m=\u001b[0m\u001b[0malpha\u001b[0m\u001b[0;34m,\u001b[0m \u001b[0moptimized\u001b[0m\u001b[0;34m=\u001b[0m\u001b[0;32mFalse\u001b[0m\u001b[0;34m)\u001b[0m\u001b[0;34m\u001b[0m\u001b[0;34m\u001b[0m\u001b[0m\n\u001b[0m\u001b[1;32m     11\u001b[0m     \u001b[0;32mreturn\u001b[0m \u001b[0;34m{\u001b[0m\u001b[0;34m'sse'\u001b[0m\u001b[0;34m:\u001b[0m\u001b[0mmod1\u001b[0m\u001b[0;34m.\u001b[0m\u001b[0msse\u001b[0m\u001b[0;34m,\u001b[0m \u001b[0;34m'mod'\u001b[0m\u001b[0;34m:\u001b[0m\u001b[0mmod1\u001b[0m\u001b[0;34m}\u001b[0m\u001b[0;34m\u001b[0m\u001b[0;34m\u001b[0m\u001b[0m\n",
            "\u001b[0;32m/usr/local/lib/python3.10/dist-packages/statsmodels/tsa/holtwinters/model.py\u001b[0m in \u001b[0;36mfit\u001b[0;34m(self, smoothing_level, optimized, start_params, initial_level, use_brute, use_boxcox, remove_bias, method, minimize_kwargs)\u001b[0m\n\u001b[1;32m   1617\u001b[0m             \u001b[0;32mand\u001b[0m \u001b[0mpractice\u001b[0m\u001b[0;34m.\u001b[0m \u001b[0mOTexts\u001b[0m\u001b[0;34m,\u001b[0m \u001b[0;36m2014.\u001b[0m\u001b[0;34m\u001b[0m\u001b[0;34m\u001b[0m\u001b[0m\n\u001b[1;32m   1618\u001b[0m         \"\"\"\n\u001b[0;32m-> 1619\u001b[0;31m         return super().fit(\n\u001b[0m\u001b[1;32m   1620\u001b[0m             \u001b[0msmoothing_level\u001b[0m\u001b[0;34m=\u001b[0m\u001b[0msmoothing_level\u001b[0m\u001b[0;34m,\u001b[0m\u001b[0;34m\u001b[0m\u001b[0;34m\u001b[0m\u001b[0m\n\u001b[1;32m   1621\u001b[0m             \u001b[0moptimized\u001b[0m\u001b[0;34m=\u001b[0m\u001b[0moptimized\u001b[0m\u001b[0;34m,\u001b[0m\u001b[0;34m\u001b[0m\u001b[0;34m\u001b[0m\u001b[0m\n",
            "\u001b[0;32m/usr/local/lib/python3.10/dist-packages/pandas/util/_decorators.py\u001b[0m in \u001b[0;36mwrapper\u001b[0;34m(*args, **kwargs)\u001b[0m\n\u001b[1;32m    211\u001b[0m                     \u001b[0;32mraise\u001b[0m \u001b[0mTypeError\u001b[0m\u001b[0;34m(\u001b[0m\u001b[0mmsg\u001b[0m\u001b[0;34m)\u001b[0m\u001b[0;34m\u001b[0m\u001b[0;34m\u001b[0m\u001b[0m\n\u001b[1;32m    212\u001b[0m                 \u001b[0mkwargs\u001b[0m\u001b[0;34m[\u001b[0m\u001b[0mnew_arg_name\u001b[0m\u001b[0;34m]\u001b[0m \u001b[0;34m=\u001b[0m \u001b[0mnew_arg_value\u001b[0m\u001b[0;34m\u001b[0m\u001b[0;34m\u001b[0m\u001b[0m\n\u001b[0;32m--> 213\u001b[0;31m             \u001b[0;32mreturn\u001b[0m \u001b[0mfunc\u001b[0m\u001b[0;34m(\u001b[0m\u001b[0;34m*\u001b[0m\u001b[0margs\u001b[0m\u001b[0;34m,\u001b[0m \u001b[0;34m**\u001b[0m\u001b[0mkwargs\u001b[0m\u001b[0;34m)\u001b[0m\u001b[0;34m\u001b[0m\u001b[0;34m\u001b[0m\u001b[0m\n\u001b[0m\u001b[1;32m    214\u001b[0m \u001b[0;34m\u001b[0m\u001b[0m\n\u001b[1;32m    215\u001b[0m         \u001b[0;32mreturn\u001b[0m \u001b[0mcast\u001b[0m\u001b[0;34m(\u001b[0m\u001b[0mF\u001b[0m\u001b[0;34m,\u001b[0m \u001b[0mwrapper\u001b[0m\u001b[0;34m)\u001b[0m\u001b[0;34m\u001b[0m\u001b[0;34m\u001b[0m\u001b[0m\n",
            "\u001b[0;32m/usr/local/lib/python3.10/dist-packages/pandas/util/_decorators.py\u001b[0m in \u001b[0;36mwrapper\u001b[0;34m(*args, **kwargs)\u001b[0m\n\u001b[1;32m    211\u001b[0m                     \u001b[0;32mraise\u001b[0m \u001b[0mTypeError\u001b[0m\u001b[0;34m(\u001b[0m\u001b[0mmsg\u001b[0m\u001b[0;34m)\u001b[0m\u001b[0;34m\u001b[0m\u001b[0;34m\u001b[0m\u001b[0m\n\u001b[1;32m    212\u001b[0m                 \u001b[0mkwargs\u001b[0m\u001b[0;34m[\u001b[0m\u001b[0mnew_arg_name\u001b[0m\u001b[0;34m]\u001b[0m \u001b[0;34m=\u001b[0m \u001b[0mnew_arg_value\u001b[0m\u001b[0;34m\u001b[0m\u001b[0;34m\u001b[0m\u001b[0m\n\u001b[0;32m--> 213\u001b[0;31m             \u001b[0;32mreturn\u001b[0m \u001b[0mfunc\u001b[0m\u001b[0;34m(\u001b[0m\u001b[0;34m*\u001b[0m\u001b[0margs\u001b[0m\u001b[0;34m,\u001b[0m \u001b[0;34m**\u001b[0m\u001b[0mkwargs\u001b[0m\u001b[0;34m)\u001b[0m\u001b[0;34m\u001b[0m\u001b[0;34m\u001b[0m\u001b[0m\n\u001b[0m\u001b[1;32m    214\u001b[0m \u001b[0;34m\u001b[0m\u001b[0m\n\u001b[1;32m    215\u001b[0m         \u001b[0;32mreturn\u001b[0m \u001b[0mcast\u001b[0m\u001b[0;34m(\u001b[0m\u001b[0mF\u001b[0m\u001b[0;34m,\u001b[0m \u001b[0mwrapper\u001b[0m\u001b[0;34m)\u001b[0m\u001b[0;34m\u001b[0m\u001b[0;34m\u001b[0m\u001b[0m\n",
            "\u001b[0;32m/usr/local/lib/python3.10/dist-packages/pandas/util/_decorators.py\u001b[0m in \u001b[0;36mwrapper\u001b[0;34m(*args, **kwargs)\u001b[0m\n\u001b[1;32m    211\u001b[0m                     \u001b[0;32mraise\u001b[0m \u001b[0mTypeError\u001b[0m\u001b[0;34m(\u001b[0m\u001b[0mmsg\u001b[0m\u001b[0;34m)\u001b[0m\u001b[0;34m\u001b[0m\u001b[0;34m\u001b[0m\u001b[0m\n\u001b[1;32m    212\u001b[0m                 \u001b[0mkwargs\u001b[0m\u001b[0;34m[\u001b[0m\u001b[0mnew_arg_name\u001b[0m\u001b[0;34m]\u001b[0m \u001b[0;34m=\u001b[0m \u001b[0mnew_arg_value\u001b[0m\u001b[0;34m\u001b[0m\u001b[0;34m\u001b[0m\u001b[0m\n\u001b[0;32m--> 213\u001b[0;31m             \u001b[0;32mreturn\u001b[0m \u001b[0mfunc\u001b[0m\u001b[0;34m(\u001b[0m\u001b[0;34m*\u001b[0m\u001b[0margs\u001b[0m\u001b[0;34m,\u001b[0m \u001b[0;34m**\u001b[0m\u001b[0mkwargs\u001b[0m\u001b[0;34m)\u001b[0m\u001b[0;34m\u001b[0m\u001b[0;34m\u001b[0m\u001b[0m\n\u001b[0m\u001b[1;32m    214\u001b[0m \u001b[0;34m\u001b[0m\u001b[0m\n\u001b[1;32m    215\u001b[0m         \u001b[0;32mreturn\u001b[0m \u001b[0mcast\u001b[0m\u001b[0;34m(\u001b[0m\u001b[0mF\u001b[0m\u001b[0;34m,\u001b[0m \u001b[0mwrapper\u001b[0m\u001b[0;34m)\u001b[0m\u001b[0;34m\u001b[0m\u001b[0;34m\u001b[0m\u001b[0m\n",
            "\u001b[0;32m/usr/local/lib/python3.10/dist-packages/statsmodels/tsa/holtwinters/model.py\u001b[0m in \u001b[0;36mfit\u001b[0;34m(self, smoothing_level, smoothing_trend, smoothing_seasonal, damping_trend, optimized, remove_bias, start_params, method, minimize_kwargs, use_brute, use_boxcox, use_basinhopping, initial_level, initial_trend)\u001b[0m\n\u001b[1;32m   1162\u001b[0m                 \u001b[0mres\u001b[0m\u001b[0;34m.\u001b[0m\u001b[0mseasonal\u001b[0m \u001b[0;34m=\u001b[0m \u001b[0mfp\u001b[0m\u001b[0;34m.\u001b[0m\u001b[0mget\u001b[0m\u001b[0;34m(\u001b[0m\u001b[0;34m\"initial_seasonal\"\u001b[0m\u001b[0;34m,\u001b[0m \u001b[0mres\u001b[0m\u001b[0;34m.\u001b[0m\u001b[0mseasonal\u001b[0m\u001b[0;34m)\u001b[0m\u001b[0;34m\u001b[0m\u001b[0;34m\u001b[0m\u001b[0m\n\u001b[1;32m   1163\u001b[0m \u001b[0;34m\u001b[0m\u001b[0m\n\u001b[0;32m-> 1164\u001b[0;31m         hwfit = self._predict(\n\u001b[0m\u001b[1;32m   1165\u001b[0m             \u001b[0mh\u001b[0m\u001b[0;34m=\u001b[0m\u001b[0;36m0\u001b[0m\u001b[0;34m,\u001b[0m\u001b[0;34m\u001b[0m\u001b[0;34m\u001b[0m\u001b[0m\n\u001b[1;32m   1166\u001b[0m             \u001b[0msmoothing_level\u001b[0m\u001b[0;34m=\u001b[0m\u001b[0mres\u001b[0m\u001b[0;34m.\u001b[0m\u001b[0malpha\u001b[0m\u001b[0;34m,\u001b[0m\u001b[0;34m\u001b[0m\u001b[0;34m\u001b[0m\u001b[0m\n",
            "\u001b[0;32m/usr/local/lib/python3.10/dist-packages/pandas/util/_decorators.py\u001b[0m in \u001b[0;36mwrapper\u001b[0;34m(*args, **kwargs)\u001b[0m\n\u001b[1;32m    211\u001b[0m                     \u001b[0;32mraise\u001b[0m \u001b[0mTypeError\u001b[0m\u001b[0;34m(\u001b[0m\u001b[0mmsg\u001b[0m\u001b[0;34m)\u001b[0m\u001b[0;34m\u001b[0m\u001b[0;34m\u001b[0m\u001b[0m\n\u001b[1;32m    212\u001b[0m                 \u001b[0mkwargs\u001b[0m\u001b[0;34m[\u001b[0m\u001b[0mnew_arg_name\u001b[0m\u001b[0;34m]\u001b[0m \u001b[0;34m=\u001b[0m \u001b[0mnew_arg_value\u001b[0m\u001b[0;34m\u001b[0m\u001b[0;34m\u001b[0m\u001b[0m\n\u001b[0;32m--> 213\u001b[0;31m             \u001b[0;32mreturn\u001b[0m \u001b[0mfunc\u001b[0m\u001b[0;34m(\u001b[0m\u001b[0;34m*\u001b[0m\u001b[0margs\u001b[0m\u001b[0;34m,\u001b[0m \u001b[0;34m**\u001b[0m\u001b[0mkwargs\u001b[0m\u001b[0;34m)\u001b[0m\u001b[0;34m\u001b[0m\u001b[0;34m\u001b[0m\u001b[0m\n\u001b[0m\u001b[1;32m    214\u001b[0m \u001b[0;34m\u001b[0m\u001b[0m\n\u001b[1;32m    215\u001b[0m         \u001b[0;32mreturn\u001b[0m \u001b[0mcast\u001b[0m\u001b[0;34m(\u001b[0m\u001b[0mF\u001b[0m\u001b[0;34m,\u001b[0m \u001b[0mwrapper\u001b[0m\u001b[0;34m)\u001b[0m\u001b[0;34m\u001b[0m\u001b[0;34m\u001b[0m\u001b[0m\n",
            "\u001b[0;32m/usr/local/lib/python3.10/dist-packages/pandas/util/_decorators.py\u001b[0m in \u001b[0;36mwrapper\u001b[0;34m(*args, **kwargs)\u001b[0m\n\u001b[1;32m    211\u001b[0m                     \u001b[0;32mraise\u001b[0m \u001b[0mTypeError\u001b[0m\u001b[0;34m(\u001b[0m\u001b[0mmsg\u001b[0m\u001b[0;34m)\u001b[0m\u001b[0;34m\u001b[0m\u001b[0;34m\u001b[0m\u001b[0m\n\u001b[1;32m    212\u001b[0m                 \u001b[0mkwargs\u001b[0m\u001b[0;34m[\u001b[0m\u001b[0mnew_arg_name\u001b[0m\u001b[0;34m]\u001b[0m \u001b[0;34m=\u001b[0m \u001b[0mnew_arg_value\u001b[0m\u001b[0;34m\u001b[0m\u001b[0;34m\u001b[0m\u001b[0m\n\u001b[0;32m--> 213\u001b[0;31m             \u001b[0;32mreturn\u001b[0m \u001b[0mfunc\u001b[0m\u001b[0;34m(\u001b[0m\u001b[0;34m*\u001b[0m\u001b[0margs\u001b[0m\u001b[0;34m,\u001b[0m \u001b[0;34m**\u001b[0m\u001b[0mkwargs\u001b[0m\u001b[0;34m)\u001b[0m\u001b[0;34m\u001b[0m\u001b[0;34m\u001b[0m\u001b[0m\n\u001b[0m\u001b[1;32m    214\u001b[0m \u001b[0;34m\u001b[0m\u001b[0m\n\u001b[1;32m    215\u001b[0m         \u001b[0;32mreturn\u001b[0m \u001b[0mcast\u001b[0m\u001b[0;34m(\u001b[0m\u001b[0mF\u001b[0m\u001b[0;34m,\u001b[0m \u001b[0mwrapper\u001b[0m\u001b[0;34m)\u001b[0m\u001b[0;34m\u001b[0m\u001b[0;34m\u001b[0m\u001b[0m\n",
            "\u001b[0;32m/usr/local/lib/python3.10/dist-packages/statsmodels/tsa/holtwinters/model.py\u001b[0m in \u001b[0;36m_predict\u001b[0;34m(self, h, smoothing_level, smoothing_trend, smoothing_seasonal, initial_level, initial_trend, damping_trend, initial_seasons, use_boxcox, lamda, remove_bias, is_optimized)\u001b[0m\n\u001b[1;32m   1462\u001b[0m             \u001b[0mindex\u001b[0m\u001b[0;34m=\u001b[0m\u001b[0midx\u001b[0m\u001b[0;34m,\u001b[0m\u001b[0;34m\u001b[0m\u001b[0;34m\u001b[0m\u001b[0m\n\u001b[1;32m   1463\u001b[0m         )\n\u001b[0;32m-> 1464\u001b[0;31m         \u001b[0mformatted\u001b[0m \u001b[0;34m=\u001b[0m \u001b[0mformatted\u001b[0m\u001b[0;34m.\u001b[0m\u001b[0mloc\u001b[0m\u001b[0;34m[\u001b[0m\u001b[0mincluded\u001b[0m\u001b[0;34m]\u001b[0m\u001b[0;34m\u001b[0m\u001b[0;34m\u001b[0m\u001b[0m\n\u001b[0m\u001b[1;32m   1465\u001b[0m \u001b[0;34m\u001b[0m\u001b[0m\n\u001b[1;32m   1466\u001b[0m         hwfit = HoltWintersResults(\n",
            "\u001b[0;32m/usr/local/lib/python3.10/dist-packages/pandas/core/indexing.py\u001b[0m in \u001b[0;36m__getitem__\u001b[0;34m(self, key)\u001b[0m\n\u001b[1;32m   1189\u001b[0m             \u001b[0mmaybe_callable\u001b[0m \u001b[0;34m=\u001b[0m \u001b[0mcom\u001b[0m\u001b[0;34m.\u001b[0m\u001b[0mapply_if_callable\u001b[0m\u001b[0;34m(\u001b[0m\u001b[0mkey\u001b[0m\u001b[0;34m,\u001b[0m \u001b[0mself\u001b[0m\u001b[0;34m.\u001b[0m\u001b[0mobj\u001b[0m\u001b[0;34m)\u001b[0m\u001b[0;34m\u001b[0m\u001b[0;34m\u001b[0m\u001b[0m\n\u001b[1;32m   1190\u001b[0m             \u001b[0mmaybe_callable\u001b[0m \u001b[0;34m=\u001b[0m \u001b[0mself\u001b[0m\u001b[0;34m.\u001b[0m\u001b[0m_check_deprecated_callable_usage\u001b[0m\u001b[0;34m(\u001b[0m\u001b[0mkey\u001b[0m\u001b[0;34m,\u001b[0m \u001b[0mmaybe_callable\u001b[0m\u001b[0;34m)\u001b[0m\u001b[0;34m\u001b[0m\u001b[0;34m\u001b[0m\u001b[0m\n\u001b[0;32m-> 1191\u001b[0;31m             \u001b[0;32mreturn\u001b[0m \u001b[0mself\u001b[0m\u001b[0;34m.\u001b[0m\u001b[0m_getitem_axis\u001b[0m\u001b[0;34m(\u001b[0m\u001b[0mmaybe_callable\u001b[0m\u001b[0;34m,\u001b[0m \u001b[0maxis\u001b[0m\u001b[0;34m=\u001b[0m\u001b[0maxis\u001b[0m\u001b[0;34m)\u001b[0m\u001b[0;34m\u001b[0m\u001b[0;34m\u001b[0m\u001b[0m\n\u001b[0m\u001b[1;32m   1192\u001b[0m \u001b[0;34m\u001b[0m\u001b[0m\n\u001b[1;32m   1193\u001b[0m     \u001b[0;32mdef\u001b[0m \u001b[0m_is_scalar_access\u001b[0m\u001b[0;34m(\u001b[0m\u001b[0mself\u001b[0m\u001b[0;34m,\u001b[0m \u001b[0mkey\u001b[0m\u001b[0;34m:\u001b[0m \u001b[0mtuple\u001b[0m\u001b[0;34m)\u001b[0m\u001b[0;34m:\u001b[0m\u001b[0;34m\u001b[0m\u001b[0;34m\u001b[0m\u001b[0m\n",
            "\u001b[0;32m/usr/local/lib/python3.10/dist-packages/pandas/core/indexing.py\u001b[0m in \u001b[0;36m_getitem_axis\u001b[0;34m(self, key, axis)\u001b[0m\n\u001b[1;32m   1411\u001b[0m             \u001b[0;32mreturn\u001b[0m \u001b[0mself\u001b[0m\u001b[0;34m.\u001b[0m\u001b[0m_get_slice_axis\u001b[0m\u001b[0;34m(\u001b[0m\u001b[0mkey\u001b[0m\u001b[0;34m,\u001b[0m \u001b[0maxis\u001b[0m\u001b[0;34m=\u001b[0m\u001b[0maxis\u001b[0m\u001b[0;34m)\u001b[0m\u001b[0;34m\u001b[0m\u001b[0;34m\u001b[0m\u001b[0m\n\u001b[1;32m   1412\u001b[0m         \u001b[0;32melif\u001b[0m \u001b[0mcom\u001b[0m\u001b[0;34m.\u001b[0m\u001b[0mis_bool_indexer\u001b[0m\u001b[0;34m(\u001b[0m\u001b[0mkey\u001b[0m\u001b[0;34m)\u001b[0m\u001b[0;34m:\u001b[0m\u001b[0;34m\u001b[0m\u001b[0;34m\u001b[0m\u001b[0m\n\u001b[0;32m-> 1413\u001b[0;31m             \u001b[0;32mreturn\u001b[0m \u001b[0mself\u001b[0m\u001b[0;34m.\u001b[0m\u001b[0m_getbool_axis\u001b[0m\u001b[0;34m(\u001b[0m\u001b[0mkey\u001b[0m\u001b[0;34m,\u001b[0m \u001b[0maxis\u001b[0m\u001b[0;34m=\u001b[0m\u001b[0maxis\u001b[0m\u001b[0;34m)\u001b[0m\u001b[0;34m\u001b[0m\u001b[0;34m\u001b[0m\u001b[0m\n\u001b[0m\u001b[1;32m   1414\u001b[0m         \u001b[0;32melif\u001b[0m \u001b[0mis_list_like_indexer\u001b[0m\u001b[0;34m(\u001b[0m\u001b[0mkey\u001b[0m\u001b[0;34m)\u001b[0m\u001b[0;34m:\u001b[0m\u001b[0;34m\u001b[0m\u001b[0;34m\u001b[0m\u001b[0m\n\u001b[1;32m   1415\u001b[0m             \u001b[0;31m# an iterable multi-selection\u001b[0m\u001b[0;34m\u001b[0m\u001b[0;34m\u001b[0m\u001b[0m\n",
            "\u001b[0;32m/usr/local/lib/python3.10/dist-packages/pandas/core/indexing.py\u001b[0m in \u001b[0;36m_getbool_axis\u001b[0;34m(self, key, axis)\u001b[0m\n\u001b[1;32m   1207\u001b[0m         \u001b[0;31m# caller is responsible for ensuring non-None axis\u001b[0m\u001b[0;34m\u001b[0m\u001b[0;34m\u001b[0m\u001b[0m\n\u001b[1;32m   1208\u001b[0m         \u001b[0mlabels\u001b[0m \u001b[0;34m=\u001b[0m \u001b[0mself\u001b[0m\u001b[0;34m.\u001b[0m\u001b[0mobj\u001b[0m\u001b[0;34m.\u001b[0m\u001b[0m_get_axis\u001b[0m\u001b[0;34m(\u001b[0m\u001b[0maxis\u001b[0m\u001b[0;34m)\u001b[0m\u001b[0;34m\u001b[0m\u001b[0;34m\u001b[0m\u001b[0m\n\u001b[0;32m-> 1209\u001b[0;31m         \u001b[0mkey\u001b[0m \u001b[0;34m=\u001b[0m \u001b[0mcheck_bool_indexer\u001b[0m\u001b[0;34m(\u001b[0m\u001b[0mlabels\u001b[0m\u001b[0;34m,\u001b[0m \u001b[0mkey\u001b[0m\u001b[0;34m)\u001b[0m\u001b[0;34m\u001b[0m\u001b[0;34m\u001b[0m\u001b[0m\n\u001b[0m\u001b[1;32m   1210\u001b[0m         \u001b[0minds\u001b[0m \u001b[0;34m=\u001b[0m \u001b[0mkey\u001b[0m\u001b[0;34m.\u001b[0m\u001b[0mnonzero\u001b[0m\u001b[0;34m(\u001b[0m\u001b[0;34m)\u001b[0m\u001b[0;34m[\u001b[0m\u001b[0;36m0\u001b[0m\u001b[0;34m]\u001b[0m\u001b[0;34m\u001b[0m\u001b[0;34m\u001b[0m\u001b[0m\n\u001b[1;32m   1211\u001b[0m         \u001b[0;32mreturn\u001b[0m \u001b[0mself\u001b[0m\u001b[0;34m.\u001b[0m\u001b[0mobj\u001b[0m\u001b[0;34m.\u001b[0m\u001b[0m_take_with_is_copy\u001b[0m\u001b[0;34m(\u001b[0m\u001b[0minds\u001b[0m\u001b[0;34m,\u001b[0m \u001b[0maxis\u001b[0m\u001b[0;34m=\u001b[0m\u001b[0maxis\u001b[0m\u001b[0;34m)\u001b[0m\u001b[0;34m\u001b[0m\u001b[0;34m\u001b[0m\u001b[0m\n",
            "\u001b[0;32m/usr/local/lib/python3.10/dist-packages/pandas/core/indexing.py\u001b[0m in \u001b[0;36mcheck_bool_indexer\u001b[0;34m(index, key)\u001b[0m\n\u001b[1;32m   2657\u001b[0m     \"\"\"\n\u001b[1;32m   2658\u001b[0m     \u001b[0mresult\u001b[0m \u001b[0;34m=\u001b[0m \u001b[0mkey\u001b[0m\u001b[0;34m\u001b[0m\u001b[0;34m\u001b[0m\u001b[0m\n\u001b[0;32m-> 2659\u001b[0;31m     \u001b[0;32mif\u001b[0m \u001b[0misinstance\u001b[0m\u001b[0;34m(\u001b[0m\u001b[0mkey\u001b[0m\u001b[0;34m,\u001b[0m \u001b[0mABCSeries\u001b[0m\u001b[0;34m)\u001b[0m \u001b[0;32mand\u001b[0m \u001b[0;32mnot\u001b[0m \u001b[0mkey\u001b[0m\u001b[0;34m.\u001b[0m\u001b[0mindex\u001b[0m\u001b[0;34m.\u001b[0m\u001b[0mequals\u001b[0m\u001b[0;34m(\u001b[0m\u001b[0mindex\u001b[0m\u001b[0;34m)\u001b[0m\u001b[0;34m:\u001b[0m\u001b[0;34m\u001b[0m\u001b[0;34m\u001b[0m\u001b[0m\n\u001b[0m\u001b[1;32m   2660\u001b[0m         \u001b[0mindexer\u001b[0m \u001b[0;34m=\u001b[0m \u001b[0mresult\u001b[0m\u001b[0;34m.\u001b[0m\u001b[0mindex\u001b[0m\u001b[0;34m.\u001b[0m\u001b[0mget_indexer_for\u001b[0m\u001b[0;34m(\u001b[0m\u001b[0mindex\u001b[0m\u001b[0;34m)\u001b[0m\u001b[0;34m\u001b[0m\u001b[0;34m\u001b[0m\u001b[0m\n\u001b[1;32m   2661\u001b[0m         \u001b[0;32mif\u001b[0m \u001b[0;34m-\u001b[0m\u001b[0;36m1\u001b[0m \u001b[0;32min\u001b[0m \u001b[0mindexer\u001b[0m\u001b[0;34m:\u001b[0m\u001b[0;34m\u001b[0m\u001b[0;34m\u001b[0m\u001b[0m\n",
            "\u001b[0;31mKeyboardInterrupt\u001b[0m: "
          ]
        }
      ],
      "source": [
        "initial_class_test = SingleExperiment(growth_pat_len=4)\n",
        "initial_class_test.get_result()"
      ]
    },
    {
      "cell_type": "code",
      "execution_count": null,
      "metadata": {
        "id": "-M4v2T4GUMKn"
      },
      "outputs": [],
      "source": [
        "noisy_test = SingleExperiment(growth_pat_len=4,noise=True)\n",
        "noisy_test.get_result()"
      ]
    },
    {
      "cell_type": "code",
      "execution_count": null,
      "metadata": {
        "id": "C8nrCKzXUMKn"
      },
      "outputs": [],
      "source": [
        "a01_test = SingleExperiment(set_alpha=0.1, growth_pat_len=4)\n",
        "a01_test.get_result()"
      ]
    },
    {
      "cell_type": "code",
      "execution_count": null,
      "metadata": {
        "id": "cfnqHJ73UMKn"
      },
      "outputs": [],
      "source": [
        "na01_test = SingleExperiment(growth_pat_len=4, set_alpha=0.1, noise=True)\n",
        "na01_test.get_result()"
      ]
    },
    {
      "cell_type": "code",
      "execution_count": null,
      "metadata": {
        "id": "uVkxBzisUMKn"
      },
      "outputs": [],
      "source": [
        "a09_test = SingleExperiment(growth_pat_len=4, set_alpha=0.9)\n",
        "a09_test.get_result()"
      ]
    },
    {
      "cell_type": "code",
      "execution_count": null,
      "metadata": {
        "id": "G-e4wX_8UMKn"
      },
      "outputs": [],
      "source": [
        "na09_test = SingleExperiment(growth_pat_len=4, set_alpha=0.9, noise=True)\n",
        "na09_test.get_result()"
      ]
    },
    {
      "cell_type": "code",
      "execution_count": null,
      "metadata": {
        "id": "aeCkhyvwUMKn"
      },
      "outputs": [],
      "source": [
        "[x.core_res for x in [initial_class_test, noisy_test, a01_test, a09_test, na01_test, na09_test]]\n"
      ]
    },
    {
      "cell_type": "code",
      "source": [
        "initial_class_test.name"
      ],
      "metadata": {
        "id": "qjHCtc4dcymj"
      },
      "execution_count": null,
      "outputs": []
    },
    {
      "cell_type": "markdown",
      "metadata": {
        "id": "NwbkGv3CUMKn"
      },
      "source": [
        "# Discounting and predictive accuracy\n",
        "- In benefit-cost analysis, the process of discounting involves converting \"each future dollar \\[or util\\] amount into equivalent future dollars\" (Weitzman, 2001),\n",
        "- Discounting depends on a 'discount rate' $d$ a number, generally between 0 and 1, that reflects the proportion by which money would have to grow annually for an agent to be indifferent between having money now and having money in the future; a discount rate of 5\\% means that an agent considers receiving a benefit of \\\\$100 now to be equivalent with one of \\\\$105, received in one year.\n",
        "- A high discount rate corresponds to an expected low value of money in the future relative to now, and can reflect uncertainty.\n",
        "- The higher the discount rate, the less important predictive accuracy is to decision-making*: if the discount rate is such that the required future value is much greater than the predictive accuracy, there is no point in predicting--future money is so worthless to the agent . For example, in an autoregressive predictive model, say that $y_{t+1} = \\beta y_t + \\varepsilon$, where $0<\\beta<1$ and $\\varepsilon$ is Gaussian with mean 0 and variance 1; then, if $d = 11$,  the prediction cannot help the agent make a decision.\n",
        "\n",
        "* for models that don't extrapolate beyond existing data or that have narrow bounds on their trends."
      ]
    },
    {
      "cell_type": "markdown",
      "metadata": {
        "id": "avE5SbIzUMKo"
      },
      "source": [
        "# Future Directions\n",
        "- Common Core of Data API\n",
        "- Gittins index agents\n",
        "- Process controllers (PID, feed-forward, ...?)"
      ]
    },
    {
      "cell_type": "markdown",
      "metadata": {
        "id": "Z5JydkDoUMKo"
      },
      "source": [
        "# Test Functions\n",
        "- all that's needed for testing to make sense is that the shape of the prediction match the shape of the growth curve--I think I can use the FTES or other theory to show that smooth transitions can be well-followed and that EWMA should be able to be useful for maintaining a ratio."
      ]
    },
    {
      "cell_type": "markdown",
      "metadata": {
        "id": "N-egRL_pUMKo"
      },
      "source": [
        "Key questions:\n",
        "- Are there \"close\" conditions under which predictive accuracy makes the difference between success and failure?\n",
        "- Is there an empirical relationship between discounting and predictive accuracy?\n",
        "- Does scaling make a difference?"
      ]
    },
    {
      "cell_type": "code",
      "execution_count": null,
      "metadata": {
        "id": "2ZiINkHmUMKo"
      },
      "outputs": [],
      "source": []
    },
    {
      "cell_type": "code",
      "execution_count": null,
      "metadata": {
        "id": "EwfFaIHdUMKo"
      },
      "outputs": [],
      "source": []
    }
  ],
  "metadata": {
    "colab": {
      "provenance": []
    },
    "kernelspec": {
      "display_name": "Python 3 (ipykernel)",
      "language": "python",
      "name": "python3"
    },
    "language_info": {
      "codemirror_mode": {
        "name": "ipython",
        "version": 3
      },
      "file_extension": ".py",
      "mimetype": "text/x-python",
      "name": "python",
      "nbconvert_exporter": "python",
      "pygments_lexer": "ipython3",
      "version": "3.12.4"
    }
  },
  "nbformat": 4,
  "nbformat_minor": 0
}