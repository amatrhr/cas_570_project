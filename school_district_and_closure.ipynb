{
 "cells": [
  {
   "cell_type": "code",
   "execution_count": 1,
   "metadata": {},
   "outputs": [],
   "source": [
    "import numpy as np\n",
    "import matplotlib.pyplot as plt\n",
    "import pandas as pd\n",
    "from random import randint\n",
    "from functools import partial\n",
    "\n",
    "from scipy.optimize import minimize_scalar\n",
    "from statsmodels.tsa.api import  SimpleExpSmoothing\n",
    "\n",
    "%matplotlib inline\n",
    "\n"
   ]
  },
  {
   "cell_type": "code",
   "execution_count": 2,
   "metadata": {
    "scrolled": true
   },
   "outputs": [],
   "source": [
    "# %pip install ipdb"
   ]
  },
  {
   "cell_type": "code",
   "execution_count": 3,
   "metadata": {},
   "outputs": [],
   "source": [
    "import ipdb\n",
    "# Basic parameters"
   ]
  },
  {
   "cell_type": "code",
   "execution_count": 4,
   "metadata": {},
   "outputs": [],
   "source": [
    "def dbl_SEWMA(data, alpha):\n",
    "    mod1 = SimpleExpSmoothing(data, initialization_method=\"heuristic\").fit(smoothing_level=alpha, optimized=False)\n",
    "    return mod1.sse\n",
    "bound_set = np.linspace(0,1,10)\n",
    "bound_set = [0.0,.13,.154,.139,.31,.76]\n",
    "\n",
    "# fit_res = {}\n",
    "# for j in bound_set:\n",
    "#     fit_res[j] = oil_SEWMA(j)\n",
    "\n",
    "# fit_check = pd.Series(fit_res)\n",
    "# result = fit_check.index[fit_check.argmin()]\n",
    "\n",
    "# oil_SEWMA = lambda a: dbl_SEWMA(data=oildata, alpha=a)"
   ]
  },
  {
   "cell_type": "code",
   "execution_count": 5,
   "metadata": {},
   "outputs": [],
   "source": [
    "def flat_with_noise(start_value=10., n_years=5, chgrat=0.20):\n",
    "    # function to produce a level change\n",
    "    output = np.zeros(n_years) + start_value\n",
    "    chgsize = chgrat*start_value\n",
    "    dmin = int(-1*chgsize)\n",
    "    dmax = int(chgsize)\n",
    "    output += np.array([randint(dmin, dmax) for x in range(n_years)])\n",
    "    return(output)"
   ]
  },
  {
   "cell_type": "code",
   "execution_count": 6,
   "metadata": {},
   "outputs": [],
   "source": [
    "def impulse(start_value=10., n_years=5, impyr=2, chgrat=.670, impsign=1):\n",
    "    # function to produce an impulsive change \n",
    "    chgsize = chgrat*start_value\n",
    "    out = np.array([start_value for x in range(n_years)]) \n",
    "    out[impyr:n_years] = impsign*chgsize +  out[impyr]\n",
    "    return(out)"
   ]
  },
  {
   "cell_type": "code",
   "execution_count": 7,
   "metadata": {},
   "outputs": [],
   "source": [
    "def cvx_change(start_value=10., n_years=5, chgsign=1, chgrat=.20):\n",
    "    #function to produce convex change \n",
    "    # i.e. change where the time series of population falls below the line connecting any two \n",
    "    # points on the time series, i.e. alpha*exp(t) or alpha*exp(n_years - t)\n",
    "    chgsize = chgrat*start_value\n",
    "    \n",
    "    alpha = np.exp(np.log(1+chgsign*chgrat)/n_years) - 1\n",
    "    output = start_value * np.power(1. + alpha, np.linspace(1,n_years,n_years))\n",
    "    \n",
    "    return(output)"
   ]
  },
  {
   "cell_type": "code",
   "execution_count": 8,
   "metadata": {},
   "outputs": [
    {
     "data": {
      "text/plain": [
       "[<matplotlib.lines.Line2D at 0x1be04d78920>]"
      ]
     },
     "execution_count": 8,
     "metadata": {},
     "output_type": "execute_result"
    },
    {
     "data": {
      "image/png": "[encoded data removed]",
      "text/plain": [
       "<Figure size 640x480 with 1 Axes>"
      ]
     },
     "metadata": {},
     "output_type": "display_data"
    }
   ],
   "source": [
    "plt.plot(cvx_change(n_years=1000,chgrat=.99,chgsign=-1))"
   ]
  },
  {
   "cell_type": "code",
   "execution_count": 9,
   "metadata": {},
   "outputs": [],
   "source": [
    "def ccv_change(start_value=10.,n_years=5,alpha=0.75,chgsign=1, chgrat=.20):\n",
    "    #function to produce convex change \n",
    "    # i.e. change where the time series of population falls below the line connecting any two \n",
    "    # points on the time series, i.e. alpha*exp(t) or alpha*exp(n_years - t)\n",
    "    adjust = 0.5*np.pi if chgsign < 0 else 0\n",
    "    out = np.linspace(0,0.5*np.pi, n_years+1)\n",
    "    out += adjust\n",
    "    maxi = (1+chgrat*chgsign)*start_value\n",
    "    mini = min(start_value, maxi)\n",
    "    maxi = max(start_value, maxi)\n",
    "    output = (maxi-mini)*np.sin(out) + mini\n",
    "    return(output[1:])"
   ]
  },
  {
   "cell_type": "code",
   "execution_count": 10,
   "metadata": {},
   "outputs": [],
   "source": [
    "sscRat = 100\n",
    "tolerance = (-0.5, 0.25)\n",
    "Alphas = np.linspace(.1,1,10)\n",
    "pselect = [0.1 for x in Alphas]\n",
    "growthPats = {'flat':flat_with_noise, \n",
    "              'impUp':impulse, \n",
    "              'impDn':partial(impulse, impsign=-1), \n",
    "              'cvxUp':cvx_change, \n",
    "              'cvxDn':partial(cvx_change, chgsign=-1),\n",
    "              'ccvUp':ccv_change,\n",
    "              'ccvDn':partial(ccv_change, chgsign=-1)\n",
    "              }\n",
    "NSchool = 11\n",
    "len_history = 50"
   ]
  },
  {
   "cell_type": "code",
   "execution_count": 11,
   "metadata": {},
   "outputs": [],
   "source": [
    "def simulate_history(start_value=50, total_years=50, period_length=5):\n",
    "    history = [[start_value for x in range(period_length)]]\n",
    "            # need to add functionality to smooth the transitions \n",
    "    \n",
    "    for _, tp in enumerate(range(total_years//period_length)):\n",
    "        locidx = randint(0,len(growthPats)-1) # there are 7 locidxs\n",
    "        # locidx = 6 # 4 and 6 need work\n",
    "        print(f\"starting history {locidx}, a/k/a {repr(list(growthPats.values())[locidx])}\")\n",
    "        print(_)\n",
    "        lochg = history[_][period_length-1] \n",
    "        print(lochg)\n",
    "        # ipdb.set_trace()\n",
    "        locfun = list(growthPats.values())[locidx](start_value=lochg, n_years=period_length) \n",
    "        local_h = np.squeeze(locfun)\n",
    "        # local_h = local_h[1:len(local_h) ]\n",
    "        print(local_h)\n",
    "        history.append(local_h)\n",
    "        print(\"____\")\n",
    "\n",
    "    out = np.floor(np.hstack(history)[period_length:])\n",
    "    print(out)\n",
    "    return out[period_length:]\n"
   ]
  },
  {
   "cell_type": "code",
   "execution_count": 12,
   "metadata": {},
   "outputs": [
    {
     "name": "stdout",
     "output_type": "stream",
     "text": [
      "starting history 5, a/k/a <function ccv_change at 0x000001BE0A7AD580>\n",
      "0\n",
      "5000\n",
      "[5130.52619222 5258.8190451  5382.68343237 5500.         5608.76142901\n",
      " 5707.10678119 5793.35334029 5866.02540378 5923.87953251 5965.92582629\n",
      " 5991.44486137 6000.        ]\n",
      "____\n",
      "starting history 4, a/k/a functools.partial(<function cvx_change at 0x000001BE04D2DDA0>, chgsign=-1)\n",
      "1\n",
      "6000.0\n",
      "[5889.45917924 5780.95490399 5674.44965402 5569.90660034 5467.28959248\n",
      " 5366.563146   5267.6924302  5170.64325608 5075.38206451 4981.87591467\n",
      " 4890.09247258 4800.        ]\n",
      "____\n",
      "starting history 5, a/k/a <function ccv_change at 0x000001BE0A7AD580>\n",
      "2\n",
      "4799.999999999999\n",
      "[4925.30514453 5048.4662833  5167.37609507 5280.         5384.41097185\n",
      " 5478.82250994 5561.61920668 5631.38438763 5686.92435121 5727.28879324\n",
      " 5751.78706692 5760.        ]\n",
      "____\n",
      "starting history 4, a/k/a functools.partial(<function cvx_change at 0x000001BE04D2DDA0>, chgsign=-1)\n",
      "3\n",
      "5759.999999999999\n",
      "[5653.88081207 5549.71670783 5447.47166786 5347.11033632 5248.59800878\n",
      " 5151.90062016 5056.98473299 4963.81752583 4872.36678193 4782.60087808\n",
      " 4694.48877368 4608.        ]\n",
      "____\n",
      "[5130. 5258. 5382. 5500. 5608. 5707. 5793. 5866. 5923. 5965. 5991. 6000.\n",
      " 5889. 5780. 5674. 5569. 5467. 5366. 5267. 5170. 5075. 4981. 4890. 4799.\n",
      " 4925. 5048. 5167. 5279. 5384. 5478. 5561. 5631. 5686. 5727. 5751. 5759.\n",
      " 5653. 5549. 5447. 5347. 5248. 5151. 5056. 4963. 4872. 4782. 4694. 4607.]\n"
     ]
    },
    {
     "data": {
      "text/plain": [
       "[<matplotlib.lines.Line2D at 0x1be04dc30b0>]"
      ]
     },
     "execution_count": 12,
     "metadata": {},
     "output_type": "execute_result"
    },
    {
     "data": {
      "image/png": "[encoded data removed]",
      "text/plain": [
       "<Figure size 640x480 with 1 Axes>"
      ]
     },
     "metadata": {},
     "output_type": "display_data"
    }
   ],
   "source": [
    "plt.plot(simulate_history(start_value=5000,period_length=12))"
   ]
  },
  {
   "cell_type": "code",
   "execution_count": 13,
   "metadata": {},
   "outputs": [
    {
     "data": {
      "text/plain": [
       "-0.19776119402985073"
      ]
     },
     "execution_count": 13,
     "metadata": {},
     "output_type": "execute_result"
    }
   ],
   "source": [
    "(430-536)/536\n"
   ]
  },
  {
   "cell_type": "code",
   "execution_count": 14,
   "metadata": {},
   "outputs": [
    {
     "ename": "NameError",
     "evalue": "name 'JJ' is not defined",
     "output_type": "error",
     "traceback": [
      "\u001b[1;31m---------------------------------------------------------------------------\u001b[0m",
      "\u001b[1;31mNameError\u001b[0m                                 Traceback (most recent call last)",
      "Cell \u001b[1;32mIn[14], line 1\u001b[0m\n\u001b[1;32m----> 1\u001b[0m JJ\n",
      "\u001b[1;31mNameError\u001b[0m: name 'JJ' is not defined"
     ]
    }
   ],
   "source": [
    "JJ\n"
   ]
  },
  {
   "cell_type": "code",
   "execution_count": null,
   "metadata": {},
   "outputs": [],
   "source": []
  }
 ],
 "metadata": {
  "kernelspec": {
   "display_name": "Python 3 (ipykernel)",
   "language": "python",
   "name": "python3"
  },
  "language_info": {
   "codemirror_mode": {
    "name": "ipython",
    "version": 3
   },
   "file_extension": ".py",
   "mimetype": "text/x-python",
   "name": "python",
   "nbconvert_exporter": "python",
   "pygments_lexer": "ipython3",
   "version": "3.12.4"
  }
 },
 "nbformat": 4,
 "nbformat_minor": 4
}
