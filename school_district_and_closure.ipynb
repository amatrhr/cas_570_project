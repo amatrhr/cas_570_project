{
 "cells": [
  {
   "cell_type": "markdown",
   "metadata": {},
   "source": [
    "# Contents\n",
    "* [Overview](#Overview)\n",
    "* [Imports](#Library-Imports)\n",
    "* [Helper Functions](#Helper-Functions)\n",
    "* [The `SchoolDistrict` Class](#The-SchoolDistrict-Class)\n",
    "* [Example](#An-Example) "
   ]
  },
  {
   "cell_type": "markdown",
   "metadata": {},
   "source": [
    "# Overview\n",
    "This project asks how, when faced with uncertain enrollment trends and a need to maintain a proper assignment of resources to students, a school district might set a fair resource policy by maintaining a tolerable student-to-resource ratio, for example, maintaining a certain student-to-school ratio $R$, for example 200 students in each school.\n",
    "\n",
    "I will address this question by using a two-agent simulation of school openings and closings in a single school district, played out over 50 to 100 time steps (\"school years\"). One agent represents the population of public school students, which undergoes random demographic variation across years. The other agent represents the policy-making body of the district, which attempts to maintain a tolerable student-to-school ratio in the face of these demographic changes by using historical data to predict the change in enrollment at the end of each school year and opening or closing schools in response. The district administration agent will update its prediction-making method based on whether its predictions have led to good decisions (maintaining a tolerable student-to-school ratio) or poor ones (failure to maintain the ratio).\n",
    "\n",
    "## Conceptual implementation \n",
    "I will simulate uncertain patterns of student demographic change within an individual school district; for each five-year period, the student population will (randomly) undergo either convex growth/decline, concave growth/decline, a one-time impulse of sudden inflow or outflow during the third year, or will remain flat (with uniform noise).\n",
    "\n",
    "### Agent Behavior: District Administration\n",
    "During every simulated summer, the district administration will predict the change in number of students enrolled by using an exponentially weighted moving average (EWMA) of previous year-over-year changes, then will use the prediction as a basis for action. EWMA predictions depend on a single smoothing parameter, $\\alpha;\\; 0<\\alpha\\leq1$ and larger $\\alpha$ corresponds to emphasizing recent observations when predicting; see (https://otexts.com/fpp3/expsmooth.html).\n",
    "\n",
    "The district will choose $\\alpha$ randomly from the set $A = \\left\\{0.1,\\,0.2,\\,\\dots,\\,0.9, 1\\right\\}$, using the 10-vector of selection probabilities $\\vec{p}$. At first, each $\\alpha$ in $A$ has the same probability of being selected; each element of $\\vec{p}$ is 0.1. The district will learn from its policy choice and will increase those $p_i$ that have led to predictions that led to good decisions and decrease others, a process based on the adaptive agent-specific autoregressive predictions of Arthur, 1994 (https://www.jstor.org/stable/2117868) (my model is much simpler; the reference is a multi-agent simulation in which agents compete for resources based on their predictions).\n",
    "\n",
    "The district administration has a pre-set tolerance to violations of the student-to-school ratio; for example, if the tolerance interval is $T_\\text{min}=-50\\%$ to $T_\\text{max}=25\\%$ and the desired ratio, $R$, is 200 students per school, a predicted enrollment change resulting in $\\hat{R}<100$ or $\\hat{R}>250$ students per school is out-of-tolerance.\n",
    "If the predicted number of students would lead to an out-of-tolerance student-to-school ratio, the number of schools will be adjusted up or down to be just within tolerance. "
   ]
  },
  {
   "cell_type": "markdown",
   "metadata": {},
   "source": [
    "# Library Imports "
   ]
  },
  {
   "cell_type": "code",
   "execution_count": 1,
   "metadata": {},
   "outputs": [],
   "source": [
    "# modeling tools\n",
    "import numpy as np\n",
    "import matplotlib.pyplot as plt\n",
    "import pandas as pd\n",
    "from random import randint, choice\n",
    "from statsmodels.tsa.api import  SimpleExpSmoothing\n",
    "\n",
    "# programming and optimization tools\n",
    "import ipdb\n",
    "from collections import Counter\n",
    "from dataclasses import dataclass, field\n",
    "from functools import partial\n",
    "from scipy.optimize import minimize_scalar\n",
    "\n",
    "\n",
    "# parameters for the notebook itself\n",
    "%matplotlib inline"
   ]
  },
  {
   "cell_type": "markdown",
   "metadata": {},
   "source": [
    "# Helper Functions"
   ]
  },
  {
   "cell_type": "code",
   "execution_count": 2,
   "metadata": {},
   "outputs": [],
   "source": [
    "def minmax_scale(data:np.array)->np.array:\n",
    "    # function to scale a variable between 1 and 0, where 1 corresponds to its max value\n",
    "    data = np.nan_to_num(data,0)\n",
    "    vs_min = data - np.min(data)\n",
    "    mmrange = np.max(data) - np.min(data) if np.max(data) != np.min(data) else 1\n",
    "    scaled = vs_min / mmrange\n",
    "    return scaled"
   ]
  },
  {
   "cell_type": "code",
   "execution_count": 3,
   "metadata": {},
   "outputs": [],
   "source": [
    "def dbl_SEWMA(data:pd.Series, alpha:float)->dict:\n",
    "    # fits a simple exponential smoothing model with fixed alpha to a dataset\n",
    "    # used by simulated school (districts) to predict enrollment\n",
    "    ## Arguments\n",
    "    # data: univariate time series\n",
    "    # alpha: exponential smoothing parameter, between 0 and 1 \n",
    "    ## Returns\n",
    "    # dictionary containing the sum of squared errors and statsmodels time series model\n",
    "    #TODO: fix initialization to use as few years as possible--this can only be done with \"known\" initial trend and level\n",
    "    mod1 = SimpleExpSmoothing(data, initialization_method=\"heuristic\").fit(smoothing_level=alpha, optimized=False)\n",
    "    return {'sse':mod1.sse, 'mod':mod1}\n"
   ]
  },
  {
   "cell_type": "code",
   "execution_count": 4,
   "metadata": {},
   "outputs": [],
   "source": [
    "def flat_with_noise(start_value:float=10.0, n_years:int=5, chgrat:float=0.20, const_change=None)->np.array:\n",
    "    # generates a set of simulated enrollments that vary due to having noise\n",
    "    ## Arguments\n",
    "    ## \n",
    "    ## Returns\n",
    "    # np array of e\n",
    "    output = np.zeros(n_years) + start_value\n",
    "    chgsize = chgrat*start_value if const_change is None else const_change\n",
    "    dmin = int(-1*chgsize)\n",
    "    dmax = int(chgsize)\n",
    "    output += np.array([randint(dmin, dmax) for x in range(n_years)],dtype=np.float64)\n",
    "    return(output)"
   ]
  },
  {
   "cell_type": "code",
   "execution_count": 5,
   "metadata": {},
   "outputs": [],
   "source": [
    "def impulse(start_value=10., n_years=5, impyr=2, chgrat=.670, impsign=1):\n",
    "    # function to produce an impulsive change  \n",
    "    chgsize = chgrat*start_value\n",
    "    out = np.array([start_value for x in range(n_years)]) \n",
    "    out[impyr:n_years] = impsign*chgsize +  out[impyr]\n",
    "    return(out)"
   ]
  },
  {
   "cell_type": "code",
   "execution_count": 6,
   "metadata": {},
   "outputs": [],
   "source": [
    "def cvx_change(start_value=10., n_years=5, chgsign=1, chgrat=.20):\n",
    "    #function to produce convex change \n",
    "    # i.e. change where the time series of population falls below the line connecting any two \n",
    "    # points on the time series, i.e. alpha*exp(t) or alpha*exp(n_years - t)\n",
    "    chgsize = chgrat*start_value\n",
    "    \n",
    "    alpha = np.exp(np.log(1+chgsign*chgrat)/n_years) - 1\n",
    "    output = start_value * np.power(1. + alpha, np.linspace(1,n_years,n_years))\n",
    "    \n",
    "    return(output)"
   ]
  },
  {
   "cell_type": "code",
   "execution_count": 7,
   "metadata": {},
   "outputs": [],
   "source": [
    "def ccv_change(start_value=10.,n_years=5,alpha=0.75,chgsign=1, chgrat=.20):\n",
    "    #function to produce convex change \n",
    "    # i.e. change where the time series of population falls below the line connecting any two \n",
    "    # points on the time series, i.e. alpha*exp(t) or alpha*exp(n_years - t)\n",
    "    adjust = 0.5*np.pi if chgsign < 0 else 0\n",
    "    out = np.linspace(0,0.5*np.pi, n_years+1)\n",
    "    out += adjust\n",
    "    maxi = (1+chgrat*chgsign)*start_value\n",
    "    mini = min(start_value, maxi)\n",
    "    maxi = max(start_value, maxi)\n",
    "    output = (maxi-mini)*np.sin(out) + mini\n",
    "    return(output[1:])"
   ]
  },
  {
   "cell_type": "code",
   "execution_count": 8,
   "metadata": {},
   "outputs": [],
   "source": [
    "# with individual growth patterns defined, store all in one easy-access place\n",
    "growthPats = {'flat':flat_with_noise, \n",
    "              'impUp':impulse, \n",
    "              'impDn':partial(impulse, impsign=-1), \n",
    "              'cvxUp':cvx_change, \n",
    "              'cvxDn':partial(cvx_change, chgsign=-1),\n",
    "              'ccvUp':ccv_change,\n",
    "              'ccvDn':partial(ccv_change, chgsign=-1)\n",
    "              }"
   ]
  },
  {
   "cell_type": "code",
   "execution_count": 9,
   "metadata": {},
   "outputs": [],
   "source": [
    "def simulate_history(start_value=50, total_years=50, period_length=5, debug=False, noisy=False):\n",
    "    # core function to generate a school (district's) population history\n",
    "    history = [[start_value for x in range(period_length)]]\n",
    "            # need to add functionality to smooth the transitions \n",
    "    \n",
    "    for _, tp in enumerate(range(total_years//period_length)):\n",
    "        locidx = randint(0,len(growthPats)-1) # there are 7 locidxs\n",
    "        lochg = history[_][period_length-1] \n",
    "        locfun = list(growthPats.values())[locidx](start_value=lochg, n_years=period_length) \n",
    "        local_h = np.squeeze(locfun)\n",
    "        if noisy:\n",
    "            local_h += np.squeeze(list(growthPats.values())[0](start_value=0., n_years=period_length, const_change=25.)) #TODO: use noise range ratio parameter \n",
    "        \n",
    "        history.append(local_h)\n",
    "        if debug:\n",
    "            '''debug info that shows which growth pattern is used and prints\n",
    "               the starting value and simulated values for each multiyear \n",
    "            '''\n",
    "            print(f\"starting history {locidx}, a/k/a {repr(list(growthPats.values())[locidx])}\")\n",
    "            print(_)\n",
    "            print(lochg)\n",
    "            print(local_h)\n",
    "            print(\"____\")\n",
    "\n",
    "    out = np.floor(np.hstack(history)[period_length:])\n",
    "    print(out)\n",
    "    return out # out[period_length:](why are we skipping the first period??)\n"
   ]
  },
  {
   "cell_type": "code",
   "execution_count": 10,
   "metadata": {},
   "outputs": [],
   "source": [
    "def predict_from_history(schooldata:pd.Series,alpha_set:list=[0.1,0.5,0.7],years:int=5, random:bool=True)->dict:\n",
    "    # core function to use simple exponential smoothing \n",
    "   \n",
    "    school_SEWMA = lambda a: dbl_SEWMA(data=schooldata, alpha=a)\n",
    "    fit_res = {}\n",
    "    models = {}\n",
    "    if random: \n",
    "        j = choice(alpha_set)\n",
    "        ssmwa = school_SEWMA(j)\n",
    "        fit_res[j] = ssmwa['sse']\n",
    "        models[j] = ssmwa['mod']\n",
    "    else:\n",
    "        for j in alpha_set:\n",
    "            # don't overwrite if there're multiples \n",
    "            if fit_res.get(j) is None: \n",
    "                ssmwa = school_SEWMA(j)\n",
    "                fit_res[j] = ssmwa['sse']\n",
    "                models[j] = ssmwa['mod']\n",
    "        \n",
    "    fit_check = pd.Series(fit_res)\n",
    "    result = fit_check.index[fit_check.argmin()]\n",
    "    return {\"alpha_result\":result, \"prediction\":models[result].forecast(years),\"history\":models[result].fittedvalues}"
   ]
  },
  {
   "cell_type": "markdown",
   "metadata": {},
   "source": [
    "# The SchoolDistrict Class "
   ]
  },
  {
   "cell_type": "code",
   "execution_count": 11,
   "metadata": {},
   "outputs": [],
   "source": [
    "@dataclass\n",
    "class SchoolDistrict:\n",
    "    # core simulation class: represents the history of a single school district \n",
    "    # BASIC SIMULATION PARAMETERS (CONSTANTS)\n",
    "    sscRat: int = 100 # student to school ratio\n",
    "    tolerance: tuple = (-0.5, 0.25) # tolerances for that ratio\n",
    "    alphas:tuple = tuple(np.linspace(0.1,0.9,9)) # starting set of exponential smoothing parameters \n",
    "    growth_period:int = 10 # number of years to follow a particular growth pattern\n",
    "    n_periods:int = 6 # number of growth periods to run the simulation\n",
    "    start_yr:int = 10 # year to begin forecasts\n",
    "    noisy:bool = False # add noise to trajectory?\n",
    "    # BASIC SIMULATION PARAMETERS (VARIABLE)\n",
    "    NStudents:int = 1000 # initial number of students\n",
    "    pred_ratios: list = field(default_factory=list) # agent-predicted student/resource ratios\n",
    "    ach_ratios: list = field(default_factory=list) # achieved student/resource ratios \n",
    "    hist_alphas: list = field(default_factory=list)\n",
    "    predictions: list = field(default_factory=list)\n",
    "    hist_schools: list = field(default_factory=list)\n",
    "\n",
    "    #TODO: add BUDGET\n",
    "    #TODO: fix ufunc bug\n",
    "    #TODO: user-definable historical growth patterns \n",
    "    #TODO: run-length analysis\n",
    "\n",
    "    \n",
    "    def simulate_full_history(self):\n",
    "        # first step in the simulation--initialize the population history\n",
    "        self.len_history = self.n_periods * self.growth_period \n",
    "        self.history=simulate_history(start_value=self.NStudents, total_years=self.len_history, period_length=self.growth_period, noisy=self.noisy)\n",
    "        \n",
    "    def make_construction_decisions(self,debug=True):\n",
    "        # at the end of every year, make a forecast and update alpha selection probabilities\n",
    "        self.NSchools = self.NStudents // (self.sscRat + self.tolerance[1])# initial number of schools--started to be near a phase transition \n",
    "        self.pselect = np.ones(len(self.alphas))/len(self.alphas) # selection probabilities for exponential smoothing parameters\n",
    "        last_alpha = 0.0 # initalize the most recent choice of exponential smoothing param\n",
    "        alpha_multiple, extra = divmod(self.len_history - self.start_yr, len(self.alphas)) # number of times to include an alpha in the list, \n",
    "        #--must guarantee that we won't run out of alphas\n",
    "        local_as = list(self.alphas)*alpha_multiple  + [choice(self.alphas) for x in range(extra)]\n",
    "        self.ach_ratios += list(np.zeros(self.start_yr)-1)\n",
    "        self.predictions += list(np.zeros(self.start_yr))\n",
    "        self.pred_ratios += list(np.zeros(self.start_yr))\n",
    "        self.hist_alphas += list(np.zeros(self.start_yr))\n",
    "        self.hist_schools += list(np.ones(self.start_yr)*self.NSchools)\n",
    "\n",
    "        for yr in range(self.start_yr, self.len_history):\n",
    "            \n",
    "            # calculate ratio (evaluate performance) and update list of smoothing params\n",
    "            local_achrat = self.history[yr-1]/self.NSchools # achieved ratio\n",
    "            self.ach_ratios.append(local_achrat)\n",
    "            self.hist_schools.append(self.NSchools)\n",
    "            local_diff = (local_achrat - self.sscRat)/self.sscRat # achieved difference from ideal\n",
    "            if yr > self.start_yr and last_alpha in local_as:\n",
    "                if local_diff > self.tolerance[1]: #achieved ratio too high\n",
    "                    local_as.remove(last_alpha)\n",
    "                elif local_diff < self.tolerance[0]: #achieved ratio too low\n",
    "                    local_as.remove(last_alpha)\n",
    "                else: # ratio ok--good prediction\n",
    "                    local_as.append(last_alpha)\n",
    "                    \n",
    "\n",
    "            # forecast \n",
    "            forecast_objs = predict_from_history(self.history[0:yr],years=1,alpha_set=local_as)\n",
    "            local_prat = forecast_objs['prediction'][0]/self.NSchools\n",
    "            self.hist_alphas.append(forecast_objs['alpha_result'])\n",
    "            last_alpha = forecast_objs['alpha_result']\n",
    "            local_ach_diff = (local_prat - self.sscRat)/self.sscRat# predicted difference from ideal\n",
    "            self.predictions.append(forecast_objs['prediction'][0])\n",
    "            self.pred_ratios.append(local_prat)\n",
    "\n",
    "            # update number of schools based on forecast \n",
    "            self.NSchools = np.round(self.NSchools*(1 + local_ach_diff))\n",
    "            # \n",
    "            if debug:\n",
    "                print(len(local_as))\n",
    "                print(local_as)\n",
    "\n",
    "    def plot_history_vs_preds(self):\n",
    "        # plotting actual vs predicted enrollment\n",
    "        fig, ax = plt.subplots()\n",
    "        ax.step(x=range(len(self.history)), y=self.history)\n",
    "        ax.step(x=range(len(self.predictions)), y=self.predictions)\n",
    "        ax.legend(['historical','predictions'])\n",
    "        ax.set_title(\"Time Series of Historical vs. Predicted Enrollment\")\n",
    "        ax.set_ylabel(\"# Students\")\n",
    "        plt.show()\n",
    "        plt.close()\n",
    "       \n",
    "\n",
    "    def plot_ratios(self):\n",
    "        # plotting achieved vs actual student/school ratio\n",
    "        fig, ax = plt.subplots()\n",
    "        ax.step(x=range(len(self.ach_ratios)), y=self.ach_ratios)\n",
    "        ax.step(x=range(len(self.pred_ratios)), y=self.pred_ratios)\n",
    "        ax.hlines((self.tolerance[0] + 1)*self.sscRat, xmin=0, xmax=self.len_history,color=\"gray\")\n",
    "        ax.hlines((self.tolerance[1] + 1)*self.sscRat, xmin=0, xmax=self.len_history,color=\"gray\")\n",
    "        ax.fill_between(range(self.len_history), 0, (self.tolerance[0] + 1)*self.sscRat, color=\"gray\", alpha=0.30)\n",
    "        ax.fill_between(range(self.len_history),(self.tolerance[1] + 1)*self.sscRat, max(max(self.ach_ratios), max(self.pred_ratios)), color=\"gray\", alpha=0.30)\n",
    "        ax.legend(['achieved','predictions'])\n",
    "        ax.set_title(\"Time Series of Predicted vs. Achieved Student/School Ratio\")\n",
    "        ax.set_ylabel(\"Students per School\")\n",
    "        ax.set_xlabel(\"Time (Years)\")\n",
    "        plt.show()\n",
    "        plt.close()\n",
    "\n",
    "    def plot_schools_vs_pop(self):\n",
    "        # plotting number of schools vs. population (scaled)\n",
    "        fig, ax = plt.subplots()\n",
    "        ax.step(x=range(len(simSchool.history)), y=minmax_scale(simSchool.history))\n",
    "        ax.step(x=range(len(simSchool.hist_schools)), y=minmax_scale(simSchool.hist_schools))\n",
    "        ax.legend(['scaled population', 'scaled # schools'])\n",
    "        ax.set_title(f\"Time Series of Predicted vs. Achieved Student/School Ratio\\nMax #Schools:{max(self.hist_schools)}, Max Enrolled:{max(self.history)}\")\n",
    "        ax.set_ylabel(\"Scaled School Count/Scaled Enrollment\")\n",
    "        ax.set_xlabel(\"Time (Years)\")\n",
    "        plt.show()\n",
    "        plt.close()\n",
    "\n",
    "    # metrics\n",
    "    def pct_when_performant(self, to_print=False):\n",
    "        # give the proportion of school years where achieved student to resource ratios were within tolerance\n",
    "        ach_test = self.ach_ratios[self.start_yr:]\n",
    "        result_bool = [ (x <= ((self.tolerance[1] + 1)*self.sscRat) ) and (x >= ((self.tolerance[0] + 1)*self.sscRat)) for x in ach_test]\n",
    "        prop = sum(result_bool)/len(result_bool)\n",
    "        self.prop_perf = prop\n",
    "        if to_print:\n",
    "            print(f\"The district was within tolerance bounds {np.round(100*prop)}% of the time.\")\n",
    "        return prop \n",
    "\n",
    "    def get_run_lengths(self, to_print=False):\n",
    "        # give the number of time steps between school openings/closings\n",
    "        pass\n",
    "\n",
    "    def summarize_run_lengths(self, to_print=False):\n",
    "        # return summary stats on run lengths \n",
    "        pass "
   ]
  },
  {
   "cell_type": "markdown",
   "metadata": {},
   "source": [
    "# An Example"
   ]
  },
  {
   "cell_type": "code",
   "execution_count": 12,
   "metadata": {},
   "outputs": [],
   "source": [
    "simSchool = SchoolDistrict(NStudents=1250, #Start with 1250 students\n",
    "                           sscRat=250,  # ideal student/school ratio is 250 \n",
    "                           tolerance=(-.1,.1), #tolerate student/school ratios of 225 to 275\n",
    "                           growth_period=15, # growth patterns last 10 years     \n",
    "                           n_periods=5, # run for 75 years\n",
    "                           noisy=True, # add noise to population change\n",
    "                           pred_ratios=[], ach_ratios=[], hist_alphas=[], predictions=[],\n",
    "                       )"
   ]
  },
  {
   "cell_type": "code",
   "execution_count": 13,
   "metadata": {},
   "outputs": [
    {
     "ename": "UFuncTypeError",
     "evalue": "Cannot cast ufunc 'add' output from dtype('float64') to dtype('int32') with casting rule 'same_kind'",
     "output_type": "error",
     "traceback": [
      "\u001b[1;31m---------------------------------------------------------------------------\u001b[0m",
      "\u001b[1;31mUFuncTypeError\u001b[0m                            Traceback (most recent call last)",
      "Cell \u001b[1;32mIn[13], line 1\u001b[0m\n\u001b[1;32m----> 1\u001b[0m simSchool\u001b[38;5;241m.\u001b[39msimulate_full_history()\n",
      "Cell \u001b[1;32mIn[11], line 29\u001b[0m, in \u001b[0;36mSchoolDistrict.simulate_full_history\u001b[1;34m(self)\u001b[0m\n\u001b[0;32m     26\u001b[0m \u001b[38;5;28;01mdef\u001b[39;00m \u001b[38;5;21msimulate_full_history\u001b[39m(\u001b[38;5;28mself\u001b[39m):\n\u001b[0;32m     27\u001b[0m     \u001b[38;5;66;03m# first step in the simulation--initialize the population history\u001b[39;00m\n\u001b[0;32m     28\u001b[0m     \u001b[38;5;28mself\u001b[39m\u001b[38;5;241m.\u001b[39mlen_history \u001b[38;5;241m=\u001b[39m \u001b[38;5;28mself\u001b[39m\u001b[38;5;241m.\u001b[39mn_periods \u001b[38;5;241m*\u001b[39m \u001b[38;5;28mself\u001b[39m\u001b[38;5;241m.\u001b[39mgrowth_period \n\u001b[1;32m---> 29\u001b[0m     \u001b[38;5;28mself\u001b[39m\u001b[38;5;241m.\u001b[39mhistory\u001b[38;5;241m=\u001b[39msimulate_history(start_value\u001b[38;5;241m=\u001b[39m\u001b[38;5;28mself\u001b[39m\u001b[38;5;241m.\u001b[39mNStudents, total_years\u001b[38;5;241m=\u001b[39m\u001b[38;5;28mself\u001b[39m\u001b[38;5;241m.\u001b[39mlen_history, period_length\u001b[38;5;241m=\u001b[39m\u001b[38;5;28mself\u001b[39m\u001b[38;5;241m.\u001b[39mgrowth_period, noisy\u001b[38;5;241m=\u001b[39m\u001b[38;5;28mself\u001b[39m\u001b[38;5;241m.\u001b[39mnoisy)\n",
      "Cell \u001b[1;32mIn[9], line 12\u001b[0m, in \u001b[0;36msimulate_history\u001b[1;34m(start_value, total_years, period_length, debug, noisy)\u001b[0m\n\u001b[0;32m     10\u001b[0m local_h \u001b[38;5;241m=\u001b[39m np\u001b[38;5;241m.\u001b[39msqueeze(locfun)\n\u001b[0;32m     11\u001b[0m \u001b[38;5;28;01mif\u001b[39;00m noisy:\n\u001b[1;32m---> 12\u001b[0m     local_h \u001b[38;5;241m+\u001b[39m\u001b[38;5;241m=\u001b[39m np\u001b[38;5;241m.\u001b[39msqueeze(\u001b[38;5;28mlist\u001b[39m(growthPats\u001b[38;5;241m.\u001b[39mvalues())[\u001b[38;5;241m0\u001b[39m](start_value\u001b[38;5;241m=\u001b[39m\u001b[38;5;241m0.\u001b[39m, n_years\u001b[38;5;241m=\u001b[39mperiod_length, const_change\u001b[38;5;241m=\u001b[39m\u001b[38;5;241m25.\u001b[39m)) \u001b[38;5;66;03m#TODO: use noise range ratio parameter \u001b[39;00m\n\u001b[0;32m     14\u001b[0m history\u001b[38;5;241m.\u001b[39mappend(local_h)\n\u001b[0;32m     15\u001b[0m \u001b[38;5;28;01mif\u001b[39;00m debug:\n",
      "\u001b[1;31mUFuncTypeError\u001b[0m: Cannot cast ufunc 'add' output from dtype('float64') to dtype('int32') with casting rule 'same_kind'"
     ]
    }
   ],
   "source": [
    "simSchool.simulate_full_history()"
   ]
  },
  {
   "cell_type": "code",
   "execution_count": null,
   "metadata": {},
   "outputs": [],
   "source": [
    "simSchool.make_construction_decisions(debug=False)"
   ]
  },
  {
   "cell_type": "markdown",
   "metadata": {},
   "source": [
    "## Plots: Population Predictions vs Actuals"
   ]
  },
  {
   "cell_type": "code",
   "execution_count": null,
   "metadata": {},
   "outputs": [],
   "source": [
    "simSchool.plot_history_vs_preds()"
   ]
  },
  {
   "cell_type": "markdown",
   "metadata": {},
   "source": [
    "## Plots: Predicted Student/School Ratios vs. Actuals"
   ]
  },
  {
   "cell_type": "code",
   "execution_count": null,
   "metadata": {},
   "outputs": [],
   "source": [
    "simSchool.plot_ratios()"
   ]
  },
  {
   "cell_type": "markdown",
   "metadata": {},
   "source": [
    "## Plots: Trends in School Enrollment and Openings/Closings"
   ]
  },
  {
   "cell_type": "code",
   "execution_count": null,
   "metadata": {},
   "outputs": [],
   "source": [
    "simSchool.plot_schools_vs_pop()"
   ]
  },
  {
   "cell_type": "markdown",
   "metadata": {},
   "source": [
    "## Metrics: $\\alpha$s"
   ]
  },
  {
   "cell_type": "code",
   "execution_count": null,
   "metadata": {},
   "outputs": [],
   "source": [
    "Counter(simSchool.hist_alphas)"
   ]
  },
  {
   "cell_type": "markdown",
   "metadata": {},
   "source": [
    "## Metrics: \\% of Time Student to School Ratio is within Tolerance"
   ]
  },
  {
   "cell_type": "code",
   "execution_count": null,
   "metadata": {},
   "outputs": [],
   "source": [
    "simSchool.pct_when_performant(to_print=True)"
   ]
  },
  {
   "cell_type": "code",
   "execution_count": null,
   "metadata": {},
   "outputs": [],
   "source": []
  },
  {
   "cell_type": "code",
   "execution_count": null,
   "metadata": {},
   "outputs": [],
   "source": []
  },
  {
   "cell_type": "code",
   "execution_count": null,
   "metadata": {},
   "outputs": [],
   "source": [
    "# debug zone"
   ]
  },
  {
   "cell_type": "code",
   "execution_count": null,
   "metadata": {},
   "outputs": [],
   "source": [
    "simSchool.len_history"
   ]
  },
  {
   "cell_type": "code",
   "execution_count": null,
   "metadata": {},
   "outputs": [],
   "source": [
    "len(simSchool.history)"
   ]
  },
  {
   "cell_type": "code",
   "execution_count": null,
   "metadata": {},
   "outputs": [],
   "source": [
    "len(simSchool.predictions)\n"
   ]
  }
 ],
 "metadata": {
  "kernelspec": {
   "display_name": "Python 3 (ipykernel)",
   "language": "python",
   "name": "python3"
  },
  "language_info": {
   "codemirror_mode": {
    "name": "ipython",
    "version": 3
   },
   "file_extension": ".py",
   "mimetype": "text/x-python",
   "name": "python",
   "nbconvert_exporter": "python",
   "pygments_lexer": "ipython3",
   "version": "3.12.4"
  }
 },
 "nbformat": 4,
 "nbformat_minor": 4
}
