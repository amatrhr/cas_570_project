{
  "cells": [
    {
      "cell_type": "markdown",
      "metadata": {
        "id": "C-66kaUPR6nK"
      },
      "source": [
        "# Contents\n",
        "* [Overview](#Overview)\n",
        "* [Imports](#Library-Imports)\n",
        "* [Helper Functions](#Helper-Functions)\n",
        "* [The `SchoolDistrict` Class](#The-SchoolDistrict-Class)\n",
        "* [Example](#An-Example)"
      ]
    },
    {
      "cell_type": "markdown",
      "metadata": {
        "id": "2uS4KpSfR6nM"
      },
      "source": [
        "# Overview\n",
        "This project asks how, when faced with uncertain enrollment trends and a need to maintain a proper assignment of resources to students, a school district might set a fair resource policy by maintaining a tolerable student-to-resource ratio, for example, maintaining a certain student-to-school ratio $R$, for example 200 students in each school.\n",
        "\n",
        "I will address this question by using a two-agent simulation of school openings and closings in a single school district, played out over 50 to 100 time steps (\"school years\"). One agent represents the population of public school students, which undergoes random demographic variation across years. The other agent represents the policy-making body of the district, which attempts to maintain a tolerable student-to-school ratio in the face of these demographic changes by using historical data to predict the change in enrollment at the end of each school year and opening or closing schools in response. The district administration agent will update its prediction-making method based on whether its predictions have led to good decisions (maintaining a tolerable student-to-school ratio) or poor ones (failure to maintain the ratio).\n",
        "\n",
        "## Conceptual implementation\n",
        "I will simulate uncertain patterns of student demographic change within an individual school district; for each five-year period, the student population will (randomly) undergo either convex growth/decline, concave growth/decline, a one-time impulse of sudden inflow or outflow during the third year, or will remain flat (with uniform noise).\n",
        "\n",
        "![](https://github.com/amatrhr/cas_570_project/blob/main/logo.png?raw=1)\n",
        "\n",
        "### Agent Behavior: District Administration\n",
        "During every simulated summer, the district administration will predict the change in number of students enrolled by using an exponentially weighted moving average (EWMA) of previous year-over-year changes, then will use the prediction as a basis for action. EWMA predictions depend on a single smoothing parameter, $\\alpha;\\; 0<\\alpha\\leq1$ and larger $\\alpha$ corresponds to emphasizing recent observations when predicting; see (https://otexts.com/fpp3/expsmooth.html).\n",
        "\n",
        "The district will choose $\\alpha$ randomly from the set $A = \\left\\{0.1,\\,0.2,\\,\\dots,\\,0.9, 1\\right\\}$, using the 10-vector of selection probabilities $\\vec{p}$. At first, each $\\alpha$ in $A$ has the same probability of being selected; each element of $\\vec{p}$ is 0.1. The district will learn from its policy choice and will increase those $p_i$ that have led to predictions that led to good decisions and decrease others, a process based on the adaptive agent-specific autoregressive predictions of Arthur, 1994 (https://www.jstor.org/stable/2117868) (my model is much simpler; the reference is a multi-agent simulation in which agents compete for resources based on their predictions).\n",
        "\n",
        "The district administration has a pre-set tolerance to violations of the student-to-school ratio; for example, if the tolerance interval is $T_\\text{min}=-50\\%$ to $T_\\text{max}=25\\%$ and the desired ratio, $R$, is 200 students per school, a predicted enrollment change resulting in $\\hat{R}<100$ or $\\hat{R}>250$ students per school is out-of-tolerance.\n",
        "If the predicted number of students would lead to an out-of-tolerance student-to-school ratio, the number of schools will be adjusted up or down to be just within tolerance."
      ]
    },
    {
      "cell_type": "markdown",
      "metadata": {
        "id": "3TSf3FjkR6nN"
      },
      "source": [
        "# Library Imports"
      ]
    },
    {
      "cell_type": "code",
      "execution_count": 183,
      "metadata": {
        "id": "7lXsWH69R6nO"
      },
      "outputs": [],
      "source": [
        "# modeling tools\n",
        "import numpy as np\n",
        "import matplotlib.pyplot as plt\n",
        "import pandas as pd\n",
        "import statsmodels.api as sm\n",
        "from copy import deepcopy\n",
        "from random import randint, choice\n",
        "from statsmodels.tsa.api import  SimpleExpSmoothing\n",
        "from statsmodels.formula.api import ols\n",
        "from statsmodels.stats.api import anova_lm\n",
        "\n",
        "# programming and optimization tools\n",
        "# import ipdb\n",
        "from collections import Counter\n",
        "from dataclasses import dataclass, field\n",
        "from functools import partial\n",
        "from itertools import product\n",
        "from scipy.optimize import minimize_scalar\n",
        "from scipy.stats import linregress\n",
        "\n",
        "\n",
        "# parameters for the notebook itself\n",
        "%matplotlib inline"
      ]
    },
    {
      "cell_type": "markdown",
      "metadata": {
        "id": "yt_DxV_NR6nO"
      },
      "source": [
        "# Helper Functions"
      ]
    },
    {
      "cell_type": "code",
      "execution_count": 184,
      "metadata": {
        "id": "4AOSKLacR6nP"
      },
      "outputs": [],
      "source": [
        "def minmax_scale(data:np.array)->np.array:\n",
        "    # function to scale a variable between 1 and 0, where 1 corresponds to its max value\n",
        "    data = np.nan_to_num(data,0)\n",
        "    vs_min = data - np.min(data)\n",
        "    mmrange = np.max(data) - np.min(data) if np.max(data) != np.min(data) else 1\n",
        "    scaled = vs_min / mmrange\n",
        "    return scaled"
      ]
    },
    {
      "cell_type": "code",
      "execution_count": 185,
      "metadata": {
        "id": "zNuMy2MRR6nP"
      },
      "outputs": [],
      "source": [
        "def dbl_SEWMA(data:pd.Series, alpha:float)->dict:\n",
        "    # fits a simple exponential smoothing model with fixed alpha to a dataset\n",
        "    # used by simulated school (districts) to predict enrollment\n",
        "    ## Arguments\n",
        "    # data: univariate time series\n",
        "    # alpha: exponential smoothing parameter, between 0 and 1\n",
        "    ## Returns\n",
        "    # dictionary containing the sum of squared errors and statsmodels time series model\n",
        "    #TODO: fix initialization to use as few years as possible--this can only be done with \"known\" initial trend and level\n",
        "    mod1 = SimpleExpSmoothing(data, initialization_method=\"heuristic\").fit(smoothing_level=alpha, optimized=False)\n",
        "    return {'sse':mod1.sse, 'mod':mod1}\n"
      ]
    },
    {
      "cell_type": "code",
      "execution_count": 186,
      "metadata": {
        "id": "ZEG-Hhw_R6nP"
      },
      "outputs": [],
      "source": [
        "def flat_with_noise(start_value:float=10.0, n_years:int=5, chgrat:float=0.20, const_change:float=None)->np.array:\n",
        "    # generates a set of simulated enrollments that vary due to having noise\n",
        "    ## Arguments\n",
        "    ##\n",
        "    ## Returns\n",
        "    # np array of e\n",
        "    output = np.zeros(n_years) + start_value\n",
        "    chgsize = chgrat*start_value if const_change is None else const_change\n",
        "    dmin = int(-1*chgsize)\n",
        "    dmax = int(chgsize)\n",
        "    output += np.array([randint(dmin, dmax) for x in range(n_years)],dtype=np.float64)\n",
        "    return(output)"
      ]
    },
    {
      "cell_type": "code",
      "execution_count": 187,
      "metadata": {
        "id": "Ih43moqmR6nP"
      },
      "outputs": [],
      "source": [
        "def impulse(start_value:float=10., n_years:int=5, impyr:int=2, chgrat:float=.670, impsign:int=1):\n",
        "    # function to produce an impulsive change\n",
        "    chgsize = chgrat*start_value\n",
        "    out = np.array([start_value for x in range(n_years)],dtype=np.float64)\n",
        "    out[impyr:n_years] = impsign*chgsize +  out[impyr]\n",
        "    return(out)"
      ]
    },
    {
      "cell_type": "code",
      "execution_count": 188,
      "metadata": {
        "id": "SbsV92zPR6nP"
      },
      "outputs": [],
      "source": [
        "def cvx_change(start_value=10., n_years=5, chgsign=1, chgrat=.20):\n",
        "    #function to produce convex change\n",
        "    # i.e. change where the time series of population falls below the line connecting any two\n",
        "    # points on the time series, i.e. alpha*exp(t) or alpha*exp(n_years - t)\n",
        "    chgsize = chgrat*start_value\n",
        "\n",
        "    alpha = np.exp(np.log(1+chgsign*chgrat)/n_years) - 1\n",
        "    output = start_value * np.power(1. + alpha, np.linspace(1,n_years,n_years))\n",
        "\n",
        "    return(output)"
      ]
    },
    {
      "cell_type": "code",
      "execution_count": 189,
      "metadata": {
        "id": "HmOgWuB0UMKi"
      },
      "outputs": [],
      "source": [
        "def test_cvx_c_rat(start_value=10., n_years=5, chgsign=1, chgrat=.20, start_schools=5):\n",
        "    # Function to check a ratio control strategy under convex change\n",
        "    # ratio should be maintained if change in Nschools is proportional to the\n",
        "    # current number of schools (i.e. exponential growth in the same way\n",
        "\n",
        "    history = cvx_change(start_value=start_value, n_years=n_years, chgsign=chgsign, chgrat=chgrat)\n",
        "    school_growth = cvx_change(start_value=start_schools, n_years=n_years, chgsign=chgsign, chgrat=chgrat)\n",
        "    ratio = history/school_growth\n",
        "    testval = np.allclose(ratio, max(ratio)*np.ones(len(ratio)))\n",
        "    return testval"
      ]
    },
    {
      "cell_type": "code",
      "execution_count": 190,
      "metadata": {
        "colab": {
          "base_uri": "https://localhost:8080/"
        },
        "id": "mAF5NnKtUMKi",
        "outputId": "de641df7-5118-4846-f06a-7912155f3eee"
      },
      "outputs": [
        {
          "output_type": "execute_result",
          "data": {
            "text/plain": [
              "True"
            ]
          },
          "metadata": {},
          "execution_count": 190
        }
      ],
      "source": [
        "test_cvx_c_rat(n_years=99)"
      ]
    },
    {
      "cell_type": "code",
      "execution_count": 191,
      "metadata": {
        "id": "9lUKyQE2R6nQ"
      },
      "outputs": [],
      "source": [
        "def ccv_change(start_value=10.,n_years=5,alpha=0.75,chgsign=1, chgrat=.20):\n",
        "    #function to produce convex change\n",
        "    # i.e. change where the time series of population falls below the line connecting any two\n",
        "    # points on the time series, i.e. alpha*exp(t) or alpha*exp(n_years - t)\n",
        "    adjust = 0.5*np.pi if chgsign < 0 else 0\n",
        "    out = np.linspace(0,0.5*np.pi, n_years+1)\n",
        "    out += adjust\n",
        "    maxi = (1+chgrat*chgsign)*start_value\n",
        "    mini = min(start_value, maxi)\n",
        "    maxi = max(start_value, maxi)\n",
        "    output = (maxi-mini)*np.sin(out) + mini\n",
        "    return(output[1:])"
      ]
    },
    {
      "cell_type": "code",
      "execution_count": 192,
      "metadata": {
        "id": "I9ptX5yER6nQ"
      },
      "outputs": [],
      "source": [
        "# with individual growth patterns defined, store all in one easy-access place\n",
        "growthPats = {'flat':flat_with_noise,\n",
        "              'impUp':impulse,\n",
        "              'impDn':partial(impulse, impsign=-1),\n",
        "              'cvxUp':cvx_change,\n",
        "              'cvxDn':partial(cvx_change, chgsign=-1),\n",
        "              'ccvUp':ccv_change,\n",
        "              'ccvDn':partial(ccv_change, chgsign=-1)\n",
        "              }"
      ]
    },
    {
      "cell_type": "code",
      "execution_count": 193,
      "metadata": {
        "id": "GtgLWanGR6nQ"
      },
      "outputs": [],
      "source": [
        "def simulate_history(start_value=50, total_years=50, period_length=5, debug=False, noisy=False, set_history:list=None):\n",
        "    # core function to generate a school (district's) population history\n",
        "\n",
        "    history = [[start_value for x in range(period_length)]]\n",
        "            # need to add functionality to smooth the transitions\n",
        "\n",
        "    if set_history is not None:\n",
        "        assert type(set_history) == list\n",
        "        # since we know it's a list, assert that the length of the list is correct\n",
        "        assert len(set_history) == total_years//period_length\n",
        "\n",
        "    for _, tp in enumerate(range(total_years//period_length)):\n",
        "        locidx = randint(0,len(growthPats)-1) if set_history is None else set_history[_] # there are 7 locidxs\n",
        "\n",
        "        lochg = history[_][period_length-1]\n",
        "        locfun = list(growthPats.values())[locidx](start_value=lochg, n_years=period_length)\n",
        "        local_h = np.squeeze(locfun)\n",
        "        if noisy:\n",
        "            local_h += np.squeeze(list(growthPats.values())[0](start_value=0., n_years=period_length, const_change=500.)) #TODO: use noise range ratio parameter\n",
        "\n",
        "        history.append(local_h)\n",
        "        if debug:\n",
        "            '''debug info that shows which growth pattern is used and prints\n",
        "               the starting value and simulated values for each multiyear\n",
        "            '''\n",
        "            print(f\"starting history {locidx}, a/k/a {repr(list(growthPats.values())[locidx])}\")\n",
        "            print(_)\n",
        "            print(lochg)\n",
        "            print(local_h)\n",
        "            print(\"____\")\n",
        "\n",
        "    out = np.floor(np.hstack(history)[period_length:])\n",
        "    #print(out)\n",
        "    return out # out[period_length:](why are we skipping the first period??)\n"
      ]
    },
    {
      "cell_type": "code",
      "execution_count": 194,
      "metadata": {
        "id": "9qVEB2AaR6nQ"
      },
      "outputs": [],
      "source": [
        "def predict_from_history(schooldata:pd.Series,alpha_set:list=[0.1,0.5,0.7],years:int=5, random:bool=True)->dict:\n",
        "    # core function to use simple exponential smoothing\n",
        "\n",
        "    school_SEWMA = lambda a: dbl_SEWMA(data=schooldata, alpha=a)\n",
        "    fit_res = {}\n",
        "    models = {}\n",
        "    if random:\n",
        "        j = choice(alpha_set)\n",
        "        ssmwa = school_SEWMA(j)\n",
        "        fit_res[j] = ssmwa['sse']\n",
        "        models[j] = ssmwa['mod']\n",
        "    else:\n",
        "        for j in alpha_set:\n",
        "            # don't overwrite if there're multiples\n",
        "            if fit_res.get(j) is None:\n",
        "                ssmwa = school_SEWMA(j)\n",
        "                fit_res[j] = ssmwa['sse']\n",
        "                models[j] = ssmwa['mod']\n",
        "\n",
        "    fit_check = pd.Series(fit_res)\n",
        "    result = fit_check.index[fit_check.argmin()]\n",
        "    return {\"alpha_result\":result, \"prediction\":models[result].forecast(years),\"history\":models[result].fittedvalues}"
      ]
    },
    {
      "cell_type": "code",
      "execution_count": 195,
      "metadata": {
        "id": "yeNLRC-tR6nQ"
      },
      "outputs": [],
      "source": [
        "def get_run_lengths(timeseries:np.array=np.array([1.,1.,1.,22,22.,22.,3.,4.,3.]))->list:\n",
        "    # give the number of time steps between school openings/closings\n",
        "    loct = np.diff(timeseries) # a run is the same as no differences betweeen an item and its predecessor in the array\n",
        "    loct[loct!=0] = 1 # so, each run of length l is l - 1 zeros--if we replace the nonzeros by ones, then we can count each run as a string of 0s\n",
        "    str_reps =  ''.join([str(x) for x in loct]).split(\"1\")  # convert to string, remove any characters that aren't '0's or '1's\n",
        "    rls = [len(x) + 1 for x in str_reps] # get lengths l from (l-1) s\n",
        "    assert sum(rls) == len(timeseries)\n",
        "    return rls"
      ]
    },
    {
      "cell_type": "code",
      "execution_count": 196,
      "metadata": {
        "id": "KYwv3WBTR6nR"
      },
      "outputs": [],
      "source": [
        "def runlength_stats(rls:list)->dict:\n",
        "\n",
        "    # find run lengths of some metric (number schools, achieved ratios, etc), and their counts, averages and  standard deviations\n",
        "    assert len(rls) > 0\n",
        "    rl_count = Counter(rls)\n",
        "    rl_mean = np.mean(rls)\n",
        "    rl_std = np.std(rls)\n",
        "    rl_med = np.median(rls)\n",
        "    return {'counts':rl_count, 'mean':rl_mean, 'median':rl_med, 'stddev':rl_std}\n",
        "\n"
      ]
    },
    {
      "cell_type": "code",
      "execution_count": 196,
      "metadata": {
        "id": "eNF3SBigUMKj"
      },
      "outputs": [],
      "source": []
    },
    {
      "cell_type": "code",
      "execution_count": 196,
      "metadata": {
        "id": "uTZHSRFOUMKj"
      },
      "outputs": [],
      "source": []
    },
    {
      "cell_type": "code",
      "execution_count": 196,
      "metadata": {
        "id": "IJ0C8LeCUMKj"
      },
      "outputs": [],
      "source": []
    },
    {
      "cell_type": "markdown",
      "metadata": {
        "id": "fQ0Y-mC9R6nR"
      },
      "source": [
        "# The SchoolDistrict Class"
      ]
    },
    {
      "cell_type": "code",
      "execution_count": 197,
      "metadata": {
        "id": "5IVIs1tTR6nR"
      },
      "outputs": [],
      "source": [
        "@dataclass\n",
        "class SchoolDistrict:\n",
        "    # core simulation class: represents the history of a single school district\n",
        "    # BASIC SIMULATION PARAMETERS (CONSTANTS)\n",
        "    sscRat: int = 100 # student to school ratio\n",
        "    tolerance: tuple = (-0.5, 0.25) # tolerances for that ratio\n",
        "    alphas:tuple = tuple(np.linspace(0.1,0.9,9)) # starting set of exponential smoothing parameters\n",
        "    growth_period:int = 10 # number of years to follow a particular growth pattern\n",
        "    n_periods:int = 6 # number of growth periods to run the simulation\n",
        "    start_yr:int = 10 # year to begin forecasts\n",
        "    noisy:bool = False # add noise to trajectory?\n",
        "    school_lifetime:int = 30 # expected life of a school\n",
        "    school_open_cost:float = -9. # cost to open a school\n",
        "    school_close_cost:float = 1. # cost to close a school\n",
        "    school_fund_fraction:float = 0.01 # how many other schools should revenue above the cost of maintenance go to fund?\n",
        "    starting_fund_yrs:int = 2 # how many years of surplus to start with?\n",
        "    school_minimum_threshold:float = -50. # what value of budget means no construction and no closure?\n",
        "    interest_rate:float = 0.05 # how much is savings worth\n",
        "    loan_multiplier:float = 0.7 # how much smaller is the interest to be paid vs. interest on assets?\n",
        "    # BASIC SIMULATION PARAMETERS (VARIABLE)\n",
        "    NStudents:int = 1000 # initial number of students\n",
        "    pred_ratios: list = field(default_factory=list) # agent-predicted student/resource ratios\n",
        "    ach_ratios: list = field(default_factory=list) # achieved student/resource ratios\n",
        "    hist_alphas: list = field(default_factory=list)\n",
        "    predictions: list = field(default_factory=list)\n",
        "    hist_schools: list = field(default_factory=list)\n",
        "    hist_budget: list = field(default_factory=list)\n",
        "\n",
        "\n",
        "    #TODO: add BUDGET\n",
        "    #TODO: fix ufunc bug\n",
        "\n",
        "\n",
        "    def simulate_full_history(self,to_debug=False,set_history=None):\n",
        "        # first step in the simulation--initialize the population history\n",
        "        self.len_history = self.n_periods * self.growth_period\n",
        "        self.history=simulate_history(start_value=self.NStudents,\n",
        "                                      total_years=self.len_history,\n",
        "                                      period_length=self.growth_period,\n",
        "                                      noisy=self.noisy,\n",
        "                                      debug=to_debug,\n",
        "                                      set_history=set_history)\n",
        "\n",
        "    def make_construction_decisions(self,debug=True):\n",
        "        # at the end of every year, make a forecast and update alpha selection probabilities\n",
        "        self.NSchools = self.NStudents // (self.sscRat + self.tolerance[1])# initial number of schools--started to be near a phase transition\n",
        "        self.pselect = np.ones(len(self.alphas))/len(self.alphas) # selection probabilities for exponential smoothing parameters\n",
        "        self.funding_rate = (1. + self.school_fund_fraction)/(self.sscRat * self.school_lifetime)\n",
        "        last_alpha = 0.0 # initalize the most recent choice of exponential smoothing param\n",
        "        alpha_multiple, extra = 1, 1 #divmod(self.len_history - self.start_yr, 5*len(self.alphas)) # number of times to include an alpha in the list,\n",
        "        #--must guarantee that we won't run out of alphas\n",
        "        local_as = list(self.alphas)*alpha_multiple  + [choice(self.alphas) for x in range(extra)]\n",
        "        self.ach_ratios += list(np.zeros(self.start_yr-1))\n",
        "        self.predictions += list(np.zeros(self.start_yr))\n",
        "        self.pred_ratios += list(np.zeros(self.start_yr))\n",
        "        self.hist_alphas += list(np.zeros(self.start_yr))\n",
        "        self.hist_schools += list(np.ones(self.start_yr)*self.NSchools)\n",
        "        self.hist_budget += list(np.zeros(self.start_yr - 1)) + [self.starting_fund_yrs*self.funding_rate *self.NStudents*-1*self.school_open_cost]\n",
        "\n",
        "        for yr in range(self.start_yr, self.len_history):\n",
        "            if self.NSchools == 0:\n",
        "                print(\"Simulation terminated early. Zero schools left.\")\n",
        "                break\n",
        "\n",
        "            # calculate ratio (evaluate performance) and update list of smoothing params\n",
        "            local_achrat = self.history[yr-1]/self.NSchools # achieved ratio\n",
        "            self.ach_ratios.append(local_achrat)\n",
        "            self.hist_schools.append(self.NSchools)\n",
        "            local_diff = (local_achrat - self.sscRat)/self.sscRat # achieved difference from ideal\n",
        "            if yr > self.start_yr and last_alpha in local_as:\n",
        "                if local_diff > self.tolerance[1] and len(local_as) > 1: #achieved ratio too high\n",
        "                    local_as.remove(last_alpha)\n",
        "                elif local_diff < self.tolerance[0] and len(local_as) > 1: #achieved ratio too low\n",
        "                    local_as.remove(last_alpha)\n",
        "                else: # ratio ok--good prediction\n",
        "                    local_as.append(last_alpha)\n",
        "\n",
        "\n",
        "            # forecast\n",
        "            forecast_objs = predict_from_history(self.history[0:yr],years=1,alpha_set=local_as)\n",
        "            local_prat = forecast_objs['prediction'][0]/self.NSchools\n",
        "            self.hist_alphas.append(forecast_objs['alpha_result'])\n",
        "            last_alpha = forecast_objs['alpha_result']\n",
        "            local_ach_diff = (local_prat - self.sscRat)/self.sscRat# predicted difference from ideal\n",
        "            self.predictions.append(forecast_objs['prediction'][0])\n",
        "            self.pred_ratios.append(local_prat)\n",
        "\n",
        "            # update number of schools based on forecast\n",
        "\n",
        "            sch_change = np.round(self.NSchools*(local_ach_diff))\n",
        "\n",
        "            open_close_cost = self.school_open_cost*sch_change if sch_change > 0 else self.school_close_cost*sch_change\n",
        "            # print(f\"existing budget is ${self.hist_budget[-1]}, need  ${open_close_cost} for opening/closing. \")\n",
        "\n",
        "            if (self.hist_budget[-1] + open_close_cost) >= self.school_minimum_threshold:\n",
        "                self.NSchools = np.round(self.NSchools*(1 + local_ach_diff))\n",
        "            else: # can't afford to act\n",
        "                open_close_cost = 0.\n",
        "\n",
        "            interest =  self.hist_budget[-1]*self.interest_rate\n",
        "            if self.hist_budget[-1]:\n",
        "                interest *= self.loan_multiplier\n",
        "\n",
        "            budget_change = self.history[yr]*self.funding_rate + open_close_cost + interest\n",
        "            # print(f\"budget changing by ${budget_change}, including ${open_close_cost} for opening/closing. \")\n",
        "            self.hist_budget.append(self.hist_budget[-1] + budget_change)\n",
        "            # update budget to reflect openings and closings\n",
        "            if debug:\n",
        "                print(len(local_as))\n",
        "                print(local_as)\n",
        "                print(Counter(local_as))\n",
        "                print(f\"schools should change by {self.NSchools*(local_ach_diff)}, or {sch_change}\")\n",
        "                print(f\"existing budget is ${self.hist_budget[-1]}, need  ${open_close_cost} for opening/closing. \")\n",
        "                print(f\"budget changing by ${budget_change}, including ${open_close_cost} for opening/closing. \")\n",
        "\n",
        "    def plot_history_vs_preds(self):\n",
        "        # plotting actual vs predicted enrollment\n",
        "        fig, ax = plt.subplots()\n",
        "        ax.step(x=range(len(self.history)), y=self.history)\n",
        "        ax.step(x=range(len(self.predictions)), y=self.predictions)\n",
        "        ax.legend(['historical','predictions'])\n",
        "        ax.set_title(\"Time Series of Historical vs. Predicted Enrollment\")\n",
        "        ax.set_ylabel(\"# Students\")\n",
        "        plt.show()\n",
        "        plt.close()\n",
        "\n",
        "\n",
        "    def plot_ratios(self):\n",
        "        # plotting achieved vs actual student/school ratio\n",
        "        fig, ax = plt.subplots()\n",
        "        ax.step(x=range(len(self.ach_ratios)), y=self.ach_ratios)\n",
        "        ax.step(x=range(len(self.pred_ratios)), y=self.pred_ratios)\n",
        "        ax.hlines((self.tolerance[0] + 1)*self.sscRat, xmin=0, xmax=self.len_history,color=\"gray\")\n",
        "        ax.hlines((self.tolerance[1] + 1)*self.sscRat, xmin=0, xmax=self.len_history,color=\"gray\")\n",
        "        ax.fill_between(range(self.len_history), 0, (self.tolerance[0] + 1)*self.sscRat, color=\"gray\", alpha=0.30)\n",
        "        ax.fill_between(range(self.len_history),(self.tolerance[1] + 1)*self.sscRat, max(max(self.ach_ratios), max(self.pred_ratios)), color=\"gray\", alpha=0.30)\n",
        "        ax.legend(['achieved','predictions'])\n",
        "        ax.set_title(\"Time Series of Predicted vs. Achieved Student/School Ratio\")\n",
        "        ax.set_ylabel(\"Students per School\")\n",
        "        ax.set_xlabel(\"Time (Years)\")\n",
        "        plt.show()\n",
        "        plt.close()\n",
        "\n",
        "    def plot_schools_vs_pop(self):\n",
        "        # plotting number of schools vs. population (scaled)\n",
        "        fig, ax = plt.subplots()\n",
        "        ax.step(x=range(len(self.history)), y=minmax_scale(self.history))\n",
        "        ax.step(x=range(len(self.hist_schools)), y=minmax_scale(self.hist_schools))\n",
        "        ax.legend(['scaled population', 'scaled # schools'])\n",
        "        ax.set_title(f\"Time Series of Scaled # Schools, Total Enrollment\\n#Schools: Min:{min(self.hist_schools)},Max:{max(self.hist_schools)}, Enrolled: Min:{min(self.history)},Max:{max(self.history)}\")\n",
        "        ax.set_ylabel(\"Scaled School Count/Scaled Enrollment\")\n",
        "        ax.set_xlabel(\"Time (Years)\")\n",
        "        plt.show()\n",
        "        plt.close()\n",
        "\n",
        "    # metrics\n",
        "    def pct_when_performant(self, to_print=False):\n",
        "        # give the proportion of school years where achieved student to resource ratios were within tolerance\n",
        "        ach_test = self.ach_ratios[self.start_yr:]\n",
        "        result_bool = [ (x <= ((self.tolerance[1] + 1)*self.sscRat) ) and (x >= ((self.tolerance[0] + 1)*self.sscRat)) for x in ach_test]\n",
        "        prop = sum(result_bool)/len(result_bool)\n",
        "        self.prop_perf = prop\n",
        "        if to_print:\n",
        "            print(f\"The district was within tolerance bounds {np.round(100*prop)}% of the time.\")\n",
        "        return prop\n",
        "\n",
        "    def plot_budget(self):\n",
        "        # plotting budget\n",
        "        fig, ax = plt.subplots()\n",
        "        ax.step(x=range(len(self.hist_budget)), y=self.hist_budget)\n",
        "        ax.legend(['Historical Budget'])\n",
        "        ax.set_title(f\"Time Series of Historical Budget\")\n",
        "        ax.hlines(self.school_minimum_threshold, xmin=0, xmax=self.len_history,color=\"red\", linestyle=\"dotted\")\n",
        "        ax.hlines(0, xmin=0, xmax=self.len_history,color=\"gray\", linestyle=\"dotted\")\n",
        "        ax.set_ylabel(\"Historical Budget ($)\")\n",
        "        ax.set_xlabel(\"Time (Years)\")\n",
        "        plt.show()\n",
        "        plt.close()\n",
        "\n",
        "    # metrics\n",
        "    def pct_when_in_budget(self, lower_thresh=0, to_print=False):\n",
        "        # give the proportion of school years where the budget was above some threshold ($0, -100% of total value of all schools, etc)\n",
        "        # metric \"ever reach ruin\" can be calculated from this\n",
        "        if len(self.hist_budget) < len(self.history):\n",
        "            self.hist_budget += [0 for x in range(len(self.history) - len(self.hist_budget))]\n",
        "        budget_res = self.hist_budget[self.start_yr:]\n",
        "        result_bool = [ (x >= lower_thresh) for x in budget_res]\n",
        "        prop = sum(result_bool)/len(result_bool)\n",
        "        self.prop_perf = prop\n",
        "        if to_print:\n",
        "            print(f\"The district budget was above the threshold of ${lower_thresh} {np.round(100*prop)}% of the time.\")\n",
        "        return prop\n",
        "\n",
        "\n",
        "    def predictive_accuracy(self):\n",
        "        # get Rsquared of predictions\n",
        "        if len(self.history[self.start_yr:]) != len(self.predictions[self.start_yr:]):\n",
        "            print(\"WARNING: HISTORY TERMINATED EARLY\")\n",
        "            lr = linregress(x=self.predictions[self.start_yr:], y=self.history[self.start_yr:len(self.predictions)])\n",
        "        else:\n",
        "            lr = linregress(x=self.predictions[self.start_yr:], y=self.history[self.start_yr:])\n",
        "\n",
        "        return lr.rvalue\n",
        "\n",
        "\n"
      ]
    },
    {
      "cell_type": "markdown",
      "metadata": {
        "id": "LEBZ3SCsR6nS"
      },
      "source": [
        "# An Example"
      ]
    },
    {
      "cell_type": "code",
      "execution_count": 198,
      "metadata": {
        "id": "pUWP8C9SR6nS"
      },
      "outputs": [],
      "source": [
        "simSchool = SchoolDistrict(NStudents=2500, #Start with 1250 students\n",
        "                           sscRat=250,  # ideal student/school ratio is 250\n",
        "                           tolerance=(-.1,.1), #tolerate student/school ratios of 225 to 275\n",
        "                           growth_period=10, # growth patterns last 20 years\n",
        "                           n_periods=5, # run for 60 years\n",
        "                           noisy=True, # add noise to population change\n",
        "                           school_minimum_threshold = -60., # minimum budget to open/close a school\n",
        "                           school_fund_fraction=0.95, # determines how much over current school operating expenses to charge in taxes\n",
        "                           interest_rate=0.03,\n",
        "                           pred_ratios=[], ach_ratios=[], hist_alphas=[], predictions=[],hist_budget=[]\n",
        "                       )\n",
        "simSchool.simulate_full_history(set_history=[6,3,4,3,6])\n",
        "simSchool.make_construction_decisions(debug=False)"
      ]
    },
    {
      "cell_type": "code",
      "execution_count": 199,
      "metadata": {
        "colab": {
          "base_uri": "https://localhost:8080/"
        },
        "id": "iQd-1IIIUMKk",
        "outputId": "6a11b0d5-e574-4920-d6dd-7fe90e1f31f1"
      },
      "outputs": [
        {
          "output_type": "execute_result",
          "data": {
            "text/plain": [
              "0.38461538461538464"
            ]
          },
          "metadata": {},
          "execution_count": 199
        }
      ],
      "source": [
        "simSchool.pct_when_performant()"
      ]
    },
    {
      "cell_type": "markdown",
      "metadata": {
        "id": "Kslxx9D-R6nT"
      },
      "source": [
        "## Plots: Population Predictions vs Actuals"
      ]
    },
    {
      "cell_type": "code",
      "execution_count": 200,
      "metadata": {
        "colab": {
          "base_uri": "https://localhost:8080/",
          "height": 452
        },
        "id": "Tg1izlYqR6nT",
        "outputId": "95314d7c-87df-4e58-bee9-3eedd7030b60"
      },
      "outputs": [
        {
          "output_type": "display_data",
          "data": {
            "text/plain": [
              "<Figure size 640x480 with 1 Axes>"
            ],
            "image/png": "[encoded data removed]"
          },
          "metadata": {}
        }
      ],
      "source": [
        "simSchool.plot_history_vs_preds()"
      ]
    },
    {
      "cell_type": "code",
      "execution_count": 201,
      "metadata": {
        "colab": {
          "base_uri": "https://localhost:8080/"
        },
        "id": "zibU3WOFUMKk",
        "outputId": "fc55d479-d245-4637-9968-577c0c32ef80"
      },
      "outputs": [
        {
          "output_type": "execute_result",
          "data": {
            "text/plain": [
              "0.06991407007666917"
            ]
          },
          "metadata": {},
          "execution_count": 201
        }
      ],
      "source": [
        "simSchool.predictive_accuracy()"
      ]
    },
    {
      "cell_type": "markdown",
      "metadata": {
        "id": "sFo18PP-R6nT"
      },
      "source": [
        "## Plots: Predicted Student/School Ratios vs. Actuals"
      ]
    },
    {
      "cell_type": "code",
      "execution_count": 202,
      "metadata": {
        "colab": {
          "base_uri": "https://localhost:8080/",
          "height": 472
        },
        "id": "tQtdvLRkR6nT",
        "outputId": "3228a887-8c8b-4440-ccff-9b7f4316475b"
      },
      "outputs": [
        {
          "output_type": "display_data",
          "data": {
            "text/plain": [
              "<Figure size 640x480 with 1 Axes>"
            ],
            "image/png": "[encoded data removed]"
          },
          "metadata": {}
        }
      ],
      "source": [
        "simSchool.plot_ratios()"
      ]
    },
    {
      "cell_type": "code",
      "execution_count": 203,
      "metadata": {
        "colab": {
          "base_uri": "https://localhost:8080/"
        },
        "id": "OMDYT83FR6nT",
        "outputId": "b1557380-187f-4ed9-8baa-3a268fa09ece"
      },
      "outputs": [
        {
          "output_type": "stream",
          "name": "stdout",
          "text": [
            "The district was within tolerance bounds 38.0% of the time.\n"
          ]
        },
        {
          "output_type": "execute_result",
          "data": {
            "text/plain": [
              "0.38461538461538464"
            ]
          },
          "metadata": {},
          "execution_count": 203
        }
      ],
      "source": [
        "simSchool.pct_when_performant(to_print=True)"
      ]
    },
    {
      "cell_type": "markdown",
      "metadata": {
        "id": "unW2zH5IR6nT"
      },
      "source": [
        "## Plots: Trends in School Enrollment and Openings/Closings"
      ]
    },
    {
      "cell_type": "code",
      "execution_count": 204,
      "metadata": {
        "colab": {
          "base_uri": "https://localhost:8080/",
          "height": 493
        },
        "id": "pe1GuNJFR6nT",
        "outputId": "94b4faf5-14ac-4c11-9396-4682c017fad4"
      },
      "outputs": [
        {
          "output_type": "display_data",
          "data": {
            "text/plain": [
              "<Figure size 640x480 with 1 Axes>"
            ],
            "image/png": "[encoded data removed]"
          },
          "metadata": {}
        }
      ],
      "source": [
        "simSchool.plot_schools_vs_pop()"
      ]
    },
    {
      "cell_type": "markdown",
      "metadata": {
        "id": "Xwt0Lx9bR6nU"
      },
      "source": [
        "## Budget figures"
      ]
    },
    {
      "cell_type": "code",
      "execution_count": 205,
      "metadata": {
        "colab": {
          "base_uri": "https://localhost:8080/",
          "height": 472
        },
        "id": "W2SDsgegR6nU",
        "outputId": "cf6a4b44-ece4-4a80-9c85-21d8c66a8346"
      },
      "outputs": [
        {
          "output_type": "display_data",
          "data": {
            "text/plain": [
              "<Figure size 640x480 with 1 Axes>"
            ],
            "image/png": "[encoded data removed]"
          },
          "metadata": {}
        }
      ],
      "source": [
        "simSchool.plot_budget()"
      ]
    },
    {
      "cell_type": "code",
      "execution_count": 206,
      "metadata": {
        "colab": {
          "base_uri": "https://localhost:8080/"
        },
        "id": "GF8jFXUWR6nU",
        "outputId": "8c168a89-088c-46b9-b9df-33f7d56baf1c"
      },
      "outputs": [
        {
          "output_type": "stream",
          "name": "stdout",
          "text": [
            "The district budget was above the threshold of $-60.0 100.0% of the time.\n"
          ]
        },
        {
          "output_type": "execute_result",
          "data": {
            "text/plain": [
              "1.0"
            ]
          },
          "metadata": {},
          "execution_count": 206
        }
      ],
      "source": [
        "simSchool.pct_when_in_budget(lower_thresh=simSchool.school_minimum_threshold,to_print=True)"
      ]
    },
    {
      "cell_type": "markdown",
      "metadata": {
        "id": "kbecsMGWR6nU"
      },
      "source": [
        "## Metrics: run lengths"
      ]
    },
    {
      "cell_type": "code",
      "execution_count": 207,
      "metadata": {
        "colab": {
          "base_uri": "https://localhost:8080/"
        },
        "id": "N6TvlLBER6nU",
        "outputId": "1f7aa3d7-7152-403f-cd4e-6f2fa90bc01c"
      },
      "outputs": [
        {
          "output_type": "execute_result",
          "data": {
            "text/plain": [
              "{'counts': Counter({13: 1, 1: 5, 4: 2, 3: 1, 7: 1, 2: 1, 12: 1}),\n",
              " 'mean': 4.166666666666667,\n",
              " 'median': 2.5,\n",
              " 'stddev': 4.119735698102758}"
            ]
          },
          "metadata": {},
          "execution_count": 207
        }
      ],
      "source": [
        "runlength_stats(get_run_lengths([int(x) for x in simSchool.hist_schools]))"
      ]
    },
    {
      "cell_type": "markdown",
      "metadata": {
        "id": "wUpEJlwDR6nU"
      },
      "source": [
        "## Metrics: $\\alpha$s"
      ]
    },
    {
      "cell_type": "code",
      "execution_count": 208,
      "metadata": {
        "colab": {
          "base_uri": "https://localhost:8080/"
        },
        "id": "ML8bcjQDR6nV",
        "outputId": "a9257cc4-9303-4e67-a0b3-9fca18486062"
      },
      "outputs": [
        {
          "output_type": "execute_result",
          "data": {
            "text/plain": [
              "Counter({0.0: 10,\n",
              "         0.2: 31,\n",
              "         0.8: 2,\n",
              "         0.9: 1,\n",
              "         0.4: 1,\n",
              "         0.1: 1,\n",
              "         0.30000000000000004: 1,\n",
              "         0.5: 1,\n",
              "         0.6: 1,\n",
              "         0.7000000000000001: 1})"
            ]
          },
          "metadata": {},
          "execution_count": 208
        }
      ],
      "source": [
        "Counter(simSchool.hist_alphas)"
      ]
    },
    {
      "cell_type": "code",
      "execution_count": 209,
      "metadata": {
        "colab": {
          "base_uri": "https://localhost:8080/",
          "height": 447
        },
        "id": "P9NmJciwR6nV",
        "outputId": "0f8bb416-7b02-463d-bbbe-dbf297a488d4"
      },
      "outputs": [
        {
          "output_type": "execute_result",
          "data": {
            "text/plain": [
              "[<matplotlib.lines.Line2D at 0x79d3d6cad150>]"
            ]
          },
          "metadata": {},
          "execution_count": 209
        },
        {
          "output_type": "display_data",
          "data": {
            "text/plain": [
              "<Figure size 640x480 with 1 Axes>"
            ],
            "image/png": "[encoded data removed]"
          },
          "metadata": {}
        }
      ],
      "source": [
        "plt.plot(simSchool.hist_alphas)"
      ]
    },
    {
      "cell_type": "markdown",
      "metadata": {
        "id": "7dPn5YTMUMKm"
      },
      "source": [
        "# Factorial Experiment\n"
      ]
    },
    {
      "cell_type": "code",
      "execution_count": 210,
      "metadata": {
        "id": "g79S50nEUMKm"
      },
      "outputs": [],
      "source": [
        "def individual_replicate(SampleSize=3500,ratio=250, growth_patterns:list=[0,0,0], is_noisy:bool=False, alphas:tuple=None)->dict:\n",
        "    simSchool = SchoolDistrict(NStudents=SampleSize, #Start with 1250 students\n",
        "                               sscRat=ratio,  # ideal student/school ratio is 250\n",
        "                               tolerance=(-.1,.1), #tolerate student/school ratios of 225 to 275\n",
        "                               growth_period=20, # growth patterns last 20 years\n",
        "                               n_periods=len(growth_patterns), # run for 60 years\n",
        "                               noisy=is_noisy, # add noise to population change\n",
        "                               school_minimum_threshold = -50., # minimum budget to open/close a school\n",
        "                               school_fund_fraction=0.70, # determines how much over current school operating expenses to charge in taxes\n",
        "                               interest_rate=0.02,\n",
        "                               pred_ratios=[], ach_ratios=[], hist_alphas=[], predictions=[],hist_budget=[]\n",
        "                           )\n",
        "    if alphas is not None:\n",
        "        simSchool.alphas = alphas\n",
        "    school_results = {}\n",
        "    simSchool.simulate_full_history(set_history=growth_patterns)\n",
        "    simSchool.make_construction_decisions(debug=False)\n",
        "    school_results['r2'] = simSchool.predictive_accuracy()\n",
        "    school_results['pct_performant'] = simSchool.pct_when_performant(to_print=False)\n",
        "    school_results['pct_budgetary'] = simSchool.pct_when_in_budget(lower_thresh=simSchool.school_minimum_threshold,to_print=False)\n",
        "    school_results['decision_length'] = runlength_stats(get_run_lengths([int(x) for x in simSchool.hist_schools]))['median']\n",
        "    return school_results"
      ]
    },
    {
      "cell_type": "code",
      "execution_count": 211,
      "metadata": {
        "colab": {
          "base_uri": "https://localhost:8080/"
        },
        "id": "vLAgXAU2UMKm",
        "outputId": "e2fc8a42-159a-4d3b-d0b5-7e35a183bd94"
      },
      "outputs": [
        {
          "output_type": "execute_result",
          "data": {
            "text/plain": [
              "{'r2': 0.9664671679042622,\n",
              " 'pct_performant': 0.08695652173913043,\n",
              " 'pct_budgetary': 1.0,\n",
              " 'decision_length': 1.0}"
            ]
          },
          "metadata": {},
          "execution_count": 211
        }
      ],
      "source": [
        "individual_replicate(growth_patterns=[0,1,3,1])"
      ]
    },
    {
      "cell_type": "code",
      "source": [],
      "metadata": {
        "id": "cMVYDbDpdR3o"
      },
      "execution_count": 211,
      "outputs": []
    },
    {
      "cell_type": "code",
      "execution_count": 212,
      "metadata": {
        "id": "P-NzS2BeUMKm"
      },
      "outputs": [],
      "source": [
        "def run_experiment(growth_pat_len:int=3, noise:bool=False, set_alpha=None, plot:bool=True):\n",
        "    alphas_ = tuple(set_alpha for x in range(23)) if set_alpha is not None else None\n",
        "    exp_result = {}\n",
        "    pprod = product(\"0123456\", repeat=growth_pat_len)\n",
        "    formula = \"pct_performant ~ \" + \" + \".join([f\"C(p{x})\" for x in range(growth_pat_len)])\n",
        "    # print(formula)\n",
        "    for pat in pprod:\n",
        "        local_name = \",\".join(pat)\n",
        "        growth_pats =  [int(y) for y in pat]\n",
        "        # print(growth_pats)\n",
        "        local_res = individual_replicate(growth_patterns =growth_pats, is_noisy=noise, alphas=alphas_)\n",
        "        exp_result[local_name] = local_res\n",
        "\n",
        "    factorial = pd.DataFrame(exp_result).T\n",
        "    for _,j in enumerate(range(growth_pat_len)):\n",
        "        factorial[f'p{_}'] = factorial.index.to_series().apply(lambda x: x.split(',')[_])\n",
        "\n",
        "    if plot:\n",
        "        factorial.boxplot(column='r2', by='p0')\n",
        "        factorial.boxplot(column='pct_budgetary', by='p0')\n",
        "        factorial.boxplot(column='pct_performant', by='p0')\n",
        "        factorial.boxplot(column='decision_length', by='p0')\n",
        "        factorial.plot.scatter('decision_length', 'pct_performant', c=[int(x) for x in factorial['p2']], colormap='Dark2',alpha=0.3 )\n",
        "\n",
        "\n",
        "    print(factorial[['r2', 'pct_budgetary', 'pct_performant','decision_length']].describe())\n",
        "\n",
        "    lm = ols(formula, factorial).fit()\n",
        "    print(lm.summary())\n",
        "    print(anova_lm(lm))\n",
        "    return factorial, lm"
      ]
    },
    {
      "cell_type": "code",
      "execution_count": 213,
      "metadata": {
        "id": "vNdJ3GTuUMKm"
      },
      "outputs": [],
      "source": [
        "@dataclass\n",
        "class SingleExperiment:\n",
        "    # Single run from one set of experimental conditions\n",
        "    growth_pat_len:int=4\n",
        "    noise:bool=False\n",
        "    set_alpha:float=None\n",
        "    plot:bool=False\n",
        "\n",
        "    def run(self):\n",
        "        self.name = f\"gpl:{self.growth_pat_len};noise:{self.noise};A:{self.set_alpha}\"\n",
        "        self.result = run_experiment(growth_pat_len=self.growth_pat_len,\n",
        "                       noise=self.noise, set_alpha=self.set_alpha, plot=self.plot)\n",
        "        self.core_res = self.result[0][['r2', 'pct_budgetary', 'pct_performant','decision_length']].median()\n",
        "\n",
        "    def get_result(self):\n",
        "        self.run()\n",
        "        return self.core_res\n",
        ""
      ]
    },
    {
      "cell_type": "code",
      "execution_count": 214,
      "metadata": {
        "colab": {
          "base_uri": "https://localhost:8080/",
          "height": 1000
        },
        "id": "rKvwr9oxUMKm",
        "outputId": "cc5e6570-cf6b-4639-d531-34a0e5c65bc6"
      },
      "outputs": [
        {
          "output_type": "stream",
          "name": "stdout",
          "text": [
            "               r2  pct_budgetary  pct_performant  decision_length\n",
            "count  343.000000     343.000000      343.000000       343.000000\n",
            "mean     0.832403       0.949738        0.609448         5.172012\n",
            "std      0.197062       0.135499        0.291826         8.510288\n",
            "min     -0.004715       0.300000        0.000000         1.000000\n",
            "25%      0.816900       1.000000        0.346939         2.000000\n",
            "50%      0.908893       1.000000        0.653061         3.000000\n",
            "75%      0.945028       1.000000        0.857143         5.000000\n",
            "max      0.998481       1.000000        1.000000        60.000000\n",
            "                            OLS Regression Results                            \n",
            "==============================================================================\n",
            "Dep. Variable:         pct_performant   R-squared:                       0.641\n",
            "Model:                            OLS   Adj. R-squared:                  0.621\n",
            "Method:                 Least Squares   F-statistic:                     32.19\n",
            "Date:                Thu, 05 Dec 2024   Prob (F-statistic):           3.05e-61\n",
            "Time:                        02:24:38   Log-Likelihood:                 112.12\n",
            "No. Observations:                 343   AIC:                            -186.2\n",
            "Df Residuals:                     324   BIC:                            -113.3\n",
            "Df Model:                          18                                         \n",
            "Covariance Type:            nonrobust                                         \n",
            "==============================================================================\n",
            "                 coef    std err          t      P>|t|      [0.025      0.975]\n",
            "------------------------------------------------------------------------------\n",
            "Intercept      0.3225      0.042      7.633      0.000       0.239       0.406\n",
            "C(p0)[T.1]    -0.2045      0.036     -5.638      0.000      -0.276      -0.133\n",
            "C(p0)[T.2]     0.2245      0.036      6.189      0.000       0.153       0.296\n",
            "C(p0)[T.3]     0.1583      0.036      4.363      0.000       0.087       0.230\n",
            "C(p0)[T.4]     0.2915      0.036      8.037      0.000       0.220       0.363\n",
            "C(p0)[T.5]     0.1945      0.036      5.362      0.000       0.123       0.266\n",
            "C(p0)[T.6]     0.2520      0.036      6.947      0.000       0.181       0.323\n",
            "C(p1)[T.1]    -0.1416      0.036     -3.904      0.000      -0.213      -0.070\n",
            "C(p1)[T.2]     0.0221      0.036      0.609      0.543      -0.049       0.093\n",
            "C(p1)[T.3]     0.1616      0.036      4.455      0.000       0.090       0.233\n",
            "C(p1)[T.4]     0.3240      0.036      8.933      0.000       0.253       0.395\n",
            "C(p1)[T.5]     0.1878      0.036      5.178      0.000       0.116       0.259\n",
            "C(p1)[T.6]     0.2778      0.036      7.658      0.000       0.206       0.349\n",
            "C(p2)[T.1]    -0.0637      0.036     -1.757      0.080      -0.135       0.008\n",
            "C(p2)[T.2]    -0.0487      0.036     -1.343      0.180      -0.120       0.023\n",
            "C(p2)[T.3]     0.0746      0.036      2.055      0.041       0.003       0.146\n",
            "C(p2)[T.4]     0.1133      0.036      3.123      0.002       0.042       0.185\n",
            "C(p2)[T.5]     0.0866      0.036      2.388      0.018       0.015       0.158\n",
            "C(p2)[T.6]     0.0983      0.036      2.710      0.007       0.027       0.170\n",
            "==============================================================================\n",
            "Omnibus:                        3.594   Durbin-Watson:                   1.632\n",
            "Prob(Omnibus):                  0.166   Jarque-Bera (JB):                3.308\n",
            "Skew:                          -0.223   Prob(JB):                        0.191\n",
            "Kurtosis:                       3.179   Cond. No.                         9.61\n",
            "==============================================================================\n",
            "\n",
            "Notes:\n",
            "[1] Standard Errors assume that the covariance matrix of the errors is correctly specified.\n",
            "             df     sum_sq   mean_sq          F        PR(>F)\n",
            "C(p0)       6.0   8.998695  1.499782  46.523625  5.537924e-41\n",
            "C(p1)       6.0   8.098764  1.349794  41.870944  1.066153e-37\n",
            "C(p2)       6.0   1.583349  0.263892   8.185980  2.947626e-08\n",
            "Residual  324.0  10.444790  0.032237        NaN           NaN\n"
          ]
        },
        {
          "output_type": "execute_result",
          "data": {
            "text/plain": [
              "r2                 0.908893\n",
              "pct_budgetary      1.000000\n",
              "pct_performant     0.653061\n",
              "decision_length    3.000000\n",
              "dtype: float64"
            ],
            "text/html": [
              "<div>\n",
              "<style scoped>\n",
              "    .dataframe tbody tr th:only-of-type {\n",
              "        vertical-align: middle;\n",
              "    }\n",
              "\n",
              "    .dataframe tbody tr th {\n",
              "        vertical-align: top;\n",
              "    }\n",
              "\n",
              "    .dataframe thead th {\n",
              "        text-align: right;\n",
              "    }\n",
              "</style>\n",
              "<table border=\"1\" class=\"dataframe\">\n",
              "  <thead>\n",
              "    <tr style=\"text-align: right;\">\n",
              "      <th></th>\n",
              "      <th>0</th>\n",
              "    </tr>\n",
              "  </thead>\n",
              "  <tbody>\n",
              "    <tr>\n",
              "      <th>r2</th>\n",
              "      <td>0.908893</td>\n",
              "    </tr>\n",
              "    <tr>\n",
              "      <th>pct_budgetary</th>\n",
              "      <td>1.000000</td>\n",
              "    </tr>\n",
              "    <tr>\n",
              "      <th>pct_performant</th>\n",
              "      <td>0.653061</td>\n",
              "    </tr>\n",
              "    <tr>\n",
              "      <th>decision_length</th>\n",
              "      <td>3.000000</td>\n",
              "    </tr>\n",
              "  </tbody>\n",
              "</table>\n",
              "</div><br><label><b>dtype:</b> float64</label>"
            ]
          },
          "metadata": {},
          "execution_count": 214
        }
      ],
      "source": [
        "initial_class_test = SingleExperiment(growth_pat_len=3)\n",
        "initial_class_test.get_result()"
      ]
    },
    {
      "cell_type": "code",
      "execution_count": 215,
      "metadata": {
        "colab": {
          "base_uri": "https://localhost:8080/",
          "height": 1000
        },
        "id": "-M4v2T4GUMKn",
        "outputId": "b9dd91bd-2968-4119-dbfa-5aaf46fb967b"
      },
      "outputs": [
        {
          "output_type": "stream",
          "name": "stdout",
          "text": [
            "Simulation terminated early. Zero schools left.\n",
            "WARNING: HISTORY TERMINATED EARLY\n",
            "Simulation terminated early. Zero schools left.\n",
            "WARNING: HISTORY TERMINATED EARLY\n",
            "               r2  pct_budgetary  pct_performant  decision_length\n",
            "count  343.000000     343.000000      343.000000       343.000000\n",
            "mean     0.673307       0.826297        0.308068         3.653061\n",
            "std      0.248701       0.232897        0.171976         7.157422\n",
            "min     -0.190612       0.240000        0.000000         1.000000\n",
            "25%      0.528281       0.640000        0.183673         1.000000\n",
            "50%      0.753963       1.000000        0.306122         2.000000\n",
            "75%      0.867998       1.000000        0.408163         2.000000\n",
            "max      0.963917       1.000000        0.755102        60.000000\n",
            "                            OLS Regression Results                            \n",
            "==============================================================================\n",
            "Dep. Variable:         pct_performant   R-squared:                       0.590\n",
            "Model:                            OLS   Adj. R-squared:                  0.568\n",
            "Method:                 Least Squares   F-statistic:                     25.95\n",
            "Date:                Thu, 05 Dec 2024   Prob (F-statistic):           3.47e-52\n",
            "Time:                        02:25:19   Log-Likelihood:                 270.73\n",
            "No. Observations:                 343   AIC:                            -503.5\n",
            "Df Residuals:                     324   BIC:                            -430.5\n",
            "Df Model:                          18                                         \n",
            "Covariance Type:            nonrobust                                         \n",
            "==============================================================================\n",
            "                 coef    std err          t      P>|t|      [0.025      0.975]\n",
            "------------------------------------------------------------------------------\n",
            "Intercept      0.2997      0.027     11.263      0.000       0.247       0.352\n",
            "C(p0)[T.1]    -0.0887      0.023     -3.883      0.000      -0.134      -0.044\n",
            "C(p0)[T.2]    -0.1480      0.023     -6.478      0.000      -0.193      -0.103\n",
            "C(p0)[T.3]     0.0616      0.023      2.698      0.007       0.017       0.107\n",
            "C(p0)[T.4]     0.0458      0.023      2.006      0.046       0.001       0.091\n",
            "C(p0)[T.5]     0.0716      0.023      3.136      0.002       0.027       0.117\n",
            "C(p0)[T.6]     0.0508      0.023      2.224      0.027       0.006       0.096\n",
            "C(p1)[T.1]    -0.1437      0.023     -6.290      0.000      -0.189      -0.099\n",
            "C(p1)[T.2]    -0.1251      0.023     -5.475      0.000      -0.170      -0.080\n",
            "C(p1)[T.3]    -0.0021      0.023     -0.091      0.927      -0.047       0.043\n",
            "C(p1)[T.4]     0.1299      0.023      5.688      0.000       0.085       0.175\n",
            "C(p1)[T.5]    -0.0050      0.023     -0.219      0.827      -0.050       0.040\n",
            "C(p1)[T.6]     0.1158      0.023      5.069      0.000       0.071       0.161\n",
            "C(p2)[T.1]    -0.0362      0.023     -1.586      0.114      -0.081       0.009\n",
            "C(p2)[T.2]    -0.0304      0.023     -1.333      0.184      -0.075       0.014\n",
            "C(p2)[T.3]     0.0042      0.023      0.182      0.855      -0.041       0.049\n",
            "C(p2)[T.4]     0.0737      0.023      3.227      0.001       0.029       0.119\n",
            "C(p2)[T.5]     0.0096      0.023      0.419      0.675      -0.035       0.055\n",
            "C(p2)[T.6]     0.0745      0.023      3.260      0.001       0.030       0.119\n",
            "==============================================================================\n",
            "Omnibus:                        8.410   Durbin-Watson:                   1.591\n",
            "Prob(Omnibus):                  0.015   Jarque-Bera (JB):                8.392\n",
            "Skew:                           0.378   Prob(JB):                       0.0151\n",
            "Kurtosis:                       3.121   Cond. No.                         9.61\n",
            "==============================================================================\n",
            "\n",
            "Notes:\n",
            "[1] Standard Errors assume that the covariance matrix of the errors is correctly specified.\n",
            "             df    sum_sq   mean_sq          F        PR(>F)\n",
            "C(p0)       6.0  2.125315  0.354219  27.705609  1.148163e-26\n",
            "C(p1)       6.0  3.257617  0.542936  42.466302  3.972386e-38\n",
            "C(p2)       6.0  0.589619  0.098270   7.686276  9.810343e-08\n",
            "Residual  324.0  4.142374  0.012785        NaN           NaN\n"
          ]
        },
        {
          "output_type": "execute_result",
          "data": {
            "text/plain": [
              "r2                 0.753963\n",
              "pct_budgetary      1.000000\n",
              "pct_performant     0.306122\n",
              "decision_length    2.000000\n",
              "dtype: float64"
            ],
            "text/html": [
              "<div>\n",
              "<style scoped>\n",
              "    .dataframe tbody tr th:only-of-type {\n",
              "        vertical-align: middle;\n",
              "    }\n",
              "\n",
              "    .dataframe tbody tr th {\n",
              "        vertical-align: top;\n",
              "    }\n",
              "\n",
              "    .dataframe thead th {\n",
              "        text-align: right;\n",
              "    }\n",
              "</style>\n",
              "<table border=\"1\" class=\"dataframe\">\n",
              "  <thead>\n",
              "    <tr style=\"text-align: right;\">\n",
              "      <th></th>\n",
              "      <th>0</th>\n",
              "    </tr>\n",
              "  </thead>\n",
              "  <tbody>\n",
              "    <tr>\n",
              "      <th>r2</th>\n",
              "      <td>0.753963</td>\n",
              "    </tr>\n",
              "    <tr>\n",
              "      <th>pct_budgetary</th>\n",
              "      <td>1.000000</td>\n",
              "    </tr>\n",
              "    <tr>\n",
              "      <th>pct_performant</th>\n",
              "      <td>0.306122</td>\n",
              "    </tr>\n",
              "    <tr>\n",
              "      <th>decision_length</th>\n",
              "      <td>2.000000</td>\n",
              "    </tr>\n",
              "  </tbody>\n",
              "</table>\n",
              "</div><br><label><b>dtype:</b> float64</label>"
            ]
          },
          "metadata": {},
          "execution_count": 215
        }
      ],
      "source": [
        "noisy_test = SingleExperiment(growth_pat_len=3,noise=True)\n",
        "noisy_test.get_result()"
      ]
    },
    {
      "cell_type": "code",
      "execution_count": 216,
      "metadata": {
        "colab": {
          "base_uri": "https://localhost:8080/",
          "height": 1000
        },
        "id": "C8nrCKzXUMKn",
        "outputId": "35e9931f-d0db-409f-937d-8a50ade3befe"
      },
      "outputs": [
        {
          "output_type": "stream",
          "name": "stdout",
          "text": [
            "               r2  pct_budgetary  pct_performant  decision_length\n",
            "count  343.000000     343.000000      343.000000       343.000000\n",
            "mean     0.674900       0.982274        0.465223         7.618076\n",
            "std      0.290912       0.102715        0.260549         6.182523\n",
            "min     -0.488795       0.300000        0.000000         1.000000\n",
            "25%      0.588961       1.000000        0.285714         3.500000\n",
            "50%      0.760847       1.000000        0.489796         6.500000\n",
            "75%      0.869554       1.000000        0.673469         9.500000\n",
            "max      0.999721       1.000000        0.959184        30.000000\n",
            "                            OLS Regression Results                            \n",
            "==============================================================================\n",
            "Dep. Variable:         pct_performant   R-squared:                       0.749\n",
            "Model:                            OLS   Adj. R-squared:                  0.735\n",
            "Method:                 Least Squares   F-statistic:                     53.62\n",
            "Date:                Thu, 05 Dec 2024   Prob (F-statistic):           1.02e-85\n",
            "Time:                        02:25:59   Log-Likelihood:                 211.96\n",
            "No. Observations:                 343   AIC:                            -385.9\n",
            "Df Residuals:                     324   BIC:                            -313.0\n",
            "Df Model:                          18                                         \n",
            "Covariance Type:            nonrobust                                         \n",
            "==============================================================================\n",
            "                 coef    std err          t      P>|t|      [0.025      0.975]\n",
            "------------------------------------------------------------------------------\n",
            "Intercept      0.5144      0.032     16.285      0.000       0.452       0.577\n",
            "C(p0)[T.1]    -0.3390      0.027    -12.504      0.000      -0.392      -0.286\n",
            "C(p0)[T.2]    -0.1958      0.027     -7.220      0.000      -0.249      -0.142\n",
            "C(p0)[T.3]     0.0716      0.027      2.642      0.009       0.018       0.125\n",
            "C(p0)[T.4]     0.1008      0.027      3.717      0.000       0.047       0.154\n",
            "C(p0)[T.5]     0.0758      0.027      2.796      0.005       0.022       0.129\n",
            "C(p0)[T.6]     0.0125      0.027      0.461      0.645      -0.041       0.066\n",
            "C(p1)[T.1]    -0.2062      0.027     -7.604      0.000      -0.260      -0.153\n",
            "C(p1)[T.2]    -0.2649      0.027     -9.770      0.000      -0.318      -0.212\n",
            "C(p1)[T.3]     0.0937      0.027      3.456      0.001       0.040       0.147\n",
            "C(p1)[T.4]     0.0958      0.027      3.533      0.000       0.042       0.149\n",
            "C(p1)[T.5]     0.0837      0.027      3.088      0.002       0.030       0.137\n",
            "C(p1)[T.6]     0.0608      0.027      2.243      0.026       0.007       0.114\n",
            "C(p2)[T.1]    -0.0950      0.027     -3.502      0.001      -0.148      -0.042\n",
            "C(p2)[T.2]    -0.1404      0.027     -5.177      0.000      -0.194      -0.087\n",
            "C(p2)[T.3]     0.1066      0.027      3.932      0.000       0.053       0.160\n",
            "C(p2)[T.4]     0.0691      0.027      2.550      0.011       0.016       0.122\n",
            "C(p2)[T.5]     0.0708      0.027      2.611      0.009       0.017       0.124\n",
            "C(p2)[T.6]     0.0558      0.027      2.058      0.040       0.002       0.109\n",
            "==============================================================================\n",
            "Omnibus:                        8.827   Durbin-Watson:                   1.448\n",
            "Prob(Omnibus):                  0.012   Jarque-Bera (JB):                9.125\n",
            "Skew:                          -0.398   Prob(JB):                       0.0104\n",
            "Kurtosis:                       2.940   Cond. No.                         9.61\n",
            "==============================================================================\n",
            "\n",
            "Notes:\n",
            "[1] Standard Errors assume that the covariance matrix of the errors is correctly specified.\n",
            "             df    sum_sq   mean_sq          F        PR(>F)\n",
            "C(p0)       6.0  8.022304  1.337051  74.237415  6.375180e-58\n",
            "C(p1)       6.0  6.793938  1.132323  62.870269  1.869798e-51\n",
            "C(p2)       6.0  2.565241  0.427540  23.738423  2.968620e-23\n",
            "Residual  324.0  5.835392  0.018010        NaN           NaN\n"
          ]
        },
        {
          "output_type": "execute_result",
          "data": {
            "text/plain": [
              "r2                 0.760847\n",
              "pct_budgetary      1.000000\n",
              "pct_performant     0.489796\n",
              "decision_length    6.500000\n",
              "dtype: float64"
            ],
            "text/html": [
              "<div>\n",
              "<style scoped>\n",
              "    .dataframe tbody tr th:only-of-type {\n",
              "        vertical-align: middle;\n",
              "    }\n",
              "\n",
              "    .dataframe tbody tr th {\n",
              "        vertical-align: top;\n",
              "    }\n",
              "\n",
              "    .dataframe thead th {\n",
              "        text-align: right;\n",
              "    }\n",
              "</style>\n",
              "<table border=\"1\" class=\"dataframe\">\n",
              "  <thead>\n",
              "    <tr style=\"text-align: right;\">\n",
              "      <th></th>\n",
              "      <th>0</th>\n",
              "    </tr>\n",
              "  </thead>\n",
              "  <tbody>\n",
              "    <tr>\n",
              "      <th>r2</th>\n",
              "      <td>0.760847</td>\n",
              "    </tr>\n",
              "    <tr>\n",
              "      <th>pct_budgetary</th>\n",
              "      <td>1.000000</td>\n",
              "    </tr>\n",
              "    <tr>\n",
              "      <th>pct_performant</th>\n",
              "      <td>0.489796</td>\n",
              "    </tr>\n",
              "    <tr>\n",
              "      <th>decision_length</th>\n",
              "      <td>6.500000</td>\n",
              "    </tr>\n",
              "  </tbody>\n",
              "</table>\n",
              "</div><br><label><b>dtype:</b> float64</label>"
            ]
          },
          "metadata": {},
          "execution_count": 216
        }
      ],
      "source": [
        "a01_test = SingleExperiment(set_alpha=0.1, growth_pat_len=3)\n",
        "a01_test.get_result()"
      ]
    },
    {
      "cell_type": "code",
      "execution_count": 217,
      "metadata": {
        "colab": {
          "base_uri": "https://localhost:8080/",
          "height": 1000
        },
        "id": "cfnqHJ73UMKn",
        "outputId": "648cfe7c-8bfa-486f-acee-40b8ba59a122"
      },
      "outputs": [
        {
          "output_type": "stream",
          "name": "stdout",
          "text": [
            "Simulation terminated early. Zero schools left.\n",
            "WARNING: HISTORY TERMINATED EARLY\n",
            "Simulation terminated early. Zero schools left.\n",
            "WARNING: HISTORY TERMINATED EARLY\n",
            "               r2  pct_budgetary  pct_performant  decision_length\n",
            "count  343.000000     343.000000      343.000000       343.000000\n",
            "mean     0.592739       0.982741        0.364141         6.444606\n",
            "std      0.273140       0.097492        0.190007         6.447368\n",
            "min     -0.365204       0.320000        0.000000         1.000000\n",
            "25%      0.426353       1.000000        0.204082         3.000000\n",
            "50%      0.685271       1.000000        0.387755         5.000000\n",
            "75%      0.791319       1.000000        0.530612         7.250000\n",
            "max      0.949852       1.000000        0.816327        60.000000\n",
            "                            OLS Regression Results                            \n",
            "==============================================================================\n",
            "Dep. Variable:         pct_performant   R-squared:                       0.628\n",
            "Model:                            OLS   Adj. R-squared:                  0.607\n",
            "Method:                 Least Squares   F-statistic:                     30.38\n",
            "Date:                Thu, 05 Dec 2024   Prob (F-statistic):           9.90e-59\n",
            "Time:                        02:26:40   Log-Likelihood:                 253.00\n",
            "No. Observations:                 343   AIC:                            -468.0\n",
            "Df Residuals:                     324   BIC:                            -395.1\n",
            "Df Model:                          18                                         \n",
            "Covariance Type:            nonrobust                                         \n",
            "==============================================================================\n",
            "                 coef    std err          t      P>|t|      [0.025      0.975]\n",
            "------------------------------------------------------------------------------\n",
            "Intercept      0.4462      0.028     15.923      0.000       0.391       0.501\n",
            "C(p0)[T.1]    -0.2370      0.024     -9.852      0.000      -0.284      -0.190\n",
            "C(p0)[T.2]    -0.2161      0.024     -8.984      0.000      -0.263      -0.169\n",
            "C(p0)[T.3]     0.0300      0.024      1.247      0.213      -0.017       0.077\n",
            "C(p0)[T.4]     0.0087      0.024      0.364      0.716      -0.039       0.056\n",
            "C(p0)[T.5]     0.0387      0.024      1.610      0.108      -0.009       0.086\n",
            "C(p0)[T.6]     0.0004      0.024      0.017      0.986      -0.047       0.048\n",
            "C(p1)[T.1]    -0.1441      0.024     -5.991      0.000      -0.191      -0.097\n",
            "C(p1)[T.2]    -0.2015      0.024     -8.378      0.000      -0.249      -0.154\n",
            "C(p1)[T.3]     0.0096      0.024      0.398      0.691      -0.038       0.057\n",
            "C(p1)[T.4]     0.0367      0.024      1.524      0.129      -0.011       0.084\n",
            "C(p1)[T.5]     0.0067      0.024      0.277      0.782      -0.041       0.054\n",
            "C(p1)[T.6]     0.0254      0.024      1.056      0.292      -0.022       0.073\n",
            "C(p2)[T.1]    -0.0404      0.024     -1.679      0.094      -0.088       0.007\n",
            "C(p2)[T.2]    -0.0891      0.024     -3.705      0.000      -0.136      -0.042\n",
            "C(p2)[T.3]     0.0646      0.024      2.684      0.008       0.017       0.112\n",
            "C(p2)[T.4]     0.0586      0.024      2.436      0.015       0.011       0.106\n",
            "C(p2)[T.5]     0.0225      0.024      0.935      0.351      -0.025       0.070\n",
            "C(p2)[T.6]     0.0518      0.024      2.155      0.032       0.005       0.099\n",
            "==============================================================================\n",
            "Omnibus:                        2.423   Durbin-Watson:                   1.387\n",
            "Prob(Omnibus):                  0.298   Jarque-Bera (JB):                2.140\n",
            "Skew:                           0.160   Prob(JB):                        0.343\n",
            "Kurtosis:                       3.217   Cond. No.                         9.61\n",
            "==============================================================================\n",
            "\n",
            "Notes:\n",
            "[1] Standard Errors assume that the covariance matrix of the errors is correctly specified.\n",
            "             df    sum_sq   mean_sq          F        PR(>F)\n",
            "C(p0)       6.0  4.176255  0.696042  49.094751  9.793239e-43\n",
            "C(p1)       6.0  2.611563  0.435260  30.700717  3.836871e-29\n",
            "C(p2)       6.0  0.965760  0.160960  11.353178  1.605508e-11\n",
            "Residual  324.0  4.593521  0.014178        NaN           NaN\n"
          ]
        },
        {
          "output_type": "execute_result",
          "data": {
            "text/plain": [
              "r2                 0.685271\n",
              "pct_budgetary      1.000000\n",
              "pct_performant     0.387755\n",
              "decision_length    5.000000\n",
              "dtype: float64"
            ],
            "text/html": [
              "<div>\n",
              "<style scoped>\n",
              "    .dataframe tbody tr th:only-of-type {\n",
              "        vertical-align: middle;\n",
              "    }\n",
              "\n",
              "    .dataframe tbody tr th {\n",
              "        vertical-align: top;\n",
              "    }\n",
              "\n",
              "    .dataframe thead th {\n",
              "        text-align: right;\n",
              "    }\n",
              "</style>\n",
              "<table border=\"1\" class=\"dataframe\">\n",
              "  <thead>\n",
              "    <tr style=\"text-align: right;\">\n",
              "      <th></th>\n",
              "      <th>0</th>\n",
              "    </tr>\n",
              "  </thead>\n",
              "  <tbody>\n",
              "    <tr>\n",
              "      <th>r2</th>\n",
              "      <td>0.685271</td>\n",
              "    </tr>\n",
              "    <tr>\n",
              "      <th>pct_budgetary</th>\n",
              "      <td>1.000000</td>\n",
              "    </tr>\n",
              "    <tr>\n",
              "      <th>pct_performant</th>\n",
              "      <td>0.387755</td>\n",
              "    </tr>\n",
              "    <tr>\n",
              "      <th>decision_length</th>\n",
              "      <td>5.000000</td>\n",
              "    </tr>\n",
              "  </tbody>\n",
              "</table>\n",
              "</div><br><label><b>dtype:</b> float64</label>"
            ]
          },
          "metadata": {},
          "execution_count": 217
        }
      ],
      "source": [
        "na01_test = SingleExperiment(growth_pat_len=3, set_alpha=0.1, noise=True)\n",
        "na01_test.get_result()"
      ]
    },
    {
      "cell_type": "code",
      "execution_count": 218,
      "metadata": {
        "colab": {
          "base_uri": "https://localhost:8080/",
          "height": 1000
        },
        "id": "uVkxBzisUMKn",
        "outputId": "120921fd-691e-4a25-9b0d-7ae5877195a9"
      },
      "outputs": [
        {
          "output_type": "stream",
          "name": "stdout",
          "text": [
            "               r2  pct_budgetary  pct_performant  decision_length\n",
            "count  343.000000     343.000000      343.000000       343.000000\n",
            "mean     0.867757       0.970554        0.674124         7.741983\n",
            "std      0.212088       0.110138        0.310916         8.910687\n",
            "min     -0.303078       0.300000        0.000000         1.000000\n",
            "25%      0.887875       1.000000        0.408163         3.000000\n",
            "50%      0.945759       1.000000        0.734694         6.000000\n",
            "75%      0.984140       1.000000        0.959184         9.000000\n",
            "max      1.000000       1.000000        1.000000        60.000000\n",
            "                            OLS Regression Results                            \n",
            "==============================================================================\n",
            "Dep. Variable:         pct_performant   R-squared:                       0.645\n",
            "Model:                            OLS   Adj. R-squared:                  0.625\n",
            "Method:                 Least Squares   F-statistic:                     32.67\n",
            "Date:                Thu, 05 Dec 2024   Prob (F-statistic):           6.86e-62\n",
            "Time:                        02:27:22   Log-Likelihood:                 92.007\n",
            "No. Observations:                 343   AIC:                            -146.0\n",
            "Df Residuals:                     324   BIC:                            -73.10\n",
            "Df Model:                          18                                         \n",
            "Covariance Type:            nonrobust                                         \n",
            "==============================================================================\n",
            "                 coef    std err          t      P>|t|      [0.025      0.975]\n",
            "------------------------------------------------------------------------------\n",
            "Intercept      0.0991      0.045      2.211      0.028       0.011       0.187\n",
            "C(p0)[T.1]    -0.0267      0.038     -0.693      0.489      -0.102       0.049\n",
            "C(p0)[T.2]     0.4048      0.038     10.525      0.000       0.329       0.481\n",
            "C(p0)[T.3]     0.3936      0.038     10.232      0.000       0.318       0.469\n",
            "C(p0)[T.4]     0.4827      0.038     12.550      0.000       0.407       0.558\n",
            "C(p0)[T.5]     0.4040      0.038     10.503      0.000       0.328       0.480\n",
            "C(p0)[T.6]     0.4890      0.038     12.712      0.000       0.413       0.565\n",
            "C(p1)[T.1]     0.0283      0.038      0.736      0.462      -0.047       0.104\n",
            "C(p1)[T.2]     0.1933      0.038      5.024      0.000       0.118       0.269\n",
            "C(p1)[T.3]     0.2566      0.038      6.670      0.000       0.181       0.332\n",
            "C(p1)[T.4]     0.3349      0.038      8.706      0.000       0.259       0.411\n",
            "C(p1)[T.5]     0.2570      0.038      6.681      0.000       0.181       0.333\n",
            "C(p1)[T.6]     0.3165      0.038      8.229      0.000       0.241       0.392\n",
            "C(p2)[T.1]    -0.0146      0.038     -0.379      0.705      -0.090       0.061\n",
            "C(p2)[T.2]     0.0121      0.038      0.314      0.754      -0.064       0.088\n",
            "C(p2)[T.3]     0.0966      0.038      2.512      0.012       0.021       0.172\n",
            "C(p2)[T.4]     0.1474      0.038      3.833      0.000       0.072       0.223\n",
            "C(p2)[T.5]     0.0854      0.038      2.220      0.027       0.010       0.161\n",
            "C(p2)[T.6]     0.1645      0.038      4.277      0.000       0.089       0.240\n",
            "==============================================================================\n",
            "Omnibus:                       12.601   Durbin-Watson:                   1.308\n",
            "Prob(Omnibus):                  0.002   Jarque-Bera (JB):               12.992\n",
            "Skew:                          -0.439   Prob(JB):                      0.00151\n",
            "Kurtosis:                       3.370   Cond. No.                         9.61\n",
            "==============================================================================\n",
            "\n",
            "Notes:\n",
            "[1] Standard Errors assume that the covariance matrix of the errors is correctly specified.\n",
            "             df     sum_sq   mean_sq          F        PR(>F)\n",
            "C(p0)       6.0  14.505858  2.417643  66.697411  1.066248e-53\n",
            "C(p1)       6.0   5.277594  0.879599  24.266188  1.022076e-23\n",
            "C(p2)       6.0   1.532879  0.255480   7.048123  4.575489e-07\n",
            "Residual  324.0  11.744329  0.036248        NaN           NaN\n"
          ]
        },
        {
          "output_type": "execute_result",
          "data": {
            "text/plain": [
              "r2                 0.945759\n",
              "pct_budgetary      1.000000\n",
              "pct_performant     0.734694\n",
              "decision_length    6.000000\n",
              "dtype: float64"
            ],
            "text/html": [
              "<div>\n",
              "<style scoped>\n",
              "    .dataframe tbody tr th:only-of-type {\n",
              "        vertical-align: middle;\n",
              "    }\n",
              "\n",
              "    .dataframe tbody tr th {\n",
              "        vertical-align: top;\n",
              "    }\n",
              "\n",
              "    .dataframe thead th {\n",
              "        text-align: right;\n",
              "    }\n",
              "</style>\n",
              "<table border=\"1\" class=\"dataframe\">\n",
              "  <thead>\n",
              "    <tr style=\"text-align: right;\">\n",
              "      <th></th>\n",
              "      <th>0</th>\n",
              "    </tr>\n",
              "  </thead>\n",
              "  <tbody>\n",
              "    <tr>\n",
              "      <th>r2</th>\n",
              "      <td>0.945759</td>\n",
              "    </tr>\n",
              "    <tr>\n",
              "      <th>pct_budgetary</th>\n",
              "      <td>1.000000</td>\n",
              "    </tr>\n",
              "    <tr>\n",
              "      <th>pct_performant</th>\n",
              "      <td>0.734694</td>\n",
              "    </tr>\n",
              "    <tr>\n",
              "      <th>decision_length</th>\n",
              "      <td>6.000000</td>\n",
              "    </tr>\n",
              "  </tbody>\n",
              "</table>\n",
              "</div><br><label><b>dtype:</b> float64</label>"
            ]
          },
          "metadata": {},
          "execution_count": 218
        }
      ],
      "source": [
        "a09_test = SingleExperiment(growth_pat_len=3, set_alpha=0.9)\n",
        "a09_test.get_result()"
      ]
    },
    {
      "cell_type": "code",
      "execution_count": 219,
      "metadata": {
        "colab": {
          "base_uri": "https://localhost:8080/",
          "height": 1000
        },
        "id": "G-e4wX_8UMKn",
        "outputId": "f1c3865e-4fd9-4dc4-a68d-e603f6c2a6fc"
      },
      "outputs": [
        {
          "output_type": "stream",
          "name": "stdout",
          "text": [
            "Simulation terminated early. Zero schools left.\n",
            "WARNING: HISTORY TERMINATED EARLY\n",
            "Simulation terminated early. Zero schools left.\n",
            "WARNING: HISTORY TERMINATED EARLY\n",
            "Simulation terminated early. Zero schools left.\n",
            "WARNING: HISTORY TERMINATED EARLY\n",
            "Simulation terminated early. Zero schools left.\n",
            "WARNING: HISTORY TERMINATED EARLY\n",
            "               r2  pct_budgetary  pct_performant  decision_length\n",
            "count  343.000000     343.000000      343.000000       343.000000\n",
            "mean     0.689956       0.815918        0.243041         3.693878\n",
            "std      0.250443       0.250262        0.152545         8.526937\n",
            "min     -0.130471       0.260000        0.000000         1.000000\n",
            "25%      0.551104       0.630000        0.122449         1.000000\n",
            "50%      0.775305       1.000000        0.214286         2.000000\n",
            "75%      0.893353       1.000000        0.346939         2.500000\n",
            "max      0.968427       1.000000        0.734694        60.000000\n",
            "                            OLS Regression Results                            \n",
            "==============================================================================\n",
            "Dep. Variable:         pct_performant   R-squared:                       0.495\n",
            "Model:                            OLS   Adj. R-squared:                  0.467\n",
            "Method:                 Least Squares   F-statistic:                     17.63\n",
            "Date:                Thu, 05 Dec 2024   Prob (F-statistic):           5.14e-38\n",
            "Time:                        02:28:03   Log-Likelihood:                 275.83\n",
            "No. Observations:                 343   AIC:                            -513.7\n",
            "Df Residuals:                     324   BIC:                            -440.7\n",
            "Df Model:                          18                                         \n",
            "Covariance Type:            nonrobust                                         \n",
            "==============================================================================\n",
            "                 coef    std err          t      P>|t|      [0.025      0.975]\n",
            "------------------------------------------------------------------------------\n",
            "Intercept      0.1999      0.026      7.623      0.000       0.148       0.251\n",
            "C(p0)[T.1]     0.0171      0.023      0.759      0.449      -0.027       0.061\n",
            "C(p0)[T.2]    -0.0601      0.023     -2.669      0.008      -0.104      -0.016\n",
            "C(p0)[T.3]     0.1045      0.023      4.645      0.000       0.060       0.149\n",
            "C(p0)[T.4]     0.0758      0.023      3.368      0.001       0.032       0.120\n",
            "C(p0)[T.5]     0.1179      0.023      5.237      0.000       0.074       0.162\n",
            "C(p0)[T.6]     0.0700      0.023      3.109      0.002       0.026       0.114\n",
            "C(p1)[T.1]    -0.1191      0.023     -5.293      0.000      -0.163      -0.075\n",
            "C(p1)[T.2]    -0.0967      0.023     -4.297      0.000      -0.141      -0.052\n",
            "C(p1)[T.3]    -0.0196      0.023     -0.870      0.385      -0.064       0.025\n",
            "C(p1)[T.4]     0.1037      0.023      4.608      0.000       0.059       0.148\n",
            "C(p1)[T.5]    -0.0192      0.023     -0.851      0.395      -0.063       0.025\n",
            "C(p1)[T.6]     0.1204      0.023      5.348      0.000       0.076       0.165\n",
            "C(p2)[T.1]    -0.0350      0.023     -1.554      0.121      -0.079       0.009\n",
            "C(p2)[T.2]    -0.0115      0.023     -0.509      0.611      -0.056       0.033\n",
            "C(p2)[T.3]    -0.0173      0.023     -0.768      0.443      -0.062       0.027\n",
            "C(p2)[T.4]     0.0594      0.023      2.637      0.009       0.015       0.104\n",
            "C(p2)[T.5]    -0.0211      0.023     -0.938      0.349      -0.065       0.023\n",
            "C(p2)[T.6]     0.0329      0.023      1.462      0.145      -0.011       0.077\n",
            "==============================================================================\n",
            "Omnibus:                       17.054   Durbin-Watson:                   1.568\n",
            "Prob(Omnibus):                  0.000   Jarque-Bera (JB):               18.535\n",
            "Skew:                           0.506   Prob(JB):                     9.44e-05\n",
            "Kurtosis:                       3.524   Cond. No.                         9.61\n",
            "==============================================================================\n",
            "\n",
            "Notes:\n",
            "[1] Standard Errors assume that the covariance matrix of the errors is correctly specified.\n",
            "             df    sum_sq   mean_sq          F        PR(>F)\n",
            "C(p0)       6.0  1.188476  0.198079  15.960805  4.382625e-16\n",
            "C(p1)       6.0  2.420734  0.403456  32.509600  1.343131e-30\n",
            "C(p2)       6.0  0.328159  0.054693   4.407061  2.671890e-04\n",
            "Residual  324.0  4.020956  0.012410        NaN           NaN\n"
          ]
        },
        {
          "output_type": "execute_result",
          "data": {
            "text/plain": [
              "r2                 0.775305\n",
              "pct_budgetary      1.000000\n",
              "pct_performant     0.214286\n",
              "decision_length    2.000000\n",
              "dtype: float64"
            ],
            "text/html": [
              "<div>\n",
              "<style scoped>\n",
              "    .dataframe tbody tr th:only-of-type {\n",
              "        vertical-align: middle;\n",
              "    }\n",
              "\n",
              "    .dataframe tbody tr th {\n",
              "        vertical-align: top;\n",
              "    }\n",
              "\n",
              "    .dataframe thead th {\n",
              "        text-align: right;\n",
              "    }\n",
              "</style>\n",
              "<table border=\"1\" class=\"dataframe\">\n",
              "  <thead>\n",
              "    <tr style=\"text-align: right;\">\n",
              "      <th></th>\n",
              "      <th>0</th>\n",
              "    </tr>\n",
              "  </thead>\n",
              "  <tbody>\n",
              "    <tr>\n",
              "      <th>r2</th>\n",
              "      <td>0.775305</td>\n",
              "    </tr>\n",
              "    <tr>\n",
              "      <th>pct_budgetary</th>\n",
              "      <td>1.000000</td>\n",
              "    </tr>\n",
              "    <tr>\n",
              "      <th>pct_performant</th>\n",
              "      <td>0.214286</td>\n",
              "    </tr>\n",
              "    <tr>\n",
              "      <th>decision_length</th>\n",
              "      <td>2.000000</td>\n",
              "    </tr>\n",
              "  </tbody>\n",
              "</table>\n",
              "</div><br><label><b>dtype:</b> float64</label>"
            ]
          },
          "metadata": {},
          "execution_count": 219
        },
        {
          "output_type": "display_data",
          "data": {
            "text/plain": [
              "<Figure size 640x480 with 1 Axes>"
            ],
            "image/png": "[encoded data removed]"
          },
          "metadata": {}
        },
        {
          "output_type": "display_data",
          "data": {
            "text/plain": [
              "<Figure size 640x480 with 1 Axes>"
            ],
            "image/png": "[encoded data removed]"
          },
          "metadata": {}
        },
        {
          "output_type": "display_data",
          "data": {
            "text/plain": [
              "<Figure size 640x480 with 1 Axes>"
            ],
            "image/png": "[encoded data removed]"
          },
          "metadata": {}
        },
        {
          "output_type": "display_data",
          "data": {
            "text/plain": [
              "<Figure size 640x480 with 1 Axes>"
            ],
            "image/png": "[encoded data removed]"
          },
          "metadata": {}
        },
        {
          "output_type": "display_data",
          "data": {
            "text/plain": [
              "<Figure size 640x480 with 1 Axes>"
            ],
            "image/png": "[encoded data removed]"
          },
          "metadata": {}
        }
      ],
      "source": [
        "na09_test = SingleExperiment(growth_pat_len=3, set_alpha=0.9, noise=True,plot=True)\n",
        "na09_test.get_result()"
      ]
    },
    {
      "cell_type": "code",
      "execution_count": 224,
      "metadata": {
        "colab": {
          "base_uri": "https://localhost:8080/",
          "height": 237
        },
        "id": "aeCkhyvwUMKn",
        "outputId": "f73f0055-af7c-41c4-cad5-f00f7dcbd4a9"
      },
      "outputs": [
        {
          "output_type": "execute_result",
          "data": {
            "text/plain": [
              "                                r2  pct_budgetary  pct_performant  \\\n",
              "gpl:3;noise:False;A:0.1   0.760847            1.0        0.489796   \n",
              "gpl:3;noise:False;A:0.9   0.945759            1.0        0.734694   \n",
              "gpl:3;noise:False;A:None  0.908893            1.0        0.653061   \n",
              "gpl:3;noise:True;A:0.1    0.685271            1.0        0.387755   \n",
              "gpl:3;noise:True;A:0.9    0.775305            1.0        0.214286   \n",
              "gpl:3;noise:True;A:None   0.753963            1.0        0.306122   \n",
              "\n",
              "                          decision_length  \n",
              "gpl:3;noise:False;A:0.1               6.5  \n",
              "gpl:3;noise:False;A:0.9               6.0  \n",
              "gpl:3;noise:False;A:None              3.0  \n",
              "gpl:3;noise:True;A:0.1                5.0  \n",
              "gpl:3;noise:True;A:0.9                2.0  \n",
              "gpl:3;noise:True;A:None               2.0  "
            ],
            "text/html": [
              "\n",
              "  <div id=\"df-8a6941de-094a-4854-99a5-c588fc5f107f\" class=\"colab-df-container\">\n",
              "    <div>\n",
              "<style scoped>\n",
              "    .dataframe tbody tr th:only-of-type {\n",
              "        vertical-align: middle;\n",
              "    }\n",
              "\n",
              "    .dataframe tbody tr th {\n",
              "        vertical-align: top;\n",
              "    }\n",
              "\n",
              "    .dataframe thead th {\n",
              "        text-align: right;\n",
              "    }\n",
              "</style>\n",
              "<table border=\"1\" class=\"dataframe\">\n",
              "  <thead>\n",
              "    <tr style=\"text-align: right;\">\n",
              "      <th></th>\n",
              "      <th>r2</th>\n",
              "      <th>pct_budgetary</th>\n",
              "      <th>pct_performant</th>\n",
              "      <th>decision_length</th>\n",
              "    </tr>\n",
              "  </thead>\n",
              "  <tbody>\n",
              "    <tr>\n",
              "      <th>gpl:3;noise:False;A:0.1</th>\n",
              "      <td>0.760847</td>\n",
              "      <td>1.0</td>\n",
              "      <td>0.489796</td>\n",
              "      <td>6.5</td>\n",
              "    </tr>\n",
              "    <tr>\n",
              "      <th>gpl:3;noise:False;A:0.9</th>\n",
              "      <td>0.945759</td>\n",
              "      <td>1.0</td>\n",
              "      <td>0.734694</td>\n",
              "      <td>6.0</td>\n",
              "    </tr>\n",
              "    <tr>\n",
              "      <th>gpl:3;noise:False;A:None</th>\n",
              "      <td>0.908893</td>\n",
              "      <td>1.0</td>\n",
              "      <td>0.653061</td>\n",
              "      <td>3.0</td>\n",
              "    </tr>\n",
              "    <tr>\n",
              "      <th>gpl:3;noise:True;A:0.1</th>\n",
              "      <td>0.685271</td>\n",
              "      <td>1.0</td>\n",
              "      <td>0.387755</td>\n",
              "      <td>5.0</td>\n",
              "    </tr>\n",
              "    <tr>\n",
              "      <th>gpl:3;noise:True;A:0.9</th>\n",
              "      <td>0.775305</td>\n",
              "      <td>1.0</td>\n",
              "      <td>0.214286</td>\n",
              "      <td>2.0</td>\n",
              "    </tr>\n",
              "    <tr>\n",
              "      <th>gpl:3;noise:True;A:None</th>\n",
              "      <td>0.753963</td>\n",
              "      <td>1.0</td>\n",
              "      <td>0.306122</td>\n",
              "      <td>2.0</td>\n",
              "    </tr>\n",
              "  </tbody>\n",
              "</table>\n",
              "</div>\n",
              "    <div class=\"colab-df-buttons\">\n",
              "\n",
              "  <div class=\"colab-df-container\">\n",
              "    <button class=\"colab-df-convert\" onclick=\"convertToInteractive('df-8a6941de-094a-4854-99a5-c588fc5f107f')\"\n",
              "            title=\"Convert this dataframe to an interactive table.\"\n",
              "            style=\"display:none;\">\n",
              "\n",
              "  <svg xmlns=\"http://www.w3.org/2000/svg\" height=\"24px\" viewBox=\"0 -960 960 960\">\n",
              "    <path d=\"M120-120v-720h720v720H120Zm60-500h600v-160H180v160Zm220 220h160v-160H400v160Zm0 220h160v-160H400v160ZM180-400h160v-160H180v160Zm440 0h160v-160H620v160ZM180-180h160v-160H180v160Zm440 0h160v-160H620v160Z\"/>\n",
              "  </svg>\n",
              "    </button>\n",
              "\n",
              "  <style>\n",
              "    .colab-df-container {\n",
              "      display:flex;\n",
              "      gap: 12px;\n",
              "    }\n",
              "\n",
              "    .colab-df-convert {\n",
              "      background-color: #E8F0FE;\n",
              "      border: none;\n",
              "      border-radius: 50%;\n",
              "      cursor: pointer;\n",
              "      display: none;\n",
              "      fill: #1967D2;\n",
              "      height: 32px;\n",
              "      padding: 0 0 0 0;\n",
              "      width: 32px;\n",
              "    }\n",
              "\n",
              "    .colab-df-convert:hover {\n",
              "      background-color: #E2EBFA;\n",
              "      box-shadow: 0px 1px 2px rgba(60, 64, 67, 0.3), 0px 1px 3px 1px rgba(60, 64, 67, 0.15);\n",
              "      fill: #174EA6;\n",
              "    }\n",
              "\n",
              "    .colab-df-buttons div {\n",
              "      margin-bottom: 4px;\n",
              "    }\n",
              "\n",
              "    [theme=dark] .colab-df-convert {\n",
              "      background-color: #3B4455;\n",
              "      fill: #D2E3FC;\n",
              "    }\n",
              "\n",
              "    [theme=dark] .colab-df-convert:hover {\n",
              "      background-color: #434B5C;\n",
              "      box-shadow: 0px 1px 3px 1px rgba(0, 0, 0, 0.15);\n",
              "      filter: drop-shadow(0px 1px 2px rgba(0, 0, 0, 0.3));\n",
              "      fill: #FFFFFF;\n",
              "    }\n",
              "  </style>\n",
              "\n",
              "    <script>\n",
              "      const buttonEl =\n",
              "        document.querySelector('#df-8a6941de-094a-4854-99a5-c588fc5f107f button.colab-df-convert');\n",
              "      buttonEl.style.display =\n",
              "        google.colab.kernel.accessAllowed ? 'block' : 'none';\n",
              "\n",
              "      async function convertToInteractive(key) {\n",
              "        const element = document.querySelector('#df-8a6941de-094a-4854-99a5-c588fc5f107f');\n",
              "        const dataTable =\n",
              "          await google.colab.kernel.invokeFunction('convertToInteractive',\n",
              "                                                    [key], {});\n",
              "        if (!dataTable) return;\n",
              "\n",
              "        const docLinkHtml = 'Like what you see? Visit the ' +\n",
              "          '<a target=\"_blank\" href=https://colab.research.google.com/notebooks/data_table.ipynb>data table notebook</a>'\n",
              "          + ' to learn more about interactive tables.';\n",
              "        element.innerHTML = '';\n",
              "        dataTable['output_type'] = 'display_data';\n",
              "        await google.colab.output.renderOutput(dataTable, element);\n",
              "        const docLink = document.createElement('div');\n",
              "        docLink.innerHTML = docLinkHtml;\n",
              "        element.appendChild(docLink);\n",
              "      }\n",
              "    </script>\n",
              "  </div>\n",
              "\n",
              "\n",
              "<div id=\"df-59eff85a-41ca-4aac-8df7-38f65ceb5ee6\">\n",
              "  <button class=\"colab-df-quickchart\" onclick=\"quickchart('df-59eff85a-41ca-4aac-8df7-38f65ceb5ee6')\"\n",
              "            title=\"Suggest charts\"\n",
              "            style=\"display:none;\">\n",
              "\n",
              "<svg xmlns=\"http://www.w3.org/2000/svg\" height=\"24px\"viewBox=\"0 0 24 24\"\n",
              "     width=\"24px\">\n",
              "    <g>\n",
              "        <path d=\"M19 3H5c-1.1 0-2 .9-2 2v14c0 1.1.9 2 2 2h14c1.1 0 2-.9 2-2V5c0-1.1-.9-2-2-2zM9 17H7v-7h2v7zm4 0h-2V7h2v10zm4 0h-2v-4h2v4z\"/>\n",
              "    </g>\n",
              "</svg>\n",
              "  </button>\n",
              "\n",
              "<style>\n",
              "  .colab-df-quickchart {\n",
              "      --bg-color: #E8F0FE;\n",
              "      --fill-color: #1967D2;\n",
              "      --hover-bg-color: #E2EBFA;\n",
              "      --hover-fill-color: #174EA6;\n",
              "      --disabled-fill-color: #AAA;\n",
              "      --disabled-bg-color: #DDD;\n",
              "  }\n",
              "\n",
              "  [theme=dark] .colab-df-quickchart {\n",
              "      --bg-color: #3B4455;\n",
              "      --fill-color: #D2E3FC;\n",
              "      --hover-bg-color: #434B5C;\n",
              "      --hover-fill-color: #FFFFFF;\n",
              "      --disabled-bg-color: #3B4455;\n",
              "      --disabled-fill-color: #666;\n",
              "  }\n",
              "\n",
              "  .colab-df-quickchart {\n",
              "    background-color: var(--bg-color);\n",
              "    border: none;\n",
              "    border-radius: 50%;\n",
              "    cursor: pointer;\n",
              "    display: none;\n",
              "    fill: var(--fill-color);\n",
              "    height: 32px;\n",
              "    padding: 0;\n",
              "    width: 32px;\n",
              "  }\n",
              "\n",
              "  .colab-df-quickchart:hover {\n",
              "    background-color: var(--hover-bg-color);\n",
              "    box-shadow: 0 1px 2px rgba(60, 64, 67, 0.3), 0 1px 3px 1px rgba(60, 64, 67, 0.15);\n",
              "    fill: var(--button-hover-fill-color);\n",
              "  }\n",
              "\n",
              "  .colab-df-quickchart-complete:disabled,\n",
              "  .colab-df-quickchart-complete:disabled:hover {\n",
              "    background-color: var(--disabled-bg-color);\n",
              "    fill: var(--disabled-fill-color);\n",
              "    box-shadow: none;\n",
              "  }\n",
              "\n",
              "  .colab-df-spinner {\n",
              "    border: 2px solid var(--fill-color);\n",
              "    border-color: transparent;\n",
              "    border-bottom-color: var(--fill-color);\n",
              "    animation:\n",
              "      spin 1s steps(1) infinite;\n",
              "  }\n",
              "\n",
              "  @keyframes spin {\n",
              "    0% {\n",
              "      border-color: transparent;\n",
              "      border-bottom-color: var(--fill-color);\n",
              "      border-left-color: var(--fill-color);\n",
              "    }\n",
              "    20% {\n",
              "      border-color: transparent;\n",
              "      border-left-color: var(--fill-color);\n",
              "      border-top-color: var(--fill-color);\n",
              "    }\n",
              "    30% {\n",
              "      border-color: transparent;\n",
              "      border-left-color: var(--fill-color);\n",
              "      border-top-color: var(--fill-color);\n",
              "      border-right-color: var(--fill-color);\n",
              "    }\n",
              "    40% {\n",
              "      border-color: transparent;\n",
              "      border-right-color: var(--fill-color);\n",
              "      border-top-color: var(--fill-color);\n",
              "    }\n",
              "    60% {\n",
              "      border-color: transparent;\n",
              "      border-right-color: var(--fill-color);\n",
              "    }\n",
              "    80% {\n",
              "      border-color: transparent;\n",
              "      border-right-color: var(--fill-color);\n",
              "      border-bottom-color: var(--fill-color);\n",
              "    }\n",
              "    90% {\n",
              "      border-color: transparent;\n",
              "      border-bottom-color: var(--fill-color);\n",
              "    }\n",
              "  }\n",
              "</style>\n",
              "\n",
              "  <script>\n",
              "    async function quickchart(key) {\n",
              "      const quickchartButtonEl =\n",
              "        document.querySelector('#' + key + ' button');\n",
              "      quickchartButtonEl.disabled = true;  // To prevent multiple clicks.\n",
              "      quickchartButtonEl.classList.add('colab-df-spinner');\n",
              "      try {\n",
              "        const charts = await google.colab.kernel.invokeFunction(\n",
              "            'suggestCharts', [key], {});\n",
              "      } catch (error) {\n",
              "        console.error('Error during call to suggestCharts:', error);\n",
              "      }\n",
              "      quickchartButtonEl.classList.remove('colab-df-spinner');\n",
              "      quickchartButtonEl.classList.add('colab-df-quickchart-complete');\n",
              "    }\n",
              "    (() => {\n",
              "      let quickchartButtonEl =\n",
              "        document.querySelector('#df-59eff85a-41ca-4aac-8df7-38f65ceb5ee6 button');\n",
              "      quickchartButtonEl.style.display =\n",
              "        google.colab.kernel.accessAllowed ? 'block' : 'none';\n",
              "    })();\n",
              "  </script>\n",
              "</div>\n",
              "\n",
              "    </div>\n",
              "  </div>\n"
            ],
            "application/vnd.google.colaboratory.intrinsic+json": {
              "type": "dataframe",
              "summary": "{\n  \"name\": \"pd\",\n  \"rows\": 6,\n  \"fields\": [\n    {\n      \"column\": \"r2\",\n      \"properties\": {\n        \"dtype\": \"number\",\n        \"std\": 0.10037733736313044,\n        \"min\": 0.6852713147837469,\n        \"max\": 0.9457593438868122,\n        \"num_unique_values\": 6,\n        \"samples\": [\n          0.7608468824707907,\n          0.9457593438868122,\n          0.7539627936713621\n        ],\n        \"semantic_type\": \"\",\n        \"description\": \"\"\n      }\n    },\n    {\n      \"column\": \"pct_budgetary\",\n      \"properties\": {\n        \"dtype\": \"number\",\n        \"std\": 0.0,\n        \"min\": 1.0,\n        \"max\": 1.0,\n        \"num_unique_values\": 1,\n        \"samples\": [\n          1.0\n        ],\n        \"semantic_type\": \"\",\n        \"description\": \"\"\n      }\n    },\n    {\n      \"column\": \"pct_performant\",\n      \"properties\": {\n        \"dtype\": \"number\",\n        \"std\": 0.20138524853051584,\n        \"min\": 0.21428571428571427,\n        \"max\": 0.7346938775510204,\n        \"num_unique_values\": 6,\n        \"samples\": [\n          0.4897959183673469\n        ],\n        \"semantic_type\": \"\",\n        \"description\": \"\"\n      }\n    },\n    {\n      \"column\": \"decision_length\",\n      \"properties\": {\n        \"dtype\": \"number\",\n        \"std\": 2.01038968030247,\n        \"min\": 2.0,\n        \"max\": 6.5,\n        \"num_unique_values\": 5,\n        \"samples\": [\n          6.0\n        ],\n        \"semantic_type\": \"\",\n        \"description\": \"\"\n      }\n    }\n  ]\n}"
            }
          },
          "metadata": {},
          "execution_count": 224
        }
      ],
      "source": [
        "pd.DataFrame({x.name:x.core_res for x in [initial_class_test, noisy_test, a01_test, a09_test, na01_test, na09_test]}).T.sort_index()\n"
      ]
    },
    {
      "cell_type": "code",
      "source": [
        "initial_class_test.name"
      ],
      "metadata": {
        "colab": {
          "base_uri": "https://localhost:8080/",
          "height": 35
        },
        "id": "qjHCtc4dcymj",
        "outputId": "5561ab2e-757a-4734-ec1c-8acba59fc3e4"
      },
      "execution_count": 221,
      "outputs": [
        {
          "output_type": "execute_result",
          "data": {
            "text/plain": [
              "'gpl:3;noise:False;A:None'"
            ],
            "application/vnd.google.colaboratory.intrinsic+json": {
              "type": "string"
            }
          },
          "metadata": {},
          "execution_count": 221
        }
      ]
    },
    {
      "cell_type": "markdown",
      "metadata": {
        "id": "NwbkGv3CUMKn"
      },
      "source": [
        "# Discounting and predictive accuracy\n",
        "- In benefit-cost analysis, the process of discounting involves converting \"each future dollar \\[or util\\] amount into equivalent future dollars\" (Weitzman, 2001),\n",
        "- Discounting depends on a 'discount rate' $d$ a number, generally between 0 and 1, that reflects the proportion by which money would have to grow annually for an agent to be indifferent between having money now and having money in the future; a discount rate of 5\\% means that an agent considers receiving a benefit of \\\\$100 now to be equivalent with one of \\\\$105, received in one year.\n",
        "- A high discount rate corresponds to an expected low value of money in the future relative to now, and can reflect uncertainty.\n",
        "- The higher the discount rate, the less important predictive accuracy is to decision-making*: if the discount rate is such that the required future value is much greater than the predictive accuracy, there is no point in predicting--future money is so worthless to the agent . For example, in an autoregressive predictive model, say that $y_{t+1} = \\beta y_t + \\varepsilon$, where $0<\\beta<1$ and $\\varepsilon$ is Gaussian with mean 0 and variance 1; then, if $d = 11$,  the prediction cannot help the agent make a decision.\n",
        "\n",
        "* for models that don't extrapolate beyond existing data or that have narrow bounds on their trends."
      ]
    },
    {
      "cell_type": "markdown",
      "metadata": {
        "id": "avE5SbIzUMKo"
      },
      "source": [
        "# Future Directions\n",
        "- Common Core of Data API\n",
        "- Gittins index agents\n",
        "- Process controllers (PID, feed-forward, ...?)"
      ]
    },
    {
      "cell_type": "markdown",
      "metadata": {
        "id": "Z5JydkDoUMKo"
      },
      "source": [
        "# Test Functions\n",
        "- all that's needed for testing to make sense is that the shape of the prediction match the shape of the growth curve--I think I can use the FTES or other theory to show that smooth transitions can be well-followed and that EWMA should be able to be useful for maintaining a ratio."
      ]
    },
    {
      "cell_type": "markdown",
      "metadata": {
        "id": "N-egRL_pUMKo"
      },
      "source": [
        "Key questions:\n",
        "- Are there \"close\" conditions under which predictive accuracy makes the difference between success and failure?\n",
        "- Is there an empirical relationship between discounting and predictive accuracy?\n",
        "- Does scaling make a difference?"
      ]
    },
    {
      "cell_type": "code",
      "execution_count": 221,
      "metadata": {
        "id": "2ZiINkHmUMKo"
      },
      "outputs": [],
      "source": []
    },
    {
      "cell_type": "code",
      "execution_count": 221,
      "metadata": {
        "id": "EwfFaIHdUMKo"
      },
      "outputs": [],
      "source": []
    }
  ],
  "metadata": {
    "colab": {
      "provenance": []
    },
    "kernelspec": {
      "display_name": "Python 3 (ipykernel)",
      "language": "python",
      "name": "python3"
    },
    "language_info": {
      "codemirror_mode": {
        "name": "ipython",
        "version": 3
      },
      "file_extension": ".py",
      "mimetype": "text/x-python",
      "name": "python",
      "nbconvert_exporter": "python",
      "pygments_lexer": "ipython3",
      "version": "3.12.4"
    }
  },
  "nbformat": 4,
  "nbformat_minor": 0
}